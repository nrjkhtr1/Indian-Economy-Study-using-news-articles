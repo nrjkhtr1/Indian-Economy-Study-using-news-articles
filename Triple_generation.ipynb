{
 "cells": [
  {
   "cell_type": "markdown",
   "metadata": {},
   "source": [
    "# Triple Generation\n",
    "Triple generation using the <b>stanford openIE</b> library."
   ]
  },
  {
   "cell_type": "code",
   "execution_count": 12,
   "metadata": {
    "id": "yF63kpBvZL4Y",
    "outputId": "45be48d5-7143-40bc-dc31-940b76916c05"
   },
   "outputs": [
    {
     "name": "stdout",
     "output_type": "stream",
     "text": [
      "25931\n"
     ]
    }
   ],
   "source": [
    "# To calculate number of lines in out text file\n",
    "with open('text_articles.txt', encoding=\"utf8\") as f:\n",
    "    print (sum(1 for _ in f))"
   ]
  },
  {
   "cell_type": "code",
   "execution_count": null,
   "metadata": {
    "id": "wfa2L7r-ZL4e",
    "outputId": "0e7a5add-7e08-4009-caa2-85b265a1dbdb"
   },
   "outputs": [
    {
     "name": "stdout",
     "output_type": "stream",
     "text": [
      "Starting server with command: java -Xmx8G -cp C:\\Users\\nrjkh\\stanfordnlp_resources\\stanford-corenlp-full-2018-10-05/* edu.stanford.nlp.pipeline.StanfordCoreNLPServer -port 9000 -timeout 60000 -threads 5 -maxCharLength 100000 -quiet True -serverProperties corenlp_server-1ad4fb8883354dca.props -preload openie\n",
      "Starting server with command: java -Xmx8G -cp C:\\Users\\nrjkh\\stanfordnlp_resources\\stanford-corenlp-full-2018-10-05/* edu.stanford.nlp.pipeline.StanfordCoreNLPServer -port 9000 -timeout 60000 -threads 5 -maxCharLength 100000 -quiet True -serverProperties corenlp_server-352e488e84c74143.props -preload openie\n",
      "Starting server with command: java -Xmx8G -cp C:\\Users\\nrjkh\\stanfordnlp_resources\\stanford-corenlp-full-2018-10-05/* edu.stanford.nlp.pipeline.StanfordCoreNLPServer -port 9000 -timeout 60000 -threads 5 -maxCharLength 100000 -quiet True -serverProperties corenlp_server-a855914229374a9f.props -preload openie\n",
      "Starting server with command: java -Xmx8G -cp C:\\Users\\nrjkh\\stanfordnlp_resources\\stanford-corenlp-full-2018-10-05/* edu.stanford.nlp.pipeline.StanfordCoreNLPServer -port 9000 -timeout 60000 -threads 5 -maxCharLength 100000 -quiet True -serverProperties corenlp_server-0625f6f6ecc04a73.props -preload openie\n",
      "Starting server with command: java -Xmx8G -cp C:\\Users\\nrjkh\\stanfordnlp_resources\\stanford-corenlp-full-2018-10-05/* edu.stanford.nlp.pipeline.StanfordCoreNLPServer -port 9000 -timeout 60000 -threads 5 -maxCharLength 100000 -quiet True -serverProperties corenlp_server-49c1f46d37cb42b6.props -preload openie\n",
      "Starting server with command: java -Xmx8G -cp C:\\Users\\nrjkh\\stanfordnlp_resources\\stanford-corenlp-full-2018-10-05/* edu.stanford.nlp.pipeline.StanfordCoreNLPServer -port 9000 -timeout 60000 -threads 5 -maxCharLength 100000 -quiet True -serverProperties corenlp_server-bd9f029f90bd465f.props -preload openie\n",
      "Starting server with command: java -Xmx8G -cp C:\\Users\\nrjkh\\stanfordnlp_resources\\stanford-corenlp-full-2018-10-05/* edu.stanford.nlp.pipeline.StanfordCoreNLPServer -port 9000 -timeout 60000 -threads 5 -maxCharLength 100000 -quiet True -serverProperties corenlp_server-00c4f6805440456b.props -preload openie\n",
      "Starting server with command: java -Xmx8G -cp C:\\Users\\nrjkh\\stanfordnlp_resources\\stanford-corenlp-full-2018-10-05/* edu.stanford.nlp.pipeline.StanfordCoreNLPServer -port 9000 -timeout 60000 -threads 5 -maxCharLength 100000 -quiet True -serverProperties corenlp_server-53d9a2ebca46457d.props -preload openie\n",
      "Starting server with command: java -Xmx8G -cp C:\\Users\\nrjkh\\stanfordnlp_resources\\stanford-corenlp-full-2018-10-05/* edu.stanford.nlp.pipeline.StanfordCoreNLPServer -port 9000 -timeout 60000 -threads 5 -maxCharLength 100000 -quiet True -serverProperties corenlp_server-6f806e2bf3bb4ca5.props -preload openie\n",
      "Starting server with command: java -Xmx8G -cp C:\\Users\\nrjkh\\stanfordnlp_resources\\stanford-corenlp-full-2018-10-05/* edu.stanford.nlp.pipeline.StanfordCoreNLPServer -port 9000 -timeout 60000 -threads 5 -maxCharLength 100000 -quiet True -serverProperties corenlp_server-36c4785ec5634fdf.props -preload openie\n",
      "Starting server with command: java -Xmx8G -cp C:\\Users\\nrjkh\\stanfordnlp_resources\\stanford-corenlp-full-2018-10-05/* edu.stanford.nlp.pipeline.StanfordCoreNLPServer -port 9000 -timeout 60000 -threads 5 -maxCharLength 100000 -quiet True -serverProperties corenlp_server-df983daf10a8439f.props -preload openie\n",
      "Starting server with command: java -Xmx8G -cp C:\\Users\\nrjkh\\stanfordnlp_resources\\stanford-corenlp-full-2018-10-05/* edu.stanford.nlp.pipeline.StanfordCoreNLPServer -port 9000 -timeout 60000 -threads 5 -maxCharLength 100000 -quiet True -serverProperties corenlp_server-b28ebbc5f4e74bff.props -preload openie\n",
      "Starting server with command: java -Xmx8G -cp C:\\Users\\nrjkh\\stanfordnlp_resources\\stanford-corenlp-full-2018-10-05/* edu.stanford.nlp.pipeline.StanfordCoreNLPServer -port 9000 -timeout 60000 -threads 5 -maxCharLength 100000 -quiet True -serverProperties corenlp_server-76c0dabbf4984c4b.props -preload openie\n",
      "Starting server with command: java -Xmx8G -cp C:\\Users\\nrjkh\\stanfordnlp_resources\\stanford-corenlp-full-2018-10-05/* edu.stanford.nlp.pipeline.StanfordCoreNLPServer -port 9000 -timeout 60000 -threads 5 -maxCharLength 100000 -quiet True -serverProperties corenlp_server-c7e630da11a64707.props -preload openie\n",
      "Starting server with command: java -Xmx8G -cp C:\\Users\\nrjkh\\stanfordnlp_resources\\stanford-corenlp-full-2018-10-05/* edu.stanford.nlp.pipeline.StanfordCoreNLPServer -port 9000 -timeout 60000 -threads 5 -maxCharLength 100000 -quiet True -serverProperties corenlp_server-a4ce77fa0afe4711.props -preload openie\n",
      "Starting server with command: java -Xmx8G -cp C:\\Users\\nrjkh\\stanfordnlp_resources\\stanford-corenlp-full-2018-10-05/* edu.stanford.nlp.pipeline.StanfordCoreNLPServer -port 9000 -timeout 60000 -threads 5 -maxCharLength 100000 -quiet True -serverProperties corenlp_server-eefd58ee76194fed.props -preload openie\n",
      "Starting server with command: java -Xmx8G -cp C:\\Users\\nrjkh\\stanfordnlp_resources\\stanford-corenlp-full-2018-10-05/* edu.stanford.nlp.pipeline.StanfordCoreNLPServer -port 9000 -timeout 60000 -threads 5 -maxCharLength 100000 -quiet True -serverProperties corenlp_server-dc00550e4b7f481f.props -preload openie\n",
      "Starting server with command: java -Xmx8G -cp C:\\Users\\nrjkh\\stanfordnlp_resources\\stanford-corenlp-full-2018-10-05/* edu.stanford.nlp.pipeline.StanfordCoreNLPServer -port 9000 -timeout 60000 -threads 5 -maxCharLength 100000 -quiet True -serverProperties corenlp_server-0aaaa7ee390f4ee9.props -preload openie\n",
      "Starting server with command: java -Xmx8G -cp C:\\Users\\nrjkh\\stanfordnlp_resources\\stanford-corenlp-full-2018-10-05/* edu.stanford.nlp.pipeline.StanfordCoreNLPServer -port 9000 -timeout 60000 -threads 5 -maxCharLength 100000 -quiet True -serverProperties corenlp_server-b45752490afa42ac.props -preload openie\n",
      "Starting server with command: java -Xmx8G -cp C:\\Users\\nrjkh\\stanfordnlp_resources\\stanford-corenlp-full-2018-10-05/* edu.stanford.nlp.pipeline.StanfordCoreNLPServer -port 9000 -timeout 60000 -threads 5 -maxCharLength 100000 -quiet True -serverProperties corenlp_server-34d414dc44424e48.props -preload openie\n",
      "Starting server with command: java -Xmx8G -cp C:\\Users\\nrjkh\\stanfordnlp_resources\\stanford-corenlp-full-2018-10-05/* edu.stanford.nlp.pipeline.StanfordCoreNLPServer -port 9000 -timeout 60000 -threads 5 -maxCharLength 100000 -quiet True -serverProperties corenlp_server-99daa3014aaa4059.props -preload openie\n",
      "Starting server with command: java -Xmx8G -cp C:\\Users\\nrjkh\\stanfordnlp_resources\\stanford-corenlp-full-2018-10-05/* edu.stanford.nlp.pipeline.StanfordCoreNLPServer -port 9000 -timeout 60000 -threads 5 -maxCharLength 100000 -quiet True -serverProperties corenlp_server-2b3f34f14cd7406d.props -preload openie\n",
      "Starting server with command: java -Xmx8G -cp C:\\Users\\nrjkh\\stanfordnlp_resources\\stanford-corenlp-full-2018-10-05/* edu.stanford.nlp.pipeline.StanfordCoreNLPServer -port 9000 -timeout 60000 -threads 5 -maxCharLength 100000 -quiet True -serverProperties corenlp_server-a2510f88cdb54875.props -preload openie\n",
      "Starting server with command: java -Xmx8G -cp C:\\Users\\nrjkh\\stanfordnlp_resources\\stanford-corenlp-full-2018-10-05/* edu.stanford.nlp.pipeline.StanfordCoreNLPServer -port 9000 -timeout 60000 -threads 5 -maxCharLength 100000 -quiet True -serverProperties corenlp_server-ea1c141b8a274111.props -preload openie\n",
      "Starting server with command: java -Xmx8G -cp C:\\Users\\nrjkh\\stanfordnlp_resources\\stanford-corenlp-full-2018-10-05/* edu.stanford.nlp.pipeline.StanfordCoreNLPServer -port 9000 -timeout 60000 -threads 5 -maxCharLength 100000 -quiet True -serverProperties corenlp_server-1da1c1612b61453a.props -preload openie\n",
      "Starting server with command: java -Xmx8G -cp C:\\Users\\nrjkh\\stanfordnlp_resources\\stanford-corenlp-full-2018-10-05/* edu.stanford.nlp.pipeline.StanfordCoreNLPServer -port 9000 -timeout 60000 -threads 5 -maxCharLength 100000 -quiet True -serverProperties corenlp_server-fc18a336a7f042c9.props -preload openie\n",
      "Starting server with command: java -Xmx8G -cp C:\\Users\\nrjkh\\stanfordnlp_resources\\stanford-corenlp-full-2018-10-05/* edu.stanford.nlp.pipeline.StanfordCoreNLPServer -port 9000 -timeout 60000 -threads 5 -maxCharLength 100000 -quiet True -serverProperties corenlp_server-db897aaccf894031.props -preload openie\n"
     ]
    },
    {
     "name": "stdout",
     "output_type": "stream",
     "text": [
      "Starting server with command: java -Xmx8G -cp C:\\Users\\nrjkh\\stanfordnlp_resources\\stanford-corenlp-full-2018-10-05/* edu.stanford.nlp.pipeline.StanfordCoreNLPServer -port 9000 -timeout 60000 -threads 5 -maxCharLength 100000 -quiet True -serverProperties corenlp_server-623e5f79aeb74352.props -preload openie\n",
      "Starting server with command: java -Xmx8G -cp C:\\Users\\nrjkh\\stanfordnlp_resources\\stanford-corenlp-full-2018-10-05/* edu.stanford.nlp.pipeline.StanfordCoreNLPServer -port 9000 -timeout 60000 -threads 5 -maxCharLength 100000 -quiet True -serverProperties corenlp_server-74d4691b63a04a95.props -preload openie\n",
      "Starting server with command: java -Xmx8G -cp C:\\Users\\nrjkh\\stanfordnlp_resources\\stanford-corenlp-full-2018-10-05/* edu.stanford.nlp.pipeline.StanfordCoreNLPServer -port 9000 -timeout 60000 -threads 5 -maxCharLength 100000 -quiet True -serverProperties corenlp_server-a76f0e10f21f4235.props -preload openie\n",
      "Starting server with command: java -Xmx8G -cp C:\\Users\\nrjkh\\stanfordnlp_resources\\stanford-corenlp-full-2018-10-05/* edu.stanford.nlp.pipeline.StanfordCoreNLPServer -port 9000 -timeout 60000 -threads 5 -maxCharLength 100000 -quiet True -serverProperties corenlp_server-5f446cdec45e4912.props -preload openie\n",
      "Starting server with command: java -Xmx8G -cp C:\\Users\\nrjkh\\stanfordnlp_resources\\stanford-corenlp-full-2018-10-05/* edu.stanford.nlp.pipeline.StanfordCoreNLPServer -port 9000 -timeout 60000 -threads 5 -maxCharLength 100000 -quiet True -serverProperties corenlp_server-0257e5d2d78647c7.props -preload openie\n",
      "Starting server with command: java -Xmx8G -cp C:\\Users\\nrjkh\\stanfordnlp_resources\\stanford-corenlp-full-2018-10-05/* edu.stanford.nlp.pipeline.StanfordCoreNLPServer -port 9000 -timeout 60000 -threads 5 -maxCharLength 100000 -quiet True -serverProperties corenlp_server-a7f38319312e40e6.props -preload openie\n",
      "Starting server with command: java -Xmx8G -cp C:\\Users\\nrjkh\\stanfordnlp_resources\\stanford-corenlp-full-2018-10-05/* edu.stanford.nlp.pipeline.StanfordCoreNLPServer -port 9000 -timeout 60000 -threads 5 -maxCharLength 100000 -quiet True -serverProperties corenlp_server-8009ca19a287452e.props -preload openie\n",
      "Starting server with command: java -Xmx8G -cp C:\\Users\\nrjkh\\stanfordnlp_resources\\stanford-corenlp-full-2018-10-05/* edu.stanford.nlp.pipeline.StanfordCoreNLPServer -port 9000 -timeout 60000 -threads 5 -maxCharLength 100000 -quiet True -serverProperties corenlp_server-f612a831190f40ea.props -preload openie\n",
      "Starting server with command: java -Xmx8G -cp C:\\Users\\nrjkh\\stanfordnlp_resources\\stanford-corenlp-full-2018-10-05/* edu.stanford.nlp.pipeline.StanfordCoreNLPServer -port 9000 -timeout 60000 -threads 5 -maxCharLength 100000 -quiet True -serverProperties corenlp_server-ca2826db73bb4bf4.props -preload openie\n",
      "Starting server with command: java -Xmx8G -cp C:\\Users\\nrjkh\\stanfordnlp_resources\\stanford-corenlp-full-2018-10-05/* edu.stanford.nlp.pipeline.StanfordCoreNLPServer -port 9000 -timeout 60000 -threads 5 -maxCharLength 100000 -quiet True -serverProperties corenlp_server-b05d32620de64e50.props -preload openie\n",
      "Starting server with command: java -Xmx8G -cp C:\\Users\\nrjkh\\stanfordnlp_resources\\stanford-corenlp-full-2018-10-05/* edu.stanford.nlp.pipeline.StanfordCoreNLPServer -port 9000 -timeout 60000 -threads 5 -maxCharLength 100000 -quiet True -serverProperties corenlp_server-63ba5797ea2b46c8.props -preload openie\n",
      "Starting server with command: java -Xmx8G -cp C:\\Users\\nrjkh\\stanfordnlp_resources\\stanford-corenlp-full-2018-10-05/* edu.stanford.nlp.pipeline.StanfordCoreNLPServer -port 9000 -timeout 60000 -threads 5 -maxCharLength 100000 -quiet True -serverProperties corenlp_server-109362e1a3dd4618.props -preload openie\n",
      "Starting server with command: java -Xmx8G -cp C:\\Users\\nrjkh\\stanfordnlp_resources\\stanford-corenlp-full-2018-10-05/* edu.stanford.nlp.pipeline.StanfordCoreNLPServer -port 9000 -timeout 60000 -threads 5 -maxCharLength 100000 -quiet True -serverProperties corenlp_server-d3b385ab2aa3416e.props -preload openie\n",
      "Starting server with command: java -Xmx8G -cp C:\\Users\\nrjkh\\stanfordnlp_resources\\stanford-corenlp-full-2018-10-05/* edu.stanford.nlp.pipeline.StanfordCoreNLPServer -port 9000 -timeout 60000 -threads 5 -maxCharLength 100000 -quiet True -serverProperties corenlp_server-64bd76bf5b8f45c6.props -preload openie\n",
      "Starting server with command: java -Xmx8G -cp C:\\Users\\nrjkh\\stanfordnlp_resources\\stanford-corenlp-full-2018-10-05/* edu.stanford.nlp.pipeline.StanfordCoreNLPServer -port 9000 -timeout 60000 -threads 5 -maxCharLength 100000 -quiet True -serverProperties corenlp_server-ad1ecadb88514192.props -preload openie\n",
      "Starting server with command: java -Xmx8G -cp C:\\Users\\nrjkh\\stanfordnlp_resources\\stanford-corenlp-full-2018-10-05/* edu.stanford.nlp.pipeline.StanfordCoreNLPServer -port 9000 -timeout 60000 -threads 5 -maxCharLength 100000 -quiet True -serverProperties corenlp_server-a605e47b3fa74b56.props -preload openie\n",
      "Starting server with command: java -Xmx8G -cp C:\\Users\\nrjkh\\stanfordnlp_resources\\stanford-corenlp-full-2018-10-05/* edu.stanford.nlp.pipeline.StanfordCoreNLPServer -port 9000 -timeout 60000 -threads 5 -maxCharLength 100000 -quiet True -serverProperties corenlp_server-208024f2b72548a5.props -preload openie\n",
      "Starting server with command: java -Xmx8G -cp C:\\Users\\nrjkh\\stanfordnlp_resources\\stanford-corenlp-full-2018-10-05/* edu.stanford.nlp.pipeline.StanfordCoreNLPServer -port 9000 -timeout 60000 -threads 5 -maxCharLength 100000 -quiet True -serverProperties corenlp_server-6a8c5e3655b14d32.props -preload openie\n",
      "Starting server with command: java -Xmx8G -cp C:\\Users\\nrjkh\\stanfordnlp_resources\\stanford-corenlp-full-2018-10-05/* edu.stanford.nlp.pipeline.StanfordCoreNLPServer -port 9000 -timeout 60000 -threads 5 -maxCharLength 100000 -quiet True -serverProperties corenlp_server-5609ce0eb46c4f6e.props -preload openie\n",
      "Starting server with command: java -Xmx8G -cp C:\\Users\\nrjkh\\stanfordnlp_resources\\stanford-corenlp-full-2018-10-05/* edu.stanford.nlp.pipeline.StanfordCoreNLPServer -port 9000 -timeout 60000 -threads 5 -maxCharLength 100000 -quiet True -serverProperties corenlp_server-3717e04a08a64461.props -preload openie\n",
      "Starting server with command: java -Xmx8G -cp C:\\Users\\nrjkh\\stanfordnlp_resources\\stanford-corenlp-full-2018-10-05/* edu.stanford.nlp.pipeline.StanfordCoreNLPServer -port 9000 -timeout 60000 -threads 5 -maxCharLength 100000 -quiet True -serverProperties corenlp_server-2e957d7c3dbb4cc8.props -preload openie\n",
      "Starting server with command: java -Xmx8G -cp C:\\Users\\nrjkh\\stanfordnlp_resources\\stanford-corenlp-full-2018-10-05/* edu.stanford.nlp.pipeline.StanfordCoreNLPServer -port 9000 -timeout 60000 -threads 5 -maxCharLength 100000 -quiet True -serverProperties corenlp_server-8052495456364ccd.props -preload openie\n",
      "Starting server with command: java -Xmx8G -cp C:\\Users\\nrjkh\\stanfordnlp_resources\\stanford-corenlp-full-2018-10-05/* edu.stanford.nlp.pipeline.StanfordCoreNLPServer -port 9000 -timeout 60000 -threads 5 -maxCharLength 100000 -quiet True -serverProperties corenlp_server-b11514ac5787432b.props -preload openie\n",
      "Starting server with command: java -Xmx8G -cp C:\\Users\\nrjkh\\stanfordnlp_resources\\stanford-corenlp-full-2018-10-05/* edu.stanford.nlp.pipeline.StanfordCoreNLPServer -port 9000 -timeout 60000 -threads 5 -maxCharLength 100000 -quiet True -serverProperties corenlp_server-1f7101d4e8cc4a62.props -preload openie\n",
      "Starting server with command: java -Xmx8G -cp C:\\Users\\nrjkh\\stanfordnlp_resources\\stanford-corenlp-full-2018-10-05/* edu.stanford.nlp.pipeline.StanfordCoreNLPServer -port 9000 -timeout 60000 -threads 5 -maxCharLength 100000 -quiet True -serverProperties corenlp_server-f7b5cf98cf5d483d.props -preload openie\n",
      "Starting server with command: java -Xmx8G -cp C:\\Users\\nrjkh\\stanfordnlp_resources\\stanford-corenlp-full-2018-10-05/* edu.stanford.nlp.pipeline.StanfordCoreNLPServer -port 9000 -timeout 60000 -threads 5 -maxCharLength 100000 -quiet True -serverProperties corenlp_server-006fdc082b074348.props -preload openie\n",
      "Starting server with command: java -Xmx8G -cp C:\\Users\\nrjkh\\stanfordnlp_resources\\stanford-corenlp-full-2018-10-05/* edu.stanford.nlp.pipeline.StanfordCoreNLPServer -port 9000 -timeout 60000 -threads 5 -maxCharLength 100000 -quiet True -serverProperties corenlp_server-57bcca345cca4e78.props -preload openie\n"
     ]
    },
    {
     "name": "stdout",
     "output_type": "stream",
     "text": [
      "Starting server with command: java -Xmx8G -cp C:\\Users\\nrjkh\\stanfordnlp_resources\\stanford-corenlp-full-2018-10-05/* edu.stanford.nlp.pipeline.StanfordCoreNLPServer -port 9000 -timeout 60000 -threads 5 -maxCharLength 100000 -quiet True -serverProperties corenlp_server-421998ddf7fc4a62.props -preload openie\n",
      "Starting server with command: java -Xmx8G -cp C:\\Users\\nrjkh\\stanfordnlp_resources\\stanford-corenlp-full-2018-10-05/* edu.stanford.nlp.pipeline.StanfordCoreNLPServer -port 9000 -timeout 60000 -threads 5 -maxCharLength 100000 -quiet True -serverProperties corenlp_server-36e047f663854c4b.props -preload openie\n",
      "Starting server with command: java -Xmx8G -cp C:\\Users\\nrjkh\\stanfordnlp_resources\\stanford-corenlp-full-2018-10-05/* edu.stanford.nlp.pipeline.StanfordCoreNLPServer -port 9000 -timeout 60000 -threads 5 -maxCharLength 100000 -quiet True -serverProperties corenlp_server-74a6966f36c44378.props -preload openie\n",
      "Starting server with command: java -Xmx8G -cp C:\\Users\\nrjkh\\stanfordnlp_resources\\stanford-corenlp-full-2018-10-05/* edu.stanford.nlp.pipeline.StanfordCoreNLPServer -port 9000 -timeout 60000 -threads 5 -maxCharLength 100000 -quiet True -serverProperties corenlp_server-bb4f69039cc74f6e.props -preload openie\n",
      "Starting server with command: java -Xmx8G -cp C:\\Users\\nrjkh\\stanfordnlp_resources\\stanford-corenlp-full-2018-10-05/* edu.stanford.nlp.pipeline.StanfordCoreNLPServer -port 9000 -timeout 60000 -threads 5 -maxCharLength 100000 -quiet True -serverProperties corenlp_server-9b22ba52b7aa43d6.props -preload openie\n",
      "Starting server with command: java -Xmx8G -cp C:\\Users\\nrjkh\\stanfordnlp_resources\\stanford-corenlp-full-2018-10-05/* edu.stanford.nlp.pipeline.StanfordCoreNLPServer -port 9000 -timeout 60000 -threads 5 -maxCharLength 100000 -quiet True -serverProperties corenlp_server-685e462848f5456d.props -preload openie\n",
      "Starting server with command: java -Xmx8G -cp C:\\Users\\nrjkh\\stanfordnlp_resources\\stanford-corenlp-full-2018-10-05/* edu.stanford.nlp.pipeline.StanfordCoreNLPServer -port 9000 -timeout 60000 -threads 5 -maxCharLength 100000 -quiet True -serverProperties corenlp_server-25caada988174ffb.props -preload openie\n",
      "Starting server with command: java -Xmx8G -cp C:\\Users\\nrjkh\\stanfordnlp_resources\\stanford-corenlp-full-2018-10-05/* edu.stanford.nlp.pipeline.StanfordCoreNLPServer -port 9000 -timeout 60000 -threads 5 -maxCharLength 100000 -quiet True -serverProperties corenlp_server-516a59841df34cd5.props -preload openie\n",
      "Starting server with command: java -Xmx8G -cp C:\\Users\\nrjkh\\stanfordnlp_resources\\stanford-corenlp-full-2018-10-05/* edu.stanford.nlp.pipeline.StanfordCoreNLPServer -port 9000 -timeout 60000 -threads 5 -maxCharLength 100000 -quiet True -serverProperties corenlp_server-ac0b6fcaee9742da.props -preload openie\n",
      "Starting server with command: java -Xmx8G -cp C:\\Users\\nrjkh\\stanfordnlp_resources\\stanford-corenlp-full-2018-10-05/* edu.stanford.nlp.pipeline.StanfordCoreNLPServer -port 9000 -timeout 60000 -threads 5 -maxCharLength 100000 -quiet True -serverProperties corenlp_server-a77853fe5dd8495e.props -preload openie\n",
      "Starting server with command: java -Xmx8G -cp C:\\Users\\nrjkh\\stanfordnlp_resources\\stanford-corenlp-full-2018-10-05/* edu.stanford.nlp.pipeline.StanfordCoreNLPServer -port 9000 -timeout 60000 -threads 5 -maxCharLength 100000 -quiet True -serverProperties corenlp_server-29c1faf4c8dd407a.props -preload openie\n",
      "Starting server with command: java -Xmx8G -cp C:\\Users\\nrjkh\\stanfordnlp_resources\\stanford-corenlp-full-2018-10-05/* edu.stanford.nlp.pipeline.StanfordCoreNLPServer -port 9000 -timeout 60000 -threads 5 -maxCharLength 100000 -quiet True -serverProperties corenlp_server-5a20d4a539f941f4.props -preload openie\n",
      "Starting server with command: java -Xmx8G -cp C:\\Users\\nrjkh\\stanfordnlp_resources\\stanford-corenlp-full-2018-10-05/* edu.stanford.nlp.pipeline.StanfordCoreNLPServer -port 9000 -timeout 60000 -threads 5 -maxCharLength 100000 -quiet True -serverProperties corenlp_server-bb49f156b1ea4027.props -preload openie\n",
      "Starting server with command: java -Xmx8G -cp C:\\Users\\nrjkh\\stanfordnlp_resources\\stanford-corenlp-full-2018-10-05/* edu.stanford.nlp.pipeline.StanfordCoreNLPServer -port 9000 -timeout 60000 -threads 5 -maxCharLength 100000 -quiet True -serverProperties corenlp_server-77e8bfb347a74fc2.props -preload openie\n",
      "Starting server with command: java -Xmx8G -cp C:\\Users\\nrjkh\\stanfordnlp_resources\\stanford-corenlp-full-2018-10-05/* edu.stanford.nlp.pipeline.StanfordCoreNLPServer -port 9000 -timeout 60000 -threads 5 -maxCharLength 100000 -quiet True -serverProperties corenlp_server-a7bee7ad5cc044ca.props -preload openie\n",
      "Starting server with command: java -Xmx8G -cp C:\\Users\\nrjkh\\stanfordnlp_resources\\stanford-corenlp-full-2018-10-05/* edu.stanford.nlp.pipeline.StanfordCoreNLPServer -port 9000 -timeout 60000 -threads 5 -maxCharLength 100000 -quiet True -serverProperties corenlp_server-e451f10df10642c4.props -preload openie\n",
      "Starting server with command: java -Xmx8G -cp C:\\Users\\nrjkh\\stanfordnlp_resources\\stanford-corenlp-full-2018-10-05/* edu.stanford.nlp.pipeline.StanfordCoreNLPServer -port 9000 -timeout 60000 -threads 5 -maxCharLength 100000 -quiet True -serverProperties corenlp_server-1085d5a8cd12457a.props -preload openie\n",
      "Starting server with command: java -Xmx8G -cp C:\\Users\\nrjkh\\stanfordnlp_resources\\stanford-corenlp-full-2018-10-05/* edu.stanford.nlp.pipeline.StanfordCoreNLPServer -port 9000 -timeout 60000 -threads 5 -maxCharLength 100000 -quiet True -serverProperties corenlp_server-668f654796d64de7.props -preload openie\n",
      "Starting server with command: java -Xmx8G -cp C:\\Users\\nrjkh\\stanfordnlp_resources\\stanford-corenlp-full-2018-10-05/* edu.stanford.nlp.pipeline.StanfordCoreNLPServer -port 9000 -timeout 60000 -threads 5 -maxCharLength 100000 -quiet True -serverProperties corenlp_server-143a29c3988c419b.props -preload openie\n",
      "Starting server with command: java -Xmx8G -cp C:\\Users\\nrjkh\\stanfordnlp_resources\\stanford-corenlp-full-2018-10-05/* edu.stanford.nlp.pipeline.StanfordCoreNLPServer -port 9000 -timeout 60000 -threads 5 -maxCharLength 100000 -quiet True -serverProperties corenlp_server-c3a45f576d574a40.props -preload openie\n",
      "Starting server with command: java -Xmx8G -cp C:\\Users\\nrjkh\\stanfordnlp_resources\\stanford-corenlp-full-2018-10-05/* edu.stanford.nlp.pipeline.StanfordCoreNLPServer -port 9000 -timeout 60000 -threads 5 -maxCharLength 100000 -quiet True -serverProperties corenlp_server-e7c5a3fdc8624433.props -preload openie\n",
      "Starting server with command: java -Xmx8G -cp C:\\Users\\nrjkh\\stanfordnlp_resources\\stanford-corenlp-full-2018-10-05/* edu.stanford.nlp.pipeline.StanfordCoreNLPServer -port 9000 -timeout 60000 -threads 5 -maxCharLength 100000 -quiet True -serverProperties corenlp_server-a38fe16c755d4aa2.props -preload openie\n",
      "Starting server with command: java -Xmx8G -cp C:\\Users\\nrjkh\\stanfordnlp_resources\\stanford-corenlp-full-2018-10-05/* edu.stanford.nlp.pipeline.StanfordCoreNLPServer -port 9000 -timeout 60000 -threads 5 -maxCharLength 100000 -quiet True -serverProperties corenlp_server-18039d72e5e14358.props -preload openie\n",
      "Starting server with command: java -Xmx8G -cp C:\\Users\\nrjkh\\stanfordnlp_resources\\stanford-corenlp-full-2018-10-05/* edu.stanford.nlp.pipeline.StanfordCoreNLPServer -port 9000 -timeout 60000 -threads 5 -maxCharLength 100000 -quiet True -serverProperties corenlp_server-9cf45f8ab2604981.props -preload openie\n",
      "Starting server with command: java -Xmx8G -cp C:\\Users\\nrjkh\\stanfordnlp_resources\\stanford-corenlp-full-2018-10-05/* edu.stanford.nlp.pipeline.StanfordCoreNLPServer -port 9000 -timeout 60000 -threads 5 -maxCharLength 100000 -quiet True -serverProperties corenlp_server-e2b71f9ca4074630.props -preload openie\n",
      "Starting server with command: java -Xmx8G -cp C:\\Users\\nrjkh\\stanfordnlp_resources\\stanford-corenlp-full-2018-10-05/* edu.stanford.nlp.pipeline.StanfordCoreNLPServer -port 9000 -timeout 60000 -threads 5 -maxCharLength 100000 -quiet True -serverProperties corenlp_server-67aeb05393794d94.props -preload openie\n",
      "Starting server with command: java -Xmx8G -cp C:\\Users\\nrjkh\\stanfordnlp_resources\\stanford-corenlp-full-2018-10-05/* edu.stanford.nlp.pipeline.StanfordCoreNLPServer -port 9000 -timeout 60000 -threads 5 -maxCharLength 100000 -quiet True -serverProperties corenlp_server-7161a1ec1c2f4081.props -preload openie\n"
     ]
    },
    {
     "name": "stdout",
     "output_type": "stream",
     "text": [
      "Starting server with command: java -Xmx8G -cp C:\\Users\\nrjkh\\stanfordnlp_resources\\stanford-corenlp-full-2018-10-05/* edu.stanford.nlp.pipeline.StanfordCoreNLPServer -port 9000 -timeout 60000 -threads 5 -maxCharLength 100000 -quiet True -serverProperties corenlp_server-63f82bed19094a53.props -preload openie\n",
      "Starting server with command: java -Xmx8G -cp C:\\Users\\nrjkh\\stanfordnlp_resources\\stanford-corenlp-full-2018-10-05/* edu.stanford.nlp.pipeline.StanfordCoreNLPServer -port 9000 -timeout 60000 -threads 5 -maxCharLength 100000 -quiet True -serverProperties corenlp_server-85448fb0b307485d.props -preload openie\n"
     ]
    },
    {
     "name": "stderr",
     "output_type": "stream",
     "text": [
      "Exception ignored in: <function StanfordOpenIE.__del__ at 0x000001BD3F065E58>\n",
      "Traceback (most recent call last):\n",
      "  File \"C:\\Users\\nrjkh\\anaconda3\\lib\\site-packages\\openie\\openie.py\", line 89, in __del__\n",
      "    self.client.stop()\n",
      "  File \"C:\\Users\\nrjkh\\anaconda3\\lib\\site-packages\\stanfordnlp\\server\\client.py\", line 299, in stop\n",
      "    os.remove(self.server_props_file['path'])\n",
      "PermissionError: [WinError 32] The process cannot access the file because it is being used by another process: 'corenlp_server-63f82bed19094a53.props'\n"
     ]
    },
    {
     "name": "stdout",
     "output_type": "stream",
     "text": [
      "Starting server with command: java -Xmx8G -cp C:\\Users\\nrjkh\\stanfordnlp_resources\\stanford-corenlp-full-2018-10-05/* edu.stanford.nlp.pipeline.StanfordCoreNLPServer -port 9000 -timeout 60000 -threads 5 -maxCharLength 100000 -quiet True -serverProperties corenlp_server-5770e1d9dc9446ca.props -preload openie\n",
      "Starting server with command: java -Xmx8G -cp C:\\Users\\nrjkh\\stanfordnlp_resources\\stanford-corenlp-full-2018-10-05/* edu.stanford.nlp.pipeline.StanfordCoreNLPServer -port 9000 -timeout 60000 -threads 5 -maxCharLength 100000 -quiet True -serverProperties corenlp_server-f81d1362672c41f0.props -preload openie\n",
      "Starting server with command: java -Xmx8G -cp C:\\Users\\nrjkh\\stanfordnlp_resources\\stanford-corenlp-full-2018-10-05/* edu.stanford.nlp.pipeline.StanfordCoreNLPServer -port 9000 -timeout 60000 -threads 5 -maxCharLength 100000 -quiet True -serverProperties corenlp_server-7985bc511a714515.props -preload openie\n",
      "Starting server with command: java -Xmx8G -cp C:\\Users\\nrjkh\\stanfordnlp_resources\\stanford-corenlp-full-2018-10-05/* edu.stanford.nlp.pipeline.StanfordCoreNLPServer -port 9000 -timeout 60000 -threads 5 -maxCharLength 100000 -quiet True -serverProperties corenlp_server-c25c2e12a14942c1.props -preload openie\n",
      "Starting server with command: java -Xmx8G -cp C:\\Users\\nrjkh\\stanfordnlp_resources\\stanford-corenlp-full-2018-10-05/* edu.stanford.nlp.pipeline.StanfordCoreNLPServer -port 9000 -timeout 60000 -threads 5 -maxCharLength 100000 -quiet True -serverProperties corenlp_server-69c72b34bcea4822.props -preload openie\n",
      "Starting server with command: java -Xmx8G -cp C:\\Users\\nrjkh\\stanfordnlp_resources\\stanford-corenlp-full-2018-10-05/* edu.stanford.nlp.pipeline.StanfordCoreNLPServer -port 9000 -timeout 60000 -threads 5 -maxCharLength 100000 -quiet True -serverProperties corenlp_server-0a1de6db50bd4350.props -preload openie\n",
      "Starting server with command: java -Xmx8G -cp C:\\Users\\nrjkh\\stanfordnlp_resources\\stanford-corenlp-full-2018-10-05/* edu.stanford.nlp.pipeline.StanfordCoreNLPServer -port 9000 -timeout 60000 -threads 5 -maxCharLength 100000 -quiet True -serverProperties corenlp_server-f3ddb5348fe649eb.props -preload openie\n",
      "Starting server with command: java -Xmx8G -cp C:\\Users\\nrjkh\\stanfordnlp_resources\\stanford-corenlp-full-2018-10-05/* edu.stanford.nlp.pipeline.StanfordCoreNLPServer -port 9000 -timeout 60000 -threads 5 -maxCharLength 100000 -quiet True -serverProperties corenlp_server-effe088c07e14844.props -preload openie\n",
      "Starting server with command: java -Xmx8G -cp C:\\Users\\nrjkh\\stanfordnlp_resources\\stanford-corenlp-full-2018-10-05/* edu.stanford.nlp.pipeline.StanfordCoreNLPServer -port 9000 -timeout 60000 -threads 5 -maxCharLength 100000 -quiet True -serverProperties corenlp_server-3c6a05c823aa4d77.props -preload openie\n",
      "Starting server with command: java -Xmx8G -cp C:\\Users\\nrjkh\\stanfordnlp_resources\\stanford-corenlp-full-2018-10-05/* edu.stanford.nlp.pipeline.StanfordCoreNLPServer -port 9000 -timeout 60000 -threads 5 -maxCharLength 100000 -quiet True -serverProperties corenlp_server-c6ff194fcf9d4462.props -preload openie\n",
      "Starting server with command: java -Xmx8G -cp C:\\Users\\nrjkh\\stanfordnlp_resources\\stanford-corenlp-full-2018-10-05/* edu.stanford.nlp.pipeline.StanfordCoreNLPServer -port 9000 -timeout 60000 -threads 5 -maxCharLength 100000 -quiet True -serverProperties corenlp_server-eb1f69037d5040e2.props -preload openie\n",
      "Starting server with command: java -Xmx8G -cp C:\\Users\\nrjkh\\stanfordnlp_resources\\stanford-corenlp-full-2018-10-05/* edu.stanford.nlp.pipeline.StanfordCoreNLPServer -port 9000 -timeout 60000 -threads 5 -maxCharLength 100000 -quiet True -serverProperties corenlp_server-7eabc37c6c304717.props -preload openie\n",
      "Starting server with command: java -Xmx8G -cp C:\\Users\\nrjkh\\stanfordnlp_resources\\stanford-corenlp-full-2018-10-05/* edu.stanford.nlp.pipeline.StanfordCoreNLPServer -port 9000 -timeout 60000 -threads 5 -maxCharLength 100000 -quiet True -serverProperties corenlp_server-3441f12616b04dad.props -preload openie\n",
      "Starting server with command: java -Xmx8G -cp C:\\Users\\nrjkh\\stanfordnlp_resources\\stanford-corenlp-full-2018-10-05/* edu.stanford.nlp.pipeline.StanfordCoreNLPServer -port 9000 -timeout 60000 -threads 5 -maxCharLength 100000 -quiet True -serverProperties corenlp_server-e98e044edfce45e4.props -preload openie\n",
      "Starting server with command: java -Xmx8G -cp C:\\Users\\nrjkh\\stanfordnlp_resources\\stanford-corenlp-full-2018-10-05/* edu.stanford.nlp.pipeline.StanfordCoreNLPServer -port 9000 -timeout 60000 -threads 5 -maxCharLength 100000 -quiet True -serverProperties corenlp_server-3cda822d56d74b0b.props -preload openie\n",
      "Starting server with command: java -Xmx8G -cp C:\\Users\\nrjkh\\stanfordnlp_resources\\stanford-corenlp-full-2018-10-05/* edu.stanford.nlp.pipeline.StanfordCoreNLPServer -port 9000 -timeout 60000 -threads 5 -maxCharLength 100000 -quiet True -serverProperties corenlp_server-f5aa05c7d82c49d3.props -preload openie\n",
      "Starting server with command: java -Xmx8G -cp C:\\Users\\nrjkh\\stanfordnlp_resources\\stanford-corenlp-full-2018-10-05/* edu.stanford.nlp.pipeline.StanfordCoreNLPServer -port 9000 -timeout 60000 -threads 5 -maxCharLength 100000 -quiet True -serverProperties corenlp_server-6a4491198b934d9a.props -preload openie\n",
      "Starting server with command: java -Xmx8G -cp C:\\Users\\nrjkh\\stanfordnlp_resources\\stanford-corenlp-full-2018-10-05/* edu.stanford.nlp.pipeline.StanfordCoreNLPServer -port 9000 -timeout 60000 -threads 5 -maxCharLength 100000 -quiet True -serverProperties corenlp_server-90db08a88a8c4ce5.props -preload openie\n",
      "Starting server with command: java -Xmx8G -cp C:\\Users\\nrjkh\\stanfordnlp_resources\\stanford-corenlp-full-2018-10-05/* edu.stanford.nlp.pipeline.StanfordCoreNLPServer -port 9000 -timeout 60000 -threads 5 -maxCharLength 100000 -quiet True -serverProperties corenlp_server-ba8f0ba5bbbf4238.props -preload openie\n",
      "Starting server with command: java -Xmx8G -cp C:\\Users\\nrjkh\\stanfordnlp_resources\\stanford-corenlp-full-2018-10-05/* edu.stanford.nlp.pipeline.StanfordCoreNLPServer -port 9000 -timeout 60000 -threads 5 -maxCharLength 100000 -quiet True -serverProperties corenlp_server-6509d1715739460b.props -preload openie\n",
      "Starting server with command: java -Xmx8G -cp C:\\Users\\nrjkh\\stanfordnlp_resources\\stanford-corenlp-full-2018-10-05/* edu.stanford.nlp.pipeline.StanfordCoreNLPServer -port 9000 -timeout 60000 -threads 5 -maxCharLength 100000 -quiet True -serverProperties corenlp_server-0f8ecde51a83492d.props -preload openie\n",
      "Starting server with command: java -Xmx8G -cp C:\\Users\\nrjkh\\stanfordnlp_resources\\stanford-corenlp-full-2018-10-05/* edu.stanford.nlp.pipeline.StanfordCoreNLPServer -port 9000 -timeout 60000 -threads 5 -maxCharLength 100000 -quiet True -serverProperties corenlp_server-1cb7ca8c93864823.props -preload openie\n",
      "Starting server with command: java -Xmx8G -cp C:\\Users\\nrjkh\\stanfordnlp_resources\\stanford-corenlp-full-2018-10-05/* edu.stanford.nlp.pipeline.StanfordCoreNLPServer -port 9000 -timeout 60000 -threads 5 -maxCharLength 100000 -quiet True -serverProperties corenlp_server-098cf50652a140ed.props -preload openie\n",
      "Starting server with command: java -Xmx8G -cp C:\\Users\\nrjkh\\stanfordnlp_resources\\stanford-corenlp-full-2018-10-05/* edu.stanford.nlp.pipeline.StanfordCoreNLPServer -port 9000 -timeout 60000 -threads 5 -maxCharLength 100000 -quiet True -serverProperties corenlp_server-ba2ac36dae014050.props -preload openie\n",
      "Starting server with command: java -Xmx8G -cp C:\\Users\\nrjkh\\stanfordnlp_resources\\stanford-corenlp-full-2018-10-05/* edu.stanford.nlp.pipeline.StanfordCoreNLPServer -port 9000 -timeout 60000 -threads 5 -maxCharLength 100000 -quiet True -serverProperties corenlp_server-f8063618f37142ad.props -preload openie\n",
      "Starting server with command: java -Xmx8G -cp C:\\Users\\nrjkh\\stanfordnlp_resources\\stanford-corenlp-full-2018-10-05/* edu.stanford.nlp.pipeline.StanfordCoreNLPServer -port 9000 -timeout 60000 -threads 5 -maxCharLength 100000 -quiet True -serverProperties corenlp_server-c90e3bd227e949f6.props -preload openie\n",
      "Starting server with command: java -Xmx8G -cp C:\\Users\\nrjkh\\stanfordnlp_resources\\stanford-corenlp-full-2018-10-05/* edu.stanford.nlp.pipeline.StanfordCoreNLPServer -port 9000 -timeout 60000 -threads 5 -maxCharLength 100000 -quiet True -serverProperties corenlp_server-6179eb19dd6544a8.props -preload openie\n",
      "Starting server with command: java -Xmx8G -cp C:\\Users\\nrjkh\\stanfordnlp_resources\\stanford-corenlp-full-2018-10-05/* edu.stanford.nlp.pipeline.StanfordCoreNLPServer -port 9000 -timeout 60000 -threads 5 -maxCharLength 100000 -quiet True -serverProperties corenlp_server-5993582eb3f24a7b.props -preload openie\n",
      "Starting server with command: java -Xmx8G -cp C:\\Users\\nrjkh\\stanfordnlp_resources\\stanford-corenlp-full-2018-10-05/* edu.stanford.nlp.pipeline.StanfordCoreNLPServer -port 9000 -timeout 60000 -threads 5 -maxCharLength 100000 -quiet True -serverProperties corenlp_server-b0f662e869464757.props -preload openie\n",
      "Starting server with command: java -Xmx8G -cp C:\\Users\\nrjkh\\stanfordnlp_resources\\stanford-corenlp-full-2018-10-05/* edu.stanford.nlp.pipeline.StanfordCoreNLPServer -port 9000 -timeout 60000 -threads 5 -maxCharLength 100000 -quiet True -serverProperties corenlp_server-a6cfc7a6da1e40ca.props -preload openie\n",
      "Starting server with command: java -Xmx8G -cp C:\\Users\\nrjkh\\stanfordnlp_resources\\stanford-corenlp-full-2018-10-05/* edu.stanford.nlp.pipeline.StanfordCoreNLPServer -port 9000 -timeout 60000 -threads 5 -maxCharLength 100000 -quiet True -serverProperties corenlp_server-260b3ce349464ce8.props -preload openie\n",
      "Starting server with command: java -Xmx8G -cp C:\\Users\\nrjkh\\stanfordnlp_resources\\stanford-corenlp-full-2018-10-05/* edu.stanford.nlp.pipeline.StanfordCoreNLPServer -port 9000 -timeout 60000 -threads 5 -maxCharLength 100000 -quiet True -serverProperties corenlp_server-d415e58587e0401c.props -preload openie\n",
      "Starting server with command: java -Xmx8G -cp C:\\Users\\nrjkh\\stanfordnlp_resources\\stanford-corenlp-full-2018-10-05/* edu.stanford.nlp.pipeline.StanfordCoreNLPServer -port 9000 -timeout 60000 -threads 5 -maxCharLength 100000 -quiet True -serverProperties corenlp_server-0cf77ef1117d4c95.props -preload openie\n",
      "Starting server with command: java -Xmx8G -cp C:\\Users\\nrjkh\\stanfordnlp_resources\\stanford-corenlp-full-2018-10-05/* edu.stanford.nlp.pipeline.StanfordCoreNLPServer -port 9000 -timeout 60000 -threads 5 -maxCharLength 100000 -quiet True -serverProperties corenlp_server-f8b7e7f0194f4a4a.props -preload openie\n",
      "Starting server with command: java -Xmx8G -cp C:\\Users\\nrjkh\\stanfordnlp_resources\\stanford-corenlp-full-2018-10-05/* edu.stanford.nlp.pipeline.StanfordCoreNLPServer -port 9000 -timeout 60000 -threads 5 -maxCharLength 100000 -quiet True -serverProperties corenlp_server-e8d9c42da6f8462c.props -preload openie\n",
      "Starting server with command: java -Xmx8G -cp C:\\Users\\nrjkh\\stanfordnlp_resources\\stanford-corenlp-full-2018-10-05/* edu.stanford.nlp.pipeline.StanfordCoreNLPServer -port 9000 -timeout 60000 -threads 5 -maxCharLength 100000 -quiet True -serverProperties corenlp_server-9ca808dcee9c4cd4.props -preload openie\n",
      "Starting server with command: java -Xmx8G -cp C:\\Users\\nrjkh\\stanfordnlp_resources\\stanford-corenlp-full-2018-10-05/* edu.stanford.nlp.pipeline.StanfordCoreNLPServer -port 9000 -timeout 60000 -threads 5 -maxCharLength 100000 -quiet True -serverProperties corenlp_server-3f965cf71f5c44be.props -preload openie\n",
      "Starting server with command: java -Xmx8G -cp C:\\Users\\nrjkh\\stanfordnlp_resources\\stanford-corenlp-full-2018-10-05/* edu.stanford.nlp.pipeline.StanfordCoreNLPServer -port 9000 -timeout 60000 -threads 5 -maxCharLength 100000 -quiet True -serverProperties corenlp_server-c56034b34f714b20.props -preload openie\n",
      "Starting server with command: java -Xmx8G -cp C:\\Users\\nrjkh\\stanfordnlp_resources\\stanford-corenlp-full-2018-10-05/* edu.stanford.nlp.pipeline.StanfordCoreNLPServer -port 9000 -timeout 60000 -threads 5 -maxCharLength 100000 -quiet True -serverProperties corenlp_server-b9ec2722d3b74142.props -preload openie\n",
      "Starting server with command: java -Xmx8G -cp C:\\Users\\nrjkh\\stanfordnlp_resources\\stanford-corenlp-full-2018-10-05/* edu.stanford.nlp.pipeline.StanfordCoreNLPServer -port 9000 -timeout 60000 -threads 5 -maxCharLength 100000 -quiet True -serverProperties corenlp_server-61362a0602bd46f0.props -preload openie\n",
      "Starting server with command: java -Xmx8G -cp C:\\Users\\nrjkh\\stanfordnlp_resources\\stanford-corenlp-full-2018-10-05/* edu.stanford.nlp.pipeline.StanfordCoreNLPServer -port 9000 -timeout 60000 -threads 5 -maxCharLength 100000 -quiet True -serverProperties corenlp_server-3b50d7697b834c46.props -preload openie\n",
      "Starting server with command: java -Xmx8G -cp C:\\Users\\nrjkh\\stanfordnlp_resources\\stanford-corenlp-full-2018-10-05/* edu.stanford.nlp.pipeline.StanfordCoreNLPServer -port 9000 -timeout 60000 -threads 5 -maxCharLength 100000 -quiet True -serverProperties corenlp_server-0aeff18835b84d76.props -preload openie\n",
      "Starting server with command: java -Xmx8G -cp C:\\Users\\nrjkh\\stanfordnlp_resources\\stanford-corenlp-full-2018-10-05/* edu.stanford.nlp.pipeline.StanfordCoreNLPServer -port 9000 -timeout 60000 -threads 5 -maxCharLength 100000 -quiet True -serverProperties corenlp_server-8aa04cefc1c24079.props -preload openie\n",
      "Starting server with command: java -Xmx8G -cp C:\\Users\\nrjkh\\stanfordnlp_resources\\stanford-corenlp-full-2018-10-05/* edu.stanford.nlp.pipeline.StanfordCoreNLPServer -port 9000 -timeout 60000 -threads 5 -maxCharLength 100000 -quiet True -serverProperties corenlp_server-f155254a303f42e4.props -preload openie\n",
      "Starting server with command: java -Xmx8G -cp C:\\Users\\nrjkh\\stanfordnlp_resources\\stanford-corenlp-full-2018-10-05/* edu.stanford.nlp.pipeline.StanfordCoreNLPServer -port 9000 -timeout 60000 -threads 5 -maxCharLength 100000 -quiet True -serverProperties corenlp_server-1bd5d5694636490c.props -preload openie\n",
      "Starting server with command: java -Xmx8G -cp C:\\Users\\nrjkh\\stanfordnlp_resources\\stanford-corenlp-full-2018-10-05/* edu.stanford.nlp.pipeline.StanfordCoreNLPServer -port 9000 -timeout 60000 -threads 5 -maxCharLength 100000 -quiet True -serverProperties corenlp_server-30e7291051b4440b.props -preload openie\n",
      "Starting server with command: java -Xmx8G -cp C:\\Users\\nrjkh\\stanfordnlp_resources\\stanford-corenlp-full-2018-10-05/* edu.stanford.nlp.pipeline.StanfordCoreNLPServer -port 9000 -timeout 60000 -threads 5 -maxCharLength 100000 -quiet True -serverProperties corenlp_server-092e20b1316d444e.props -preload openie\n",
      "Starting server with command: java -Xmx8G -cp C:\\Users\\nrjkh\\stanfordnlp_resources\\stanford-corenlp-full-2018-10-05/* edu.stanford.nlp.pipeline.StanfordCoreNLPServer -port 9000 -timeout 60000 -threads 5 -maxCharLength 100000 -quiet True -serverProperties corenlp_server-47371a8c9a014f9b.props -preload openie\n",
      "Starting server with command: java -Xmx8G -cp C:\\Users\\nrjkh\\stanfordnlp_resources\\stanford-corenlp-full-2018-10-05/* edu.stanford.nlp.pipeline.StanfordCoreNLPServer -port 9000 -timeout 60000 -threads 5 -maxCharLength 100000 -quiet True -serverProperties corenlp_server-afa1079fefe1443b.props -preload openie\n",
      "Starting server with command: java -Xmx8G -cp C:\\Users\\nrjkh\\stanfordnlp_resources\\stanford-corenlp-full-2018-10-05/* edu.stanford.nlp.pipeline.StanfordCoreNLPServer -port 9000 -timeout 60000 -threads 5 -maxCharLength 100000 -quiet True -serverProperties corenlp_server-0bd577e88f2c4197.props -preload openie\n",
      "Starting server with command: java -Xmx8G -cp C:\\Users\\nrjkh\\stanfordnlp_resources\\stanford-corenlp-full-2018-10-05/* edu.stanford.nlp.pipeline.StanfordCoreNLPServer -port 9000 -timeout 60000 -threads 5 -maxCharLength 100000 -quiet True -serverProperties corenlp_server-2cb0a9b884c04a71.props -preload openie\n",
      "Starting server with command: java -Xmx8G -cp C:\\Users\\nrjkh\\stanfordnlp_resources\\stanford-corenlp-full-2018-10-05/* edu.stanford.nlp.pipeline.StanfordCoreNLPServer -port 9000 -timeout 60000 -threads 5 -maxCharLength 100000 -quiet True -serverProperties corenlp_server-57cd5fb3d13d4974.props -preload openie\n",
      "Starting server with command: java -Xmx8G -cp C:\\Users\\nrjkh\\stanfordnlp_resources\\stanford-corenlp-full-2018-10-05/* edu.stanford.nlp.pipeline.StanfordCoreNLPServer -port 9000 -timeout 60000 -threads 5 -maxCharLength 100000 -quiet True -serverProperties corenlp_server-18241f92a0ab4f3a.props -preload openie\n"
     ]
    },
    {
     "name": "stdout",
     "output_type": "stream",
     "text": [
      "Starting server with command: java -Xmx8G -cp C:\\Users\\nrjkh\\stanfordnlp_resources\\stanford-corenlp-full-2018-10-05/* edu.stanford.nlp.pipeline.StanfordCoreNLPServer -port 9000 -timeout 60000 -threads 5 -maxCharLength 100000 -quiet True -serverProperties corenlp_server-21653290c9094fba.props -preload openie\n",
      "Starting server with command: java -Xmx8G -cp C:\\Users\\nrjkh\\stanfordnlp_resources\\stanford-corenlp-full-2018-10-05/* edu.stanford.nlp.pipeline.StanfordCoreNLPServer -port 9000 -timeout 60000 -threads 5 -maxCharLength 100000 -quiet True -serverProperties corenlp_server-a1f065af62e04bf1.props -preload openie\n",
      "Starting server with command: java -Xmx8G -cp C:\\Users\\nrjkh\\stanfordnlp_resources\\stanford-corenlp-full-2018-10-05/* edu.stanford.nlp.pipeline.StanfordCoreNLPServer -port 9000 -timeout 60000 -threads 5 -maxCharLength 100000 -quiet True -serverProperties corenlp_server-c198fdfa0b7a470e.props -preload openie\n",
      "Starting server with command: java -Xmx8G -cp C:\\Users\\nrjkh\\stanfordnlp_resources\\stanford-corenlp-full-2018-10-05/* edu.stanford.nlp.pipeline.StanfordCoreNLPServer -port 9000 -timeout 60000 -threads 5 -maxCharLength 100000 -quiet True -serverProperties corenlp_server-8555cb4bd6104752.props -preload openie\n",
      "Starting server with command: java -Xmx8G -cp C:\\Users\\nrjkh\\stanfordnlp_resources\\stanford-corenlp-full-2018-10-05/* edu.stanford.nlp.pipeline.StanfordCoreNLPServer -port 9000 -timeout 60000 -threads 5 -maxCharLength 100000 -quiet True -serverProperties corenlp_server-32bea39fe8dd4688.props -preload openie\n",
      "Starting server with command: java -Xmx8G -cp C:\\Users\\nrjkh\\stanfordnlp_resources\\stanford-corenlp-full-2018-10-05/* edu.stanford.nlp.pipeline.StanfordCoreNLPServer -port 9000 -timeout 60000 -threads 5 -maxCharLength 100000 -quiet True -serverProperties corenlp_server-cb55730ac7ec43d6.props -preload openie\n",
      "Starting server with command: java -Xmx8G -cp C:\\Users\\nrjkh\\stanfordnlp_resources\\stanford-corenlp-full-2018-10-05/* edu.stanford.nlp.pipeline.StanfordCoreNLPServer -port 9000 -timeout 60000 -threads 5 -maxCharLength 100000 -quiet True -serverProperties corenlp_server-0cd73b8dfcb34f35.props -preload openie\n",
      "Starting server with command: java -Xmx8G -cp C:\\Users\\nrjkh\\stanfordnlp_resources\\stanford-corenlp-full-2018-10-05/* edu.stanford.nlp.pipeline.StanfordCoreNLPServer -port 9000 -timeout 60000 -threads 5 -maxCharLength 100000 -quiet True -serverProperties corenlp_server-8eeee4b44f1b43a0.props -preload openie\n",
      "Starting server with command: java -Xmx8G -cp C:\\Users\\nrjkh\\stanfordnlp_resources\\stanford-corenlp-full-2018-10-05/* edu.stanford.nlp.pipeline.StanfordCoreNLPServer -port 9000 -timeout 60000 -threads 5 -maxCharLength 100000 -quiet True -serverProperties corenlp_server-893e494c76e34d90.props -preload openie\n",
      "Starting server with command: java -Xmx8G -cp C:\\Users\\nrjkh\\stanfordnlp_resources\\stanford-corenlp-full-2018-10-05/* edu.stanford.nlp.pipeline.StanfordCoreNLPServer -port 9000 -timeout 60000 -threads 5 -maxCharLength 100000 -quiet True -serverProperties corenlp_server-f1c16c7311ed4cbf.props -preload openie\n",
      "Starting server with command: java -Xmx8G -cp C:\\Users\\nrjkh\\stanfordnlp_resources\\stanford-corenlp-full-2018-10-05/* edu.stanford.nlp.pipeline.StanfordCoreNLPServer -port 9000 -timeout 60000 -threads 5 -maxCharLength 100000 -quiet True -serverProperties corenlp_server-285766ad11e84b0f.props -preload openie\n",
      "Starting server with command: java -Xmx8G -cp C:\\Users\\nrjkh\\stanfordnlp_resources\\stanford-corenlp-full-2018-10-05/* edu.stanford.nlp.pipeline.StanfordCoreNLPServer -port 9000 -timeout 60000 -threads 5 -maxCharLength 100000 -quiet True -serverProperties corenlp_server-f1b027f6fd824b7e.props -preload openie\n",
      "Starting server with command: java -Xmx8G -cp C:\\Users\\nrjkh\\stanfordnlp_resources\\stanford-corenlp-full-2018-10-05/* edu.stanford.nlp.pipeline.StanfordCoreNLPServer -port 9000 -timeout 60000 -threads 5 -maxCharLength 100000 -quiet True -serverProperties corenlp_server-67c45873868842cf.props -preload openie\n",
      "Starting server with command: java -Xmx8G -cp C:\\Users\\nrjkh\\stanfordnlp_resources\\stanford-corenlp-full-2018-10-05/* edu.stanford.nlp.pipeline.StanfordCoreNLPServer -port 9000 -timeout 60000 -threads 5 -maxCharLength 100000 -quiet True -serverProperties corenlp_server-e6f49af4b11e4c1c.props -preload openie\n",
      "Starting server with command: java -Xmx8G -cp C:\\Users\\nrjkh\\stanfordnlp_resources\\stanford-corenlp-full-2018-10-05/* edu.stanford.nlp.pipeline.StanfordCoreNLPServer -port 9000 -timeout 60000 -threads 5 -maxCharLength 100000 -quiet True -serverProperties corenlp_server-9ca6973000fd4ad2.props -preload openie\n",
      "Starting server with command: java -Xmx8G -cp C:\\Users\\nrjkh\\stanfordnlp_resources\\stanford-corenlp-full-2018-10-05/* edu.stanford.nlp.pipeline.StanfordCoreNLPServer -port 9000 -timeout 60000 -threads 5 -maxCharLength 100000 -quiet True -serverProperties corenlp_server-d5c2c5f985194cec.props -preload openie\n",
      "Starting server with command: java -Xmx8G -cp C:\\Users\\nrjkh\\stanfordnlp_resources\\stanford-corenlp-full-2018-10-05/* edu.stanford.nlp.pipeline.StanfordCoreNLPServer -port 9000 -timeout 60000 -threads 5 -maxCharLength 100000 -quiet True -serverProperties corenlp_server-e142a3c31fad4a09.props -preload openie\n",
      "Starting server with command: java -Xmx8G -cp C:\\Users\\nrjkh\\stanfordnlp_resources\\stanford-corenlp-full-2018-10-05/* edu.stanford.nlp.pipeline.StanfordCoreNLPServer -port 9000 -timeout 60000 -threads 5 -maxCharLength 100000 -quiet True -serverProperties corenlp_server-b8c042b12cfb437e.props -preload openie\n",
      "Starting server with command: java -Xmx8G -cp C:\\Users\\nrjkh\\stanfordnlp_resources\\stanford-corenlp-full-2018-10-05/* edu.stanford.nlp.pipeline.StanfordCoreNLPServer -port 9000 -timeout 60000 -threads 5 -maxCharLength 100000 -quiet True -serverProperties corenlp_server-726151ea5f9a4c9b.props -preload openie\n",
      "Starting server with command: java -Xmx8G -cp C:\\Users\\nrjkh\\stanfordnlp_resources\\stanford-corenlp-full-2018-10-05/* edu.stanford.nlp.pipeline.StanfordCoreNLPServer -port 9000 -timeout 60000 -threads 5 -maxCharLength 100000 -quiet True -serverProperties corenlp_server-b7d9ad6f22be4437.props -preload openie\n",
      "Starting server with command: java -Xmx8G -cp C:\\Users\\nrjkh\\stanfordnlp_resources\\stanford-corenlp-full-2018-10-05/* edu.stanford.nlp.pipeline.StanfordCoreNLPServer -port 9000 -timeout 60000 -threads 5 -maxCharLength 100000 -quiet True -serverProperties corenlp_server-9b83d77e98ae46b0.props -preload openie\n",
      "Starting server with command: java -Xmx8G -cp C:\\Users\\nrjkh\\stanfordnlp_resources\\stanford-corenlp-full-2018-10-05/* edu.stanford.nlp.pipeline.StanfordCoreNLPServer -port 9000 -timeout 60000 -threads 5 -maxCharLength 100000 -quiet True -serverProperties corenlp_server-22b62d95f6c340de.props -preload openie\n",
      "Starting server with command: java -Xmx8G -cp C:\\Users\\nrjkh\\stanfordnlp_resources\\stanford-corenlp-full-2018-10-05/* edu.stanford.nlp.pipeline.StanfordCoreNLPServer -port 9000 -timeout 60000 -threads 5 -maxCharLength 100000 -quiet True -serverProperties corenlp_server-a9397b4866f04aec.props -preload openie\n",
      "Starting server with command: java -Xmx8G -cp C:\\Users\\nrjkh\\stanfordnlp_resources\\stanford-corenlp-full-2018-10-05/* edu.stanford.nlp.pipeline.StanfordCoreNLPServer -port 9000 -timeout 60000 -threads 5 -maxCharLength 100000 -quiet True -serverProperties corenlp_server-01ecc1f0ab0d44a2.props -preload openie\n",
      "Starting server with command: java -Xmx8G -cp C:\\Users\\nrjkh\\stanfordnlp_resources\\stanford-corenlp-full-2018-10-05/* edu.stanford.nlp.pipeline.StanfordCoreNLPServer -port 9000 -timeout 60000 -threads 5 -maxCharLength 100000 -quiet True -serverProperties corenlp_server-0b9806e9a4aa4a5f.props -preload openie\n",
      "Starting server with command: java -Xmx8G -cp C:\\Users\\nrjkh\\stanfordnlp_resources\\stanford-corenlp-full-2018-10-05/* edu.stanford.nlp.pipeline.StanfordCoreNLPServer -port 9000 -timeout 60000 -threads 5 -maxCharLength 100000 -quiet True -serverProperties corenlp_server-9c7e66da7d564227.props -preload openie\n",
      "Starting server with command: java -Xmx8G -cp C:\\Users\\nrjkh\\stanfordnlp_resources\\stanford-corenlp-full-2018-10-05/* edu.stanford.nlp.pipeline.StanfordCoreNLPServer -port 9000 -timeout 60000 -threads 5 -maxCharLength 100000 -quiet True -serverProperties corenlp_server-691712442ccd4b3b.props -preload openie\n"
     ]
    },
    {
     "name": "stdout",
     "output_type": "stream",
     "text": [
      "Starting server with command: java -Xmx8G -cp C:\\Users\\nrjkh\\stanfordnlp_resources\\stanford-corenlp-full-2018-10-05/* edu.stanford.nlp.pipeline.StanfordCoreNLPServer -port 9000 -timeout 60000 -threads 5 -maxCharLength 100000 -quiet True -serverProperties corenlp_server-d78f1d7980c1473a.props -preload openie\n",
      "Starting server with command: java -Xmx8G -cp C:\\Users\\nrjkh\\stanfordnlp_resources\\stanford-corenlp-full-2018-10-05/* edu.stanford.nlp.pipeline.StanfordCoreNLPServer -port 9000 -timeout 60000 -threads 5 -maxCharLength 100000 -quiet True -serverProperties corenlp_server-cd5283662494475e.props -preload openie\n",
      "Starting server with command: java -Xmx8G -cp C:\\Users\\nrjkh\\stanfordnlp_resources\\stanford-corenlp-full-2018-10-05/* edu.stanford.nlp.pipeline.StanfordCoreNLPServer -port 9000 -timeout 60000 -threads 5 -maxCharLength 100000 -quiet True -serverProperties corenlp_server-0344506a154241cf.props -preload openie\n",
      "Starting server with command: java -Xmx8G -cp C:\\Users\\nrjkh\\stanfordnlp_resources\\stanford-corenlp-full-2018-10-05/* edu.stanford.nlp.pipeline.StanfordCoreNLPServer -port 9000 -timeout 60000 -threads 5 -maxCharLength 100000 -quiet True -serverProperties corenlp_server-da0a55d5d96b4310.props -preload openie\n",
      "Starting server with command: java -Xmx8G -cp C:\\Users\\nrjkh\\stanfordnlp_resources\\stanford-corenlp-full-2018-10-05/* edu.stanford.nlp.pipeline.StanfordCoreNLPServer -port 9000 -timeout 60000 -threads 5 -maxCharLength 100000 -quiet True -serverProperties corenlp_server-cc3db297e2404731.props -preload openie\n",
      "Starting server with command: java -Xmx8G -cp C:\\Users\\nrjkh\\stanfordnlp_resources\\stanford-corenlp-full-2018-10-05/* edu.stanford.nlp.pipeline.StanfordCoreNLPServer -port 9000 -timeout 60000 -threads 5 -maxCharLength 100000 -quiet True -serverProperties corenlp_server-389f6fdb07054d94.props -preload openie\n",
      "Starting server with command: java -Xmx8G -cp C:\\Users\\nrjkh\\stanfordnlp_resources\\stanford-corenlp-full-2018-10-05/* edu.stanford.nlp.pipeline.StanfordCoreNLPServer -port 9000 -timeout 60000 -threads 5 -maxCharLength 100000 -quiet True -serverProperties corenlp_server-fd78aa855a8c483e.props -preload openie\n",
      "Starting server with command: java -Xmx8G -cp C:\\Users\\nrjkh\\stanfordnlp_resources\\stanford-corenlp-full-2018-10-05/* edu.stanford.nlp.pipeline.StanfordCoreNLPServer -port 9000 -timeout 60000 -threads 5 -maxCharLength 100000 -quiet True -serverProperties corenlp_server-a82bd3c206dc4748.props -preload openie\n",
      "Starting server with command: java -Xmx8G -cp C:\\Users\\nrjkh\\stanfordnlp_resources\\stanford-corenlp-full-2018-10-05/* edu.stanford.nlp.pipeline.StanfordCoreNLPServer -port 9000 -timeout 60000 -threads 5 -maxCharLength 100000 -quiet True -serverProperties corenlp_server-87b2b4f2a345448d.props -preload openie\n",
      "Starting server with command: java -Xmx8G -cp C:\\Users\\nrjkh\\stanfordnlp_resources\\stanford-corenlp-full-2018-10-05/* edu.stanford.nlp.pipeline.StanfordCoreNLPServer -port 9000 -timeout 60000 -threads 5 -maxCharLength 100000 -quiet True -serverProperties corenlp_server-c3479ce5475d4719.props -preload openie\n",
      "Starting server with command: java -Xmx8G -cp C:\\Users\\nrjkh\\stanfordnlp_resources\\stanford-corenlp-full-2018-10-05/* edu.stanford.nlp.pipeline.StanfordCoreNLPServer -port 9000 -timeout 60000 -threads 5 -maxCharLength 100000 -quiet True -serverProperties corenlp_server-4b50af75bc2a400b.props -preload openie\n",
      "Starting server with command: java -Xmx8G -cp C:\\Users\\nrjkh\\stanfordnlp_resources\\stanford-corenlp-full-2018-10-05/* edu.stanford.nlp.pipeline.StanfordCoreNLPServer -port 9000 -timeout 60000 -threads 5 -maxCharLength 100000 -quiet True -serverProperties corenlp_server-a25e76bf642f49a7.props -preload openie\n",
      "Starting server with command: java -Xmx8G -cp C:\\Users\\nrjkh\\stanfordnlp_resources\\stanford-corenlp-full-2018-10-05/* edu.stanford.nlp.pipeline.StanfordCoreNLPServer -port 9000 -timeout 60000 -threads 5 -maxCharLength 100000 -quiet True -serverProperties corenlp_server-92654c1f18f046e0.props -preload openie\n",
      "Starting server with command: java -Xmx8G -cp C:\\Users\\nrjkh\\stanfordnlp_resources\\stanford-corenlp-full-2018-10-05/* edu.stanford.nlp.pipeline.StanfordCoreNLPServer -port 9000 -timeout 60000 -threads 5 -maxCharLength 100000 -quiet True -serverProperties corenlp_server-3e95695e3ce84e52.props -preload openie\n",
      "Starting server with command: java -Xmx8G -cp C:\\Users\\nrjkh\\stanfordnlp_resources\\stanford-corenlp-full-2018-10-05/* edu.stanford.nlp.pipeline.StanfordCoreNLPServer -port 9000 -timeout 60000 -threads 5 -maxCharLength 100000 -quiet True -serverProperties corenlp_server-dc8d9ccd048346dd.props -preload openie\n",
      "Starting server with command: java -Xmx8G -cp C:\\Users\\nrjkh\\stanfordnlp_resources\\stanford-corenlp-full-2018-10-05/* edu.stanford.nlp.pipeline.StanfordCoreNLPServer -port 9000 -timeout 60000 -threads 5 -maxCharLength 100000 -quiet True -serverProperties corenlp_server-65b84a0071ad439d.props -preload openie\n",
      "Starting server with command: java -Xmx8G -cp C:\\Users\\nrjkh\\stanfordnlp_resources\\stanford-corenlp-full-2018-10-05/* edu.stanford.nlp.pipeline.StanfordCoreNLPServer -port 9000 -timeout 60000 -threads 5 -maxCharLength 100000 -quiet True -serverProperties corenlp_server-0f018e1b37ec42cd.props -preload openie\n",
      "Starting server with command: java -Xmx8G -cp C:\\Users\\nrjkh\\stanfordnlp_resources\\stanford-corenlp-full-2018-10-05/* edu.stanford.nlp.pipeline.StanfordCoreNLPServer -port 9000 -timeout 60000 -threads 5 -maxCharLength 100000 -quiet True -serverProperties corenlp_server-93836cbca2c947d5.props -preload openie\n",
      "Starting server with command: java -Xmx8G -cp C:\\Users\\nrjkh\\stanfordnlp_resources\\stanford-corenlp-full-2018-10-05/* edu.stanford.nlp.pipeline.StanfordCoreNLPServer -port 9000 -timeout 60000 -threads 5 -maxCharLength 100000 -quiet True -serverProperties corenlp_server-d7e99d9079d04dcb.props -preload openie\n",
      "Starting server with command: java -Xmx8G -cp C:\\Users\\nrjkh\\stanfordnlp_resources\\stanford-corenlp-full-2018-10-05/* edu.stanford.nlp.pipeline.StanfordCoreNLPServer -port 9000 -timeout 60000 -threads 5 -maxCharLength 100000 -quiet True -serverProperties corenlp_server-30b56523d4bd482b.props -preload openie\n"
     ]
    },
    {
     "name": "stderr",
     "output_type": "stream",
     "text": [
      "Exception ignored in: <function StanfordOpenIE.__del__ at 0x000001BD3F065E58>\n",
      "Traceback (most recent call last):\n",
      "  File \"C:\\Users\\nrjkh\\anaconda3\\lib\\site-packages\\openie\\openie.py\", line 89, in __del__\n",
      "    self.client.stop()\n",
      "AttributeError: 'StanfordOpenIE' object has no attribute 'client'\n",
      "Exception ignored in: <function StanfordOpenIE.__del__ at 0x000001BD3F065E58>\n",
      "Traceback (most recent call last):\n",
      "  File \"C:\\Users\\nrjkh\\anaconda3\\lib\\site-packages\\openie\\openie.py\", line 90, in __del__\n",
      "    del os.environ['CORENLP_HOME']\n",
      "  File \"C:\\Users\\nrjkh\\anaconda3\\lib\\os.py\", line 695, in __delitem__\n",
      "    raise KeyError(key) from None\n",
      "KeyError: 'CORENLP_HOME'\n",
      "Exception ignored in: <function StanfordOpenIE.__del__ at 0x000001BD3F065E58>\n",
      "Traceback (most recent call last):\n",
      "  File \"C:\\Users\\nrjkh\\anaconda3\\lib\\site-packages\\openie\\openie.py\", line 90, in __del__\n",
      "    del os.environ['CORENLP_HOME']\n",
      "  File \"C:\\Users\\nrjkh\\anaconda3\\lib\\os.py\", line 695, in __delitem__\n",
      "    raise KeyError(key) from None\n",
      "KeyError: 'CORENLP_HOME'\n",
      "Exception ignored in: <function StanfordOpenIE.__del__ at 0x000001BD3F065E58>\n",
      "Traceback (most recent call last):\n",
      "  File \"C:\\Users\\nrjkh\\anaconda3\\lib\\site-packages\\openie\\openie.py\", line 90, in __del__\n",
      "    del os.environ['CORENLP_HOME']\n",
      "  File \"C:\\Users\\nrjkh\\anaconda3\\lib\\os.py\", line 695, in __delitem__\n",
      "    raise KeyError(key) from None\n",
      "KeyError: 'CORENLP_HOME'\n"
     ]
    },
    {
     "name": "stdout",
     "output_type": "stream",
     "text": [
      "Starting server with command: java -Xmx8G -cp C:\\Users\\nrjkh\\stanfordnlp_resources\\stanford-corenlp-full-2018-10-05/* edu.stanford.nlp.pipeline.StanfordCoreNLPServer -port 9000 -timeout 60000 -threads 5 -maxCharLength 100000 -quiet True -serverProperties corenlp_server-1a0797cc60164608.props -preload openie\n",
      "Starting server with command: java -Xmx8G -cp C:\\Users\\nrjkh\\stanfordnlp_resources\\stanford-corenlp-full-2018-10-05/* edu.stanford.nlp.pipeline.StanfordCoreNLPServer -port 9000 -timeout 60000 -threads 5 -maxCharLength 100000 -quiet True -serverProperties corenlp_server-5835ed2f30d54bac.props -preload openie\n",
      "Starting server with command: java -Xmx8G -cp C:\\Users\\nrjkh\\stanfordnlp_resources\\stanford-corenlp-full-2018-10-05/* edu.stanford.nlp.pipeline.StanfordCoreNLPServer -port 9000 -timeout 60000 -threads 5 -maxCharLength 100000 -quiet True -serverProperties corenlp_server-e8087d0f9b084851.props -preload openie\n",
      "Starting server with command: java -Xmx8G -cp C:\\Users\\nrjkh\\stanfordnlp_resources\\stanford-corenlp-full-2018-10-05/* edu.stanford.nlp.pipeline.StanfordCoreNLPServer -port 9000 -timeout 60000 -threads 5 -maxCharLength 100000 -quiet True -serverProperties corenlp_server-7b5ed47014c74c50.props -preload openie\n",
      "Starting server with command: java -Xmx8G -cp C:\\Users\\nrjkh\\stanfordnlp_resources\\stanford-corenlp-full-2018-10-05/* edu.stanford.nlp.pipeline.StanfordCoreNLPServer -port 9000 -timeout 60000 -threads 5 -maxCharLength 100000 -quiet True -serverProperties corenlp_server-cd31f72dab124231.props -preload openie\n",
      "Starting server with command: java -Xmx8G -cp C:\\Users\\nrjkh\\stanfordnlp_resources\\stanford-corenlp-full-2018-10-05/* edu.stanford.nlp.pipeline.StanfordCoreNLPServer -port 9000 -timeout 60000 -threads 5 -maxCharLength 100000 -quiet True -serverProperties corenlp_server-0d426b6402004251.props -preload openie\n",
      "Starting server with command: java -Xmx8G -cp C:\\Users\\nrjkh\\stanfordnlp_resources\\stanford-corenlp-full-2018-10-05/* edu.stanford.nlp.pipeline.StanfordCoreNLPServer -port 9000 -timeout 60000 -threads 5 -maxCharLength 100000 -quiet True -serverProperties corenlp_server-bb9de7c11a02438d.props -preload openie\n",
      "Starting server with command: java -Xmx8G -cp C:\\Users\\nrjkh\\stanfordnlp_resources\\stanford-corenlp-full-2018-10-05/* edu.stanford.nlp.pipeline.StanfordCoreNLPServer -port 9000 -timeout 60000 -threads 5 -maxCharLength 100000 -quiet True -serverProperties corenlp_server-5f0a14351e0d4d01.props -preload openie\n",
      "Starting server with command: java -Xmx8G -cp C:\\Users\\nrjkh\\stanfordnlp_resources\\stanford-corenlp-full-2018-10-05/* edu.stanford.nlp.pipeline.StanfordCoreNLPServer -port 9000 -timeout 60000 -threads 5 -maxCharLength 100000 -quiet True -serverProperties corenlp_server-f2fbe52539c64764.props -preload openie\n",
      "Starting server with command: java -Xmx8G -cp C:\\Users\\nrjkh\\stanfordnlp_resources\\stanford-corenlp-full-2018-10-05/* edu.stanford.nlp.pipeline.StanfordCoreNLPServer -port 9000 -timeout 60000 -threads 5 -maxCharLength 100000 -quiet True -serverProperties corenlp_server-f3ad002bf3cb41d4.props -preload openie\n",
      "Starting server with command: java -Xmx8G -cp C:\\Users\\nrjkh\\stanfordnlp_resources\\stanford-corenlp-full-2018-10-05/* edu.stanford.nlp.pipeline.StanfordCoreNLPServer -port 9000 -timeout 60000 -threads 5 -maxCharLength 100000 -quiet True -serverProperties corenlp_server-c1b04cfea9354466.props -preload openie\n",
      "Starting server with command: java -Xmx8G -cp C:\\Users\\nrjkh\\stanfordnlp_resources\\stanford-corenlp-full-2018-10-05/* edu.stanford.nlp.pipeline.StanfordCoreNLPServer -port 9000 -timeout 60000 -threads 5 -maxCharLength 100000 -quiet True -serverProperties corenlp_server-afe32b0980b24960.props -preload openie\n",
      "Starting server with command: java -Xmx8G -cp C:\\Users\\nrjkh\\stanfordnlp_resources\\stanford-corenlp-full-2018-10-05/* edu.stanford.nlp.pipeline.StanfordCoreNLPServer -port 9000 -timeout 60000 -threads 5 -maxCharLength 100000 -quiet True -serverProperties corenlp_server-f9b0cc3b41ce41ec.props -preload openie\n",
      "Starting server with command: java -Xmx8G -cp C:\\Users\\nrjkh\\stanfordnlp_resources\\stanford-corenlp-full-2018-10-05/* edu.stanford.nlp.pipeline.StanfordCoreNLPServer -port 9000 -timeout 60000 -threads 5 -maxCharLength 100000 -quiet True -serverProperties corenlp_server-474a704593054598.props -preload openie\n",
      "Starting server with command: java -Xmx8G -cp C:\\Users\\nrjkh\\stanfordnlp_resources\\stanford-corenlp-full-2018-10-05/* edu.stanford.nlp.pipeline.StanfordCoreNLPServer -port 9000 -timeout 60000 -threads 5 -maxCharLength 100000 -quiet True -serverProperties corenlp_server-9852686981364008.props -preload openie\n",
      "Starting server with command: java -Xmx8G -cp C:\\Users\\nrjkh\\stanfordnlp_resources\\stanford-corenlp-full-2018-10-05/* edu.stanford.nlp.pipeline.StanfordCoreNLPServer -port 9000 -timeout 60000 -threads 5 -maxCharLength 100000 -quiet True -serverProperties corenlp_server-cd068776f2e14f0f.props -preload openie\n",
      "Starting server with command: java -Xmx8G -cp C:\\Users\\nrjkh\\stanfordnlp_resources\\stanford-corenlp-full-2018-10-05/* edu.stanford.nlp.pipeline.StanfordCoreNLPServer -port 9000 -timeout 60000 -threads 5 -maxCharLength 100000 -quiet True -serverProperties corenlp_server-46f3083bd18b4e9d.props -preload openie\n",
      "Starting server with command: java -Xmx8G -cp C:\\Users\\nrjkh\\stanfordnlp_resources\\stanford-corenlp-full-2018-10-05/* edu.stanford.nlp.pipeline.StanfordCoreNLPServer -port 9000 -timeout 60000 -threads 5 -maxCharLength 100000 -quiet True -serverProperties corenlp_server-d4c9bf6061dd49b9.props -preload openie\n",
      "Starting server with command: java -Xmx8G -cp C:\\Users\\nrjkh\\stanfordnlp_resources\\stanford-corenlp-full-2018-10-05/* edu.stanford.nlp.pipeline.StanfordCoreNLPServer -port 9000 -timeout 60000 -threads 5 -maxCharLength 100000 -quiet True -serverProperties corenlp_server-76c46d8bdffb422a.props -preload openie\n",
      "Starting server with command: java -Xmx8G -cp C:\\Users\\nrjkh\\stanfordnlp_resources\\stanford-corenlp-full-2018-10-05/* edu.stanford.nlp.pipeline.StanfordCoreNLPServer -port 9000 -timeout 60000 -threads 5 -maxCharLength 100000 -quiet True -serverProperties corenlp_server-4d4f8301e971416c.props -preload openie\n",
      "Starting server with command: java -Xmx8G -cp C:\\Users\\nrjkh\\stanfordnlp_resources\\stanford-corenlp-full-2018-10-05/* edu.stanford.nlp.pipeline.StanfordCoreNLPServer -port 9000 -timeout 60000 -threads 5 -maxCharLength 100000 -quiet True -serverProperties corenlp_server-e28a36e0c56b4539.props -preload openie\n",
      "Starting server with command: java -Xmx8G -cp C:\\Users\\nrjkh\\stanfordnlp_resources\\stanford-corenlp-full-2018-10-05/* edu.stanford.nlp.pipeline.StanfordCoreNLPServer -port 9000 -timeout 60000 -threads 5 -maxCharLength 100000 -quiet True -serverProperties corenlp_server-f539fb02ac1241c3.props -preload openie\n",
      "Starting server with command: java -Xmx8G -cp C:\\Users\\nrjkh\\stanfordnlp_resources\\stanford-corenlp-full-2018-10-05/* edu.stanford.nlp.pipeline.StanfordCoreNLPServer -port 9000 -timeout 60000 -threads 5 -maxCharLength 100000 -quiet True -serverProperties corenlp_server-3018c5ab103a413d.props -preload openie\n",
      "Starting server with command: java -Xmx8G -cp C:\\Users\\nrjkh\\stanfordnlp_resources\\stanford-corenlp-full-2018-10-05/* edu.stanford.nlp.pipeline.StanfordCoreNLPServer -port 9000 -timeout 60000 -threads 5 -maxCharLength 100000 -quiet True -serverProperties corenlp_server-7e37a9e9ca164fc9.props -preload openie\n",
      "Starting server with command: java -Xmx8G -cp C:\\Users\\nrjkh\\stanfordnlp_resources\\stanford-corenlp-full-2018-10-05/* edu.stanford.nlp.pipeline.StanfordCoreNLPServer -port 9000 -timeout 60000 -threads 5 -maxCharLength 100000 -quiet True -serverProperties corenlp_server-ea2c2e9f18f044c0.props -preload openie\n",
      "Starting server with command: java -Xmx8G -cp C:\\Users\\nrjkh\\stanfordnlp_resources\\stanford-corenlp-full-2018-10-05/* edu.stanford.nlp.pipeline.StanfordCoreNLPServer -port 9000 -timeout 60000 -threads 5 -maxCharLength 100000 -quiet True -serverProperties corenlp_server-3163c3925c45424d.props -preload openie\n",
      "Starting server with command: java -Xmx8G -cp C:\\Users\\nrjkh\\stanfordnlp_resources\\stanford-corenlp-full-2018-10-05/* edu.stanford.nlp.pipeline.StanfordCoreNLPServer -port 9000 -timeout 60000 -threads 5 -maxCharLength 100000 -quiet True -serverProperties corenlp_server-67ab6884ab4c4912.props -preload openie\n"
     ]
    },
    {
     "name": "stdout",
     "output_type": "stream",
     "text": [
      "Starting server with command: java -Xmx8G -cp C:\\Users\\nrjkh\\stanfordnlp_resources\\stanford-corenlp-full-2018-10-05/* edu.stanford.nlp.pipeline.StanfordCoreNLPServer -port 9000 -timeout 60000 -threads 5 -maxCharLength 100000 -quiet True -serverProperties corenlp_server-39b29a45ccbc46f9.props -preload openie\n",
      "Starting server with command: java -Xmx8G -cp C:\\Users\\nrjkh\\stanfordnlp_resources\\stanford-corenlp-full-2018-10-05/* edu.stanford.nlp.pipeline.StanfordCoreNLPServer -port 9000 -timeout 60000 -threads 5 -maxCharLength 100000 -quiet True -serverProperties corenlp_server-f107589f11064065.props -preload openie\n",
      "Starting server with command: java -Xmx8G -cp C:\\Users\\nrjkh\\stanfordnlp_resources\\stanford-corenlp-full-2018-10-05/* edu.stanford.nlp.pipeline.StanfordCoreNLPServer -port 9000 -timeout 60000 -threads 5 -maxCharLength 100000 -quiet True -serverProperties corenlp_server-f5e8ebf019544e15.props -preload openie\n",
      "Starting server with command: java -Xmx8G -cp C:\\Users\\nrjkh\\stanfordnlp_resources\\stanford-corenlp-full-2018-10-05/* edu.stanford.nlp.pipeline.StanfordCoreNLPServer -port 9000 -timeout 60000 -threads 5 -maxCharLength 100000 -quiet True -serverProperties corenlp_server-f1dc967227424d4a.props -preload openie\n",
      "Starting server with command: java -Xmx8G -cp C:\\Users\\nrjkh\\stanfordnlp_resources\\stanford-corenlp-full-2018-10-05/* edu.stanford.nlp.pipeline.StanfordCoreNLPServer -port 9000 -timeout 60000 -threads 5 -maxCharLength 100000 -quiet True -serverProperties corenlp_server-10a834781a0140b6.props -preload openie\n",
      "Starting server with command: java -Xmx8G -cp C:\\Users\\nrjkh\\stanfordnlp_resources\\stanford-corenlp-full-2018-10-05/* edu.stanford.nlp.pipeline.StanfordCoreNLPServer -port 9000 -timeout 60000 -threads 5 -maxCharLength 100000 -quiet True -serverProperties corenlp_server-8f744263081d4bb7.props -preload openie\n",
      "Starting server with command: java -Xmx8G -cp C:\\Users\\nrjkh\\stanfordnlp_resources\\stanford-corenlp-full-2018-10-05/* edu.stanford.nlp.pipeline.StanfordCoreNLPServer -port 9000 -timeout 60000 -threads 5 -maxCharLength 100000 -quiet True -serverProperties corenlp_server-2d58fd9062f84b98.props -preload openie\n",
      "Starting server with command: java -Xmx8G -cp C:\\Users\\nrjkh\\stanfordnlp_resources\\stanford-corenlp-full-2018-10-05/* edu.stanford.nlp.pipeline.StanfordCoreNLPServer -port 9000 -timeout 60000 -threads 5 -maxCharLength 100000 -quiet True -serverProperties corenlp_server-d49a72de4e604ddc.props -preload openie\n",
      "Starting server with command: java -Xmx8G -cp C:\\Users\\nrjkh\\stanfordnlp_resources\\stanford-corenlp-full-2018-10-05/* edu.stanford.nlp.pipeline.StanfordCoreNLPServer -port 9000 -timeout 60000 -threads 5 -maxCharLength 100000 -quiet True -serverProperties corenlp_server-7d68d952266e47f8.props -preload openie\n",
      "Starting server with command: java -Xmx8G -cp C:\\Users\\nrjkh\\stanfordnlp_resources\\stanford-corenlp-full-2018-10-05/* edu.stanford.nlp.pipeline.StanfordCoreNLPServer -port 9000 -timeout 60000 -threads 5 -maxCharLength 100000 -quiet True -serverProperties corenlp_server-8e30fdcf0c1849f7.props -preload openie\n",
      "Starting server with command: java -Xmx8G -cp C:\\Users\\nrjkh\\stanfordnlp_resources\\stanford-corenlp-full-2018-10-05/* edu.stanford.nlp.pipeline.StanfordCoreNLPServer -port 9000 -timeout 60000 -threads 5 -maxCharLength 100000 -quiet True -serverProperties corenlp_server-afb397d6c6694368.props -preload openie\n",
      "Starting server with command: java -Xmx8G -cp C:\\Users\\nrjkh\\stanfordnlp_resources\\stanford-corenlp-full-2018-10-05/* edu.stanford.nlp.pipeline.StanfordCoreNLPServer -port 9000 -timeout 60000 -threads 5 -maxCharLength 100000 -quiet True -serverProperties corenlp_server-93eec21e675242ef.props -preload openie\n",
      "Starting server with command: java -Xmx8G -cp C:\\Users\\nrjkh\\stanfordnlp_resources\\stanford-corenlp-full-2018-10-05/* edu.stanford.nlp.pipeline.StanfordCoreNLPServer -port 9000 -timeout 60000 -threads 5 -maxCharLength 100000 -quiet True -serverProperties corenlp_server-52b86cc2720840f6.props -preload openie\n",
      "Starting server with command: java -Xmx8G -cp C:\\Users\\nrjkh\\stanfordnlp_resources\\stanford-corenlp-full-2018-10-05/* edu.stanford.nlp.pipeline.StanfordCoreNLPServer -port 9000 -timeout 60000 -threads 5 -maxCharLength 100000 -quiet True -serverProperties corenlp_server-5bb07e40820848d8.props -preload openie\n",
      "Starting server with command: java -Xmx8G -cp C:\\Users\\nrjkh\\stanfordnlp_resources\\stanford-corenlp-full-2018-10-05/* edu.stanford.nlp.pipeline.StanfordCoreNLPServer -port 9000 -timeout 60000 -threads 5 -maxCharLength 100000 -quiet True -serverProperties corenlp_server-7a4dd0430bc64e3f.props -preload openie\n",
      "Starting server with command: java -Xmx8G -cp C:\\Users\\nrjkh\\stanfordnlp_resources\\stanford-corenlp-full-2018-10-05/* edu.stanford.nlp.pipeline.StanfordCoreNLPServer -port 9000 -timeout 60000 -threads 5 -maxCharLength 100000 -quiet True -serverProperties corenlp_server-95d08f034ab240e4.props -preload openie\n",
      "Starting server with command: java -Xmx8G -cp C:\\Users\\nrjkh\\stanfordnlp_resources\\stanford-corenlp-full-2018-10-05/* edu.stanford.nlp.pipeline.StanfordCoreNLPServer -port 9000 -timeout 60000 -threads 5 -maxCharLength 100000 -quiet True -serverProperties corenlp_server-2459f9ebd4ec4063.props -preload openie\n",
      "Starting server with command: java -Xmx8G -cp C:\\Users\\nrjkh\\stanfordnlp_resources\\stanford-corenlp-full-2018-10-05/* edu.stanford.nlp.pipeline.StanfordCoreNLPServer -port 9000 -timeout 60000 -threads 5 -maxCharLength 100000 -quiet True -serverProperties corenlp_server-c1bfdbac23d345f6.props -preload openie\n",
      "Starting server with command: java -Xmx8G -cp C:\\Users\\nrjkh\\stanfordnlp_resources\\stanford-corenlp-full-2018-10-05/* edu.stanford.nlp.pipeline.StanfordCoreNLPServer -port 9000 -timeout 60000 -threads 5 -maxCharLength 100000 -quiet True -serverProperties corenlp_server-74ed683bbfed4394.props -preload openie\n",
      "Starting server with command: java -Xmx8G -cp C:\\Users\\nrjkh\\stanfordnlp_resources\\stanford-corenlp-full-2018-10-05/* edu.stanford.nlp.pipeline.StanfordCoreNLPServer -port 9000 -timeout 60000 -threads 5 -maxCharLength 100000 -quiet True -serverProperties corenlp_server-d00a7b8c9081467a.props -preload openie\n",
      "Starting server with command: java -Xmx8G -cp C:\\Users\\nrjkh\\stanfordnlp_resources\\stanford-corenlp-full-2018-10-05/* edu.stanford.nlp.pipeline.StanfordCoreNLPServer -port 9000 -timeout 60000 -threads 5 -maxCharLength 100000 -quiet True -serverProperties corenlp_server-4181a8e8790d4a2b.props -preload openie\n",
      "Starting server with command: java -Xmx8G -cp C:\\Users\\nrjkh\\stanfordnlp_resources\\stanford-corenlp-full-2018-10-05/* edu.stanford.nlp.pipeline.StanfordCoreNLPServer -port 9000 -timeout 60000 -threads 5 -maxCharLength 100000 -quiet True -serverProperties corenlp_server-0aeffdcad5a843cf.props -preload openie\n",
      "Starting server with command: java -Xmx8G -cp C:\\Users\\nrjkh\\stanfordnlp_resources\\stanford-corenlp-full-2018-10-05/* edu.stanford.nlp.pipeline.StanfordCoreNLPServer -port 9000 -timeout 60000 -threads 5 -maxCharLength 100000 -quiet True -serverProperties corenlp_server-3367a5d1bfe343f8.props -preload openie\n",
      "Starting server with command: java -Xmx8G -cp C:\\Users\\nrjkh\\stanfordnlp_resources\\stanford-corenlp-full-2018-10-05/* edu.stanford.nlp.pipeline.StanfordCoreNLPServer -port 9000 -timeout 60000 -threads 5 -maxCharLength 100000 -quiet True -serverProperties corenlp_server-020df5086490414f.props -preload openie\n",
      "Starting server with command: java -Xmx8G -cp C:\\Users\\nrjkh\\stanfordnlp_resources\\stanford-corenlp-full-2018-10-05/* edu.stanford.nlp.pipeline.StanfordCoreNLPServer -port 9000 -timeout 60000 -threads 5 -maxCharLength 100000 -quiet True -serverProperties corenlp_server-2d2124742cd748bd.props -preload openie\n",
      "Starting server with command: java -Xmx8G -cp C:\\Users\\nrjkh\\stanfordnlp_resources\\stanford-corenlp-full-2018-10-05/* edu.stanford.nlp.pipeline.StanfordCoreNLPServer -port 9000 -timeout 60000 -threads 5 -maxCharLength 100000 -quiet True -serverProperties corenlp_server-73c88408f43147d3.props -preload openie\n",
      "Starting server with command: java -Xmx8G -cp C:\\Users\\nrjkh\\stanfordnlp_resources\\stanford-corenlp-full-2018-10-05/* edu.stanford.nlp.pipeline.StanfordCoreNLPServer -port 9000 -timeout 60000 -threads 5 -maxCharLength 100000 -quiet True -serverProperties corenlp_server-d9597829ca894918.props -preload openie\n"
     ]
    },
    {
     "name": "stdout",
     "output_type": "stream",
     "text": [
      "Starting server with command: java -Xmx8G -cp C:\\Users\\nrjkh\\stanfordnlp_resources\\stanford-corenlp-full-2018-10-05/* edu.stanford.nlp.pipeline.StanfordCoreNLPServer -port 9000 -timeout 60000 -threads 5 -maxCharLength 100000 -quiet True -serverProperties corenlp_server-a514433e5a4d4390.props -preload openie\n"
     ]
    },
    {
     "name": "stderr",
     "output_type": "stream",
     "text": [
      "Exception ignored in: <function StanfordOpenIE.__del__ at 0x000001BD3F065E58>\n",
      "Traceback (most recent call last):\n",
      "  File \"C:\\Users\\nrjkh\\anaconda3\\lib\\site-packages\\openie\\openie.py\", line 90, in __del__\n",
      "    del os.environ['CORENLP_HOME']\n",
      "  File \"C:\\Users\\nrjkh\\anaconda3\\lib\\os.py\", line 695, in __delitem__\n",
      "    raise KeyError(key) from None\n",
      "KeyError: 'CORENLP_HOME'\n"
     ]
    },
    {
     "name": "stdout",
     "output_type": "stream",
     "text": [
      "Starting server with command: java -Xmx8G -cp C:\\Users\\nrjkh\\stanfordnlp_resources\\stanford-corenlp-full-2018-10-05/* edu.stanford.nlp.pipeline.StanfordCoreNLPServer -port 9000 -timeout 60000 -threads 5 -maxCharLength 100000 -quiet True -serverProperties corenlp_server-3292d38d76fb4070.props -preload openie\n",
      "Starting server with command: java -Xmx8G -cp C:\\Users\\nrjkh\\stanfordnlp_resources\\stanford-corenlp-full-2018-10-05/* edu.stanford.nlp.pipeline.StanfordCoreNLPServer -port 9000 -timeout 60000 -threads 5 -maxCharLength 100000 -quiet True -serverProperties corenlp_server-9ea1b3e51d044a18.props -preload openie\n",
      "Starting server with command: java -Xmx8G -cp C:\\Users\\nrjkh\\stanfordnlp_resources\\stanford-corenlp-full-2018-10-05/* edu.stanford.nlp.pipeline.StanfordCoreNLPServer -port 9000 -timeout 60000 -threads 5 -maxCharLength 100000 -quiet True -serverProperties corenlp_server-27bed01b04c54bb7.props -preload openie\n",
      "Starting server with command: java -Xmx8G -cp C:\\Users\\nrjkh\\stanfordnlp_resources\\stanford-corenlp-full-2018-10-05/* edu.stanford.nlp.pipeline.StanfordCoreNLPServer -port 9000 -timeout 60000 -threads 5 -maxCharLength 100000 -quiet True -serverProperties corenlp_server-514e85506ecb406d.props -preload openie\n",
      "Starting server with command: java -Xmx8G -cp C:\\Users\\nrjkh\\stanfordnlp_resources\\stanford-corenlp-full-2018-10-05/* edu.stanford.nlp.pipeline.StanfordCoreNLPServer -port 9000 -timeout 60000 -threads 5 -maxCharLength 100000 -quiet True -serverProperties corenlp_server-c6907caf02484f8a.props -preload openie\n",
      "Starting server with command: java -Xmx8G -cp C:\\Users\\nrjkh\\stanfordnlp_resources\\stanford-corenlp-full-2018-10-05/* edu.stanford.nlp.pipeline.StanfordCoreNLPServer -port 9000 -timeout 60000 -threads 5 -maxCharLength 100000 -quiet True -serverProperties corenlp_server-53a09cd76d9d402a.props -preload openie\n",
      "Starting server with command: java -Xmx8G -cp C:\\Users\\nrjkh\\stanfordnlp_resources\\stanford-corenlp-full-2018-10-05/* edu.stanford.nlp.pipeline.StanfordCoreNLPServer -port 9000 -timeout 60000 -threads 5 -maxCharLength 100000 -quiet True -serverProperties corenlp_server-0415f7da0d19446e.props -preload openie\n",
      "Starting server with command: java -Xmx8G -cp C:\\Users\\nrjkh\\stanfordnlp_resources\\stanford-corenlp-full-2018-10-05/* edu.stanford.nlp.pipeline.StanfordCoreNLPServer -port 9000 -timeout 60000 -threads 5 -maxCharLength 100000 -quiet True -serverProperties corenlp_server-3e679d53456f4318.props -preload openie\n",
      "Starting server with command: java -Xmx8G -cp C:\\Users\\nrjkh\\stanfordnlp_resources\\stanford-corenlp-full-2018-10-05/* edu.stanford.nlp.pipeline.StanfordCoreNLPServer -port 9000 -timeout 60000 -threads 5 -maxCharLength 100000 -quiet True -serverProperties corenlp_server-ad997eeaf6e147d1.props -preload openie\n",
      "Starting server with command: java -Xmx8G -cp C:\\Users\\nrjkh\\stanfordnlp_resources\\stanford-corenlp-full-2018-10-05/* edu.stanford.nlp.pipeline.StanfordCoreNLPServer -port 9000 -timeout 60000 -threads 5 -maxCharLength 100000 -quiet True -serverProperties corenlp_server-25ad9a9348a246a1.props -preload openie\n",
      "Starting server with command: java -Xmx8G -cp C:\\Users\\nrjkh\\stanfordnlp_resources\\stanford-corenlp-full-2018-10-05/* edu.stanford.nlp.pipeline.StanfordCoreNLPServer -port 9000 -timeout 60000 -threads 5 -maxCharLength 100000 -quiet True -serverProperties corenlp_server-1173fb5a33664536.props -preload openie\n",
      "Starting server with command: java -Xmx8G -cp C:\\Users\\nrjkh\\stanfordnlp_resources\\stanford-corenlp-full-2018-10-05/* edu.stanford.nlp.pipeline.StanfordCoreNLPServer -port 9000 -timeout 60000 -threads 5 -maxCharLength 100000 -quiet True -serverProperties corenlp_server-911dfbc9a92e445f.props -preload openie\n",
      "Starting server with command: java -Xmx8G -cp C:\\Users\\nrjkh\\stanfordnlp_resources\\stanford-corenlp-full-2018-10-05/* edu.stanford.nlp.pipeline.StanfordCoreNLPServer -port 9000 -timeout 60000 -threads 5 -maxCharLength 100000 -quiet True -serverProperties corenlp_server-e242077d027c4f39.props -preload openie\n",
      "Starting server with command: java -Xmx8G -cp C:\\Users\\nrjkh\\stanfordnlp_resources\\stanford-corenlp-full-2018-10-05/* edu.stanford.nlp.pipeline.StanfordCoreNLPServer -port 9000 -timeout 60000 -threads 5 -maxCharLength 100000 -quiet True -serverProperties corenlp_server-81188f97690f4c81.props -preload openie\n",
      "Starting server with command: java -Xmx8G -cp C:\\Users\\nrjkh\\stanfordnlp_resources\\stanford-corenlp-full-2018-10-05/* edu.stanford.nlp.pipeline.StanfordCoreNLPServer -port 9000 -timeout 60000 -threads 5 -maxCharLength 100000 -quiet True -serverProperties corenlp_server-6a88706517fa4387.props -preload openie\n",
      "Starting server with command: java -Xmx8G -cp C:\\Users\\nrjkh\\stanfordnlp_resources\\stanford-corenlp-full-2018-10-05/* edu.stanford.nlp.pipeline.StanfordCoreNLPServer -port 9000 -timeout 60000 -threads 5 -maxCharLength 100000 -quiet True -serverProperties corenlp_server-ccdba70f99184f6b.props -preload openie\n",
      "Starting server with command: java -Xmx8G -cp C:\\Users\\nrjkh\\stanfordnlp_resources\\stanford-corenlp-full-2018-10-05/* edu.stanford.nlp.pipeline.StanfordCoreNLPServer -port 9000 -timeout 60000 -threads 5 -maxCharLength 100000 -quiet True -serverProperties corenlp_server-2635f28bc6424b47.props -preload openie\n",
      "Starting server with command: java -Xmx8G -cp C:\\Users\\nrjkh\\stanfordnlp_resources\\stanford-corenlp-full-2018-10-05/* edu.stanford.nlp.pipeline.StanfordCoreNLPServer -port 9000 -timeout 60000 -threads 5 -maxCharLength 100000 -quiet True -serverProperties corenlp_server-1ebda4b954c8440b.props -preload openie\n",
      "Starting server with command: java -Xmx8G -cp C:\\Users\\nrjkh\\stanfordnlp_resources\\stanford-corenlp-full-2018-10-05/* edu.stanford.nlp.pipeline.StanfordCoreNLPServer -port 9000 -timeout 60000 -threads 5 -maxCharLength 100000 -quiet True -serverProperties corenlp_server-33f9e8f3fa82400f.props -preload openie\n",
      "Starting server with command: java -Xmx8G -cp C:\\Users\\nrjkh\\stanfordnlp_resources\\stanford-corenlp-full-2018-10-05/* edu.stanford.nlp.pipeline.StanfordCoreNLPServer -port 9000 -timeout 60000 -threads 5 -maxCharLength 100000 -quiet True -serverProperties corenlp_server-2f082a81a2e1450c.props -preload openie\n",
      "Starting server with command: java -Xmx8G -cp C:\\Users\\nrjkh\\stanfordnlp_resources\\stanford-corenlp-full-2018-10-05/* edu.stanford.nlp.pipeline.StanfordCoreNLPServer -port 9000 -timeout 60000 -threads 5 -maxCharLength 100000 -quiet True -serverProperties corenlp_server-a192b1963f5d4df5.props -preload openie\n",
      "Starting server with command: java -Xmx8G -cp C:\\Users\\nrjkh\\stanfordnlp_resources\\stanford-corenlp-full-2018-10-05/* edu.stanford.nlp.pipeline.StanfordCoreNLPServer -port 9000 -timeout 60000 -threads 5 -maxCharLength 100000 -quiet True -serverProperties corenlp_server-3f95882f33144b23.props -preload openie\n",
      "Starting server with command: java -Xmx8G -cp C:\\Users\\nrjkh\\stanfordnlp_resources\\stanford-corenlp-full-2018-10-05/* edu.stanford.nlp.pipeline.StanfordCoreNLPServer -port 9000 -timeout 60000 -threads 5 -maxCharLength 100000 -quiet True -serverProperties corenlp_server-60902065769c4ab9.props -preload openie\n",
      "Starting server with command: java -Xmx8G -cp C:\\Users\\nrjkh\\stanfordnlp_resources\\stanford-corenlp-full-2018-10-05/* edu.stanford.nlp.pipeline.StanfordCoreNLPServer -port 9000 -timeout 60000 -threads 5 -maxCharLength 100000 -quiet True -serverProperties corenlp_server-cbd1259f11e34640.props -preload openie\n"
     ]
    },
    {
     "name": "stderr",
     "output_type": "stream",
     "text": [
      "Exception ignored in: <function StanfordOpenIE.__del__ at 0x000001BD3F065E58>\n",
      "Traceback (most recent call last):\n",
      "  File \"C:\\Users\\nrjkh\\anaconda3\\lib\\site-packages\\openie\\openie.py\", line 90, in __del__\n",
      "    del os.environ['CORENLP_HOME']\n",
      "  File \"C:\\Users\\nrjkh\\anaconda3\\lib\\os.py\", line 695, in __delitem__\n",
      "    raise KeyError(key) from None\n",
      "KeyError: 'CORENLP_HOME'\n"
     ]
    },
    {
     "name": "stdout",
     "output_type": "stream",
     "text": [
      "Starting server with command: java -Xmx8G -cp C:\\Users\\nrjkh\\stanfordnlp_resources\\stanford-corenlp-full-2018-10-05/* edu.stanford.nlp.pipeline.StanfordCoreNLPServer -port 9000 -timeout 60000 -threads 5 -maxCharLength 100000 -quiet True -serverProperties corenlp_server-e8f9d03a6ebe4119.props -preload openie\n",
      "Starting server with command: java -Xmx8G -cp C:\\Users\\nrjkh\\stanfordnlp_resources\\stanford-corenlp-full-2018-10-05/* edu.stanford.nlp.pipeline.StanfordCoreNLPServer -port 9000 -timeout 60000 -threads 5 -maxCharLength 100000 -quiet True -serverProperties corenlp_server-36f3432fd2eb4dfa.props -preload openie\n",
      "Starting server with command: java -Xmx8G -cp C:\\Users\\nrjkh\\stanfordnlp_resources\\stanford-corenlp-full-2018-10-05/* edu.stanford.nlp.pipeline.StanfordCoreNLPServer -port 9000 -timeout 60000 -threads 5 -maxCharLength 100000 -quiet True -serverProperties corenlp_server-00e41aafc46845f6.props -preload openie\n"
     ]
    },
    {
     "name": "stderr",
     "output_type": "stream",
     "text": [
      "Exception ignored in: <function StanfordOpenIE.__del__ at 0x000001BD3F065E58>\n",
      "Traceback (most recent call last):\n",
      "  File \"C:\\Users\\nrjkh\\anaconda3\\lib\\site-packages\\openie\\openie.py\", line 90, in __del__\n",
      "    del os.environ['CORENLP_HOME']\n",
      "  File \"C:\\Users\\nrjkh\\anaconda3\\lib\\os.py\", line 695, in __delitem__\n",
      "    raise KeyError(key) from None\n",
      "KeyError: 'CORENLP_HOME'\n"
     ]
    },
    {
     "name": "stdout",
     "output_type": "stream",
     "text": [
      "Starting server with command: java -Xmx8G -cp C:\\Users\\nrjkh\\stanfordnlp_resources\\stanford-corenlp-full-2018-10-05/* edu.stanford.nlp.pipeline.StanfordCoreNLPServer -port 9000 -timeout 60000 -threads 5 -maxCharLength 100000 -quiet True -serverProperties corenlp_server-be6af88c14544191.props -preload openie\n",
      "Starting server with command: java -Xmx8G -cp C:\\Users\\nrjkh\\stanfordnlp_resources\\stanford-corenlp-full-2018-10-05/* edu.stanford.nlp.pipeline.StanfordCoreNLPServer -port 9000 -timeout 60000 -threads 5 -maxCharLength 100000 -quiet True -serverProperties corenlp_server-5c7f73a44d2b4220.props -preload openie\n"
     ]
    },
    {
     "name": "stderr",
     "output_type": "stream",
     "text": [
      "Exception ignored in: <function StanfordOpenIE.__del__ at 0x000001BD3F065E58>\n",
      "Traceback (most recent call last):\n",
      "  File \"C:\\Users\\nrjkh\\anaconda3\\lib\\site-packages\\openie\\openie.py\", line 90, in __del__\n",
      "    del os.environ['CORENLP_HOME']\n",
      "  File \"C:\\Users\\nrjkh\\anaconda3\\lib\\os.py\", line 695, in __delitem__\n",
      "    raise KeyError(key) from None\n",
      "KeyError: 'CORENLP_HOME'\n"
     ]
    },
    {
     "name": "stdout",
     "output_type": "stream",
     "text": [
      "Starting server with command: java -Xmx8G -cp C:\\Users\\nrjkh\\stanfordnlp_resources\\stanford-corenlp-full-2018-10-05/* edu.stanford.nlp.pipeline.StanfordCoreNLPServer -port 9000 -timeout 60000 -threads 5 -maxCharLength 100000 -quiet True -serverProperties corenlp_server-6aff644fd664477b.props -preload openie\n",
      "Starting server with command: java -Xmx8G -cp C:\\Users\\nrjkh\\stanfordnlp_resources\\stanford-corenlp-full-2018-10-05/* edu.stanford.nlp.pipeline.StanfordCoreNLPServer -port 9000 -timeout 60000 -threads 5 -maxCharLength 100000 -quiet True -serverProperties corenlp_server-f174b53e6c2244c1.props -preload openie\n",
      "Starting server with command: java -Xmx8G -cp C:\\Users\\nrjkh\\stanfordnlp_resources\\stanford-corenlp-full-2018-10-05/* edu.stanford.nlp.pipeline.StanfordCoreNLPServer -port 9000 -timeout 60000 -threads 5 -maxCharLength 100000 -quiet True -serverProperties corenlp_server-4b1db28d55484680.props -preload openie\n",
      "Starting server with command: java -Xmx8G -cp C:\\Users\\nrjkh\\stanfordnlp_resources\\stanford-corenlp-full-2018-10-05/* edu.stanford.nlp.pipeline.StanfordCoreNLPServer -port 9000 -timeout 60000 -threads 5 -maxCharLength 100000 -quiet True -serverProperties corenlp_server-0e0c603a1d884783.props -preload openie\n",
      "Starting server with command: java -Xmx8G -cp C:\\Users\\nrjkh\\stanfordnlp_resources\\stanford-corenlp-full-2018-10-05/* edu.stanford.nlp.pipeline.StanfordCoreNLPServer -port 9000 -timeout 60000 -threads 5 -maxCharLength 100000 -quiet True -serverProperties corenlp_server-5085d9ea2c424726.props -preload openie\n",
      "Starting server with command: java -Xmx8G -cp C:\\Users\\nrjkh\\stanfordnlp_resources\\stanford-corenlp-full-2018-10-05/* edu.stanford.nlp.pipeline.StanfordCoreNLPServer -port 9000 -timeout 60000 -threads 5 -maxCharLength 100000 -quiet True -serverProperties corenlp_server-0c113160c4104238.props -preload openie\n",
      "Starting server with command: java -Xmx8G -cp C:\\Users\\nrjkh\\stanfordnlp_resources\\stanford-corenlp-full-2018-10-05/* edu.stanford.nlp.pipeline.StanfordCoreNLPServer -port 9000 -timeout 60000 -threads 5 -maxCharLength 100000 -quiet True -serverProperties corenlp_server-3643acbb46d84907.props -preload openie\n",
      "Starting server with command: java -Xmx8G -cp C:\\Users\\nrjkh\\stanfordnlp_resources\\stanford-corenlp-full-2018-10-05/* edu.stanford.nlp.pipeline.StanfordCoreNLPServer -port 9000 -timeout 60000 -threads 5 -maxCharLength 100000 -quiet True -serverProperties corenlp_server-601fef0e13e74157.props -preload openie\n",
      "Starting server with command: java -Xmx8G -cp C:\\Users\\nrjkh\\stanfordnlp_resources\\stanford-corenlp-full-2018-10-05/* edu.stanford.nlp.pipeline.StanfordCoreNLPServer -port 9000 -timeout 60000 -threads 5 -maxCharLength 100000 -quiet True -serverProperties corenlp_server-bb0236c3db4d429e.props -preload openie\n",
      "Starting server with command: java -Xmx8G -cp C:\\Users\\nrjkh\\stanfordnlp_resources\\stanford-corenlp-full-2018-10-05/* edu.stanford.nlp.pipeline.StanfordCoreNLPServer -port 9000 -timeout 60000 -threads 5 -maxCharLength 100000 -quiet True -serverProperties corenlp_server-cb3b286bd0564b50.props -preload openie\n",
      "Starting server with command: java -Xmx8G -cp C:\\Users\\nrjkh\\stanfordnlp_resources\\stanford-corenlp-full-2018-10-05/* edu.stanford.nlp.pipeline.StanfordCoreNLPServer -port 9000 -timeout 60000 -threads 5 -maxCharLength 100000 -quiet True -serverProperties corenlp_server-43ed81a1d488426b.props -preload openie\n",
      "Starting server with command: java -Xmx8G -cp C:\\Users\\nrjkh\\stanfordnlp_resources\\stanford-corenlp-full-2018-10-05/* edu.stanford.nlp.pipeline.StanfordCoreNLPServer -port 9000 -timeout 60000 -threads 5 -maxCharLength 100000 -quiet True -serverProperties corenlp_server-1e168d10fde84824.props -preload openie\n",
      "Starting server with command: java -Xmx8G -cp C:\\Users\\nrjkh\\stanfordnlp_resources\\stanford-corenlp-full-2018-10-05/* edu.stanford.nlp.pipeline.StanfordCoreNLPServer -port 9000 -timeout 60000 -threads 5 -maxCharLength 100000 -quiet True -serverProperties corenlp_server-c89f51dbf97648ce.props -preload openie\n",
      "Starting server with command: java -Xmx8G -cp C:\\Users\\nrjkh\\stanfordnlp_resources\\stanford-corenlp-full-2018-10-05/* edu.stanford.nlp.pipeline.StanfordCoreNLPServer -port 9000 -timeout 60000 -threads 5 -maxCharLength 100000 -quiet True -serverProperties corenlp_server-5c32ac54450b42f9.props -preload openie\n",
      "Starting server with command: java -Xmx8G -cp C:\\Users\\nrjkh\\stanfordnlp_resources\\stanford-corenlp-full-2018-10-05/* edu.stanford.nlp.pipeline.StanfordCoreNLPServer -port 9000 -timeout 60000 -threads 5 -maxCharLength 100000 -quiet True -serverProperties corenlp_server-45fea9dbfe7046f1.props -preload openie\n",
      "Starting server with command: java -Xmx8G -cp C:\\Users\\nrjkh\\stanfordnlp_resources\\stanford-corenlp-full-2018-10-05/* edu.stanford.nlp.pipeline.StanfordCoreNLPServer -port 9000 -timeout 60000 -threads 5 -maxCharLength 100000 -quiet True -serverProperties corenlp_server-dddf9aea52f74dcb.props -preload openie\n",
      "Starting server with command: java -Xmx8G -cp C:\\Users\\nrjkh\\stanfordnlp_resources\\stanford-corenlp-full-2018-10-05/* edu.stanford.nlp.pipeline.StanfordCoreNLPServer -port 9000 -timeout 60000 -threads 5 -maxCharLength 100000 -quiet True -serverProperties corenlp_server-5c5ab006b06e434f.props -preload openie\n",
      "Starting server with command: java -Xmx8G -cp C:\\Users\\nrjkh\\stanfordnlp_resources\\stanford-corenlp-full-2018-10-05/* edu.stanford.nlp.pipeline.StanfordCoreNLPServer -port 9000 -timeout 60000 -threads 5 -maxCharLength 100000 -quiet True -serverProperties corenlp_server-eb7563ed281c470a.props -preload openie\n",
      "Starting server with command: java -Xmx8G -cp C:\\Users\\nrjkh\\stanfordnlp_resources\\stanford-corenlp-full-2018-10-05/* edu.stanford.nlp.pipeline.StanfordCoreNLPServer -port 9000 -timeout 60000 -threads 5 -maxCharLength 100000 -quiet True -serverProperties corenlp_server-ec37e3b788554c05.props -preload openie\n",
      "Starting server with command: java -Xmx8G -cp C:\\Users\\nrjkh\\stanfordnlp_resources\\stanford-corenlp-full-2018-10-05/* edu.stanford.nlp.pipeline.StanfordCoreNLPServer -port 9000 -timeout 60000 -threads 5 -maxCharLength 100000 -quiet True -serverProperties corenlp_server-163c9b1ddc274640.props -preload openie\n",
      "Starting server with command: java -Xmx8G -cp C:\\Users\\nrjkh\\stanfordnlp_resources\\stanford-corenlp-full-2018-10-05/* edu.stanford.nlp.pipeline.StanfordCoreNLPServer -port 9000 -timeout 60000 -threads 5 -maxCharLength 100000 -quiet True -serverProperties corenlp_server-b94f024e05084c68.props -preload openie\n",
      "Starting server with command: java -Xmx8G -cp C:\\Users\\nrjkh\\stanfordnlp_resources\\stanford-corenlp-full-2018-10-05/* edu.stanford.nlp.pipeline.StanfordCoreNLPServer -port 9000 -timeout 60000 -threads 5 -maxCharLength 100000 -quiet True -serverProperties corenlp_server-d50f7f9771094064.props -preload openie\n",
      "Starting server with command: java -Xmx8G -cp C:\\Users\\nrjkh\\stanfordnlp_resources\\stanford-corenlp-full-2018-10-05/* edu.stanford.nlp.pipeline.StanfordCoreNLPServer -port 9000 -timeout 60000 -threads 5 -maxCharLength 100000 -quiet True -serverProperties corenlp_server-f3b004fc03cd4190.props -preload openie\n",
      "Starting server with command: java -Xmx8G -cp C:\\Users\\nrjkh\\stanfordnlp_resources\\stanford-corenlp-full-2018-10-05/* edu.stanford.nlp.pipeline.StanfordCoreNLPServer -port 9000 -timeout 60000 -threads 5 -maxCharLength 100000 -quiet True -serverProperties corenlp_server-541dedd383584497.props -preload openie\n",
      "Starting server with command: java -Xmx8G -cp C:\\Users\\nrjkh\\stanfordnlp_resources\\stanford-corenlp-full-2018-10-05/* edu.stanford.nlp.pipeline.StanfordCoreNLPServer -port 9000 -timeout 60000 -threads 5 -maxCharLength 100000 -quiet True -serverProperties corenlp_server-013f75521f8745a8.props -preload openie\n",
      "Starting server with command: java -Xmx8G -cp C:\\Users\\nrjkh\\stanfordnlp_resources\\stanford-corenlp-full-2018-10-05/* edu.stanford.nlp.pipeline.StanfordCoreNLPServer -port 9000 -timeout 60000 -threads 5 -maxCharLength 100000 -quiet True -serverProperties corenlp_server-414bb84820d9471b.props -preload openie\n",
      "Starting server with command: java -Xmx8G -cp C:\\Users\\nrjkh\\stanfordnlp_resources\\stanford-corenlp-full-2018-10-05/* edu.stanford.nlp.pipeline.StanfordCoreNLPServer -port 9000 -timeout 60000 -threads 5 -maxCharLength 100000 -quiet True -serverProperties corenlp_server-a319dab2d7be4ca6.props -preload openie\n"
     ]
    },
    {
     "name": "stdout",
     "output_type": "stream",
     "text": [
      "Starting server with command: java -Xmx8G -cp C:\\Users\\nrjkh\\stanfordnlp_resources\\stanford-corenlp-full-2018-10-05/* edu.stanford.nlp.pipeline.StanfordCoreNLPServer -port 9000 -timeout 60000 -threads 5 -maxCharLength 100000 -quiet True -serverProperties corenlp_server-8e11ab1e0ad7489f.props -preload openie\n",
      "Starting server with command: java -Xmx8G -cp C:\\Users\\nrjkh\\stanfordnlp_resources\\stanford-corenlp-full-2018-10-05/* edu.stanford.nlp.pipeline.StanfordCoreNLPServer -port 9000 -timeout 60000 -threads 5 -maxCharLength 100000 -quiet True -serverProperties corenlp_server-0df134afb0d34490.props -preload openie\n",
      "Starting server with command: java -Xmx8G -cp C:\\Users\\nrjkh\\stanfordnlp_resources\\stanford-corenlp-full-2018-10-05/* edu.stanford.nlp.pipeline.StanfordCoreNLPServer -port 9000 -timeout 60000 -threads 5 -maxCharLength 100000 -quiet True -serverProperties corenlp_server-9063e4301e6c4469.props -preload openie\n",
      "Starting server with command: java -Xmx8G -cp C:\\Users\\nrjkh\\stanfordnlp_resources\\stanford-corenlp-full-2018-10-05/* edu.stanford.nlp.pipeline.StanfordCoreNLPServer -port 9000 -timeout 60000 -threads 5 -maxCharLength 100000 -quiet True -serverProperties corenlp_server-d90ce48d3350481b.props -preload openie\n"
     ]
    },
    {
     "name": "stderr",
     "output_type": "stream",
     "text": [
      "Exception ignored in: <function StanfordOpenIE.__del__ at 0x000001BD3F065E58>\n",
      "Traceback (most recent call last):\n",
      "  File \"C:\\Users\\nrjkh\\anaconda3\\lib\\site-packages\\openie\\openie.py\", line 90, in __del__\n",
      "    del os.environ['CORENLP_HOME']\n",
      "  File \"C:\\Users\\nrjkh\\anaconda3\\lib\\os.py\", line 695, in __delitem__\n",
      "    raise KeyError(key) from None\n",
      "KeyError: 'CORENLP_HOME'\n"
     ]
    },
    {
     "name": "stdout",
     "output_type": "stream",
     "text": [
      "Starting server with command: java -Xmx8G -cp C:\\Users\\nrjkh\\stanfordnlp_resources\\stanford-corenlp-full-2018-10-05/* edu.stanford.nlp.pipeline.StanfordCoreNLPServer -port 9000 -timeout 60000 -threads 5 -maxCharLength 100000 -quiet True -serverProperties corenlp_server-0fd5d334ddee453b.props -preload openie\n",
      "Starting server with command: java -Xmx8G -cp C:\\Users\\nrjkh\\stanfordnlp_resources\\stanford-corenlp-full-2018-10-05/* edu.stanford.nlp.pipeline.StanfordCoreNLPServer -port 9000 -timeout 60000 -threads 5 -maxCharLength 100000 -quiet True -serverProperties corenlp_server-696e89fec69349db.props -preload openie\n",
      "Starting server with command: java -Xmx8G -cp C:\\Users\\nrjkh\\stanfordnlp_resources\\stanford-corenlp-full-2018-10-05/* edu.stanford.nlp.pipeline.StanfordCoreNLPServer -port 9000 -timeout 60000 -threads 5 -maxCharLength 100000 -quiet True -serverProperties corenlp_server-69cd65f85eb04e48.props -preload openie\n",
      "Starting server with command: java -Xmx8G -cp C:\\Users\\nrjkh\\stanfordnlp_resources\\stanford-corenlp-full-2018-10-05/* edu.stanford.nlp.pipeline.StanfordCoreNLPServer -port 9000 -timeout 60000 -threads 5 -maxCharLength 100000 -quiet True -serverProperties corenlp_server-7942c9f8c0484c52.props -preload openie\n",
      "Starting server with command: java -Xmx8G -cp C:\\Users\\nrjkh\\stanfordnlp_resources\\stanford-corenlp-full-2018-10-05/* edu.stanford.nlp.pipeline.StanfordCoreNLPServer -port 9000 -timeout 60000 -threads 5 -maxCharLength 100000 -quiet True -serverProperties corenlp_server-e5994389d0054e8e.props -preload openie\n",
      "Starting server with command: java -Xmx8G -cp C:\\Users\\nrjkh\\stanfordnlp_resources\\stanford-corenlp-full-2018-10-05/* edu.stanford.nlp.pipeline.StanfordCoreNLPServer -port 9000 -timeout 60000 -threads 5 -maxCharLength 100000 -quiet True -serverProperties corenlp_server-ab06ca1763ea442b.props -preload openie\n",
      "Starting server with command: java -Xmx8G -cp C:\\Users\\nrjkh\\stanfordnlp_resources\\stanford-corenlp-full-2018-10-05/* edu.stanford.nlp.pipeline.StanfordCoreNLPServer -port 9000 -timeout 60000 -threads 5 -maxCharLength 100000 -quiet True -serverProperties corenlp_server-a28379d7d7804d6f.props -preload openie\n",
      "Starting server with command: java -Xmx8G -cp C:\\Users\\nrjkh\\stanfordnlp_resources\\stanford-corenlp-full-2018-10-05/* edu.stanford.nlp.pipeline.StanfordCoreNLPServer -port 9000 -timeout 60000 -threads 5 -maxCharLength 100000 -quiet True -serverProperties corenlp_server-5723fd9f5c5d43d8.props -preload openie\n",
      "Starting server with command: java -Xmx8G -cp C:\\Users\\nrjkh\\stanfordnlp_resources\\stanford-corenlp-full-2018-10-05/* edu.stanford.nlp.pipeline.StanfordCoreNLPServer -port 9000 -timeout 60000 -threads 5 -maxCharLength 100000 -quiet True -serverProperties corenlp_server-861cc2c230f049cf.props -preload openie\n",
      "Starting server with command: java -Xmx8G -cp C:\\Users\\nrjkh\\stanfordnlp_resources\\stanford-corenlp-full-2018-10-05/* edu.stanford.nlp.pipeline.StanfordCoreNLPServer -port 9000 -timeout 60000 -threads 5 -maxCharLength 100000 -quiet True -serverProperties corenlp_server-3c5fa6b124e543bf.props -preload openie\n",
      "Starting server with command: java -Xmx8G -cp C:\\Users\\nrjkh\\stanfordnlp_resources\\stanford-corenlp-full-2018-10-05/* edu.stanford.nlp.pipeline.StanfordCoreNLPServer -port 9000 -timeout 60000 -threads 5 -maxCharLength 100000 -quiet True -serverProperties corenlp_server-b639cc1bcc344839.props -preload openie\n",
      "Starting server with command: java -Xmx8G -cp C:\\Users\\nrjkh\\stanfordnlp_resources\\stanford-corenlp-full-2018-10-05/* edu.stanford.nlp.pipeline.StanfordCoreNLPServer -port 9000 -timeout 60000 -threads 5 -maxCharLength 100000 -quiet True -serverProperties corenlp_server-fe68d3d9847f46fe.props -preload openie\n",
      "Starting server with command: java -Xmx8G -cp C:\\Users\\nrjkh\\stanfordnlp_resources\\stanford-corenlp-full-2018-10-05/* edu.stanford.nlp.pipeline.StanfordCoreNLPServer -port 9000 -timeout 60000 -threads 5 -maxCharLength 100000 -quiet True -serverProperties corenlp_server-c7399262d82f4d14.props -preload openie\n",
      "Starting server with command: java -Xmx8G -cp C:\\Users\\nrjkh\\stanfordnlp_resources\\stanford-corenlp-full-2018-10-05/* edu.stanford.nlp.pipeline.StanfordCoreNLPServer -port 9000 -timeout 60000 -threads 5 -maxCharLength 100000 -quiet True -serverProperties corenlp_server-2ff34abc26c34166.props -preload openie\n",
      "Starting server with command: java -Xmx8G -cp C:\\Users\\nrjkh\\stanfordnlp_resources\\stanford-corenlp-full-2018-10-05/* edu.stanford.nlp.pipeline.StanfordCoreNLPServer -port 9000 -timeout 60000 -threads 5 -maxCharLength 100000 -quiet True -serverProperties corenlp_server-cca4a9be96914dc2.props -preload openie\n",
      "Starting server with command: java -Xmx8G -cp C:\\Users\\nrjkh\\stanfordnlp_resources\\stanford-corenlp-full-2018-10-05/* edu.stanford.nlp.pipeline.StanfordCoreNLPServer -port 9000 -timeout 60000 -threads 5 -maxCharLength 100000 -quiet True -serverProperties corenlp_server-f2b6b30d5bd141ca.props -preload openie\n",
      "Starting server with command: java -Xmx8G -cp C:\\Users\\nrjkh\\stanfordnlp_resources\\stanford-corenlp-full-2018-10-05/* edu.stanford.nlp.pipeline.StanfordCoreNLPServer -port 9000 -timeout 60000 -threads 5 -maxCharLength 100000 -quiet True -serverProperties corenlp_server-cce806f95e99414b.props -preload openie\n",
      "Starting server with command: java -Xmx8G -cp C:\\Users\\nrjkh\\stanfordnlp_resources\\stanford-corenlp-full-2018-10-05/* edu.stanford.nlp.pipeline.StanfordCoreNLPServer -port 9000 -timeout 60000 -threads 5 -maxCharLength 100000 -quiet True -serverProperties corenlp_server-a0ab25df5b1e4a1f.props -preload openie\n",
      "Starting server with command: java -Xmx8G -cp C:\\Users\\nrjkh\\stanfordnlp_resources\\stanford-corenlp-full-2018-10-05/* edu.stanford.nlp.pipeline.StanfordCoreNLPServer -port 9000 -timeout 60000 -threads 5 -maxCharLength 100000 -quiet True -serverProperties corenlp_server-ce6acc20396d4aff.props -preload openie\n",
      "Starting server with command: java -Xmx8G -cp C:\\Users\\nrjkh\\stanfordnlp_resources\\stanford-corenlp-full-2018-10-05/* edu.stanford.nlp.pipeline.StanfordCoreNLPServer -port 9000 -timeout 60000 -threads 5 -maxCharLength 100000 -quiet True -serverProperties corenlp_server-c19e9fbb10224a3a.props -preload openie\n",
      "Starting server with command: java -Xmx8G -cp C:\\Users\\nrjkh\\stanfordnlp_resources\\stanford-corenlp-full-2018-10-05/* edu.stanford.nlp.pipeline.StanfordCoreNLPServer -port 9000 -timeout 60000 -threads 5 -maxCharLength 100000 -quiet True -serverProperties corenlp_server-47503f39451f4f2a.props -preload openie\n",
      "Starting server with command: java -Xmx8G -cp C:\\Users\\nrjkh\\stanfordnlp_resources\\stanford-corenlp-full-2018-10-05/* edu.stanford.nlp.pipeline.StanfordCoreNLPServer -port 9000 -timeout 60000 -threads 5 -maxCharLength 100000 -quiet True -serverProperties corenlp_server-3f87dbd7264b4315.props -preload openie\n",
      "Starting server with command: java -Xmx8G -cp C:\\Users\\nrjkh\\stanfordnlp_resources\\stanford-corenlp-full-2018-10-05/* edu.stanford.nlp.pipeline.StanfordCoreNLPServer -port 9000 -timeout 60000 -threads 5 -maxCharLength 100000 -quiet True -serverProperties corenlp_server-55a9458787ad48cd.props -preload openie\n",
      "Starting server with command: java -Xmx8G -cp C:\\Users\\nrjkh\\stanfordnlp_resources\\stanford-corenlp-full-2018-10-05/* edu.stanford.nlp.pipeline.StanfordCoreNLPServer -port 9000 -timeout 60000 -threads 5 -maxCharLength 100000 -quiet True -serverProperties corenlp_server-723777b533cc4169.props -preload openie\n",
      "Starting server with command: java -Xmx8G -cp C:\\Users\\nrjkh\\stanfordnlp_resources\\stanford-corenlp-full-2018-10-05/* edu.stanford.nlp.pipeline.StanfordCoreNLPServer -port 9000 -timeout 60000 -threads 5 -maxCharLength 100000 -quiet True -serverProperties corenlp_server-1ab3aff4f56d46fb.props -preload openie\n",
      "Starting server with command: java -Xmx8G -cp C:\\Users\\nrjkh\\stanfordnlp_resources\\stanford-corenlp-full-2018-10-05/* edu.stanford.nlp.pipeline.StanfordCoreNLPServer -port 9000 -timeout 60000 -threads 5 -maxCharLength 100000 -quiet True -serverProperties corenlp_server-5a984716d22347c4.props -preload openie\n",
      "Starting server with command: java -Xmx8G -cp C:\\Users\\nrjkh\\stanfordnlp_resources\\stanford-corenlp-full-2018-10-05/* edu.stanford.nlp.pipeline.StanfordCoreNLPServer -port 9000 -timeout 60000 -threads 5 -maxCharLength 100000 -quiet True -serverProperties corenlp_server-d4fca8818d0543d4.props -preload openie\n"
     ]
    },
    {
     "name": "stdout",
     "output_type": "stream",
     "text": [
      "Starting server with command: java -Xmx8G -cp C:\\Users\\nrjkh\\stanfordnlp_resources\\stanford-corenlp-full-2018-10-05/* edu.stanford.nlp.pipeline.StanfordCoreNLPServer -port 9000 -timeout 60000 -threads 5 -maxCharLength 100000 -quiet True -serverProperties corenlp_server-8efe700e478743ed.props -preload openie\n",
      "Starting server with command: java -Xmx8G -cp C:\\Users\\nrjkh\\stanfordnlp_resources\\stanford-corenlp-full-2018-10-05/* edu.stanford.nlp.pipeline.StanfordCoreNLPServer -port 9000 -timeout 60000 -threads 5 -maxCharLength 100000 -quiet True -serverProperties corenlp_server-bc4401e4f3734f5c.props -preload openie\n",
      "Starting server with command: java -Xmx8G -cp C:\\Users\\nrjkh\\stanfordnlp_resources\\stanford-corenlp-full-2018-10-05/* edu.stanford.nlp.pipeline.StanfordCoreNLPServer -port 9000 -timeout 60000 -threads 5 -maxCharLength 100000 -quiet True -serverProperties corenlp_server-f15532a71fcd4339.props -preload openie\n"
     ]
    },
    {
     "name": "stderr",
     "output_type": "stream",
     "text": [
      "Exception ignored in: <function StanfordOpenIE.__del__ at 0x000001BD3F065E58>\n",
      "Traceback (most recent call last):\n",
      "  File \"C:\\Users\\nrjkh\\anaconda3\\lib\\site-packages\\openie\\openie.py\", line 90, in __del__\n",
      "    del os.environ['CORENLP_HOME']\n",
      "  File \"C:\\Users\\nrjkh\\anaconda3\\lib\\os.py\", line 695, in __delitem__\n",
      "    raise KeyError(key) from None\n",
      "KeyError: 'CORENLP_HOME'\n"
     ]
    },
    {
     "name": "stdout",
     "output_type": "stream",
     "text": [
      "Starting server with command: java -Xmx8G -cp C:\\Users\\nrjkh\\stanfordnlp_resources\\stanford-corenlp-full-2018-10-05/* edu.stanford.nlp.pipeline.StanfordCoreNLPServer -port 9000 -timeout 60000 -threads 5 -maxCharLength 100000 -quiet True -serverProperties corenlp_server-734fc843e06e4d6c.props -preload openie\n",
      "Starting server with command: java -Xmx8G -cp C:\\Users\\nrjkh\\stanfordnlp_resources\\stanford-corenlp-full-2018-10-05/* edu.stanford.nlp.pipeline.StanfordCoreNLPServer -port 9000 -timeout 60000 -threads 5 -maxCharLength 100000 -quiet True -serverProperties corenlp_server-8b403f59357e4f40.props -preload openie\n",
      "Starting server with command: java -Xmx8G -cp C:\\Users\\nrjkh\\stanfordnlp_resources\\stanford-corenlp-full-2018-10-05/* edu.stanford.nlp.pipeline.StanfordCoreNLPServer -port 9000 -timeout 60000 -threads 5 -maxCharLength 100000 -quiet True -serverProperties corenlp_server-ef4ff321b19841c0.props -preload openie\n",
      "Starting server with command: java -Xmx8G -cp C:\\Users\\nrjkh\\stanfordnlp_resources\\stanford-corenlp-full-2018-10-05/* edu.stanford.nlp.pipeline.StanfordCoreNLPServer -port 9000 -timeout 60000 -threads 5 -maxCharLength 100000 -quiet True -serverProperties corenlp_server-ccb00407f81a413c.props -preload openie\n",
      "Starting server with command: java -Xmx8G -cp C:\\Users\\nrjkh\\stanfordnlp_resources\\stanford-corenlp-full-2018-10-05/* edu.stanford.nlp.pipeline.StanfordCoreNLPServer -port 9000 -timeout 60000 -threads 5 -maxCharLength 100000 -quiet True -serverProperties corenlp_server-25eeaa3fab8146f7.props -preload openie\n",
      "Starting server with command: java -Xmx8G -cp C:\\Users\\nrjkh\\stanfordnlp_resources\\stanford-corenlp-full-2018-10-05/* edu.stanford.nlp.pipeline.StanfordCoreNLPServer -port 9000 -timeout 60000 -threads 5 -maxCharLength 100000 -quiet True -serverProperties corenlp_server-fd597981095d4f25.props -preload openie\n",
      "Starting server with command: java -Xmx8G -cp C:\\Users\\nrjkh\\stanfordnlp_resources\\stanford-corenlp-full-2018-10-05/* edu.stanford.nlp.pipeline.StanfordCoreNLPServer -port 9000 -timeout 60000 -threads 5 -maxCharLength 100000 -quiet True -serverProperties corenlp_server-319ab6c52fef4f36.props -preload openie\n",
      "Starting server with command: java -Xmx8G -cp C:\\Users\\nrjkh\\stanfordnlp_resources\\stanford-corenlp-full-2018-10-05/* edu.stanford.nlp.pipeline.StanfordCoreNLPServer -port 9000 -timeout 60000 -threads 5 -maxCharLength 100000 -quiet True -serverProperties corenlp_server-fc10b8536eac4b25.props -preload openie\n",
      "Starting server with command: java -Xmx8G -cp C:\\Users\\nrjkh\\stanfordnlp_resources\\stanford-corenlp-full-2018-10-05/* edu.stanford.nlp.pipeline.StanfordCoreNLPServer -port 9000 -timeout 60000 -threads 5 -maxCharLength 100000 -quiet True -serverProperties corenlp_server-c59c09f137894838.props -preload openie\n"
     ]
    },
    {
     "name": "stderr",
     "output_type": "stream",
     "text": [
      "Exception ignored in: <function StanfordOpenIE.__del__ at 0x000001BD3F065E58>\n",
      "Traceback (most recent call last):\n",
      "  File \"C:\\Users\\nrjkh\\anaconda3\\lib\\site-packages\\openie\\openie.py\", line 90, in __del__\n",
      "    del os.environ['CORENLP_HOME']\n",
      "  File \"C:\\Users\\nrjkh\\anaconda3\\lib\\os.py\", line 695, in __delitem__\n",
      "    raise KeyError(key) from None\n",
      "KeyError: 'CORENLP_HOME'\n"
     ]
    },
    {
     "name": "stdout",
     "output_type": "stream",
     "text": [
      "Starting server with command: java -Xmx8G -cp C:\\Users\\nrjkh\\stanfordnlp_resources\\stanford-corenlp-full-2018-10-05/* edu.stanford.nlp.pipeline.StanfordCoreNLPServer -port 9000 -timeout 60000 -threads 5 -maxCharLength 100000 -quiet True -serverProperties corenlp_server-9345f838e4b5443b.props -preload openie\n",
      "Starting server with command: java -Xmx8G -cp C:\\Users\\nrjkh\\stanfordnlp_resources\\stanford-corenlp-full-2018-10-05/* edu.stanford.nlp.pipeline.StanfordCoreNLPServer -port 9000 -timeout 60000 -threads 5 -maxCharLength 100000 -quiet True -serverProperties corenlp_server-bfb4e3cf5b414298.props -preload openie\n",
      "Starting server with command: java -Xmx8G -cp C:\\Users\\nrjkh\\stanfordnlp_resources\\stanford-corenlp-full-2018-10-05/* edu.stanford.nlp.pipeline.StanfordCoreNLPServer -port 9000 -timeout 60000 -threads 5 -maxCharLength 100000 -quiet True -serverProperties corenlp_server-f1f88fc61bec438f.props -preload openie\n",
      "Starting server with command: java -Xmx8G -cp C:\\Users\\nrjkh\\stanfordnlp_resources\\stanford-corenlp-full-2018-10-05/* edu.stanford.nlp.pipeline.StanfordCoreNLPServer -port 9000 -timeout 60000 -threads 5 -maxCharLength 100000 -quiet True -serverProperties corenlp_server-239c857f3fb244da.props -preload openie\n",
      "Starting server with command: java -Xmx8G -cp C:\\Users\\nrjkh\\stanfordnlp_resources\\stanford-corenlp-full-2018-10-05/* edu.stanford.nlp.pipeline.StanfordCoreNLPServer -port 9000 -timeout 60000 -threads 5 -maxCharLength 100000 -quiet True -serverProperties corenlp_server-fa50029bda394f93.props -preload openie\n",
      "Starting server with command: java -Xmx8G -cp C:\\Users\\nrjkh\\stanfordnlp_resources\\stanford-corenlp-full-2018-10-05/* edu.stanford.nlp.pipeline.StanfordCoreNLPServer -port 9000 -timeout 60000 -threads 5 -maxCharLength 100000 -quiet True -serverProperties corenlp_server-9caf1dfa54f247d6.props -preload openie\n",
      "Starting server with command: java -Xmx8G -cp C:\\Users\\nrjkh\\stanfordnlp_resources\\stanford-corenlp-full-2018-10-05/* edu.stanford.nlp.pipeline.StanfordCoreNLPServer -port 9000 -timeout 60000 -threads 5 -maxCharLength 100000 -quiet True -serverProperties corenlp_server-21c92909f5ca4710.props -preload openie\n",
      "Starting server with command: java -Xmx8G -cp C:\\Users\\nrjkh\\stanfordnlp_resources\\stanford-corenlp-full-2018-10-05/* edu.stanford.nlp.pipeline.StanfordCoreNLPServer -port 9000 -timeout 60000 -threads 5 -maxCharLength 100000 -quiet True -serverProperties corenlp_server-7584cd3305b645cf.props -preload openie\n",
      "Starting server with command: java -Xmx8G -cp C:\\Users\\nrjkh\\stanfordnlp_resources\\stanford-corenlp-full-2018-10-05/* edu.stanford.nlp.pipeline.StanfordCoreNLPServer -port 9000 -timeout 60000 -threads 5 -maxCharLength 100000 -quiet True -serverProperties corenlp_server-2b7cb5eaa50d4bfb.props -preload openie\n",
      "Starting server with command: java -Xmx8G -cp C:\\Users\\nrjkh\\stanfordnlp_resources\\stanford-corenlp-full-2018-10-05/* edu.stanford.nlp.pipeline.StanfordCoreNLPServer -port 9000 -timeout 60000 -threads 5 -maxCharLength 100000 -quiet True -serverProperties corenlp_server-4dcd0301f93048b7.props -preload openie\n",
      "Starting server with command: java -Xmx8G -cp C:\\Users\\nrjkh\\stanfordnlp_resources\\stanford-corenlp-full-2018-10-05/* edu.stanford.nlp.pipeline.StanfordCoreNLPServer -port 9000 -timeout 60000 -threads 5 -maxCharLength 100000 -quiet True -serverProperties corenlp_server-f201bd8e33d44397.props -preload openie\n",
      "Starting server with command: java -Xmx8G -cp C:\\Users\\nrjkh\\stanfordnlp_resources\\stanford-corenlp-full-2018-10-05/* edu.stanford.nlp.pipeline.StanfordCoreNLPServer -port 9000 -timeout 60000 -threads 5 -maxCharLength 100000 -quiet True -serverProperties corenlp_server-e54345edff45492f.props -preload openie\n",
      "Starting server with command: java -Xmx8G -cp C:\\Users\\nrjkh\\stanfordnlp_resources\\stanford-corenlp-full-2018-10-05/* edu.stanford.nlp.pipeline.StanfordCoreNLPServer -port 9000 -timeout 60000 -threads 5 -maxCharLength 100000 -quiet True -serverProperties corenlp_server-7d048f49f5b84d8f.props -preload openie\n"
     ]
    },
    {
     "name": "stderr",
     "output_type": "stream",
     "text": [
      "Exception ignored in: <function StanfordOpenIE.__del__ at 0x000001BD3F065E58>\n",
      "Traceback (most recent call last):\n",
      "  File \"C:\\Users\\nrjkh\\anaconda3\\lib\\site-packages\\openie\\openie.py\", line 90, in __del__\n",
      "    del os.environ['CORENLP_HOME']\n",
      "  File \"C:\\Users\\nrjkh\\anaconda3\\lib\\os.py\", line 695, in __delitem__\n",
      "    raise KeyError(key) from None\n",
      "KeyError: 'CORENLP_HOME'\n"
     ]
    },
    {
     "name": "stdout",
     "output_type": "stream",
     "text": [
      "Starting server with command: java -Xmx8G -cp C:\\Users\\nrjkh\\stanfordnlp_resources\\stanford-corenlp-full-2018-10-05/* edu.stanford.nlp.pipeline.StanfordCoreNLPServer -port 9000 -timeout 60000 -threads 5 -maxCharLength 100000 -quiet True -serverProperties corenlp_server-66c2444c926d4563.props -preload openie\n",
      "Starting server with command: java -Xmx8G -cp C:\\Users\\nrjkh\\stanfordnlp_resources\\stanford-corenlp-full-2018-10-05/* edu.stanford.nlp.pipeline.StanfordCoreNLPServer -port 9000 -timeout 60000 -threads 5 -maxCharLength 100000 -quiet True -serverProperties corenlp_server-4381b912fdbb4d10.props -preload openie\n",
      "Starting server with command: java -Xmx8G -cp C:\\Users\\nrjkh\\stanfordnlp_resources\\stanford-corenlp-full-2018-10-05/* edu.stanford.nlp.pipeline.StanfordCoreNLPServer -port 9000 -timeout 60000 -threads 5 -maxCharLength 100000 -quiet True -serverProperties corenlp_server-86e01704582e469f.props -preload openie\n",
      "Starting server with command: java -Xmx8G -cp C:\\Users\\nrjkh\\stanfordnlp_resources\\stanford-corenlp-full-2018-10-05/* edu.stanford.nlp.pipeline.StanfordCoreNLPServer -port 9000 -timeout 60000 -threads 5 -maxCharLength 100000 -quiet True -serverProperties corenlp_server-5e5ba2781a384bdd.props -preload openie\n",
      "Starting server with command: java -Xmx8G -cp C:\\Users\\nrjkh\\stanfordnlp_resources\\stanford-corenlp-full-2018-10-05/* edu.stanford.nlp.pipeline.StanfordCoreNLPServer -port 9000 -timeout 60000 -threads 5 -maxCharLength 100000 -quiet True -serverProperties corenlp_server-56ddb24c367b40d8.props -preload openie\n",
      "Starting server with command: java -Xmx8G -cp C:\\Users\\nrjkh\\stanfordnlp_resources\\stanford-corenlp-full-2018-10-05/* edu.stanford.nlp.pipeline.StanfordCoreNLPServer -port 9000 -timeout 60000 -threads 5 -maxCharLength 100000 -quiet True -serverProperties corenlp_server-c391648f72fe49dd.props -preload openie\n",
      "Starting server with command: java -Xmx8G -cp C:\\Users\\nrjkh\\stanfordnlp_resources\\stanford-corenlp-full-2018-10-05/* edu.stanford.nlp.pipeline.StanfordCoreNLPServer -port 9000 -timeout 60000 -threads 5 -maxCharLength 100000 -quiet True -serverProperties corenlp_server-c9972a66da29456c.props -preload openie\n",
      "Starting server with command: java -Xmx8G -cp C:\\Users\\nrjkh\\stanfordnlp_resources\\stanford-corenlp-full-2018-10-05/* edu.stanford.nlp.pipeline.StanfordCoreNLPServer -port 9000 -timeout 60000 -threads 5 -maxCharLength 100000 -quiet True -serverProperties corenlp_server-79d8494c43364b91.props -preload openie\n",
      "Starting server with command: java -Xmx8G -cp C:\\Users\\nrjkh\\stanfordnlp_resources\\stanford-corenlp-full-2018-10-05/* edu.stanford.nlp.pipeline.StanfordCoreNLPServer -port 9000 -timeout 60000 -threads 5 -maxCharLength 100000 -quiet True -serverProperties corenlp_server-a2c5df830c654c3e.props -preload openie\n",
      "Starting server with command: java -Xmx8G -cp C:\\Users\\nrjkh\\stanfordnlp_resources\\stanford-corenlp-full-2018-10-05/* edu.stanford.nlp.pipeline.StanfordCoreNLPServer -port 9000 -timeout 60000 -threads 5 -maxCharLength 100000 -quiet True -serverProperties corenlp_server-fd03bb8b2d6e485b.props -preload openie\n",
      "Starting server with command: java -Xmx8G -cp C:\\Users\\nrjkh\\stanfordnlp_resources\\stanford-corenlp-full-2018-10-05/* edu.stanford.nlp.pipeline.StanfordCoreNLPServer -port 9000 -timeout 60000 -threads 5 -maxCharLength 100000 -quiet True -serverProperties corenlp_server-26285bba73aa48ea.props -preload openie\n",
      "Starting server with command: java -Xmx8G -cp C:\\Users\\nrjkh\\stanfordnlp_resources\\stanford-corenlp-full-2018-10-05/* edu.stanford.nlp.pipeline.StanfordCoreNLPServer -port 9000 -timeout 60000 -threads 5 -maxCharLength 100000 -quiet True -serverProperties corenlp_server-680212c4d50c479f.props -preload openie\n",
      "Starting server with command: java -Xmx8G -cp C:\\Users\\nrjkh\\stanfordnlp_resources\\stanford-corenlp-full-2018-10-05/* edu.stanford.nlp.pipeline.StanfordCoreNLPServer -port 9000 -timeout 60000 -threads 5 -maxCharLength 100000 -quiet True -serverProperties corenlp_server-e99de89a5b1344b9.props -preload openie\n",
      "Starting server with command: java -Xmx8G -cp C:\\Users\\nrjkh\\stanfordnlp_resources\\stanford-corenlp-full-2018-10-05/* edu.stanford.nlp.pipeline.StanfordCoreNLPServer -port 9000 -timeout 60000 -threads 5 -maxCharLength 100000 -quiet True -serverProperties corenlp_server-919aadd4f3ea46f5.props -preload openie\n",
      "Starting server with command: java -Xmx8G -cp C:\\Users\\nrjkh\\stanfordnlp_resources\\stanford-corenlp-full-2018-10-05/* edu.stanford.nlp.pipeline.StanfordCoreNLPServer -port 9000 -timeout 60000 -threads 5 -maxCharLength 100000 -quiet True -serverProperties corenlp_server-bd44090062f4417d.props -preload openie\n",
      "Starting server with command: java -Xmx8G -cp C:\\Users\\nrjkh\\stanfordnlp_resources\\stanford-corenlp-full-2018-10-05/* edu.stanford.nlp.pipeline.StanfordCoreNLPServer -port 9000 -timeout 60000 -threads 5 -maxCharLength 100000 -quiet True -serverProperties corenlp_server-2542550b32294e58.props -preload openie\n",
      "Starting server with command: java -Xmx8G -cp C:\\Users\\nrjkh\\stanfordnlp_resources\\stanford-corenlp-full-2018-10-05/* edu.stanford.nlp.pipeline.StanfordCoreNLPServer -port 9000 -timeout 60000 -threads 5 -maxCharLength 100000 -quiet True -serverProperties corenlp_server-2c4dd489f2e543ba.props -preload openie\n",
      "Starting server with command: java -Xmx8G -cp C:\\Users\\nrjkh\\stanfordnlp_resources\\stanford-corenlp-full-2018-10-05/* edu.stanford.nlp.pipeline.StanfordCoreNLPServer -port 9000 -timeout 60000 -threads 5 -maxCharLength 100000 -quiet True -serverProperties corenlp_server-e4100489636548e0.props -preload openie\n",
      "Starting server with command: java -Xmx8G -cp C:\\Users\\nrjkh\\stanfordnlp_resources\\stanford-corenlp-full-2018-10-05/* edu.stanford.nlp.pipeline.StanfordCoreNLPServer -port 9000 -timeout 60000 -threads 5 -maxCharLength 100000 -quiet True -serverProperties corenlp_server-a9b0f929a14f4c8c.props -preload openie\n",
      "Starting server with command: java -Xmx8G -cp C:\\Users\\nrjkh\\stanfordnlp_resources\\stanford-corenlp-full-2018-10-05/* edu.stanford.nlp.pipeline.StanfordCoreNLPServer -port 9000 -timeout 60000 -threads 5 -maxCharLength 100000 -quiet True -serverProperties corenlp_server-c184ff7137d14a20.props -preload openie\n",
      "Starting server with command: java -Xmx8G -cp C:\\Users\\nrjkh\\stanfordnlp_resources\\stanford-corenlp-full-2018-10-05/* edu.stanford.nlp.pipeline.StanfordCoreNLPServer -port 9000 -timeout 60000 -threads 5 -maxCharLength 100000 -quiet True -serverProperties corenlp_server-31dd26ad5269454a.props -preload openie\n"
     ]
    },
    {
     "name": "stderr",
     "output_type": "stream",
     "text": [
      "Exception ignored in: <function StanfordOpenIE.__del__ at 0x000001BD3F065E58>\n",
      "Traceback (most recent call last):\n",
      "  File \"C:\\Users\\nrjkh\\anaconda3\\lib\\site-packages\\openie\\openie.py\", line 90, in __del__\n",
      "    del os.environ['CORENLP_HOME']\n",
      "  File \"C:\\Users\\nrjkh\\anaconda3\\lib\\os.py\", line 695, in __delitem__\n",
      "    raise KeyError(key) from None\n",
      "KeyError: 'CORENLP_HOME'\n"
     ]
    },
    {
     "name": "stdout",
     "output_type": "stream",
     "text": [
      "Starting server with command: java -Xmx8G -cp C:\\Users\\nrjkh\\stanfordnlp_resources\\stanford-corenlp-full-2018-10-05/* edu.stanford.nlp.pipeline.StanfordCoreNLPServer -port 9000 -timeout 60000 -threads 5 -maxCharLength 100000 -quiet True -serverProperties corenlp_server-20f71970a2e24bb1.props -preload openie\n",
      "Starting server with command: java -Xmx8G -cp C:\\Users\\nrjkh\\stanfordnlp_resources\\stanford-corenlp-full-2018-10-05/* edu.stanford.nlp.pipeline.StanfordCoreNLPServer -port 9000 -timeout 60000 -threads 5 -maxCharLength 100000 -quiet True -serverProperties corenlp_server-37d548ea70e14c5a.props -preload openie\n",
      "Starting server with command: java -Xmx8G -cp C:\\Users\\nrjkh\\stanfordnlp_resources\\stanford-corenlp-full-2018-10-05/* edu.stanford.nlp.pipeline.StanfordCoreNLPServer -port 9000 -timeout 60000 -threads 5 -maxCharLength 100000 -quiet True -serverProperties corenlp_server-82740b4ce0ff496a.props -preload openie\n",
      "Starting server with command: java -Xmx8G -cp C:\\Users\\nrjkh\\stanfordnlp_resources\\stanford-corenlp-full-2018-10-05/* edu.stanford.nlp.pipeline.StanfordCoreNLPServer -port 9000 -timeout 60000 -threads 5 -maxCharLength 100000 -quiet True -serverProperties corenlp_server-43efe95cb16945f0.props -preload openie\n",
      "Starting server with command: java -Xmx8G -cp C:\\Users\\nrjkh\\stanfordnlp_resources\\stanford-corenlp-full-2018-10-05/* edu.stanford.nlp.pipeline.StanfordCoreNLPServer -port 9000 -timeout 60000 -threads 5 -maxCharLength 100000 -quiet True -serverProperties corenlp_server-dc8ef89e619a4964.props -preload openie\n",
      "Starting server with command: java -Xmx8G -cp C:\\Users\\nrjkh\\stanfordnlp_resources\\stanford-corenlp-full-2018-10-05/* edu.stanford.nlp.pipeline.StanfordCoreNLPServer -port 9000 -timeout 60000 -threads 5 -maxCharLength 100000 -quiet True -serverProperties corenlp_server-89d3a459684f4a91.props -preload openie\n",
      "Starting server with command: java -Xmx8G -cp C:\\Users\\nrjkh\\stanfordnlp_resources\\stanford-corenlp-full-2018-10-05/* edu.stanford.nlp.pipeline.StanfordCoreNLPServer -port 9000 -timeout 60000 -threads 5 -maxCharLength 100000 -quiet True -serverProperties corenlp_server-410215aae559461c.props -preload openie\n",
      "Starting server with command: java -Xmx8G -cp C:\\Users\\nrjkh\\stanfordnlp_resources\\stanford-corenlp-full-2018-10-05/* edu.stanford.nlp.pipeline.StanfordCoreNLPServer -port 9000 -timeout 60000 -threads 5 -maxCharLength 100000 -quiet True -serverProperties corenlp_server-2fce2ef6c0f440cb.props -preload openie\n",
      "Starting server with command: java -Xmx8G -cp C:\\Users\\nrjkh\\stanfordnlp_resources\\stanford-corenlp-full-2018-10-05/* edu.stanford.nlp.pipeline.StanfordCoreNLPServer -port 9000 -timeout 60000 -threads 5 -maxCharLength 100000 -quiet True -serverProperties corenlp_server-6c4486f60ebd42a8.props -preload openie\n",
      "Starting server with command: java -Xmx8G -cp C:\\Users\\nrjkh\\stanfordnlp_resources\\stanford-corenlp-full-2018-10-05/* edu.stanford.nlp.pipeline.StanfordCoreNLPServer -port 9000 -timeout 60000 -threads 5 -maxCharLength 100000 -quiet True -serverProperties corenlp_server-ee02e891020c4311.props -preload openie\n",
      "Starting server with command: java -Xmx8G -cp C:\\Users\\nrjkh\\stanfordnlp_resources\\stanford-corenlp-full-2018-10-05/* edu.stanford.nlp.pipeline.StanfordCoreNLPServer -port 9000 -timeout 60000 -threads 5 -maxCharLength 100000 -quiet True -serverProperties corenlp_server-19b95390ad234712.props -preload openie\n",
      "Starting server with command: java -Xmx8G -cp C:\\Users\\nrjkh\\stanfordnlp_resources\\stanford-corenlp-full-2018-10-05/* edu.stanford.nlp.pipeline.StanfordCoreNLPServer -port 9000 -timeout 60000 -threads 5 -maxCharLength 100000 -quiet True -serverProperties corenlp_server-b10cd772594f48bd.props -preload openie\n",
      "Starting server with command: java -Xmx8G -cp C:\\Users\\nrjkh\\stanfordnlp_resources\\stanford-corenlp-full-2018-10-05/* edu.stanford.nlp.pipeline.StanfordCoreNLPServer -port 9000 -timeout 60000 -threads 5 -maxCharLength 100000 -quiet True -serverProperties corenlp_server-7b87a368e1d4456d.props -preload openie\n",
      "Starting server with command: java -Xmx8G -cp C:\\Users\\nrjkh\\stanfordnlp_resources\\stanford-corenlp-full-2018-10-05/* edu.stanford.nlp.pipeline.StanfordCoreNLPServer -port 9000 -timeout 60000 -threads 5 -maxCharLength 100000 -quiet True -serverProperties corenlp_server-c967c96a54a34aac.props -preload openie\n",
      "Starting server with command: java -Xmx8G -cp C:\\Users\\nrjkh\\stanfordnlp_resources\\stanford-corenlp-full-2018-10-05/* edu.stanford.nlp.pipeline.StanfordCoreNLPServer -port 9000 -timeout 60000 -threads 5 -maxCharLength 100000 -quiet True -serverProperties corenlp_server-7af067d8cbb94603.props -preload openie\n"
     ]
    },
    {
     "name": "stderr",
     "output_type": "stream",
     "text": [
      "Exception ignored in: <function StanfordOpenIE.__del__ at 0x000001BD3F065E58>\n",
      "Traceback (most recent call last):\n",
      "  File \"C:\\Users\\nrjkh\\anaconda3\\lib\\site-packages\\openie\\openie.py\", line 90, in __del__\n",
      "    del os.environ['CORENLP_HOME']\n",
      "  File \"C:\\Users\\nrjkh\\anaconda3\\lib\\os.py\", line 695, in __delitem__\n",
      "    raise KeyError(key) from None\n",
      "KeyError: 'CORENLP_HOME'\n"
     ]
    },
    {
     "name": "stdout",
     "output_type": "stream",
     "text": [
      "Starting server with command: java -Xmx8G -cp C:\\Users\\nrjkh\\stanfordnlp_resources\\stanford-corenlp-full-2018-10-05/* edu.stanford.nlp.pipeline.StanfordCoreNLPServer -port 9000 -timeout 60000 -threads 5 -maxCharLength 100000 -quiet True -serverProperties corenlp_server-79fcff85c28247b2.props -preload openie\n",
      "Starting server with command: java -Xmx8G -cp C:\\Users\\nrjkh\\stanfordnlp_resources\\stanford-corenlp-full-2018-10-05/* edu.stanford.nlp.pipeline.StanfordCoreNLPServer -port 9000 -timeout 60000 -threads 5 -maxCharLength 100000 -quiet True -serverProperties corenlp_server-28569f758fe6485a.props -preload openie\n",
      "Starting server with command: java -Xmx8G -cp C:\\Users\\nrjkh\\stanfordnlp_resources\\stanford-corenlp-full-2018-10-05/* edu.stanford.nlp.pipeline.StanfordCoreNLPServer -port 9000 -timeout 60000 -threads 5 -maxCharLength 100000 -quiet True -serverProperties corenlp_server-7281f21b2c984b89.props -preload openie\n",
      "Starting server with command: java -Xmx8G -cp C:\\Users\\nrjkh\\stanfordnlp_resources\\stanford-corenlp-full-2018-10-05/* edu.stanford.nlp.pipeline.StanfordCoreNLPServer -port 9000 -timeout 60000 -threads 5 -maxCharLength 100000 -quiet True -serverProperties corenlp_server-7f1e1742febe4b9b.props -preload openie\n",
      "Starting server with command: java -Xmx8G -cp C:\\Users\\nrjkh\\stanfordnlp_resources\\stanford-corenlp-full-2018-10-05/* edu.stanford.nlp.pipeline.StanfordCoreNLPServer -port 9000 -timeout 60000 -threads 5 -maxCharLength 100000 -quiet True -serverProperties corenlp_server-036f1d5a36484188.props -preload openie\n",
      "Starting server with command: java -Xmx8G -cp C:\\Users\\nrjkh\\stanfordnlp_resources\\stanford-corenlp-full-2018-10-05/* edu.stanford.nlp.pipeline.StanfordCoreNLPServer -port 9000 -timeout 60000 -threads 5 -maxCharLength 100000 -quiet True -serverProperties corenlp_server-558c61ea0d1c45a9.props -preload openie\n",
      "Starting server with command: java -Xmx8G -cp C:\\Users\\nrjkh\\stanfordnlp_resources\\stanford-corenlp-full-2018-10-05/* edu.stanford.nlp.pipeline.StanfordCoreNLPServer -port 9000 -timeout 60000 -threads 5 -maxCharLength 100000 -quiet True -serverProperties corenlp_server-a189b130504b4d1a.props -preload openie\n",
      "Starting server with command: java -Xmx8G -cp C:\\Users\\nrjkh\\stanfordnlp_resources\\stanford-corenlp-full-2018-10-05/* edu.stanford.nlp.pipeline.StanfordCoreNLPServer -port 9000 -timeout 60000 -threads 5 -maxCharLength 100000 -quiet True -serverProperties corenlp_server-4fd7196c4b6f4f52.props -preload openie\n",
      "Starting server with command: java -Xmx8G -cp C:\\Users\\nrjkh\\stanfordnlp_resources\\stanford-corenlp-full-2018-10-05/* edu.stanford.nlp.pipeline.StanfordCoreNLPServer -port 9000 -timeout 60000 -threads 5 -maxCharLength 100000 -quiet True -serverProperties corenlp_server-45464422a0b54538.props -preload openie\n",
      "Starting server with command: java -Xmx8G -cp C:\\Users\\nrjkh\\stanfordnlp_resources\\stanford-corenlp-full-2018-10-05/* edu.stanford.nlp.pipeline.StanfordCoreNLPServer -port 9000 -timeout 60000 -threads 5 -maxCharLength 100000 -quiet True -serverProperties corenlp_server-1f4015f7cf974dee.props -preload openie\n",
      "Starting server with command: java -Xmx8G -cp C:\\Users\\nrjkh\\stanfordnlp_resources\\stanford-corenlp-full-2018-10-05/* edu.stanford.nlp.pipeline.StanfordCoreNLPServer -port 9000 -timeout 60000 -threads 5 -maxCharLength 100000 -quiet True -serverProperties corenlp_server-460b89e5812d4606.props -preload openie\n",
      "Starting server with command: java -Xmx8G -cp C:\\Users\\nrjkh\\stanfordnlp_resources\\stanford-corenlp-full-2018-10-05/* edu.stanford.nlp.pipeline.StanfordCoreNLPServer -port 9000 -timeout 60000 -threads 5 -maxCharLength 100000 -quiet True -serverProperties corenlp_server-49e036c0ac7f472a.props -preload openie\n",
      "Starting server with command: java -Xmx8G -cp C:\\Users\\nrjkh\\stanfordnlp_resources\\stanford-corenlp-full-2018-10-05/* edu.stanford.nlp.pipeline.StanfordCoreNLPServer -port 9000 -timeout 60000 -threads 5 -maxCharLength 100000 -quiet True -serverProperties corenlp_server-0982189d5e7d4749.props -preload openie\n",
      "Starting server with command: java -Xmx8G -cp C:\\Users\\nrjkh\\stanfordnlp_resources\\stanford-corenlp-full-2018-10-05/* edu.stanford.nlp.pipeline.StanfordCoreNLPServer -port 9000 -timeout 60000 -threads 5 -maxCharLength 100000 -quiet True -serverProperties corenlp_server-762266f3afb24645.props -preload openie\n",
      "Starting server with command: java -Xmx8G -cp C:\\Users\\nrjkh\\stanfordnlp_resources\\stanford-corenlp-full-2018-10-05/* edu.stanford.nlp.pipeline.StanfordCoreNLPServer -port 9000 -timeout 60000 -threads 5 -maxCharLength 100000 -quiet True -serverProperties corenlp_server-9031293aef9241c3.props -preload openie\n",
      "Starting server with command: java -Xmx8G -cp C:\\Users\\nrjkh\\stanfordnlp_resources\\stanford-corenlp-full-2018-10-05/* edu.stanford.nlp.pipeline.StanfordCoreNLPServer -port 9000 -timeout 60000 -threads 5 -maxCharLength 100000 -quiet True -serverProperties corenlp_server-7ad6da733b144345.props -preload openie\n",
      "Starting server with command: java -Xmx8G -cp C:\\Users\\nrjkh\\stanfordnlp_resources\\stanford-corenlp-full-2018-10-05/* edu.stanford.nlp.pipeline.StanfordCoreNLPServer -port 9000 -timeout 60000 -threads 5 -maxCharLength 100000 -quiet True -serverProperties corenlp_server-82c40842896d4cf3.props -preload openie\n",
      "Starting server with command: java -Xmx8G -cp C:\\Users\\nrjkh\\stanfordnlp_resources\\stanford-corenlp-full-2018-10-05/* edu.stanford.nlp.pipeline.StanfordCoreNLPServer -port 9000 -timeout 60000 -threads 5 -maxCharLength 100000 -quiet True -serverProperties corenlp_server-e7a8cc7788a04285.props -preload openie\n",
      "Starting server with command: java -Xmx8G -cp C:\\Users\\nrjkh\\stanfordnlp_resources\\stanford-corenlp-full-2018-10-05/* edu.stanford.nlp.pipeline.StanfordCoreNLPServer -port 9000 -timeout 60000 -threads 5 -maxCharLength 100000 -quiet True -serverProperties corenlp_server-1c6ddbd715984020.props -preload openie\n",
      "Starting server with command: java -Xmx8G -cp C:\\Users\\nrjkh\\stanfordnlp_resources\\stanford-corenlp-full-2018-10-05/* edu.stanford.nlp.pipeline.StanfordCoreNLPServer -port 9000 -timeout 60000 -threads 5 -maxCharLength 100000 -quiet True -serverProperties corenlp_server-1784fc6ec7b84750.props -preload openie\n",
      "Starting server with command: java -Xmx8G -cp C:\\Users\\nrjkh\\stanfordnlp_resources\\stanford-corenlp-full-2018-10-05/* edu.stanford.nlp.pipeline.StanfordCoreNLPServer -port 9000 -timeout 60000 -threads 5 -maxCharLength 100000 -quiet True -serverProperties corenlp_server-3713e99dafdf455e.props -preload openie\n",
      "Starting server with command: java -Xmx8G -cp C:\\Users\\nrjkh\\stanfordnlp_resources\\stanford-corenlp-full-2018-10-05/* edu.stanford.nlp.pipeline.StanfordCoreNLPServer -port 9000 -timeout 60000 -threads 5 -maxCharLength 100000 -quiet True -serverProperties corenlp_server-25b62b3758ef4a73.props -preload openie\n",
      "Starting server with command: java -Xmx8G -cp C:\\Users\\nrjkh\\stanfordnlp_resources\\stanford-corenlp-full-2018-10-05/* edu.stanford.nlp.pipeline.StanfordCoreNLPServer -port 9000 -timeout 60000 -threads 5 -maxCharLength 100000 -quiet True -serverProperties corenlp_server-d2a06e72b61e4a74.props -preload openie\n"
     ]
    },
    {
     "name": "stderr",
     "output_type": "stream",
     "text": [
      "Exception ignored in: <function StanfordOpenIE.__del__ at 0x000001BD3F065E58>\n",
      "Traceback (most recent call last):\n",
      "  File \"C:\\Users\\nrjkh\\anaconda3\\lib\\site-packages\\openie\\openie.py\", line 90, in __del__\n",
      "    del os.environ['CORENLP_HOME']\n",
      "  File \"C:\\Users\\nrjkh\\anaconda3\\lib\\os.py\", line 695, in __delitem__\n",
      "    raise KeyError(key) from None\n",
      "KeyError: 'CORENLP_HOME'\n"
     ]
    },
    {
     "name": "stdout",
     "output_type": "stream",
     "text": [
      "Starting server with command: java -Xmx8G -cp C:\\Users\\nrjkh\\stanfordnlp_resources\\stanford-corenlp-full-2018-10-05/* edu.stanford.nlp.pipeline.StanfordCoreNLPServer -port 9000 -timeout 60000 -threads 5 -maxCharLength 100000 -quiet True -serverProperties corenlp_server-61f90ef3014348ee.props -preload openie\n",
      "Starting server with command: java -Xmx8G -cp C:\\Users\\nrjkh\\stanfordnlp_resources\\stanford-corenlp-full-2018-10-05/* edu.stanford.nlp.pipeline.StanfordCoreNLPServer -port 9000 -timeout 60000 -threads 5 -maxCharLength 100000 -quiet True -serverProperties corenlp_server-16348fa6fd974c18.props -preload openie\n",
      "Starting server with command: java -Xmx8G -cp C:\\Users\\nrjkh\\stanfordnlp_resources\\stanford-corenlp-full-2018-10-05/* edu.stanford.nlp.pipeline.StanfordCoreNLPServer -port 9000 -timeout 60000 -threads 5 -maxCharLength 100000 -quiet True -serverProperties corenlp_server-a4f57ea307fa4447.props -preload openie\n",
      "Starting server with command: java -Xmx8G -cp C:\\Users\\nrjkh\\stanfordnlp_resources\\stanford-corenlp-full-2018-10-05/* edu.stanford.nlp.pipeline.StanfordCoreNLPServer -port 9000 -timeout 60000 -threads 5 -maxCharLength 100000 -quiet True -serverProperties corenlp_server-584d7d231d784b9c.props -preload openie\n",
      "Starting server with command: java -Xmx8G -cp C:\\Users\\nrjkh\\stanfordnlp_resources\\stanford-corenlp-full-2018-10-05/* edu.stanford.nlp.pipeline.StanfordCoreNLPServer -port 9000 -timeout 60000 -threads 5 -maxCharLength 100000 -quiet True -serverProperties corenlp_server-5271f8e6a31c41cd.props -preload openie\n",
      "Starting server with command: java -Xmx8G -cp C:\\Users\\nrjkh\\stanfordnlp_resources\\stanford-corenlp-full-2018-10-05/* edu.stanford.nlp.pipeline.StanfordCoreNLPServer -port 9000 -timeout 60000 -threads 5 -maxCharLength 100000 -quiet True -serverProperties corenlp_server-17e4fab0599a4188.props -preload openie\n",
      "Starting server with command: java -Xmx8G -cp C:\\Users\\nrjkh\\stanfordnlp_resources\\stanford-corenlp-full-2018-10-05/* edu.stanford.nlp.pipeline.StanfordCoreNLPServer -port 9000 -timeout 60000 -threads 5 -maxCharLength 100000 -quiet True -serverProperties corenlp_server-ddefaf12356e42b0.props -preload openie\n",
      "Starting server with command: java -Xmx8G -cp C:\\Users\\nrjkh\\stanfordnlp_resources\\stanford-corenlp-full-2018-10-05/* edu.stanford.nlp.pipeline.StanfordCoreNLPServer -port 9000 -timeout 60000 -threads 5 -maxCharLength 100000 -quiet True -serverProperties corenlp_server-7968a0eb51a949ac.props -preload openie\n",
      "Starting server with command: java -Xmx8G -cp C:\\Users\\nrjkh\\stanfordnlp_resources\\stanford-corenlp-full-2018-10-05/* edu.stanford.nlp.pipeline.StanfordCoreNLPServer -port 9000 -timeout 60000 -threads 5 -maxCharLength 100000 -quiet True -serverProperties corenlp_server-0875a031376646ab.props -preload openie\n",
      "Starting server with command: java -Xmx8G -cp C:\\Users\\nrjkh\\stanfordnlp_resources\\stanford-corenlp-full-2018-10-05/* edu.stanford.nlp.pipeline.StanfordCoreNLPServer -port 9000 -timeout 60000 -threads 5 -maxCharLength 100000 -quiet True -serverProperties corenlp_server-99f1c4d99148456c.props -preload openie\n",
      "Starting server with command: java -Xmx8G -cp C:\\Users\\nrjkh\\stanfordnlp_resources\\stanford-corenlp-full-2018-10-05/* edu.stanford.nlp.pipeline.StanfordCoreNLPServer -port 9000 -timeout 60000 -threads 5 -maxCharLength 100000 -quiet True -serverProperties corenlp_server-ff5e0d05d7b74760.props -preload openie\n",
      "Starting server with command: java -Xmx8G -cp C:\\Users\\nrjkh\\stanfordnlp_resources\\stanford-corenlp-full-2018-10-05/* edu.stanford.nlp.pipeline.StanfordCoreNLPServer -port 9000 -timeout 60000 -threads 5 -maxCharLength 100000 -quiet True -serverProperties corenlp_server-07f69831f3d84954.props -preload openie\n",
      "Starting server with command: java -Xmx8G -cp C:\\Users\\nrjkh\\stanfordnlp_resources\\stanford-corenlp-full-2018-10-05/* edu.stanford.nlp.pipeline.StanfordCoreNLPServer -port 9000 -timeout 60000 -threads 5 -maxCharLength 100000 -quiet True -serverProperties corenlp_server-35ef0813e2e946f5.props -preload openie\n",
      "Starting server with command: java -Xmx8G -cp C:\\Users\\nrjkh\\stanfordnlp_resources\\stanford-corenlp-full-2018-10-05/* edu.stanford.nlp.pipeline.StanfordCoreNLPServer -port 9000 -timeout 60000 -threads 5 -maxCharLength 100000 -quiet True -serverProperties corenlp_server-a94b90a4a8c04bc9.props -preload openie\n",
      "Starting server with command: java -Xmx8G -cp C:\\Users\\nrjkh\\stanfordnlp_resources\\stanford-corenlp-full-2018-10-05/* edu.stanford.nlp.pipeline.StanfordCoreNLPServer -port 9000 -timeout 60000 -threads 5 -maxCharLength 100000 -quiet True -serverProperties corenlp_server-83d8130637394350.props -preload openie\n",
      "Starting server with command: java -Xmx8G -cp C:\\Users\\nrjkh\\stanfordnlp_resources\\stanford-corenlp-full-2018-10-05/* edu.stanford.nlp.pipeline.StanfordCoreNLPServer -port 9000 -timeout 60000 -threads 5 -maxCharLength 100000 -quiet True -serverProperties corenlp_server-502fb67a4fce41f0.props -preload openie\n",
      "Starting server with command: java -Xmx8G -cp C:\\Users\\nrjkh\\stanfordnlp_resources\\stanford-corenlp-full-2018-10-05/* edu.stanford.nlp.pipeline.StanfordCoreNLPServer -port 9000 -timeout 60000 -threads 5 -maxCharLength 100000 -quiet True -serverProperties corenlp_server-c5efc60964c8486f.props -preload openie\n",
      "Starting server with command: java -Xmx8G -cp C:\\Users\\nrjkh\\stanfordnlp_resources\\stanford-corenlp-full-2018-10-05/* edu.stanford.nlp.pipeline.StanfordCoreNLPServer -port 9000 -timeout 60000 -threads 5 -maxCharLength 100000 -quiet True -serverProperties corenlp_server-af17d4bf42d645f2.props -preload openie\n",
      "Starting server with command: java -Xmx8G -cp C:\\Users\\nrjkh\\stanfordnlp_resources\\stanford-corenlp-full-2018-10-05/* edu.stanford.nlp.pipeline.StanfordCoreNLPServer -port 9000 -timeout 60000 -threads 5 -maxCharLength 100000 -quiet True -serverProperties corenlp_server-bb1aa2dbd2964b4d.props -preload openie\n",
      "Starting server with command: java -Xmx8G -cp C:\\Users\\nrjkh\\stanfordnlp_resources\\stanford-corenlp-full-2018-10-05/* edu.stanford.nlp.pipeline.StanfordCoreNLPServer -port 9000 -timeout 60000 -threads 5 -maxCharLength 100000 -quiet True -serverProperties corenlp_server-b569287e76284918.props -preload openie\n",
      "Starting server with command: java -Xmx8G -cp C:\\Users\\nrjkh\\stanfordnlp_resources\\stanford-corenlp-full-2018-10-05/* edu.stanford.nlp.pipeline.StanfordCoreNLPServer -port 9000 -timeout 60000 -threads 5 -maxCharLength 100000 -quiet True -serverProperties corenlp_server-f0b26d5da2234dab.props -preload openie\n",
      "Starting server with command: java -Xmx8G -cp C:\\Users\\nrjkh\\stanfordnlp_resources\\stanford-corenlp-full-2018-10-05/* edu.stanford.nlp.pipeline.StanfordCoreNLPServer -port 9000 -timeout 60000 -threads 5 -maxCharLength 100000 -quiet True -serverProperties corenlp_server-2d2eb4efc33a4c5c.props -preload openie\n",
      "Starting server with command: java -Xmx8G -cp C:\\Users\\nrjkh\\stanfordnlp_resources\\stanford-corenlp-full-2018-10-05/* edu.stanford.nlp.pipeline.StanfordCoreNLPServer -port 9000 -timeout 60000 -threads 5 -maxCharLength 100000 -quiet True -serverProperties corenlp_server-a1993b878b3a446d.props -preload openie\n",
      "Starting server with command: java -Xmx8G -cp C:\\Users\\nrjkh\\stanfordnlp_resources\\stanford-corenlp-full-2018-10-05/* edu.stanford.nlp.pipeline.StanfordCoreNLPServer -port 9000 -timeout 60000 -threads 5 -maxCharLength 100000 -quiet True -serverProperties corenlp_server-97b6998911034aff.props -preload openie\n",
      "Starting server with command: java -Xmx8G -cp C:\\Users\\nrjkh\\stanfordnlp_resources\\stanford-corenlp-full-2018-10-05/* edu.stanford.nlp.pipeline.StanfordCoreNLPServer -port 9000 -timeout 60000 -threads 5 -maxCharLength 100000 -quiet True -serverProperties corenlp_server-6fab21bdb5c64eff.props -preload openie\n",
      "Starting server with command: java -Xmx8G -cp C:\\Users\\nrjkh\\stanfordnlp_resources\\stanford-corenlp-full-2018-10-05/* edu.stanford.nlp.pipeline.StanfordCoreNLPServer -port 9000 -timeout 60000 -threads 5 -maxCharLength 100000 -quiet True -serverProperties corenlp_server-ca06e930d511474e.props -preload openie\n",
      "Starting server with command: java -Xmx8G -cp C:\\Users\\nrjkh\\stanfordnlp_resources\\stanford-corenlp-full-2018-10-05/* edu.stanford.nlp.pipeline.StanfordCoreNLPServer -port 9000 -timeout 60000 -threads 5 -maxCharLength 100000 -quiet True -serverProperties corenlp_server-7a8874802d4246ca.props -preload openie\n"
     ]
    },
    {
     "name": "stdout",
     "output_type": "stream",
     "text": [
      "Starting server with command: java -Xmx8G -cp C:\\Users\\nrjkh\\stanfordnlp_resources\\stanford-corenlp-full-2018-10-05/* edu.stanford.nlp.pipeline.StanfordCoreNLPServer -port 9000 -timeout 60000 -threads 5 -maxCharLength 100000 -quiet True -serverProperties corenlp_server-1f3883e15d8745c4.props -preload openie\n",
      "Starting server with command: java -Xmx8G -cp C:\\Users\\nrjkh\\stanfordnlp_resources\\stanford-corenlp-full-2018-10-05/* edu.stanford.nlp.pipeline.StanfordCoreNLPServer -port 9000 -timeout 60000 -threads 5 -maxCharLength 100000 -quiet True -serverProperties corenlp_server-2dfc0a5ce82b4773.props -preload openie\n",
      "Starting server with command: java -Xmx8G -cp C:\\Users\\nrjkh\\stanfordnlp_resources\\stanford-corenlp-full-2018-10-05/* edu.stanford.nlp.pipeline.StanfordCoreNLPServer -port 9000 -timeout 60000 -threads 5 -maxCharLength 100000 -quiet True -serverProperties corenlp_server-1c6867ff71a74e36.props -preload openie\n",
      "Starting server with command: java -Xmx8G -cp C:\\Users\\nrjkh\\stanfordnlp_resources\\stanford-corenlp-full-2018-10-05/* edu.stanford.nlp.pipeline.StanfordCoreNLPServer -port 9000 -timeout 60000 -threads 5 -maxCharLength 100000 -quiet True -serverProperties corenlp_server-12d5209beee44054.props -preload openie\n",
      "Starting server with command: java -Xmx8G -cp C:\\Users\\nrjkh\\stanfordnlp_resources\\stanford-corenlp-full-2018-10-05/* edu.stanford.nlp.pipeline.StanfordCoreNLPServer -port 9000 -timeout 60000 -threads 5 -maxCharLength 100000 -quiet True -serverProperties corenlp_server-59d03c14da7e497a.props -preload openie\n",
      "Starting server with command: java -Xmx8G -cp C:\\Users\\nrjkh\\stanfordnlp_resources\\stanford-corenlp-full-2018-10-05/* edu.stanford.nlp.pipeline.StanfordCoreNLPServer -port 9000 -timeout 60000 -threads 5 -maxCharLength 100000 -quiet True -serverProperties corenlp_server-0edc4c9efba64743.props -preload openie\n",
      "Starting server with command: java -Xmx8G -cp C:\\Users\\nrjkh\\stanfordnlp_resources\\stanford-corenlp-full-2018-10-05/* edu.stanford.nlp.pipeline.StanfordCoreNLPServer -port 9000 -timeout 60000 -threads 5 -maxCharLength 100000 -quiet True -serverProperties corenlp_server-af7cc31eb5db45f8.props -preload openie\n",
      "Starting server with command: java -Xmx8G -cp C:\\Users\\nrjkh\\stanfordnlp_resources\\stanford-corenlp-full-2018-10-05/* edu.stanford.nlp.pipeline.StanfordCoreNLPServer -port 9000 -timeout 60000 -threads 5 -maxCharLength 100000 -quiet True -serverProperties corenlp_server-fbe8b5ddea164085.props -preload openie\n"
     ]
    },
    {
     "name": "stderr",
     "output_type": "stream",
     "text": [
      "Exception ignored in: <function StanfordOpenIE.__del__ at 0x000001BD3F065E58>\n",
      "Traceback (most recent call last):\n",
      "  File \"C:\\Users\\nrjkh\\anaconda3\\lib\\site-packages\\openie\\openie.py\", line 90, in __del__\n",
      "    del os.environ['CORENLP_HOME']\n",
      "  File \"C:\\Users\\nrjkh\\anaconda3\\lib\\os.py\", line 695, in __delitem__\n",
      "    raise KeyError(key) from None\n",
      "KeyError: 'CORENLP_HOME'\n"
     ]
    },
    {
     "name": "stdout",
     "output_type": "stream",
     "text": [
      "Starting server with command: java -Xmx8G -cp C:\\Users\\nrjkh\\stanfordnlp_resources\\stanford-corenlp-full-2018-10-05/* edu.stanford.nlp.pipeline.StanfordCoreNLPServer -port 9000 -timeout 60000 -threads 5 -maxCharLength 100000 -quiet True -serverProperties corenlp_server-7706ad69cd7d4bb7.props -preload openie\n",
      "Starting server with command: java -Xmx8G -cp C:\\Users\\nrjkh\\stanfordnlp_resources\\stanford-corenlp-full-2018-10-05/* edu.stanford.nlp.pipeline.StanfordCoreNLPServer -port 9000 -timeout 60000 -threads 5 -maxCharLength 100000 -quiet True -serverProperties corenlp_server-dbd0cee8ed634bda.props -preload openie\n",
      "Starting server with command: java -Xmx8G -cp C:\\Users\\nrjkh\\stanfordnlp_resources\\stanford-corenlp-full-2018-10-05/* edu.stanford.nlp.pipeline.StanfordCoreNLPServer -port 9000 -timeout 60000 -threads 5 -maxCharLength 100000 -quiet True -serverProperties corenlp_server-60c818a79a8c4674.props -preload openie\n",
      "Starting server with command: java -Xmx8G -cp C:\\Users\\nrjkh\\stanfordnlp_resources\\stanford-corenlp-full-2018-10-05/* edu.stanford.nlp.pipeline.StanfordCoreNLPServer -port 9000 -timeout 60000 -threads 5 -maxCharLength 100000 -quiet True -serverProperties corenlp_server-b8dbfa3df23240f8.props -preload openie\n",
      "Starting server with command: java -Xmx8G -cp C:\\Users\\nrjkh\\stanfordnlp_resources\\stanford-corenlp-full-2018-10-05/* edu.stanford.nlp.pipeline.StanfordCoreNLPServer -port 9000 -timeout 60000 -threads 5 -maxCharLength 100000 -quiet True -serverProperties corenlp_server-f0cdd3857a854695.props -preload openie\n",
      "Starting server with command: java -Xmx8G -cp C:\\Users\\nrjkh\\stanfordnlp_resources\\stanford-corenlp-full-2018-10-05/* edu.stanford.nlp.pipeline.StanfordCoreNLPServer -port 9000 -timeout 60000 -threads 5 -maxCharLength 100000 -quiet True -serverProperties corenlp_server-c4702d4537084990.props -preload openie\n",
      "Starting server with command: java -Xmx8G -cp C:\\Users\\nrjkh\\stanfordnlp_resources\\stanford-corenlp-full-2018-10-05/* edu.stanford.nlp.pipeline.StanfordCoreNLPServer -port 9000 -timeout 60000 -threads 5 -maxCharLength 100000 -quiet True -serverProperties corenlp_server-2b98394e23234f36.props -preload openie\n",
      "Starting server with command: java -Xmx8G -cp C:\\Users\\nrjkh\\stanfordnlp_resources\\stanford-corenlp-full-2018-10-05/* edu.stanford.nlp.pipeline.StanfordCoreNLPServer -port 9000 -timeout 60000 -threads 5 -maxCharLength 100000 -quiet True -serverProperties corenlp_server-c98d32b594514f4f.props -preload openie\n",
      "Starting server with command: java -Xmx8G -cp C:\\Users\\nrjkh\\stanfordnlp_resources\\stanford-corenlp-full-2018-10-05/* edu.stanford.nlp.pipeline.StanfordCoreNLPServer -port 9000 -timeout 60000 -threads 5 -maxCharLength 100000 -quiet True -serverProperties corenlp_server-f0a1205eb8424908.props -preload openie\n",
      "Starting server with command: java -Xmx8G -cp C:\\Users\\nrjkh\\stanfordnlp_resources\\stanford-corenlp-full-2018-10-05/* edu.stanford.nlp.pipeline.StanfordCoreNLPServer -port 9000 -timeout 60000 -threads 5 -maxCharLength 100000 -quiet True -serverProperties corenlp_server-3d65e62b9c8e4d6c.props -preload openie\n",
      "Starting server with command: java -Xmx8G -cp C:\\Users\\nrjkh\\stanfordnlp_resources\\stanford-corenlp-full-2018-10-05/* edu.stanford.nlp.pipeline.StanfordCoreNLPServer -port 9000 -timeout 60000 -threads 5 -maxCharLength 100000 -quiet True -serverProperties corenlp_server-905afc2383b54d60.props -preload openie\n",
      "Starting server with command: java -Xmx8G -cp C:\\Users\\nrjkh\\stanfordnlp_resources\\stanford-corenlp-full-2018-10-05/* edu.stanford.nlp.pipeline.StanfordCoreNLPServer -port 9000 -timeout 60000 -threads 5 -maxCharLength 100000 -quiet True -serverProperties corenlp_server-22bac415f2d94248.props -preload openie\n",
      "Starting server with command: java -Xmx8G -cp C:\\Users\\nrjkh\\stanfordnlp_resources\\stanford-corenlp-full-2018-10-05/* edu.stanford.nlp.pipeline.StanfordCoreNLPServer -port 9000 -timeout 60000 -threads 5 -maxCharLength 100000 -quiet True -serverProperties corenlp_server-429542c8d33a45b6.props -preload openie\n",
      "Starting server with command: java -Xmx8G -cp C:\\Users\\nrjkh\\stanfordnlp_resources\\stanford-corenlp-full-2018-10-05/* edu.stanford.nlp.pipeline.StanfordCoreNLPServer -port 9000 -timeout 60000 -threads 5 -maxCharLength 100000 -quiet True -serverProperties corenlp_server-4726fee0c2304138.props -preload openie\n",
      "Starting server with command: java -Xmx8G -cp C:\\Users\\nrjkh\\stanfordnlp_resources\\stanford-corenlp-full-2018-10-05/* edu.stanford.nlp.pipeline.StanfordCoreNLPServer -port 9000 -timeout 60000 -threads 5 -maxCharLength 100000 -quiet True -serverProperties corenlp_server-6be3102d72934ca6.props -preload openie\n",
      "Starting server with command: java -Xmx8G -cp C:\\Users\\nrjkh\\stanfordnlp_resources\\stanford-corenlp-full-2018-10-05/* edu.stanford.nlp.pipeline.StanfordCoreNLPServer -port 9000 -timeout 60000 -threads 5 -maxCharLength 100000 -quiet True -serverProperties corenlp_server-0d1802bc37ca42ed.props -preload openie\n",
      "Starting server with command: java -Xmx8G -cp C:\\Users\\nrjkh\\stanfordnlp_resources\\stanford-corenlp-full-2018-10-05/* edu.stanford.nlp.pipeline.StanfordCoreNLPServer -port 9000 -timeout 60000 -threads 5 -maxCharLength 100000 -quiet True -serverProperties corenlp_server-d98a245df38644d8.props -preload openie\n",
      "Starting server with command: java -Xmx8G -cp C:\\Users\\nrjkh\\stanfordnlp_resources\\stanford-corenlp-full-2018-10-05/* edu.stanford.nlp.pipeline.StanfordCoreNLPServer -port 9000 -timeout 60000 -threads 5 -maxCharLength 100000 -quiet True -serverProperties corenlp_server-1a31fb156b4c45d5.props -preload openie\n",
      "Starting server with command: java -Xmx8G -cp C:\\Users\\nrjkh\\stanfordnlp_resources\\stanford-corenlp-full-2018-10-05/* edu.stanford.nlp.pipeline.StanfordCoreNLPServer -port 9000 -timeout 60000 -threads 5 -maxCharLength 100000 -quiet True -serverProperties corenlp_server-bbc0d4bddb7a4b8c.props -preload openie\n",
      "Starting server with command: java -Xmx8G -cp C:\\Users\\nrjkh\\stanfordnlp_resources\\stanford-corenlp-full-2018-10-05/* edu.stanford.nlp.pipeline.StanfordCoreNLPServer -port 9000 -timeout 60000 -threads 5 -maxCharLength 100000 -quiet True -serverProperties corenlp_server-2b495618453b45c9.props -preload openie\n",
      "Starting server with command: java -Xmx8G -cp C:\\Users\\nrjkh\\stanfordnlp_resources\\stanford-corenlp-full-2018-10-05/* edu.stanford.nlp.pipeline.StanfordCoreNLPServer -port 9000 -timeout 60000 -threads 5 -maxCharLength 100000 -quiet True -serverProperties corenlp_server-98a16012a90042d7.props -preload openie\n",
      "Starting server with command: java -Xmx8G -cp C:\\Users\\nrjkh\\stanfordnlp_resources\\stanford-corenlp-full-2018-10-05/* edu.stanford.nlp.pipeline.StanfordCoreNLPServer -port 9000 -timeout 60000 -threads 5 -maxCharLength 100000 -quiet True -serverProperties corenlp_server-7a2abe208e2046c7.props -preload openie\n",
      "Starting server with command: java -Xmx8G -cp C:\\Users\\nrjkh\\stanfordnlp_resources\\stanford-corenlp-full-2018-10-05/* edu.stanford.nlp.pipeline.StanfordCoreNLPServer -port 9000 -timeout 60000 -threads 5 -maxCharLength 100000 -quiet True -serverProperties corenlp_server-577f8a40ef384187.props -preload openie\n",
      "Starting server with command: java -Xmx8G -cp C:\\Users\\nrjkh\\stanfordnlp_resources\\stanford-corenlp-full-2018-10-05/* edu.stanford.nlp.pipeline.StanfordCoreNLPServer -port 9000 -timeout 60000 -threads 5 -maxCharLength 100000 -quiet True -serverProperties corenlp_server-3b425f10b9eb4d97.props -preload openie\n",
      "Starting server with command: java -Xmx8G -cp C:\\Users\\nrjkh\\stanfordnlp_resources\\stanford-corenlp-full-2018-10-05/* edu.stanford.nlp.pipeline.StanfordCoreNLPServer -port 9000 -timeout 60000 -threads 5 -maxCharLength 100000 -quiet True -serverProperties corenlp_server-7b2b2c1e79c746fc.props -preload openie\n",
      "Starting server with command: java -Xmx8G -cp C:\\Users\\nrjkh\\stanfordnlp_resources\\stanford-corenlp-full-2018-10-05/* edu.stanford.nlp.pipeline.StanfordCoreNLPServer -port 9000 -timeout 60000 -threads 5 -maxCharLength 100000 -quiet True -serverProperties corenlp_server-171448fde56b4199.props -preload openie\n",
      "Starting server with command: java -Xmx8G -cp C:\\Users\\nrjkh\\stanfordnlp_resources\\stanford-corenlp-full-2018-10-05/* edu.stanford.nlp.pipeline.StanfordCoreNLPServer -port 9000 -timeout 60000 -threads 5 -maxCharLength 100000 -quiet True -serverProperties corenlp_server-8fedebb7751545de.props -preload openie\n"
     ]
    },
    {
     "name": "stdout",
     "output_type": "stream",
     "text": [
      "Starting server with command: java -Xmx8G -cp C:\\Users\\nrjkh\\stanfordnlp_resources\\stanford-corenlp-full-2018-10-05/* edu.stanford.nlp.pipeline.StanfordCoreNLPServer -port 9000 -timeout 60000 -threads 5 -maxCharLength 100000 -quiet True -serverProperties corenlp_server-fb2566ee52d54101.props -preload openie\n",
      "Starting server with command: java -Xmx8G -cp C:\\Users\\nrjkh\\stanfordnlp_resources\\stanford-corenlp-full-2018-10-05/* edu.stanford.nlp.pipeline.StanfordCoreNLPServer -port 9000 -timeout 60000 -threads 5 -maxCharLength 100000 -quiet True -serverProperties corenlp_server-60d3ca6990194622.props -preload openie\n",
      "Starting server with command: java -Xmx8G -cp C:\\Users\\nrjkh\\stanfordnlp_resources\\stanford-corenlp-full-2018-10-05/* edu.stanford.nlp.pipeline.StanfordCoreNLPServer -port 9000 -timeout 60000 -threads 5 -maxCharLength 100000 -quiet True -serverProperties corenlp_server-4882ba0e57104f15.props -preload openie\n",
      "Starting server with command: java -Xmx8G -cp C:\\Users\\nrjkh\\stanfordnlp_resources\\stanford-corenlp-full-2018-10-05/* edu.stanford.nlp.pipeline.StanfordCoreNLPServer -port 9000 -timeout 60000 -threads 5 -maxCharLength 100000 -quiet True -serverProperties corenlp_server-d5fd4a0283c54283.props -preload openie\n",
      "Starting server with command: java -Xmx8G -cp C:\\Users\\nrjkh\\stanfordnlp_resources\\stanford-corenlp-full-2018-10-05/* edu.stanford.nlp.pipeline.StanfordCoreNLPServer -port 9000 -timeout 60000 -threads 5 -maxCharLength 100000 -quiet True -serverProperties corenlp_server-ca6dd45b0e9d4ee3.props -preload openie\n",
      "Starting server with command: java -Xmx8G -cp C:\\Users\\nrjkh\\stanfordnlp_resources\\stanford-corenlp-full-2018-10-05/* edu.stanford.nlp.pipeline.StanfordCoreNLPServer -port 9000 -timeout 60000 -threads 5 -maxCharLength 100000 -quiet True -serverProperties corenlp_server-25ea8d3c0e214dc1.props -preload openie\n",
      "Starting server with command: java -Xmx8G -cp C:\\Users\\nrjkh\\stanfordnlp_resources\\stanford-corenlp-full-2018-10-05/* edu.stanford.nlp.pipeline.StanfordCoreNLPServer -port 9000 -timeout 60000 -threads 5 -maxCharLength 100000 -quiet True -serverProperties corenlp_server-81ac6201d5d94f0e.props -preload openie\n",
      "Starting server with command: java -Xmx8G -cp C:\\Users\\nrjkh\\stanfordnlp_resources\\stanford-corenlp-full-2018-10-05/* edu.stanford.nlp.pipeline.StanfordCoreNLPServer -port 9000 -timeout 60000 -threads 5 -maxCharLength 100000 -quiet True -serverProperties corenlp_server-58f048fde5964358.props -preload openie\n",
      "Starting server with command: java -Xmx8G -cp C:\\Users\\nrjkh\\stanfordnlp_resources\\stanford-corenlp-full-2018-10-05/* edu.stanford.nlp.pipeline.StanfordCoreNLPServer -port 9000 -timeout 60000 -threads 5 -maxCharLength 100000 -quiet True -serverProperties corenlp_server-5d9bb13a11c34dd1.props -preload openie\n",
      "Starting server with command: java -Xmx8G -cp C:\\Users\\nrjkh\\stanfordnlp_resources\\stanford-corenlp-full-2018-10-05/* edu.stanford.nlp.pipeline.StanfordCoreNLPServer -port 9000 -timeout 60000 -threads 5 -maxCharLength 100000 -quiet True -serverProperties corenlp_server-d79397e00c164979.props -preload openie\n",
      "Starting server with command: java -Xmx8G -cp C:\\Users\\nrjkh\\stanfordnlp_resources\\stanford-corenlp-full-2018-10-05/* edu.stanford.nlp.pipeline.StanfordCoreNLPServer -port 9000 -timeout 60000 -threads 5 -maxCharLength 100000 -quiet True -serverProperties corenlp_server-3c98459408654a3e.props -preload openie\n",
      "Starting server with command: java -Xmx8G -cp C:\\Users\\nrjkh\\stanfordnlp_resources\\stanford-corenlp-full-2018-10-05/* edu.stanford.nlp.pipeline.StanfordCoreNLPServer -port 9000 -timeout 60000 -threads 5 -maxCharLength 100000 -quiet True -serverProperties corenlp_server-2f621975f8b44076.props -preload openie\n",
      "Starting server with command: java -Xmx8G -cp C:\\Users\\nrjkh\\stanfordnlp_resources\\stanford-corenlp-full-2018-10-05/* edu.stanford.nlp.pipeline.StanfordCoreNLPServer -port 9000 -timeout 60000 -threads 5 -maxCharLength 100000 -quiet True -serverProperties corenlp_server-78c0f1b46824418b.props -preload openie\n",
      "Starting server with command: java -Xmx8G -cp C:\\Users\\nrjkh\\stanfordnlp_resources\\stanford-corenlp-full-2018-10-05/* edu.stanford.nlp.pipeline.StanfordCoreNLPServer -port 9000 -timeout 60000 -threads 5 -maxCharLength 100000 -quiet True -serverProperties corenlp_server-cacadf4454db4424.props -preload openie\n",
      "Starting server with command: java -Xmx8G -cp C:\\Users\\nrjkh\\stanfordnlp_resources\\stanford-corenlp-full-2018-10-05/* edu.stanford.nlp.pipeline.StanfordCoreNLPServer -port 9000 -timeout 60000 -threads 5 -maxCharLength 100000 -quiet True -serverProperties corenlp_server-51d8f649709341bd.props -preload openie\n",
      "Starting server with command: java -Xmx8G -cp C:\\Users\\nrjkh\\stanfordnlp_resources\\stanford-corenlp-full-2018-10-05/* edu.stanford.nlp.pipeline.StanfordCoreNLPServer -port 9000 -timeout 60000 -threads 5 -maxCharLength 100000 -quiet True -serverProperties corenlp_server-1c07465975df4fd2.props -preload openie\n",
      "Starting server with command: java -Xmx8G -cp C:\\Users\\nrjkh\\stanfordnlp_resources\\stanford-corenlp-full-2018-10-05/* edu.stanford.nlp.pipeline.StanfordCoreNLPServer -port 9000 -timeout 60000 -threads 5 -maxCharLength 100000 -quiet True -serverProperties corenlp_server-edc8204cb33b4818.props -preload openie\n",
      "Starting server with command: java -Xmx8G -cp C:\\Users\\nrjkh\\stanfordnlp_resources\\stanford-corenlp-full-2018-10-05/* edu.stanford.nlp.pipeline.StanfordCoreNLPServer -port 9000 -timeout 60000 -threads 5 -maxCharLength 100000 -quiet True -serverProperties corenlp_server-61af7bdd937d4f0d.props -preload openie\n",
      "Starting server with command: java -Xmx8G -cp C:\\Users\\nrjkh\\stanfordnlp_resources\\stanford-corenlp-full-2018-10-05/* edu.stanford.nlp.pipeline.StanfordCoreNLPServer -port 9000 -timeout 60000 -threads 5 -maxCharLength 100000 -quiet True -serverProperties corenlp_server-0b2f87860b9d4615.props -preload openie\n",
      "Starting server with command: java -Xmx8G -cp C:\\Users\\nrjkh\\stanfordnlp_resources\\stanford-corenlp-full-2018-10-05/* edu.stanford.nlp.pipeline.StanfordCoreNLPServer -port 9000 -timeout 60000 -threads 5 -maxCharLength 100000 -quiet True -serverProperties corenlp_server-cda0a3492d2a46d3.props -preload openie\n",
      "Starting server with command: java -Xmx8G -cp C:\\Users\\nrjkh\\stanfordnlp_resources\\stanford-corenlp-full-2018-10-05/* edu.stanford.nlp.pipeline.StanfordCoreNLPServer -port 9000 -timeout 60000 -threads 5 -maxCharLength 100000 -quiet True -serverProperties corenlp_server-8eb04ae658ea4164.props -preload openie\n",
      "Starting server with command: java -Xmx8G -cp C:\\Users\\nrjkh\\stanfordnlp_resources\\stanford-corenlp-full-2018-10-05/* edu.stanford.nlp.pipeline.StanfordCoreNLPServer -port 9000 -timeout 60000 -threads 5 -maxCharLength 100000 -quiet True -serverProperties corenlp_server-2f5ebb98cf544786.props -preload openie\n",
      "Starting server with command: java -Xmx8G -cp C:\\Users\\nrjkh\\stanfordnlp_resources\\stanford-corenlp-full-2018-10-05/* edu.stanford.nlp.pipeline.StanfordCoreNLPServer -port 9000 -timeout 60000 -threads 5 -maxCharLength 100000 -quiet True -serverProperties corenlp_server-17747a2bdbd44a40.props -preload openie\n",
      "Starting server with command: java -Xmx8G -cp C:\\Users\\nrjkh\\stanfordnlp_resources\\stanford-corenlp-full-2018-10-05/* edu.stanford.nlp.pipeline.StanfordCoreNLPServer -port 9000 -timeout 60000 -threads 5 -maxCharLength 100000 -quiet True -serverProperties corenlp_server-f1af8ad9437548d7.props -preload openie\n",
      "Starting server with command: java -Xmx8G -cp C:\\Users\\nrjkh\\stanfordnlp_resources\\stanford-corenlp-full-2018-10-05/* edu.stanford.nlp.pipeline.StanfordCoreNLPServer -port 9000 -timeout 60000 -threads 5 -maxCharLength 100000 -quiet True -serverProperties corenlp_server-6485864684434e50.props -preload openie\n",
      "Starting server with command: java -Xmx8G -cp C:\\Users\\nrjkh\\stanfordnlp_resources\\stanford-corenlp-full-2018-10-05/* edu.stanford.nlp.pipeline.StanfordCoreNLPServer -port 9000 -timeout 60000 -threads 5 -maxCharLength 100000 -quiet True -serverProperties corenlp_server-cf2e96b485d4480e.props -preload openie\n",
      "Starting server with command: java -Xmx8G -cp C:\\Users\\nrjkh\\stanfordnlp_resources\\stanford-corenlp-full-2018-10-05/* edu.stanford.nlp.pipeline.StanfordCoreNLPServer -port 9000 -timeout 60000 -threads 5 -maxCharLength 100000 -quiet True -serverProperties corenlp_server-4c15a8659b4b49d2.props -preload openie\n"
     ]
    },
    {
     "name": "stdout",
     "output_type": "stream",
     "text": [
      "Starting server with command: java -Xmx8G -cp C:\\Users\\nrjkh\\stanfordnlp_resources\\stanford-corenlp-full-2018-10-05/* edu.stanford.nlp.pipeline.StanfordCoreNLPServer -port 9000 -timeout 60000 -threads 5 -maxCharLength 100000 -quiet True -serverProperties corenlp_server-e516a0691df8402f.props -preload openie\n",
      "Starting server with command: java -Xmx8G -cp C:\\Users\\nrjkh\\stanfordnlp_resources\\stanford-corenlp-full-2018-10-05/* edu.stanford.nlp.pipeline.StanfordCoreNLPServer -port 9000 -timeout 60000 -threads 5 -maxCharLength 100000 -quiet True -serverProperties corenlp_server-5a74d6c5bd9a4220.props -preload openie\n",
      "Starting server with command: java -Xmx8G -cp C:\\Users\\nrjkh\\stanfordnlp_resources\\stanford-corenlp-full-2018-10-05/* edu.stanford.nlp.pipeline.StanfordCoreNLPServer -port 9000 -timeout 60000 -threads 5 -maxCharLength 100000 -quiet True -serverProperties corenlp_server-11c88db43bf545fb.props -preload openie\n",
      "Starting server with command: java -Xmx8G -cp C:\\Users\\nrjkh\\stanfordnlp_resources\\stanford-corenlp-full-2018-10-05/* edu.stanford.nlp.pipeline.StanfordCoreNLPServer -port 9000 -timeout 60000 -threads 5 -maxCharLength 100000 -quiet True -serverProperties corenlp_server-5838170bd9404649.props -preload openie\n",
      "Starting server with command: java -Xmx8G -cp C:\\Users\\nrjkh\\stanfordnlp_resources\\stanford-corenlp-full-2018-10-05/* edu.stanford.nlp.pipeline.StanfordCoreNLPServer -port 9000 -timeout 60000 -threads 5 -maxCharLength 100000 -quiet True -serverProperties corenlp_server-e6c453a4143a4334.props -preload openie\n",
      "Starting server with command: java -Xmx8G -cp C:\\Users\\nrjkh\\stanfordnlp_resources\\stanford-corenlp-full-2018-10-05/* edu.stanford.nlp.pipeline.StanfordCoreNLPServer -port 9000 -timeout 60000 -threads 5 -maxCharLength 100000 -quiet True -serverProperties corenlp_server-3dc3f641dbf64ac5.props -preload openie\n",
      "Starting server with command: java -Xmx8G -cp C:\\Users\\nrjkh\\stanfordnlp_resources\\stanford-corenlp-full-2018-10-05/* edu.stanford.nlp.pipeline.StanfordCoreNLPServer -port 9000 -timeout 60000 -threads 5 -maxCharLength 100000 -quiet True -serverProperties corenlp_server-4e8a2cf4be4c427c.props -preload openie\n",
      "Starting server with command: java -Xmx8G -cp C:\\Users\\nrjkh\\stanfordnlp_resources\\stanford-corenlp-full-2018-10-05/* edu.stanford.nlp.pipeline.StanfordCoreNLPServer -port 9000 -timeout 60000 -threads 5 -maxCharLength 100000 -quiet True -serverProperties corenlp_server-57f0e6aff18c4b9a.props -preload openie\n",
      "Starting server with command: java -Xmx8G -cp C:\\Users\\nrjkh\\stanfordnlp_resources\\stanford-corenlp-full-2018-10-05/* edu.stanford.nlp.pipeline.StanfordCoreNLPServer -port 9000 -timeout 60000 -threads 5 -maxCharLength 100000 -quiet True -serverProperties corenlp_server-e5b9b71b51144840.props -preload openie\n",
      "Starting server with command: java -Xmx8G -cp C:\\Users\\nrjkh\\stanfordnlp_resources\\stanford-corenlp-full-2018-10-05/* edu.stanford.nlp.pipeline.StanfordCoreNLPServer -port 9000 -timeout 60000 -threads 5 -maxCharLength 100000 -quiet True -serverProperties corenlp_server-0299ca6ef01b4b19.props -preload openie\n",
      "Starting server with command: java -Xmx8G -cp C:\\Users\\nrjkh\\stanfordnlp_resources\\stanford-corenlp-full-2018-10-05/* edu.stanford.nlp.pipeline.StanfordCoreNLPServer -port 9000 -timeout 60000 -threads 5 -maxCharLength 100000 -quiet True -serverProperties corenlp_server-2ce52ef34369475f.props -preload openie\n",
      "Starting server with command: java -Xmx8G -cp C:\\Users\\nrjkh\\stanfordnlp_resources\\stanford-corenlp-full-2018-10-05/* edu.stanford.nlp.pipeline.StanfordCoreNLPServer -port 9000 -timeout 60000 -threads 5 -maxCharLength 100000 -quiet True -serverProperties corenlp_server-40d2fd47dcf24b99.props -preload openie\n",
      "Starting server with command: java -Xmx8G -cp C:\\Users\\nrjkh\\stanfordnlp_resources\\stanford-corenlp-full-2018-10-05/* edu.stanford.nlp.pipeline.StanfordCoreNLPServer -port 9000 -timeout 60000 -threads 5 -maxCharLength 100000 -quiet True -serverProperties corenlp_server-400d6b425af244e1.props -preload openie\n",
      "Starting server with command: java -Xmx8G -cp C:\\Users\\nrjkh\\stanfordnlp_resources\\stanford-corenlp-full-2018-10-05/* edu.stanford.nlp.pipeline.StanfordCoreNLPServer -port 9000 -timeout 60000 -threads 5 -maxCharLength 100000 -quiet True -serverProperties corenlp_server-32cb81d03dc744cb.props -preload openie\n",
      "Starting server with command: java -Xmx8G -cp C:\\Users\\nrjkh\\stanfordnlp_resources\\stanford-corenlp-full-2018-10-05/* edu.stanford.nlp.pipeline.StanfordCoreNLPServer -port 9000 -timeout 60000 -threads 5 -maxCharLength 100000 -quiet True -serverProperties corenlp_server-309162fda7b9481d.props -preload openie\n",
      "Starting server with command: java -Xmx8G -cp C:\\Users\\nrjkh\\stanfordnlp_resources\\stanford-corenlp-full-2018-10-05/* edu.stanford.nlp.pipeline.StanfordCoreNLPServer -port 9000 -timeout 60000 -threads 5 -maxCharLength 100000 -quiet True -serverProperties corenlp_server-49fadc541efd4e59.props -preload openie\n",
      "Starting server with command: java -Xmx8G -cp C:\\Users\\nrjkh\\stanfordnlp_resources\\stanford-corenlp-full-2018-10-05/* edu.stanford.nlp.pipeline.StanfordCoreNLPServer -port 9000 -timeout 60000 -threads 5 -maxCharLength 100000 -quiet True -serverProperties corenlp_server-4b54607e4b084fa5.props -preload openie\n",
      "Starting server with command: java -Xmx8G -cp C:\\Users\\nrjkh\\stanfordnlp_resources\\stanford-corenlp-full-2018-10-05/* edu.stanford.nlp.pipeline.StanfordCoreNLPServer -port 9000 -timeout 60000 -threads 5 -maxCharLength 100000 -quiet True -serverProperties corenlp_server-de877902da724e10.props -preload openie\n",
      "Starting server with command: java -Xmx8G -cp C:\\Users\\nrjkh\\stanfordnlp_resources\\stanford-corenlp-full-2018-10-05/* edu.stanford.nlp.pipeline.StanfordCoreNLPServer -port 9000 -timeout 60000 -threads 5 -maxCharLength 100000 -quiet True -serverProperties corenlp_server-328ed0f36f274a68.props -preload openie\n",
      "Starting server with command: java -Xmx8G -cp C:\\Users\\nrjkh\\stanfordnlp_resources\\stanford-corenlp-full-2018-10-05/* edu.stanford.nlp.pipeline.StanfordCoreNLPServer -port 9000 -timeout 60000 -threads 5 -maxCharLength 100000 -quiet True -serverProperties corenlp_server-7bc4d16906bf499b.props -preload openie\n"
     ]
    },
    {
     "name": "stderr",
     "output_type": "stream",
     "text": [
      "Exception ignored in: <function StanfordOpenIE.__del__ at 0x000001BD3F065E58>\n",
      "Traceback (most recent call last):\n",
      "  File \"C:\\Users\\nrjkh\\anaconda3\\lib\\site-packages\\openie\\openie.py\", line 90, in __del__\n",
      "    del os.environ['CORENLP_HOME']\n",
      "  File \"C:\\Users\\nrjkh\\anaconda3\\lib\\os.py\", line 695, in __delitem__\n",
      "    raise KeyError(key) from None\n",
      "KeyError: 'CORENLP_HOME'\n"
     ]
    },
    {
     "name": "stdout",
     "output_type": "stream",
     "text": [
      "Starting server with command: java -Xmx8G -cp C:\\Users\\nrjkh\\stanfordnlp_resources\\stanford-corenlp-full-2018-10-05/* edu.stanford.nlp.pipeline.StanfordCoreNLPServer -port 9000 -timeout 60000 -threads 5 -maxCharLength 100000 -quiet True -serverProperties corenlp_server-4b4255b881704ebb.props -preload openie\n",
      "Starting server with command: java -Xmx8G -cp C:\\Users\\nrjkh\\stanfordnlp_resources\\stanford-corenlp-full-2018-10-05/* edu.stanford.nlp.pipeline.StanfordCoreNLPServer -port 9000 -timeout 60000 -threads 5 -maxCharLength 100000 -quiet True -serverProperties corenlp_server-bcd8bda68c7e4c63.props -preload openie\n",
      "Starting server with command: java -Xmx8G -cp C:\\Users\\nrjkh\\stanfordnlp_resources\\stanford-corenlp-full-2018-10-05/* edu.stanford.nlp.pipeline.StanfordCoreNLPServer -port 9000 -timeout 60000 -threads 5 -maxCharLength 100000 -quiet True -serverProperties corenlp_server-d2076c58ef8a4f5e.props -preload openie\n",
      "Starting server with command: java -Xmx8G -cp C:\\Users\\nrjkh\\stanfordnlp_resources\\stanford-corenlp-full-2018-10-05/* edu.stanford.nlp.pipeline.StanfordCoreNLPServer -port 9000 -timeout 60000 -threads 5 -maxCharLength 100000 -quiet True -serverProperties corenlp_server-4366829d4d4f449c.props -preload openie\n",
      "Starting server with command: java -Xmx8G -cp C:\\Users\\nrjkh\\stanfordnlp_resources\\stanford-corenlp-full-2018-10-05/* edu.stanford.nlp.pipeline.StanfordCoreNLPServer -port 9000 -timeout 60000 -threads 5 -maxCharLength 100000 -quiet True -serverProperties corenlp_server-82f751162e3e4b16.props -preload openie\n",
      "Starting server with command: java -Xmx8G -cp C:\\Users\\nrjkh\\stanfordnlp_resources\\stanford-corenlp-full-2018-10-05/* edu.stanford.nlp.pipeline.StanfordCoreNLPServer -port 9000 -timeout 60000 -threads 5 -maxCharLength 100000 -quiet True -serverProperties corenlp_server-5fc1939df5404e8c.props -preload openie\n",
      "Starting server with command: java -Xmx8G -cp C:\\Users\\nrjkh\\stanfordnlp_resources\\stanford-corenlp-full-2018-10-05/* edu.stanford.nlp.pipeline.StanfordCoreNLPServer -port 9000 -timeout 60000 -threads 5 -maxCharLength 100000 -quiet True -serverProperties corenlp_server-c2908e544f944c34.props -preload openie\n",
      "Starting server with command: java -Xmx8G -cp C:\\Users\\nrjkh\\stanfordnlp_resources\\stanford-corenlp-full-2018-10-05/* edu.stanford.nlp.pipeline.StanfordCoreNLPServer -port 9000 -timeout 60000 -threads 5 -maxCharLength 100000 -quiet True -serverProperties corenlp_server-c6339366c86d4d14.props -preload openie\n",
      "Starting server with command: java -Xmx8G -cp C:\\Users\\nrjkh\\stanfordnlp_resources\\stanford-corenlp-full-2018-10-05/* edu.stanford.nlp.pipeline.StanfordCoreNLPServer -port 9000 -timeout 60000 -threads 5 -maxCharLength 100000 -quiet True -serverProperties corenlp_server-24f9942d5e4547ca.props -preload openie\n",
      "Starting server with command: java -Xmx8G -cp C:\\Users\\nrjkh\\stanfordnlp_resources\\stanford-corenlp-full-2018-10-05/* edu.stanford.nlp.pipeline.StanfordCoreNLPServer -port 9000 -timeout 60000 -threads 5 -maxCharLength 100000 -quiet True -serverProperties corenlp_server-9e19f7f775d1451b.props -preload openie\n",
      "Starting server with command: java -Xmx8G -cp C:\\Users\\nrjkh\\stanfordnlp_resources\\stanford-corenlp-full-2018-10-05/* edu.stanford.nlp.pipeline.StanfordCoreNLPServer -port 9000 -timeout 60000 -threads 5 -maxCharLength 100000 -quiet True -serverProperties corenlp_server-b198e9167520405a.props -preload openie\n",
      "Starting server with command: java -Xmx8G -cp C:\\Users\\nrjkh\\stanfordnlp_resources\\stanford-corenlp-full-2018-10-05/* edu.stanford.nlp.pipeline.StanfordCoreNLPServer -port 9000 -timeout 60000 -threads 5 -maxCharLength 100000 -quiet True -serverProperties corenlp_server-911bbf78efda4970.props -preload openie\n",
      "Starting server with command: java -Xmx8G -cp C:\\Users\\nrjkh\\stanfordnlp_resources\\stanford-corenlp-full-2018-10-05/* edu.stanford.nlp.pipeline.StanfordCoreNLPServer -port 9000 -timeout 60000 -threads 5 -maxCharLength 100000 -quiet True -serverProperties corenlp_server-2c84079608c3407d.props -preload openie\n",
      "Starting server with command: java -Xmx8G -cp C:\\Users\\nrjkh\\stanfordnlp_resources\\stanford-corenlp-full-2018-10-05/* edu.stanford.nlp.pipeline.StanfordCoreNLPServer -port 9000 -timeout 60000 -threads 5 -maxCharLength 100000 -quiet True -serverProperties corenlp_server-bae29d516d8f4f3a.props -preload openie\n",
      "Starting server with command: java -Xmx8G -cp C:\\Users\\nrjkh\\stanfordnlp_resources\\stanford-corenlp-full-2018-10-05/* edu.stanford.nlp.pipeline.StanfordCoreNLPServer -port 9000 -timeout 60000 -threads 5 -maxCharLength 100000 -quiet True -serverProperties corenlp_server-64306e52c9ab435f.props -preload openie\n",
      "Starting server with command: java -Xmx8G -cp C:\\Users\\nrjkh\\stanfordnlp_resources\\stanford-corenlp-full-2018-10-05/* edu.stanford.nlp.pipeline.StanfordCoreNLPServer -port 9000 -timeout 60000 -threads 5 -maxCharLength 100000 -quiet True -serverProperties corenlp_server-958f959f47484453.props -preload openie\n",
      "Starting server with command: java -Xmx8G -cp C:\\Users\\nrjkh\\stanfordnlp_resources\\stanford-corenlp-full-2018-10-05/* edu.stanford.nlp.pipeline.StanfordCoreNLPServer -port 9000 -timeout 60000 -threads 5 -maxCharLength 100000 -quiet True -serverProperties corenlp_server-12b0e229973a4615.props -preload openie\n",
      "Starting server with command: java -Xmx8G -cp C:\\Users\\nrjkh\\stanfordnlp_resources\\stanford-corenlp-full-2018-10-05/* edu.stanford.nlp.pipeline.StanfordCoreNLPServer -port 9000 -timeout 60000 -threads 5 -maxCharLength 100000 -quiet True -serverProperties corenlp_server-c56d35b2fbef497d.props -preload openie\n",
      "Starting server with command: java -Xmx8G -cp C:\\Users\\nrjkh\\stanfordnlp_resources\\stanford-corenlp-full-2018-10-05/* edu.stanford.nlp.pipeline.StanfordCoreNLPServer -port 9000 -timeout 60000 -threads 5 -maxCharLength 100000 -quiet True -serverProperties corenlp_server-46b8909839964de0.props -preload openie\n",
      "Starting server with command: java -Xmx8G -cp C:\\Users\\nrjkh\\stanfordnlp_resources\\stanford-corenlp-full-2018-10-05/* edu.stanford.nlp.pipeline.StanfordCoreNLPServer -port 9000 -timeout 60000 -threads 5 -maxCharLength 100000 -quiet True -serverProperties corenlp_server-8861170021754df4.props -preload openie\n",
      "Starting server with command: java -Xmx8G -cp C:\\Users\\nrjkh\\stanfordnlp_resources\\stanford-corenlp-full-2018-10-05/* edu.stanford.nlp.pipeline.StanfordCoreNLPServer -port 9000 -timeout 60000 -threads 5 -maxCharLength 100000 -quiet True -serverProperties corenlp_server-7f3e178a64904bf7.props -preload openie\n",
      "Starting server with command: java -Xmx8G -cp C:\\Users\\nrjkh\\stanfordnlp_resources\\stanford-corenlp-full-2018-10-05/* edu.stanford.nlp.pipeline.StanfordCoreNLPServer -port 9000 -timeout 60000 -threads 5 -maxCharLength 100000 -quiet True -serverProperties corenlp_server-c1e8785f546b485d.props -preload openie\n",
      "Starting server with command: java -Xmx8G -cp C:\\Users\\nrjkh\\stanfordnlp_resources\\stanford-corenlp-full-2018-10-05/* edu.stanford.nlp.pipeline.StanfordCoreNLPServer -port 9000 -timeout 60000 -threads 5 -maxCharLength 100000 -quiet True -serverProperties corenlp_server-a6a3746bc7304311.props -preload openie\n",
      "Starting server with command: java -Xmx8G -cp C:\\Users\\nrjkh\\stanfordnlp_resources\\stanford-corenlp-full-2018-10-05/* edu.stanford.nlp.pipeline.StanfordCoreNLPServer -port 9000 -timeout 60000 -threads 5 -maxCharLength 100000 -quiet True -serverProperties corenlp_server-728f7538a0fe469d.props -preload openie\n",
      "Starting server with command: java -Xmx8G -cp C:\\Users\\nrjkh\\stanfordnlp_resources\\stanford-corenlp-full-2018-10-05/* edu.stanford.nlp.pipeline.StanfordCoreNLPServer -port 9000 -timeout 60000 -threads 5 -maxCharLength 100000 -quiet True -serverProperties corenlp_server-d77a503ebb314005.props -preload openie\n",
      "Starting server with command: java -Xmx8G -cp C:\\Users\\nrjkh\\stanfordnlp_resources\\stanford-corenlp-full-2018-10-05/* edu.stanford.nlp.pipeline.StanfordCoreNLPServer -port 9000 -timeout 60000 -threads 5 -maxCharLength 100000 -quiet True -serverProperties corenlp_server-a672ca2b04b246aa.props -preload openie\n",
      "Starting server with command: java -Xmx8G -cp C:\\Users\\nrjkh\\stanfordnlp_resources\\stanford-corenlp-full-2018-10-05/* edu.stanford.nlp.pipeline.StanfordCoreNLPServer -port 9000 -timeout 60000 -threads 5 -maxCharLength 100000 -quiet True -serverProperties corenlp_server-7bb6a71a44a241ad.props -preload openie\n"
     ]
    },
    {
     "name": "stdout",
     "output_type": "stream",
     "text": [
      "Starting server with command: java -Xmx8G -cp C:\\Users\\nrjkh\\stanfordnlp_resources\\stanford-corenlp-full-2018-10-05/* edu.stanford.nlp.pipeline.StanfordCoreNLPServer -port 9000 -timeout 60000 -threads 5 -maxCharLength 100000 -quiet True -serverProperties corenlp_server-d9743b7b5b8a4ef7.props -preload openie\n",
      "Starting server with command: java -Xmx8G -cp C:\\Users\\nrjkh\\stanfordnlp_resources\\stanford-corenlp-full-2018-10-05/* edu.stanford.nlp.pipeline.StanfordCoreNLPServer -port 9000 -timeout 60000 -threads 5 -maxCharLength 100000 -quiet True -serverProperties corenlp_server-b9eba4b021264afd.props -preload openie\n",
      "Starting server with command: java -Xmx8G -cp C:\\Users\\nrjkh\\stanfordnlp_resources\\stanford-corenlp-full-2018-10-05/* edu.stanford.nlp.pipeline.StanfordCoreNLPServer -port 9000 -timeout 60000 -threads 5 -maxCharLength 100000 -quiet True -serverProperties corenlp_server-a2e87266c4ca4611.props -preload openie\n",
      "Starting server with command: java -Xmx8G -cp C:\\Users\\nrjkh\\stanfordnlp_resources\\stanford-corenlp-full-2018-10-05/* edu.stanford.nlp.pipeline.StanfordCoreNLPServer -port 9000 -timeout 60000 -threads 5 -maxCharLength 100000 -quiet True -serverProperties corenlp_server-2475af03a67d4c94.props -preload openie\n",
      "Starting server with command: java -Xmx8G -cp C:\\Users\\nrjkh\\stanfordnlp_resources\\stanford-corenlp-full-2018-10-05/* edu.stanford.nlp.pipeline.StanfordCoreNLPServer -port 9000 -timeout 60000 -threads 5 -maxCharLength 100000 -quiet True -serverProperties corenlp_server-705ad1483de9434d.props -preload openie\n",
      "Starting server with command: java -Xmx8G -cp C:\\Users\\nrjkh\\stanfordnlp_resources\\stanford-corenlp-full-2018-10-05/* edu.stanford.nlp.pipeline.StanfordCoreNLPServer -port 9000 -timeout 60000 -threads 5 -maxCharLength 100000 -quiet True -serverProperties corenlp_server-7a091b2c228f47a4.props -preload openie\n",
      "Starting server with command: java -Xmx8G -cp C:\\Users\\nrjkh\\stanfordnlp_resources\\stanford-corenlp-full-2018-10-05/* edu.stanford.nlp.pipeline.StanfordCoreNLPServer -port 9000 -timeout 60000 -threads 5 -maxCharLength 100000 -quiet True -serverProperties corenlp_server-bed6bfeb822c47cf.props -preload openie\n",
      "Starting server with command: java -Xmx8G -cp C:\\Users\\nrjkh\\stanfordnlp_resources\\stanford-corenlp-full-2018-10-05/* edu.stanford.nlp.pipeline.StanfordCoreNLPServer -port 9000 -timeout 60000 -threads 5 -maxCharLength 100000 -quiet True -serverProperties corenlp_server-2178f27049f348ac.props -preload openie\n"
     ]
    },
    {
     "name": "stderr",
     "output_type": "stream",
     "text": [
      "Exception ignored in: <function StanfordOpenIE.__del__ at 0x000001BD3F065E58>\n",
      "Traceback (most recent call last):\n",
      "  File \"C:\\Users\\nrjkh\\anaconda3\\lib\\site-packages\\openie\\openie.py\", line 90, in __del__\n",
      "    del os.environ['CORENLP_HOME']\n",
      "  File \"C:\\Users\\nrjkh\\anaconda3\\lib\\os.py\", line 695, in __delitem__\n",
      "    raise KeyError(key) from None\n",
      "KeyError: 'CORENLP_HOME'\n"
     ]
    },
    {
     "name": "stdout",
     "output_type": "stream",
     "text": [
      "Starting server with command: java -Xmx8G -cp C:\\Users\\nrjkh\\stanfordnlp_resources\\stanford-corenlp-full-2018-10-05/* edu.stanford.nlp.pipeline.StanfordCoreNLPServer -port 9000 -timeout 60000 -threads 5 -maxCharLength 100000 -quiet True -serverProperties corenlp_server-f65a89725bfe4945.props -preload openie\n",
      "Starting server with command: java -Xmx8G -cp C:\\Users\\nrjkh\\stanfordnlp_resources\\stanford-corenlp-full-2018-10-05/* edu.stanford.nlp.pipeline.StanfordCoreNLPServer -port 9000 -timeout 60000 -threads 5 -maxCharLength 100000 -quiet True -serverProperties corenlp_server-6e0de553a22e4901.props -preload openie\n",
      "Starting server with command: java -Xmx8G -cp C:\\Users\\nrjkh\\stanfordnlp_resources\\stanford-corenlp-full-2018-10-05/* edu.stanford.nlp.pipeline.StanfordCoreNLPServer -port 9000 -timeout 60000 -threads 5 -maxCharLength 100000 -quiet True -serverProperties corenlp_server-e645cfae027d46d2.props -preload openie\n",
      "Starting server with command: java -Xmx8G -cp C:\\Users\\nrjkh\\stanfordnlp_resources\\stanford-corenlp-full-2018-10-05/* edu.stanford.nlp.pipeline.StanfordCoreNLPServer -port 9000 -timeout 60000 -threads 5 -maxCharLength 100000 -quiet True -serverProperties corenlp_server-6e0a385aaab9482a.props -preload openie\n",
      "Starting server with command: java -Xmx8G -cp C:\\Users\\nrjkh\\stanfordnlp_resources\\stanford-corenlp-full-2018-10-05/* edu.stanford.nlp.pipeline.StanfordCoreNLPServer -port 9000 -timeout 60000 -threads 5 -maxCharLength 100000 -quiet True -serverProperties corenlp_server-6a4a924dfc204eb1.props -preload openie\n",
      "Starting server with command: java -Xmx8G -cp C:\\Users\\nrjkh\\stanfordnlp_resources\\stanford-corenlp-full-2018-10-05/* edu.stanford.nlp.pipeline.StanfordCoreNLPServer -port 9000 -timeout 60000 -threads 5 -maxCharLength 100000 -quiet True -serverProperties corenlp_server-2efdfbf9caad4e47.props -preload openie\n",
      "Starting server with command: java -Xmx8G -cp C:\\Users\\nrjkh\\stanfordnlp_resources\\stanford-corenlp-full-2018-10-05/* edu.stanford.nlp.pipeline.StanfordCoreNLPServer -port 9000 -timeout 60000 -threads 5 -maxCharLength 100000 -quiet True -serverProperties corenlp_server-7677b9ae42004aa3.props -preload openie\n",
      "Starting server with command: java -Xmx8G -cp C:\\Users\\nrjkh\\stanfordnlp_resources\\stanford-corenlp-full-2018-10-05/* edu.stanford.nlp.pipeline.StanfordCoreNLPServer -port 9000 -timeout 60000 -threads 5 -maxCharLength 100000 -quiet True -serverProperties corenlp_server-baa3f9b852394682.props -preload openie\n",
      "Starting server with command: java -Xmx8G -cp C:\\Users\\nrjkh\\stanfordnlp_resources\\stanford-corenlp-full-2018-10-05/* edu.stanford.nlp.pipeline.StanfordCoreNLPServer -port 9000 -timeout 60000 -threads 5 -maxCharLength 100000 -quiet True -serverProperties corenlp_server-4063052ebec34237.props -preload openie\n",
      "Starting server with command: java -Xmx8G -cp C:\\Users\\nrjkh\\stanfordnlp_resources\\stanford-corenlp-full-2018-10-05/* edu.stanford.nlp.pipeline.StanfordCoreNLPServer -port 9000 -timeout 60000 -threads 5 -maxCharLength 100000 -quiet True -serverProperties corenlp_server-7f9f46b6aee74ca4.props -preload openie\n",
      "Starting server with command: java -Xmx8G -cp C:\\Users\\nrjkh\\stanfordnlp_resources\\stanford-corenlp-full-2018-10-05/* edu.stanford.nlp.pipeline.StanfordCoreNLPServer -port 9000 -timeout 60000 -threads 5 -maxCharLength 100000 -quiet True -serverProperties corenlp_server-6b259e2c8cff4354.props -preload openie\n",
      "Starting server with command: java -Xmx8G -cp C:\\Users\\nrjkh\\stanfordnlp_resources\\stanford-corenlp-full-2018-10-05/* edu.stanford.nlp.pipeline.StanfordCoreNLPServer -port 9000 -timeout 60000 -threads 5 -maxCharLength 100000 -quiet True -serverProperties corenlp_server-9b3de1cce4774a16.props -preload openie\n",
      "Starting server with command: java -Xmx8G -cp C:\\Users\\nrjkh\\stanfordnlp_resources\\stanford-corenlp-full-2018-10-05/* edu.stanford.nlp.pipeline.StanfordCoreNLPServer -port 9000 -timeout 60000 -threads 5 -maxCharLength 100000 -quiet True -serverProperties corenlp_server-4590fc5c16314c79.props -preload openie\n",
      "Starting server with command: java -Xmx8G -cp C:\\Users\\nrjkh\\stanfordnlp_resources\\stanford-corenlp-full-2018-10-05/* edu.stanford.nlp.pipeline.StanfordCoreNLPServer -port 9000 -timeout 60000 -threads 5 -maxCharLength 100000 -quiet True -serverProperties corenlp_server-50476065356f4b30.props -preload openie\n",
      "Starting server with command: java -Xmx8G -cp C:\\Users\\nrjkh\\stanfordnlp_resources\\stanford-corenlp-full-2018-10-05/* edu.stanford.nlp.pipeline.StanfordCoreNLPServer -port 9000 -timeout 60000 -threads 5 -maxCharLength 100000 -quiet True -serverProperties corenlp_server-3ee36c24808b40dd.props -preload openie\n",
      "Starting server with command: java -Xmx8G -cp C:\\Users\\nrjkh\\stanfordnlp_resources\\stanford-corenlp-full-2018-10-05/* edu.stanford.nlp.pipeline.StanfordCoreNLPServer -port 9000 -timeout 60000 -threads 5 -maxCharLength 100000 -quiet True -serverProperties corenlp_server-8551e48e5aa84861.props -preload openie\n",
      "Starting server with command: java -Xmx8G -cp C:\\Users\\nrjkh\\stanfordnlp_resources\\stanford-corenlp-full-2018-10-05/* edu.stanford.nlp.pipeline.StanfordCoreNLPServer -port 9000 -timeout 60000 -threads 5 -maxCharLength 100000 -quiet True -serverProperties corenlp_server-9d3a0e35351f4be5.props -preload openie\n",
      "Starting server with command: java -Xmx8G -cp C:\\Users\\nrjkh\\stanfordnlp_resources\\stanford-corenlp-full-2018-10-05/* edu.stanford.nlp.pipeline.StanfordCoreNLPServer -port 9000 -timeout 60000 -threads 5 -maxCharLength 100000 -quiet True -serverProperties corenlp_server-350fd55746cb4f22.props -preload openie\n",
      "Starting server with command: java -Xmx8G -cp C:\\Users\\nrjkh\\stanfordnlp_resources\\stanford-corenlp-full-2018-10-05/* edu.stanford.nlp.pipeline.StanfordCoreNLPServer -port 9000 -timeout 60000 -threads 5 -maxCharLength 100000 -quiet True -serverProperties corenlp_server-380eee2de06a42f6.props -preload openie\n",
      "Starting server with command: java -Xmx8G -cp C:\\Users\\nrjkh\\stanfordnlp_resources\\stanford-corenlp-full-2018-10-05/* edu.stanford.nlp.pipeline.StanfordCoreNLPServer -port 9000 -timeout 60000 -threads 5 -maxCharLength 100000 -quiet True -serverProperties corenlp_server-cf0237d31d3044d2.props -preload openie\n",
      "Starting server with command: java -Xmx8G -cp C:\\Users\\nrjkh\\stanfordnlp_resources\\stanford-corenlp-full-2018-10-05/* edu.stanford.nlp.pipeline.StanfordCoreNLPServer -port 9000 -timeout 60000 -threads 5 -maxCharLength 100000 -quiet True -serverProperties corenlp_server-b68466e18cd14a9f.props -preload openie\n",
      "Starting server with command: java -Xmx8G -cp C:\\Users\\nrjkh\\stanfordnlp_resources\\stanford-corenlp-full-2018-10-05/* edu.stanford.nlp.pipeline.StanfordCoreNLPServer -port 9000 -timeout 60000 -threads 5 -maxCharLength 100000 -quiet True -serverProperties corenlp_server-1f139764ca284606.props -preload openie\n",
      "Starting server with command: java -Xmx8G -cp C:\\Users\\nrjkh\\stanfordnlp_resources\\stanford-corenlp-full-2018-10-05/* edu.stanford.nlp.pipeline.StanfordCoreNLPServer -port 9000 -timeout 60000 -threads 5 -maxCharLength 100000 -quiet True -serverProperties corenlp_server-578a9900997345c9.props -preload openie\n",
      "Starting server with command: java -Xmx8G -cp C:\\Users\\nrjkh\\stanfordnlp_resources\\stanford-corenlp-full-2018-10-05/* edu.stanford.nlp.pipeline.StanfordCoreNLPServer -port 9000 -timeout 60000 -threads 5 -maxCharLength 100000 -quiet True -serverProperties corenlp_server-5987dd55f1d64098.props -preload openie\n",
      "Starting server with command: java -Xmx8G -cp C:\\Users\\nrjkh\\stanfordnlp_resources\\stanford-corenlp-full-2018-10-05/* edu.stanford.nlp.pipeline.StanfordCoreNLPServer -port 9000 -timeout 60000 -threads 5 -maxCharLength 100000 -quiet True -serverProperties corenlp_server-76dc50ea1f9a4e4a.props -preload openie\n",
      "Starting server with command: java -Xmx8G -cp C:\\Users\\nrjkh\\stanfordnlp_resources\\stanford-corenlp-full-2018-10-05/* edu.stanford.nlp.pipeline.StanfordCoreNLPServer -port 9000 -timeout 60000 -threads 5 -maxCharLength 100000 -quiet True -serverProperties corenlp_server-ec6c8c6790b84693.props -preload openie\n",
      "Starting server with command: java -Xmx8G -cp C:\\Users\\nrjkh\\stanfordnlp_resources\\stanford-corenlp-full-2018-10-05/* edu.stanford.nlp.pipeline.StanfordCoreNLPServer -port 9000 -timeout 60000 -threads 5 -maxCharLength 100000 -quiet True -serverProperties corenlp_server-b6fc1fe9b67143e6.props -preload openie\n"
     ]
    },
    {
     "name": "stdout",
     "output_type": "stream",
     "text": [
      "Starting server with command: java -Xmx8G -cp C:\\Users\\nrjkh\\stanfordnlp_resources\\stanford-corenlp-full-2018-10-05/* edu.stanford.nlp.pipeline.StanfordCoreNLPServer -port 9000 -timeout 60000 -threads 5 -maxCharLength 100000 -quiet True -serverProperties corenlp_server-5daa2a067e114bc8.props -preload openie\n",
      "Starting server with command: java -Xmx8G -cp C:\\Users\\nrjkh\\stanfordnlp_resources\\stanford-corenlp-full-2018-10-05/* edu.stanford.nlp.pipeline.StanfordCoreNLPServer -port 9000 -timeout 60000 -threads 5 -maxCharLength 100000 -quiet True -serverProperties corenlp_server-5e625aed37ae4a75.props -preload openie\n",
      "Starting server with command: java -Xmx8G -cp C:\\Users\\nrjkh\\stanfordnlp_resources\\stanford-corenlp-full-2018-10-05/* edu.stanford.nlp.pipeline.StanfordCoreNLPServer -port 9000 -timeout 60000 -threads 5 -maxCharLength 100000 -quiet True -serverProperties corenlp_server-90b47f8e709c464a.props -preload openie\n",
      "Starting server with command: java -Xmx8G -cp C:\\Users\\nrjkh\\stanfordnlp_resources\\stanford-corenlp-full-2018-10-05/* edu.stanford.nlp.pipeline.StanfordCoreNLPServer -port 9000 -timeout 60000 -threads 5 -maxCharLength 100000 -quiet True -serverProperties corenlp_server-f198ef02032c4608.props -preload openie\n",
      "Starting server with command: java -Xmx8G -cp C:\\Users\\nrjkh\\stanfordnlp_resources\\stanford-corenlp-full-2018-10-05/* edu.stanford.nlp.pipeline.StanfordCoreNLPServer -port 9000 -timeout 60000 -threads 5 -maxCharLength 100000 -quiet True -serverProperties corenlp_server-c6aaa5aea12f40ed.props -preload openie\n",
      "Starting server with command: java -Xmx8G -cp C:\\Users\\nrjkh\\stanfordnlp_resources\\stanford-corenlp-full-2018-10-05/* edu.stanford.nlp.pipeline.StanfordCoreNLPServer -port 9000 -timeout 60000 -threads 5 -maxCharLength 100000 -quiet True -serverProperties corenlp_server-fd6a98e1000d4903.props -preload openie\n",
      "Starting server with command: java -Xmx8G -cp C:\\Users\\nrjkh\\stanfordnlp_resources\\stanford-corenlp-full-2018-10-05/* edu.stanford.nlp.pipeline.StanfordCoreNLPServer -port 9000 -timeout 60000 -threads 5 -maxCharLength 100000 -quiet True -serverProperties corenlp_server-f1b3f9f0d3f44fe7.props -preload openie\n",
      "Starting server with command: java -Xmx8G -cp C:\\Users\\nrjkh\\stanfordnlp_resources\\stanford-corenlp-full-2018-10-05/* edu.stanford.nlp.pipeline.StanfordCoreNLPServer -port 9000 -timeout 60000 -threads 5 -maxCharLength 100000 -quiet True -serverProperties corenlp_server-37d21466ac6342ce.props -preload openie\n",
      "Starting server with command: java -Xmx8G -cp C:\\Users\\nrjkh\\stanfordnlp_resources\\stanford-corenlp-full-2018-10-05/* edu.stanford.nlp.pipeline.StanfordCoreNLPServer -port 9000 -timeout 60000 -threads 5 -maxCharLength 100000 -quiet True -serverProperties corenlp_server-5fe2a71bd030405d.props -preload openie\n",
      "Starting server with command: java -Xmx8G -cp C:\\Users\\nrjkh\\stanfordnlp_resources\\stanford-corenlp-full-2018-10-05/* edu.stanford.nlp.pipeline.StanfordCoreNLPServer -port 9000 -timeout 60000 -threads 5 -maxCharLength 100000 -quiet True -serverProperties corenlp_server-7acd585a81fb4291.props -preload openie\n",
      "Starting server with command: java -Xmx8G -cp C:\\Users\\nrjkh\\stanfordnlp_resources\\stanford-corenlp-full-2018-10-05/* edu.stanford.nlp.pipeline.StanfordCoreNLPServer -port 9000 -timeout 60000 -threads 5 -maxCharLength 100000 -quiet True -serverProperties corenlp_server-a11fbf4b67514589.props -preload openie\n",
      "Starting server with command: java -Xmx8G -cp C:\\Users\\nrjkh\\stanfordnlp_resources\\stanford-corenlp-full-2018-10-05/* edu.stanford.nlp.pipeline.StanfordCoreNLPServer -port 9000 -timeout 60000 -threads 5 -maxCharLength 100000 -quiet True -serverProperties corenlp_server-649d6b7630e042f9.props -preload openie\n",
      "Starting server with command: java -Xmx8G -cp C:\\Users\\nrjkh\\stanfordnlp_resources\\stanford-corenlp-full-2018-10-05/* edu.stanford.nlp.pipeline.StanfordCoreNLPServer -port 9000 -timeout 60000 -threads 5 -maxCharLength 100000 -quiet True -serverProperties corenlp_server-a347ddb3c30e4ffa.props -preload openie\n",
      "Starting server with command: java -Xmx8G -cp C:\\Users\\nrjkh\\stanfordnlp_resources\\stanford-corenlp-full-2018-10-05/* edu.stanford.nlp.pipeline.StanfordCoreNLPServer -port 9000 -timeout 60000 -threads 5 -maxCharLength 100000 -quiet True -serverProperties corenlp_server-c91f5d4a8fa24d9a.props -preload openie\n",
      "Starting server with command: java -Xmx8G -cp C:\\Users\\nrjkh\\stanfordnlp_resources\\stanford-corenlp-full-2018-10-05/* edu.stanford.nlp.pipeline.StanfordCoreNLPServer -port 9000 -timeout 60000 -threads 5 -maxCharLength 100000 -quiet True -serverProperties corenlp_server-dd9746874fcc48ba.props -preload openie\n",
      "Starting server with command: java -Xmx8G -cp C:\\Users\\nrjkh\\stanfordnlp_resources\\stanford-corenlp-full-2018-10-05/* edu.stanford.nlp.pipeline.StanfordCoreNLPServer -port 9000 -timeout 60000 -threads 5 -maxCharLength 100000 -quiet True -serverProperties corenlp_server-c1a529ceed964479.props -preload openie\n",
      "Starting server with command: java -Xmx8G -cp C:\\Users\\nrjkh\\stanfordnlp_resources\\stanford-corenlp-full-2018-10-05/* edu.stanford.nlp.pipeline.StanfordCoreNLPServer -port 9000 -timeout 60000 -threads 5 -maxCharLength 100000 -quiet True -serverProperties corenlp_server-ed36eb1f9d264d10.props -preload openie\n"
     ]
    },
    {
     "name": "stderr",
     "output_type": "stream",
     "text": [
      "Exception ignored in: <function StanfordOpenIE.__del__ at 0x000001BD3F065E58>\n",
      "Traceback (most recent call last):\n",
      "  File \"C:\\Users\\nrjkh\\anaconda3\\lib\\site-packages\\openie\\openie.py\", line 90, in __del__\n",
      "    del os.environ['CORENLP_HOME']\n",
      "  File \"C:\\Users\\nrjkh\\anaconda3\\lib\\os.py\", line 695, in __delitem__\n",
      "    raise KeyError(key) from None\n",
      "KeyError: 'CORENLP_HOME'\n"
     ]
    },
    {
     "name": "stdout",
     "output_type": "stream",
     "text": [
      "Starting server with command: java -Xmx8G -cp C:\\Users\\nrjkh\\stanfordnlp_resources\\stanford-corenlp-full-2018-10-05/* edu.stanford.nlp.pipeline.StanfordCoreNLPServer -port 9000 -timeout 60000 -threads 5 -maxCharLength 100000 -quiet True -serverProperties corenlp_server-e67fd71712d9491d.props -preload openie\n",
      "Starting server with command: java -Xmx8G -cp C:\\Users\\nrjkh\\stanfordnlp_resources\\stanford-corenlp-full-2018-10-05/* edu.stanford.nlp.pipeline.StanfordCoreNLPServer -port 9000 -timeout 60000 -threads 5 -maxCharLength 100000 -quiet True -serverProperties corenlp_server-4b6fe3889e25447d.props -preload openie\n",
      "Starting server with command: java -Xmx8G -cp C:\\Users\\nrjkh\\stanfordnlp_resources\\stanford-corenlp-full-2018-10-05/* edu.stanford.nlp.pipeline.StanfordCoreNLPServer -port 9000 -timeout 60000 -threads 5 -maxCharLength 100000 -quiet True -serverProperties corenlp_server-5cf9f82b5b824e1c.props -preload openie\n",
      "Starting server with command: java -Xmx8G -cp C:\\Users\\nrjkh\\stanfordnlp_resources\\stanford-corenlp-full-2018-10-05/* edu.stanford.nlp.pipeline.StanfordCoreNLPServer -port 9000 -timeout 60000 -threads 5 -maxCharLength 100000 -quiet True -serverProperties corenlp_server-c86bc03c3e024879.props -preload openie\n",
      "Starting server with command: java -Xmx8G -cp C:\\Users\\nrjkh\\stanfordnlp_resources\\stanford-corenlp-full-2018-10-05/* edu.stanford.nlp.pipeline.StanfordCoreNLPServer -port 9000 -timeout 60000 -threads 5 -maxCharLength 100000 -quiet True -serverProperties corenlp_server-bb8b7caddabb4344.props -preload openie\n",
      "Starting server with command: java -Xmx8G -cp C:\\Users\\nrjkh\\stanfordnlp_resources\\stanford-corenlp-full-2018-10-05/* edu.stanford.nlp.pipeline.StanfordCoreNLPServer -port 9000 -timeout 60000 -threads 5 -maxCharLength 100000 -quiet True -serverProperties corenlp_server-5210aba3b84146e1.props -preload openie\n",
      "Starting server with command: java -Xmx8G -cp C:\\Users\\nrjkh\\stanfordnlp_resources\\stanford-corenlp-full-2018-10-05/* edu.stanford.nlp.pipeline.StanfordCoreNLPServer -port 9000 -timeout 60000 -threads 5 -maxCharLength 100000 -quiet True -serverProperties corenlp_server-eae1a917aba94b13.props -preload openie\n",
      "Starting server with command: java -Xmx8G -cp C:\\Users\\nrjkh\\stanfordnlp_resources\\stanford-corenlp-full-2018-10-05/* edu.stanford.nlp.pipeline.StanfordCoreNLPServer -port 9000 -timeout 60000 -threads 5 -maxCharLength 100000 -quiet True -serverProperties corenlp_server-99b8cccb6275432b.props -preload openie\n",
      "Starting server with command: java -Xmx8G -cp C:\\Users\\nrjkh\\stanfordnlp_resources\\stanford-corenlp-full-2018-10-05/* edu.stanford.nlp.pipeline.StanfordCoreNLPServer -port 9000 -timeout 60000 -threads 5 -maxCharLength 100000 -quiet True -serverProperties corenlp_server-65c8747f33204cc0.props -preload openie\n",
      "Starting server with command: java -Xmx8G -cp C:\\Users\\nrjkh\\stanfordnlp_resources\\stanford-corenlp-full-2018-10-05/* edu.stanford.nlp.pipeline.StanfordCoreNLPServer -port 9000 -timeout 60000 -threads 5 -maxCharLength 100000 -quiet True -serverProperties corenlp_server-fbf461ecbf4542a6.props -preload openie\n",
      "Starting server with command: java -Xmx8G -cp C:\\Users\\nrjkh\\stanfordnlp_resources\\stanford-corenlp-full-2018-10-05/* edu.stanford.nlp.pipeline.StanfordCoreNLPServer -port 9000 -timeout 60000 -threads 5 -maxCharLength 100000 -quiet True -serverProperties corenlp_server-d4be2247c2d141fc.props -preload openie\n",
      "Starting server with command: java -Xmx8G -cp C:\\Users\\nrjkh\\stanfordnlp_resources\\stanford-corenlp-full-2018-10-05/* edu.stanford.nlp.pipeline.StanfordCoreNLPServer -port 9000 -timeout 60000 -threads 5 -maxCharLength 100000 -quiet True -serverProperties corenlp_server-546dfd9b04134ce0.props -preload openie\n",
      "Starting server with command: java -Xmx8G -cp C:\\Users\\nrjkh\\stanfordnlp_resources\\stanford-corenlp-full-2018-10-05/* edu.stanford.nlp.pipeline.StanfordCoreNLPServer -port 9000 -timeout 60000 -threads 5 -maxCharLength 100000 -quiet True -serverProperties corenlp_server-9ba165f1411c4c63.props -preload openie\n",
      "Starting server with command: java -Xmx8G -cp C:\\Users\\nrjkh\\stanfordnlp_resources\\stanford-corenlp-full-2018-10-05/* edu.stanford.nlp.pipeline.StanfordCoreNLPServer -port 9000 -timeout 60000 -threads 5 -maxCharLength 100000 -quiet True -serverProperties corenlp_server-7c7e58bfaf4f4e00.props -preload openie\n",
      "Starting server with command: java -Xmx8G -cp C:\\Users\\nrjkh\\stanfordnlp_resources\\stanford-corenlp-full-2018-10-05/* edu.stanford.nlp.pipeline.StanfordCoreNLPServer -port 9000 -timeout 60000 -threads 5 -maxCharLength 100000 -quiet True -serverProperties corenlp_server-a4f238a2ba844d3a.props -preload openie\n",
      "Starting server with command: java -Xmx8G -cp C:\\Users\\nrjkh\\stanfordnlp_resources\\stanford-corenlp-full-2018-10-05/* edu.stanford.nlp.pipeline.StanfordCoreNLPServer -port 9000 -timeout 60000 -threads 5 -maxCharLength 100000 -quiet True -serverProperties corenlp_server-ce45d0f2a5f14069.props -preload openie\n",
      "Starting server with command: java -Xmx8G -cp C:\\Users\\nrjkh\\stanfordnlp_resources\\stanford-corenlp-full-2018-10-05/* edu.stanford.nlp.pipeline.StanfordCoreNLPServer -port 9000 -timeout 60000 -threads 5 -maxCharLength 100000 -quiet True -serverProperties corenlp_server-bc5e55319a0e403e.props -preload openie\n",
      "Starting server with command: java -Xmx8G -cp C:\\Users\\nrjkh\\stanfordnlp_resources\\stanford-corenlp-full-2018-10-05/* edu.stanford.nlp.pipeline.StanfordCoreNLPServer -port 9000 -timeout 60000 -threads 5 -maxCharLength 100000 -quiet True -serverProperties corenlp_server-38cc025fb063489c.props -preload openie\n",
      "Starting server with command: java -Xmx8G -cp C:\\Users\\nrjkh\\stanfordnlp_resources\\stanford-corenlp-full-2018-10-05/* edu.stanford.nlp.pipeline.StanfordCoreNLPServer -port 9000 -timeout 60000 -threads 5 -maxCharLength 100000 -quiet True -serverProperties corenlp_server-19e2e3fc8a5143f4.props -preload openie\n"
     ]
    },
    {
     "name": "stderr",
     "output_type": "stream",
     "text": [
      "Exception ignored in: <function StanfordOpenIE.__del__ at 0x000001BD3F065E58>\n",
      "Traceback (most recent call last):\n",
      "  File \"C:\\Users\\nrjkh\\anaconda3\\lib\\site-packages\\openie\\openie.py\", line 90, in __del__\n",
      "    del os.environ['CORENLP_HOME']\n",
      "  File \"C:\\Users\\nrjkh\\anaconda3\\lib\\os.py\", line 695, in __delitem__\n",
      "    raise KeyError(key) from None\n",
      "KeyError: 'CORENLP_HOME'\n"
     ]
    },
    {
     "name": "stdout",
     "output_type": "stream",
     "text": [
      "Starting server with command: java -Xmx8G -cp C:\\Users\\nrjkh\\stanfordnlp_resources\\stanford-corenlp-full-2018-10-05/* edu.stanford.nlp.pipeline.StanfordCoreNLPServer -port 9000 -timeout 60000 -threads 5 -maxCharLength 100000 -quiet True -serverProperties corenlp_server-262d716c7fae4c7d.props -preload openie\n",
      "Starting server with command: java -Xmx8G -cp C:\\Users\\nrjkh\\stanfordnlp_resources\\stanford-corenlp-full-2018-10-05/* edu.stanford.nlp.pipeline.StanfordCoreNLPServer -port 9000 -timeout 60000 -threads 5 -maxCharLength 100000 -quiet True -serverProperties corenlp_server-52e8527032f049ab.props -preload openie\n",
      "Starting server with command: java -Xmx8G -cp C:\\Users\\nrjkh\\stanfordnlp_resources\\stanford-corenlp-full-2018-10-05/* edu.stanford.nlp.pipeline.StanfordCoreNLPServer -port 9000 -timeout 60000 -threads 5 -maxCharLength 100000 -quiet True -serverProperties corenlp_server-ed4643d40aa44616.props -preload openie\n",
      "Starting server with command: java -Xmx8G -cp C:\\Users\\nrjkh\\stanfordnlp_resources\\stanford-corenlp-full-2018-10-05/* edu.stanford.nlp.pipeline.StanfordCoreNLPServer -port 9000 -timeout 60000 -threads 5 -maxCharLength 100000 -quiet True -serverProperties corenlp_server-247d5482ddec4255.props -preload openie\n",
      "Starting server with command: java -Xmx8G -cp C:\\Users\\nrjkh\\stanfordnlp_resources\\stanford-corenlp-full-2018-10-05/* edu.stanford.nlp.pipeline.StanfordCoreNLPServer -port 9000 -timeout 60000 -threads 5 -maxCharLength 100000 -quiet True -serverProperties corenlp_server-733e6a61f63c4c72.props -preload openie\n",
      "Starting server with command: java -Xmx8G -cp C:\\Users\\nrjkh\\stanfordnlp_resources\\stanford-corenlp-full-2018-10-05/* edu.stanford.nlp.pipeline.StanfordCoreNLPServer -port 9000 -timeout 60000 -threads 5 -maxCharLength 100000 -quiet True -serverProperties corenlp_server-5ea2278b41a24a25.props -preload openie\n",
      "Starting server with command: java -Xmx8G -cp C:\\Users\\nrjkh\\stanfordnlp_resources\\stanford-corenlp-full-2018-10-05/* edu.stanford.nlp.pipeline.StanfordCoreNLPServer -port 9000 -timeout 60000 -threads 5 -maxCharLength 100000 -quiet True -serverProperties corenlp_server-abdf1981228a4ed0.props -preload openie\n",
      "Starting server with command: java -Xmx8G -cp C:\\Users\\nrjkh\\stanfordnlp_resources\\stanford-corenlp-full-2018-10-05/* edu.stanford.nlp.pipeline.StanfordCoreNLPServer -port 9000 -timeout 60000 -threads 5 -maxCharLength 100000 -quiet True -serverProperties corenlp_server-3c6453afbf83477c.props -preload openie\n",
      "Starting server with command: java -Xmx8G -cp C:\\Users\\nrjkh\\stanfordnlp_resources\\stanford-corenlp-full-2018-10-05/* edu.stanford.nlp.pipeline.StanfordCoreNLPServer -port 9000 -timeout 60000 -threads 5 -maxCharLength 100000 -quiet True -serverProperties corenlp_server-96e485231a9b42b6.props -preload openie\n",
      "Starting server with command: java -Xmx8G -cp C:\\Users\\nrjkh\\stanfordnlp_resources\\stanford-corenlp-full-2018-10-05/* edu.stanford.nlp.pipeline.StanfordCoreNLPServer -port 9000 -timeout 60000 -threads 5 -maxCharLength 100000 -quiet True -serverProperties corenlp_server-def83449270d49c6.props -preload openie\n",
      "Starting server with command: java -Xmx8G -cp C:\\Users\\nrjkh\\stanfordnlp_resources\\stanford-corenlp-full-2018-10-05/* edu.stanford.nlp.pipeline.StanfordCoreNLPServer -port 9000 -timeout 60000 -threads 5 -maxCharLength 100000 -quiet True -serverProperties corenlp_server-857549fd88824d01.props -preload openie\n",
      "Starting server with command: java -Xmx8G -cp C:\\Users\\nrjkh\\stanfordnlp_resources\\stanford-corenlp-full-2018-10-05/* edu.stanford.nlp.pipeline.StanfordCoreNLPServer -port 9000 -timeout 60000 -threads 5 -maxCharLength 100000 -quiet True -serverProperties corenlp_server-7126acfb8b1e4f0e.props -preload openie\n",
      "Starting server with command: java -Xmx8G -cp C:\\Users\\nrjkh\\stanfordnlp_resources\\stanford-corenlp-full-2018-10-05/* edu.stanford.nlp.pipeline.StanfordCoreNLPServer -port 9000 -timeout 60000 -threads 5 -maxCharLength 100000 -quiet True -serverProperties corenlp_server-2340c67ea8e84bb7.props -preload openie\n",
      "Starting server with command: java -Xmx8G -cp C:\\Users\\nrjkh\\stanfordnlp_resources\\stanford-corenlp-full-2018-10-05/* edu.stanford.nlp.pipeline.StanfordCoreNLPServer -port 9000 -timeout 60000 -threads 5 -maxCharLength 100000 -quiet True -serverProperties corenlp_server-62d3cdca018a4419.props -preload openie\n",
      "Starting server with command: java -Xmx8G -cp C:\\Users\\nrjkh\\stanfordnlp_resources\\stanford-corenlp-full-2018-10-05/* edu.stanford.nlp.pipeline.StanfordCoreNLPServer -port 9000 -timeout 60000 -threads 5 -maxCharLength 100000 -quiet True -serverProperties corenlp_server-390fc1f5d3854127.props -preload openie\n",
      "Starting server with command: java -Xmx8G -cp C:\\Users\\nrjkh\\stanfordnlp_resources\\stanford-corenlp-full-2018-10-05/* edu.stanford.nlp.pipeline.StanfordCoreNLPServer -port 9000 -timeout 60000 -threads 5 -maxCharLength 100000 -quiet True -serverProperties corenlp_server-9480fcf2a2f14181.props -preload openie\n",
      "Starting server with command: java -Xmx8G -cp C:\\Users\\nrjkh\\stanfordnlp_resources\\stanford-corenlp-full-2018-10-05/* edu.stanford.nlp.pipeline.StanfordCoreNLPServer -port 9000 -timeout 60000 -threads 5 -maxCharLength 100000 -quiet True -serverProperties corenlp_server-5ed8cfa94d5e48ee.props -preload openie\n",
      "Starting server with command: java -Xmx8G -cp C:\\Users\\nrjkh\\stanfordnlp_resources\\stanford-corenlp-full-2018-10-05/* edu.stanford.nlp.pipeline.StanfordCoreNLPServer -port 9000 -timeout 60000 -threads 5 -maxCharLength 100000 -quiet True -serverProperties corenlp_server-7dfc54065d19461b.props -preload openie\n",
      "Starting server with command: java -Xmx8G -cp C:\\Users\\nrjkh\\stanfordnlp_resources\\stanford-corenlp-full-2018-10-05/* edu.stanford.nlp.pipeline.StanfordCoreNLPServer -port 9000 -timeout 60000 -threads 5 -maxCharLength 100000 -quiet True -serverProperties corenlp_server-a0dc131945214607.props -preload openie\n",
      "Starting server with command: java -Xmx8G -cp C:\\Users\\nrjkh\\stanfordnlp_resources\\stanford-corenlp-full-2018-10-05/* edu.stanford.nlp.pipeline.StanfordCoreNLPServer -port 9000 -timeout 60000 -threads 5 -maxCharLength 100000 -quiet True -serverProperties corenlp_server-56e20dde49474a81.props -preload openie\n",
      "Starting server with command: java -Xmx8G -cp C:\\Users\\nrjkh\\stanfordnlp_resources\\stanford-corenlp-full-2018-10-05/* edu.stanford.nlp.pipeline.StanfordCoreNLPServer -port 9000 -timeout 60000 -threads 5 -maxCharLength 100000 -quiet True -serverProperties corenlp_server-3b130a571a1e4ca8.props -preload openie\n",
      "Starting server with command: java -Xmx8G -cp C:\\Users\\nrjkh\\stanfordnlp_resources\\stanford-corenlp-full-2018-10-05/* edu.stanford.nlp.pipeline.StanfordCoreNLPServer -port 9000 -timeout 60000 -threads 5 -maxCharLength 100000 -quiet True -serverProperties corenlp_server-3c3ef3fc33e74dee.props -preload openie\n",
      "Starting server with command: java -Xmx8G -cp C:\\Users\\nrjkh\\stanfordnlp_resources\\stanford-corenlp-full-2018-10-05/* edu.stanford.nlp.pipeline.StanfordCoreNLPServer -port 9000 -timeout 60000 -threads 5 -maxCharLength 100000 -quiet True -serverProperties corenlp_server-dd06ccdc7f764d46.props -preload openie\n",
      "Starting server with command: java -Xmx8G -cp C:\\Users\\nrjkh\\stanfordnlp_resources\\stanford-corenlp-full-2018-10-05/* edu.stanford.nlp.pipeline.StanfordCoreNLPServer -port 9000 -timeout 60000 -threads 5 -maxCharLength 100000 -quiet True -serverProperties corenlp_server-2f572f76d0a744c7.props -preload openie\n",
      "Starting server with command: java -Xmx8G -cp C:\\Users\\nrjkh\\stanfordnlp_resources\\stanford-corenlp-full-2018-10-05/* edu.stanford.nlp.pipeline.StanfordCoreNLPServer -port 9000 -timeout 60000 -threads 5 -maxCharLength 100000 -quiet True -serverProperties corenlp_server-6ca62744928d489d.props -preload openie\n",
      "Starting server with command: java -Xmx8G -cp C:\\Users\\nrjkh\\stanfordnlp_resources\\stanford-corenlp-full-2018-10-05/* edu.stanford.nlp.pipeline.StanfordCoreNLPServer -port 9000 -timeout 60000 -threads 5 -maxCharLength 100000 -quiet True -serverProperties corenlp_server-966be342f0bf4f16.props -preload openie\n",
      "Starting server with command: java -Xmx8G -cp C:\\Users\\nrjkh\\stanfordnlp_resources\\stanford-corenlp-full-2018-10-05/* edu.stanford.nlp.pipeline.StanfordCoreNLPServer -port 9000 -timeout 60000 -threads 5 -maxCharLength 100000 -quiet True -serverProperties corenlp_server-d8523ba16b1948b7.props -preload openie\n"
     ]
    },
    {
     "name": "stdout",
     "output_type": "stream",
     "text": [
      "Starting server with command: java -Xmx8G -cp C:\\Users\\nrjkh\\stanfordnlp_resources\\stanford-corenlp-full-2018-10-05/* edu.stanford.nlp.pipeline.StanfordCoreNLPServer -port 9000 -timeout 60000 -threads 5 -maxCharLength 100000 -quiet True -serverProperties corenlp_server-e332a0dd284c480f.props -preload openie\n",
      "Starting server with command: java -Xmx8G -cp C:\\Users\\nrjkh\\stanfordnlp_resources\\stanford-corenlp-full-2018-10-05/* edu.stanford.nlp.pipeline.StanfordCoreNLPServer -port 9000 -timeout 60000 -threads 5 -maxCharLength 100000 -quiet True -serverProperties corenlp_server-323f0226374a42df.props -preload openie\n",
      "Starting server with command: java -Xmx8G -cp C:\\Users\\nrjkh\\stanfordnlp_resources\\stanford-corenlp-full-2018-10-05/* edu.stanford.nlp.pipeline.StanfordCoreNLPServer -port 9000 -timeout 60000 -threads 5 -maxCharLength 100000 -quiet True -serverProperties corenlp_server-070ad67b8cbb4a41.props -preload openie\n",
      "Starting server with command: java -Xmx8G -cp C:\\Users\\nrjkh\\stanfordnlp_resources\\stanford-corenlp-full-2018-10-05/* edu.stanford.nlp.pipeline.StanfordCoreNLPServer -port 9000 -timeout 60000 -threads 5 -maxCharLength 100000 -quiet True -serverProperties corenlp_server-716127f7cb5e415f.props -preload openie\n",
      "Starting server with command: java -Xmx8G -cp C:\\Users\\nrjkh\\stanfordnlp_resources\\stanford-corenlp-full-2018-10-05/* edu.stanford.nlp.pipeline.StanfordCoreNLPServer -port 9000 -timeout 60000 -threads 5 -maxCharLength 100000 -quiet True -serverProperties corenlp_server-7e99c2f81e4149cf.props -preload openie\n",
      "Starting server with command: java -Xmx8G -cp C:\\Users\\nrjkh\\stanfordnlp_resources\\stanford-corenlp-full-2018-10-05/* edu.stanford.nlp.pipeline.StanfordCoreNLPServer -port 9000 -timeout 60000 -threads 5 -maxCharLength 100000 -quiet True -serverProperties corenlp_server-923ab8ea1d8a4e5c.props -preload openie\n",
      "Starting server with command: java -Xmx8G -cp C:\\Users\\nrjkh\\stanfordnlp_resources\\stanford-corenlp-full-2018-10-05/* edu.stanford.nlp.pipeline.StanfordCoreNLPServer -port 9000 -timeout 60000 -threads 5 -maxCharLength 100000 -quiet True -serverProperties corenlp_server-6944bcba76564d62.props -preload openie\n",
      "Starting server with command: java -Xmx8G -cp C:\\Users\\nrjkh\\stanfordnlp_resources\\stanford-corenlp-full-2018-10-05/* edu.stanford.nlp.pipeline.StanfordCoreNLPServer -port 9000 -timeout 60000 -threads 5 -maxCharLength 100000 -quiet True -serverProperties corenlp_server-a83100a2e78a40b0.props -preload openie\n",
      "Starting server with command: java -Xmx8G -cp C:\\Users\\nrjkh\\stanfordnlp_resources\\stanford-corenlp-full-2018-10-05/* edu.stanford.nlp.pipeline.StanfordCoreNLPServer -port 9000 -timeout 60000 -threads 5 -maxCharLength 100000 -quiet True -serverProperties corenlp_server-10d700ea171d4f13.props -preload openie\n",
      "Starting server with command: java -Xmx8G -cp C:\\Users\\nrjkh\\stanfordnlp_resources\\stanford-corenlp-full-2018-10-05/* edu.stanford.nlp.pipeline.StanfordCoreNLPServer -port 9000 -timeout 60000 -threads 5 -maxCharLength 100000 -quiet True -serverProperties corenlp_server-f609efb000cd463c.props -preload openie\n",
      "Starting server with command: java -Xmx8G -cp C:\\Users\\nrjkh\\stanfordnlp_resources\\stanford-corenlp-full-2018-10-05/* edu.stanford.nlp.pipeline.StanfordCoreNLPServer -port 9000 -timeout 60000 -threads 5 -maxCharLength 100000 -quiet True -serverProperties corenlp_server-12e2e962a86348af.props -preload openie\n",
      "Starting server with command: java -Xmx8G -cp C:\\Users\\nrjkh\\stanfordnlp_resources\\stanford-corenlp-full-2018-10-05/* edu.stanford.nlp.pipeline.StanfordCoreNLPServer -port 9000 -timeout 60000 -threads 5 -maxCharLength 100000 -quiet True -serverProperties corenlp_server-2395d49b32584c8c.props -preload openie\n",
      "Starting server with command: java -Xmx8G -cp C:\\Users\\nrjkh\\stanfordnlp_resources\\stanford-corenlp-full-2018-10-05/* edu.stanford.nlp.pipeline.StanfordCoreNLPServer -port 9000 -timeout 60000 -threads 5 -maxCharLength 100000 -quiet True -serverProperties corenlp_server-41d3f2b40a854bdf.props -preload openie\n",
      "Starting server with command: java -Xmx8G -cp C:\\Users\\nrjkh\\stanfordnlp_resources\\stanford-corenlp-full-2018-10-05/* edu.stanford.nlp.pipeline.StanfordCoreNLPServer -port 9000 -timeout 60000 -threads 5 -maxCharLength 100000 -quiet True -serverProperties corenlp_server-c47ea821b72e4a36.props -preload openie\n",
      "Starting server with command: java -Xmx8G -cp C:\\Users\\nrjkh\\stanfordnlp_resources\\stanford-corenlp-full-2018-10-05/* edu.stanford.nlp.pipeline.StanfordCoreNLPServer -port 9000 -timeout 60000 -threads 5 -maxCharLength 100000 -quiet True -serverProperties corenlp_server-3fdc19ca80114c00.props -preload openie\n",
      "Starting server with command: java -Xmx8G -cp C:\\Users\\nrjkh\\stanfordnlp_resources\\stanford-corenlp-full-2018-10-05/* edu.stanford.nlp.pipeline.StanfordCoreNLPServer -port 9000 -timeout 60000 -threads 5 -maxCharLength 100000 -quiet True -serverProperties corenlp_server-39e2df64d5a742a9.props -preload openie\n",
      "Starting server with command: java -Xmx8G -cp C:\\Users\\nrjkh\\stanfordnlp_resources\\stanford-corenlp-full-2018-10-05/* edu.stanford.nlp.pipeline.StanfordCoreNLPServer -port 9000 -timeout 60000 -threads 5 -maxCharLength 100000 -quiet True -serverProperties corenlp_server-f95b7f0186064aea.props -preload openie\n",
      "Starting server with command: java -Xmx8G -cp C:\\Users\\nrjkh\\stanfordnlp_resources\\stanford-corenlp-full-2018-10-05/* edu.stanford.nlp.pipeline.StanfordCoreNLPServer -port 9000 -timeout 60000 -threads 5 -maxCharLength 100000 -quiet True -serverProperties corenlp_server-cc3208bb6e294cc4.props -preload openie\n",
      "Starting server with command: java -Xmx8G -cp C:\\Users\\nrjkh\\stanfordnlp_resources\\stanford-corenlp-full-2018-10-05/* edu.stanford.nlp.pipeline.StanfordCoreNLPServer -port 9000 -timeout 60000 -threads 5 -maxCharLength 100000 -quiet True -serverProperties corenlp_server-df2da83e4bcb4734.props -preload openie\n",
      "Starting server with command: java -Xmx8G -cp C:\\Users\\nrjkh\\stanfordnlp_resources\\stanford-corenlp-full-2018-10-05/* edu.stanford.nlp.pipeline.StanfordCoreNLPServer -port 9000 -timeout 60000 -threads 5 -maxCharLength 100000 -quiet True -serverProperties corenlp_server-f6ac6618d8d444f3.props -preload openie\n",
      "Starting server with command: java -Xmx8G -cp C:\\Users\\nrjkh\\stanfordnlp_resources\\stanford-corenlp-full-2018-10-05/* edu.stanford.nlp.pipeline.StanfordCoreNLPServer -port 9000 -timeout 60000 -threads 5 -maxCharLength 100000 -quiet True -serverProperties corenlp_server-9afa72d608d04b01.props -preload openie\n",
      "Starting server with command: java -Xmx8G -cp C:\\Users\\nrjkh\\stanfordnlp_resources\\stanford-corenlp-full-2018-10-05/* edu.stanford.nlp.pipeline.StanfordCoreNLPServer -port 9000 -timeout 60000 -threads 5 -maxCharLength 100000 -quiet True -serverProperties corenlp_server-0978994b6ccf4af2.props -preload openie\n",
      "Starting server with command: java -Xmx8G -cp C:\\Users\\nrjkh\\stanfordnlp_resources\\stanford-corenlp-full-2018-10-05/* edu.stanford.nlp.pipeline.StanfordCoreNLPServer -port 9000 -timeout 60000 -threads 5 -maxCharLength 100000 -quiet True -serverProperties corenlp_server-4c0b5984400e447a.props -preload openie\n",
      "Starting server with command: java -Xmx8G -cp C:\\Users\\nrjkh\\stanfordnlp_resources\\stanford-corenlp-full-2018-10-05/* edu.stanford.nlp.pipeline.StanfordCoreNLPServer -port 9000 -timeout 60000 -threads 5 -maxCharLength 100000 -quiet True -serverProperties corenlp_server-17b6b7cb1b0b4464.props -preload openie\n",
      "Starting server with command: java -Xmx8G -cp C:\\Users\\nrjkh\\stanfordnlp_resources\\stanford-corenlp-full-2018-10-05/* edu.stanford.nlp.pipeline.StanfordCoreNLPServer -port 9000 -timeout 60000 -threads 5 -maxCharLength 100000 -quiet True -serverProperties corenlp_server-d17a51cfd820484c.props -preload openie\n",
      "Starting server with command: java -Xmx8G -cp C:\\Users\\nrjkh\\stanfordnlp_resources\\stanford-corenlp-full-2018-10-05/* edu.stanford.nlp.pipeline.StanfordCoreNLPServer -port 9000 -timeout 60000 -threads 5 -maxCharLength 100000 -quiet True -serverProperties corenlp_server-b281f9b5181c4cc2.props -preload openie\n",
      "Starting server with command: java -Xmx8G -cp C:\\Users\\nrjkh\\stanfordnlp_resources\\stanford-corenlp-full-2018-10-05/* edu.stanford.nlp.pipeline.StanfordCoreNLPServer -port 9000 -timeout 60000 -threads 5 -maxCharLength 100000 -quiet True -serverProperties corenlp_server-cb89d1a795cd4aee.props -preload openie\n"
     ]
    },
    {
     "name": "stdout",
     "output_type": "stream",
     "text": [
      "Starting server with command: java -Xmx8G -cp C:\\Users\\nrjkh\\stanfordnlp_resources\\stanford-corenlp-full-2018-10-05/* edu.stanford.nlp.pipeline.StanfordCoreNLPServer -port 9000 -timeout 60000 -threads 5 -maxCharLength 100000 -quiet True -serverProperties corenlp_server-0da528825ab24e0b.props -preload openie\n",
      "Starting server with command: java -Xmx8G -cp C:\\Users\\nrjkh\\stanfordnlp_resources\\stanford-corenlp-full-2018-10-05/* edu.stanford.nlp.pipeline.StanfordCoreNLPServer -port 9000 -timeout 60000 -threads 5 -maxCharLength 100000 -quiet True -serverProperties corenlp_server-7bfad181ae2e43af.props -preload openie\n",
      "Starting server with command: java -Xmx8G -cp C:\\Users\\nrjkh\\stanfordnlp_resources\\stanford-corenlp-full-2018-10-05/* edu.stanford.nlp.pipeline.StanfordCoreNLPServer -port 9000 -timeout 60000 -threads 5 -maxCharLength 100000 -quiet True -serverProperties corenlp_server-bc52aec433fe4db1.props -preload openie\n",
      "Starting server with command: java -Xmx8G -cp C:\\Users\\nrjkh\\stanfordnlp_resources\\stanford-corenlp-full-2018-10-05/* edu.stanford.nlp.pipeline.StanfordCoreNLPServer -port 9000 -timeout 60000 -threads 5 -maxCharLength 100000 -quiet True -serverProperties corenlp_server-02eb3c03fd6049d3.props -preload openie\n",
      "Starting server with command: java -Xmx8G -cp C:\\Users\\nrjkh\\stanfordnlp_resources\\stanford-corenlp-full-2018-10-05/* edu.stanford.nlp.pipeline.StanfordCoreNLPServer -port 9000 -timeout 60000 -threads 5 -maxCharLength 100000 -quiet True -serverProperties corenlp_server-07ffe5bb792a4925.props -preload openie\n",
      "Starting server with command: java -Xmx8G -cp C:\\Users\\nrjkh\\stanfordnlp_resources\\stanford-corenlp-full-2018-10-05/* edu.stanford.nlp.pipeline.StanfordCoreNLPServer -port 9000 -timeout 60000 -threads 5 -maxCharLength 100000 -quiet True -serverProperties corenlp_server-bc1e2f3e446a4296.props -preload openie\n",
      "Starting server with command: java -Xmx8G -cp C:\\Users\\nrjkh\\stanfordnlp_resources\\stanford-corenlp-full-2018-10-05/* edu.stanford.nlp.pipeline.StanfordCoreNLPServer -port 9000 -timeout 60000 -threads 5 -maxCharLength 100000 -quiet True -serverProperties corenlp_server-85a2cce5957a4664.props -preload openie\n",
      "Starting server with command: java -Xmx8G -cp C:\\Users\\nrjkh\\stanfordnlp_resources\\stanford-corenlp-full-2018-10-05/* edu.stanford.nlp.pipeline.StanfordCoreNLPServer -port 9000 -timeout 60000 -threads 5 -maxCharLength 100000 -quiet True -serverProperties corenlp_server-2697bf04adaa4a25.props -preload openie\n",
      "Starting server with command: java -Xmx8G -cp C:\\Users\\nrjkh\\stanfordnlp_resources\\stanford-corenlp-full-2018-10-05/* edu.stanford.nlp.pipeline.StanfordCoreNLPServer -port 9000 -timeout 60000 -threads 5 -maxCharLength 100000 -quiet True -serverProperties corenlp_server-5b2466e51db1496f.props -preload openie\n",
      "Starting server with command: java -Xmx8G -cp C:\\Users\\nrjkh\\stanfordnlp_resources\\stanford-corenlp-full-2018-10-05/* edu.stanford.nlp.pipeline.StanfordCoreNLPServer -port 9000 -timeout 60000 -threads 5 -maxCharLength 100000 -quiet True -serverProperties corenlp_server-2ea3abce85404c02.props -preload openie\n",
      "Starting server with command: java -Xmx8G -cp C:\\Users\\nrjkh\\stanfordnlp_resources\\stanford-corenlp-full-2018-10-05/* edu.stanford.nlp.pipeline.StanfordCoreNLPServer -port 9000 -timeout 60000 -threads 5 -maxCharLength 100000 -quiet True -serverProperties corenlp_server-12f944bbb09942df.props -preload openie\n",
      "Starting server with command: java -Xmx8G -cp C:\\Users\\nrjkh\\stanfordnlp_resources\\stanford-corenlp-full-2018-10-05/* edu.stanford.nlp.pipeline.StanfordCoreNLPServer -port 9000 -timeout 60000 -threads 5 -maxCharLength 100000 -quiet True -serverProperties corenlp_server-1cea517b25e54604.props -preload openie\n",
      "Starting server with command: java -Xmx8G -cp C:\\Users\\nrjkh\\stanfordnlp_resources\\stanford-corenlp-full-2018-10-05/* edu.stanford.nlp.pipeline.StanfordCoreNLPServer -port 9000 -timeout 60000 -threads 5 -maxCharLength 100000 -quiet True -serverProperties corenlp_server-79b3fa52f11b4123.props -preload openie\n",
      "Starting server with command: java -Xmx8G -cp C:\\Users\\nrjkh\\stanfordnlp_resources\\stanford-corenlp-full-2018-10-05/* edu.stanford.nlp.pipeline.StanfordCoreNLPServer -port 9000 -timeout 60000 -threads 5 -maxCharLength 100000 -quiet True -serverProperties corenlp_server-d290efa55d614906.props -preload openie\n",
      "Starting server with command: java -Xmx8G -cp C:\\Users\\nrjkh\\stanfordnlp_resources\\stanford-corenlp-full-2018-10-05/* edu.stanford.nlp.pipeline.StanfordCoreNLPServer -port 9000 -timeout 60000 -threads 5 -maxCharLength 100000 -quiet True -serverProperties corenlp_server-27af7cd97108428c.props -preload openie\n",
      "Starting server with command: java -Xmx8G -cp C:\\Users\\nrjkh\\stanfordnlp_resources\\stanford-corenlp-full-2018-10-05/* edu.stanford.nlp.pipeline.StanfordCoreNLPServer -port 9000 -timeout 60000 -threads 5 -maxCharLength 100000 -quiet True -serverProperties corenlp_server-2f2fe227aed84a36.props -preload openie\n",
      "Starting server with command: java -Xmx8G -cp C:\\Users\\nrjkh\\stanfordnlp_resources\\stanford-corenlp-full-2018-10-05/* edu.stanford.nlp.pipeline.StanfordCoreNLPServer -port 9000 -timeout 60000 -threads 5 -maxCharLength 100000 -quiet True -serverProperties corenlp_server-ea93abe4afcc4018.props -preload openie\n",
      "Starting server with command: java -Xmx8G -cp C:\\Users\\nrjkh\\stanfordnlp_resources\\stanford-corenlp-full-2018-10-05/* edu.stanford.nlp.pipeline.StanfordCoreNLPServer -port 9000 -timeout 60000 -threads 5 -maxCharLength 100000 -quiet True -serverProperties corenlp_server-0925017bad4248d8.props -preload openie\n",
      "Starting server with command: java -Xmx8G -cp C:\\Users\\nrjkh\\stanfordnlp_resources\\stanford-corenlp-full-2018-10-05/* edu.stanford.nlp.pipeline.StanfordCoreNLPServer -port 9000 -timeout 60000 -threads 5 -maxCharLength 100000 -quiet True -serverProperties corenlp_server-1cbedaf4b0c74f15.props -preload openie\n",
      "Starting server with command: java -Xmx8G -cp C:\\Users\\nrjkh\\stanfordnlp_resources\\stanford-corenlp-full-2018-10-05/* edu.stanford.nlp.pipeline.StanfordCoreNLPServer -port 9000 -timeout 60000 -threads 5 -maxCharLength 100000 -quiet True -serverProperties corenlp_server-dac12d86b65948ad.props -preload openie\n",
      "Starting server with command: java -Xmx8G -cp C:\\Users\\nrjkh\\stanfordnlp_resources\\stanford-corenlp-full-2018-10-05/* edu.stanford.nlp.pipeline.StanfordCoreNLPServer -port 9000 -timeout 60000 -threads 5 -maxCharLength 100000 -quiet True -serverProperties corenlp_server-e58a5c12c9484280.props -preload openie\n",
      "Starting server with command: java -Xmx8G -cp C:\\Users\\nrjkh\\stanfordnlp_resources\\stanford-corenlp-full-2018-10-05/* edu.stanford.nlp.pipeline.StanfordCoreNLPServer -port 9000 -timeout 60000 -threads 5 -maxCharLength 100000 -quiet True -serverProperties corenlp_server-a643a4c6942b4f61.props -preload openie\n",
      "Starting server with command: java -Xmx8G -cp C:\\Users\\nrjkh\\stanfordnlp_resources\\stanford-corenlp-full-2018-10-05/* edu.stanford.nlp.pipeline.StanfordCoreNLPServer -port 9000 -timeout 60000 -threads 5 -maxCharLength 100000 -quiet True -serverProperties corenlp_server-10f2cfcdb9e1466c.props -preload openie\n",
      "Starting server with command: java -Xmx8G -cp C:\\Users\\nrjkh\\stanfordnlp_resources\\stanford-corenlp-full-2018-10-05/* edu.stanford.nlp.pipeline.StanfordCoreNLPServer -port 9000 -timeout 60000 -threads 5 -maxCharLength 100000 -quiet True -serverProperties corenlp_server-eb68bd00a5c34bb5.props -preload openie\n",
      "Starting server with command: java -Xmx8G -cp C:\\Users\\nrjkh\\stanfordnlp_resources\\stanford-corenlp-full-2018-10-05/* edu.stanford.nlp.pipeline.StanfordCoreNLPServer -port 9000 -timeout 60000 -threads 5 -maxCharLength 100000 -quiet True -serverProperties corenlp_server-d47f340439164fe8.props -preload openie\n",
      "Starting server with command: java -Xmx8G -cp C:\\Users\\nrjkh\\stanfordnlp_resources\\stanford-corenlp-full-2018-10-05/* edu.stanford.nlp.pipeline.StanfordCoreNLPServer -port 9000 -timeout 60000 -threads 5 -maxCharLength 100000 -quiet True -serverProperties corenlp_server-0aee336932f44f92.props -preload openie\n",
      "Starting server with command: java -Xmx8G -cp C:\\Users\\nrjkh\\stanfordnlp_resources\\stanford-corenlp-full-2018-10-05/* edu.stanford.nlp.pipeline.StanfordCoreNLPServer -port 9000 -timeout 60000 -threads 5 -maxCharLength 100000 -quiet True -serverProperties corenlp_server-cc7040bf76e44034.props -preload openie\n"
     ]
    },
    {
     "name": "stdout",
     "output_type": "stream",
     "text": [
      "Starting server with command: java -Xmx8G -cp C:\\Users\\nrjkh\\stanfordnlp_resources\\stanford-corenlp-full-2018-10-05/* edu.stanford.nlp.pipeline.StanfordCoreNLPServer -port 9000 -timeout 60000 -threads 5 -maxCharLength 100000 -quiet True -serverProperties corenlp_server-7876f6f2e1264417.props -preload openie\n",
      "Starting server with command: java -Xmx8G -cp C:\\Users\\nrjkh\\stanfordnlp_resources\\stanford-corenlp-full-2018-10-05/* edu.stanford.nlp.pipeline.StanfordCoreNLPServer -port 9000 -timeout 60000 -threads 5 -maxCharLength 100000 -quiet True -serverProperties corenlp_server-b15598de195d41c7.props -preload openie\n",
      "Starting server with command: java -Xmx8G -cp C:\\Users\\nrjkh\\stanfordnlp_resources\\stanford-corenlp-full-2018-10-05/* edu.stanford.nlp.pipeline.StanfordCoreNLPServer -port 9000 -timeout 60000 -threads 5 -maxCharLength 100000 -quiet True -serverProperties corenlp_server-4140ea4c98c54c2e.props -preload openie\n",
      "Starting server with command: java -Xmx8G -cp C:\\Users\\nrjkh\\stanfordnlp_resources\\stanford-corenlp-full-2018-10-05/* edu.stanford.nlp.pipeline.StanfordCoreNLPServer -port 9000 -timeout 60000 -threads 5 -maxCharLength 100000 -quiet True -serverProperties corenlp_server-d75a463d20154c2e.props -preload openie\n",
      "Starting server with command: java -Xmx8G -cp C:\\Users\\nrjkh\\stanfordnlp_resources\\stanford-corenlp-full-2018-10-05/* edu.stanford.nlp.pipeline.StanfordCoreNLPServer -port 9000 -timeout 60000 -threads 5 -maxCharLength 100000 -quiet True -serverProperties corenlp_server-a205fe4becfd41d6.props -preload openie\n",
      "Starting server with command: java -Xmx8G -cp C:\\Users\\nrjkh\\stanfordnlp_resources\\stanford-corenlp-full-2018-10-05/* edu.stanford.nlp.pipeline.StanfordCoreNLPServer -port 9000 -timeout 60000 -threads 5 -maxCharLength 100000 -quiet True -serverProperties corenlp_server-bd4fc8cb74854610.props -preload openie\n"
     ]
    },
    {
     "name": "stderr",
     "output_type": "stream",
     "text": [
      "Exception ignored in: <function StanfordOpenIE.__del__ at 0x000001BD3F065E58>\n",
      "Traceback (most recent call last):\n",
      "  File \"C:\\Users\\nrjkh\\anaconda3\\lib\\site-packages\\openie\\openie.py\", line 90, in __del__\n",
      "    del os.environ['CORENLP_HOME']\n",
      "  File \"C:\\Users\\nrjkh\\anaconda3\\lib\\os.py\", line 695, in __delitem__\n",
      "    raise KeyError(key) from None\n",
      "KeyError: 'CORENLP_HOME'\n"
     ]
    },
    {
     "name": "stdout",
     "output_type": "stream",
     "text": [
      "Starting server with command: java -Xmx8G -cp C:\\Users\\nrjkh\\stanfordnlp_resources\\stanford-corenlp-full-2018-10-05/* edu.stanford.nlp.pipeline.StanfordCoreNLPServer -port 9000 -timeout 60000 -threads 5 -maxCharLength 100000 -quiet True -serverProperties corenlp_server-7334526e68a248e2.props -preload openie\n",
      "Starting server with command: java -Xmx8G -cp C:\\Users\\nrjkh\\stanfordnlp_resources\\stanford-corenlp-full-2018-10-05/* edu.stanford.nlp.pipeline.StanfordCoreNLPServer -port 9000 -timeout 60000 -threads 5 -maxCharLength 100000 -quiet True -serverProperties corenlp_server-194ccb07447b4a5c.props -preload openie\n",
      "Starting server with command: java -Xmx8G -cp C:\\Users\\nrjkh\\stanfordnlp_resources\\stanford-corenlp-full-2018-10-05/* edu.stanford.nlp.pipeline.StanfordCoreNLPServer -port 9000 -timeout 60000 -threads 5 -maxCharLength 100000 -quiet True -serverProperties corenlp_server-7c9f26a3fb074a8c.props -preload openie\n",
      "Starting server with command: java -Xmx8G -cp C:\\Users\\nrjkh\\stanfordnlp_resources\\stanford-corenlp-full-2018-10-05/* edu.stanford.nlp.pipeline.StanfordCoreNLPServer -port 9000 -timeout 60000 -threads 5 -maxCharLength 100000 -quiet True -serverProperties corenlp_server-4f5207c1d34b4bd4.props -preload openie\n"
     ]
    },
    {
     "name": "stderr",
     "output_type": "stream",
     "text": [
      "Exception ignored in: <function StanfordOpenIE.__del__ at 0x000001BD3F065E58>\n",
      "Traceback (most recent call last):\n",
      "  File \"C:\\Users\\nrjkh\\anaconda3\\lib\\site-packages\\openie\\openie.py\", line 90, in __del__\n",
      "    del os.environ['CORENLP_HOME']\n",
      "  File \"C:\\Users\\nrjkh\\anaconda3\\lib\\os.py\", line 695, in __delitem__\n",
      "    raise KeyError(key) from None\n",
      "KeyError: 'CORENLP_HOME'\n"
     ]
    },
    {
     "name": "stdout",
     "output_type": "stream",
     "text": [
      "Starting server with command: java -Xmx8G -cp C:\\Users\\nrjkh\\stanfordnlp_resources\\stanford-corenlp-full-2018-10-05/* edu.stanford.nlp.pipeline.StanfordCoreNLPServer -port 9000 -timeout 60000 -threads 5 -maxCharLength 100000 -quiet True -serverProperties corenlp_server-cac29260e4724a24.props -preload openie\n",
      "Starting server with command: java -Xmx8G -cp C:\\Users\\nrjkh\\stanfordnlp_resources\\stanford-corenlp-full-2018-10-05/* edu.stanford.nlp.pipeline.StanfordCoreNLPServer -port 9000 -timeout 60000 -threads 5 -maxCharLength 100000 -quiet True -serverProperties corenlp_server-f438038b4856443a.props -preload openie\n",
      "Starting server with command: java -Xmx8G -cp C:\\Users\\nrjkh\\stanfordnlp_resources\\stanford-corenlp-full-2018-10-05/* edu.stanford.nlp.pipeline.StanfordCoreNLPServer -port 9000 -timeout 60000 -threads 5 -maxCharLength 100000 -quiet True -serverProperties corenlp_server-087cff24111a473c.props -preload openie\n",
      "Starting server with command: java -Xmx8G -cp C:\\Users\\nrjkh\\stanfordnlp_resources\\stanford-corenlp-full-2018-10-05/* edu.stanford.nlp.pipeline.StanfordCoreNLPServer -port 9000 -timeout 60000 -threads 5 -maxCharLength 100000 -quiet True -serverProperties corenlp_server-8d565c1a94244419.props -preload openie\n",
      "Starting server with command: java -Xmx8G -cp C:\\Users\\nrjkh\\stanfordnlp_resources\\stanford-corenlp-full-2018-10-05/* edu.stanford.nlp.pipeline.StanfordCoreNLPServer -port 9000 -timeout 60000 -threads 5 -maxCharLength 100000 -quiet True -serverProperties corenlp_server-81b8ee4e16824a78.props -preload openie\n",
      "Starting server with command: java -Xmx8G -cp C:\\Users\\nrjkh\\stanfordnlp_resources\\stanford-corenlp-full-2018-10-05/* edu.stanford.nlp.pipeline.StanfordCoreNLPServer -port 9000 -timeout 60000 -threads 5 -maxCharLength 100000 -quiet True -serverProperties corenlp_server-d960a815a0c449ad.props -preload openie\n",
      "Starting server with command: java -Xmx8G -cp C:\\Users\\nrjkh\\stanfordnlp_resources\\stanford-corenlp-full-2018-10-05/* edu.stanford.nlp.pipeline.StanfordCoreNLPServer -port 9000 -timeout 60000 -threads 5 -maxCharLength 100000 -quiet True -serverProperties corenlp_server-7d962a9c07e6435b.props -preload openie\n",
      "Starting server with command: java -Xmx8G -cp C:\\Users\\nrjkh\\stanfordnlp_resources\\stanford-corenlp-full-2018-10-05/* edu.stanford.nlp.pipeline.StanfordCoreNLPServer -port 9000 -timeout 60000 -threads 5 -maxCharLength 100000 -quiet True -serverProperties corenlp_server-3c17bdc5629e4873.props -preload openie\n",
      "Starting server with command: java -Xmx8G -cp C:\\Users\\nrjkh\\stanfordnlp_resources\\stanford-corenlp-full-2018-10-05/* edu.stanford.nlp.pipeline.StanfordCoreNLPServer -port 9000 -timeout 60000 -threads 5 -maxCharLength 100000 -quiet True -serverProperties corenlp_server-9bb23dfebb7d4152.props -preload openie\n",
      "Starting server with command: java -Xmx8G -cp C:\\Users\\nrjkh\\stanfordnlp_resources\\stanford-corenlp-full-2018-10-05/* edu.stanford.nlp.pipeline.StanfordCoreNLPServer -port 9000 -timeout 60000 -threads 5 -maxCharLength 100000 -quiet True -serverProperties corenlp_server-7519ba06dba349b0.props -preload openie\n",
      "Starting server with command: java -Xmx8G -cp C:\\Users\\nrjkh\\stanfordnlp_resources\\stanford-corenlp-full-2018-10-05/* edu.stanford.nlp.pipeline.StanfordCoreNLPServer -port 9000 -timeout 60000 -threads 5 -maxCharLength 100000 -quiet True -serverProperties corenlp_server-baddfd47971042f7.props -preload openie\n",
      "Starting server with command: java -Xmx8G -cp C:\\Users\\nrjkh\\stanfordnlp_resources\\stanford-corenlp-full-2018-10-05/* edu.stanford.nlp.pipeline.StanfordCoreNLPServer -port 9000 -timeout 60000 -threads 5 -maxCharLength 100000 -quiet True -serverProperties corenlp_server-d3dba8adb3a347dd.props -preload openie\n",
      "Starting server with command: java -Xmx8G -cp C:\\Users\\nrjkh\\stanfordnlp_resources\\stanford-corenlp-full-2018-10-05/* edu.stanford.nlp.pipeline.StanfordCoreNLPServer -port 9000 -timeout 60000 -threads 5 -maxCharLength 100000 -quiet True -serverProperties corenlp_server-49d5728b0d0e4bbc.props -preload openie\n",
      "Starting server with command: java -Xmx8G -cp C:\\Users\\nrjkh\\stanfordnlp_resources\\stanford-corenlp-full-2018-10-05/* edu.stanford.nlp.pipeline.StanfordCoreNLPServer -port 9000 -timeout 60000 -threads 5 -maxCharLength 100000 -quiet True -serverProperties corenlp_server-f5c1464ff1374b17.props -preload openie\n",
      "Starting server with command: java -Xmx8G -cp C:\\Users\\nrjkh\\stanfordnlp_resources\\stanford-corenlp-full-2018-10-05/* edu.stanford.nlp.pipeline.StanfordCoreNLPServer -port 9000 -timeout 60000 -threads 5 -maxCharLength 100000 -quiet True -serverProperties corenlp_server-28bb75d035f14dd6.props -preload openie\n",
      "Starting server with command: java -Xmx8G -cp C:\\Users\\nrjkh\\stanfordnlp_resources\\stanford-corenlp-full-2018-10-05/* edu.stanford.nlp.pipeline.StanfordCoreNLPServer -port 9000 -timeout 60000 -threads 5 -maxCharLength 100000 -quiet True -serverProperties corenlp_server-ace98406909147a9.props -preload openie\n",
      "Starting server with command: java -Xmx8G -cp C:\\Users\\nrjkh\\stanfordnlp_resources\\stanford-corenlp-full-2018-10-05/* edu.stanford.nlp.pipeline.StanfordCoreNLPServer -port 9000 -timeout 60000 -threads 5 -maxCharLength 100000 -quiet True -serverProperties corenlp_server-365eef7597d74b92.props -preload openie\n",
      "Starting server with command: java -Xmx8G -cp C:\\Users\\nrjkh\\stanfordnlp_resources\\stanford-corenlp-full-2018-10-05/* edu.stanford.nlp.pipeline.StanfordCoreNLPServer -port 9000 -timeout 60000 -threads 5 -maxCharLength 100000 -quiet True -serverProperties corenlp_server-6dce61401d51454d.props -preload openie\n",
      "Starting server with command: java -Xmx8G -cp C:\\Users\\nrjkh\\stanfordnlp_resources\\stanford-corenlp-full-2018-10-05/* edu.stanford.nlp.pipeline.StanfordCoreNLPServer -port 9000 -timeout 60000 -threads 5 -maxCharLength 100000 -quiet True -serverProperties corenlp_server-7d8257ed31144ccd.props -preload openie\n",
      "Starting server with command: java -Xmx8G -cp C:\\Users\\nrjkh\\stanfordnlp_resources\\stanford-corenlp-full-2018-10-05/* edu.stanford.nlp.pipeline.StanfordCoreNLPServer -port 9000 -timeout 60000 -threads 5 -maxCharLength 100000 -quiet True -serverProperties corenlp_server-a38ecd54551540ad.props -preload openie\n"
     ]
    },
    {
     "ename": "ConnectionError",
     "evalue": "('Connection aborted.', ConnectionResetError(10054, 'An existing connection was forcibly closed by the remote host', None, 10054, None))",
     "output_type": "error",
     "traceback": [
      "\u001b[1;31m---------------------------------------------------------------------------\u001b[0m",
      "\u001b[1;31mConnectionResetError\u001b[0m                      Traceback (most recent call last)",
      "\u001b[1;32m~\\anaconda3\\lib\\site-packages\\urllib3\\connectionpool.py\u001b[0m in \u001b[0;36murlopen\u001b[1;34m(self, method, url, body, headers, retries, redirect, assert_same_host, timeout, pool_timeout, release_conn, chunked, body_pos, **response_kw)\u001b[0m\n\u001b[0;32m    676\u001b[0m                 \u001b[0mheaders\u001b[0m\u001b[1;33m=\u001b[0m\u001b[0mheaders\u001b[0m\u001b[1;33m,\u001b[0m\u001b[1;33m\u001b[0m\u001b[1;33m\u001b[0m\u001b[0m\n\u001b[1;32m--> 677\u001b[1;33m                 \u001b[0mchunked\u001b[0m\u001b[1;33m=\u001b[0m\u001b[0mchunked\u001b[0m\u001b[1;33m,\u001b[0m\u001b[1;33m\u001b[0m\u001b[1;33m\u001b[0m\u001b[0m\n\u001b[0m\u001b[0;32m    678\u001b[0m             )\n",
      "\u001b[1;32m~\\anaconda3\\lib\\site-packages\\urllib3\\connectionpool.py\u001b[0m in \u001b[0;36m_make_request\u001b[1;34m(self, conn, method, url, timeout, chunked, **httplib_request_kw)\u001b[0m\n\u001b[0;32m    425\u001b[0m                     \u001b[1;31m# Otherwise it looks like a bug in the code.\u001b[0m\u001b[1;33m\u001b[0m\u001b[1;33m\u001b[0m\u001b[1;33m\u001b[0m\u001b[0m\n\u001b[1;32m--> 426\u001b[1;33m                     \u001b[0msix\u001b[0m\u001b[1;33m.\u001b[0m\u001b[0mraise_from\u001b[0m\u001b[1;33m(\u001b[0m\u001b[0me\u001b[0m\u001b[1;33m,\u001b[0m \u001b[1;32mNone\u001b[0m\u001b[1;33m)\u001b[0m\u001b[1;33m\u001b[0m\u001b[1;33m\u001b[0m\u001b[0m\n\u001b[0m\u001b[0;32m    427\u001b[0m         \u001b[1;32mexcept\u001b[0m \u001b[1;33m(\u001b[0m\u001b[0mSocketTimeout\u001b[0m\u001b[1;33m,\u001b[0m \u001b[0mBaseSSLError\u001b[0m\u001b[1;33m,\u001b[0m \u001b[0mSocketError\u001b[0m\u001b[1;33m)\u001b[0m \u001b[1;32mas\u001b[0m \u001b[0me\u001b[0m\u001b[1;33m:\u001b[0m\u001b[1;33m\u001b[0m\u001b[1;33m\u001b[0m\u001b[0m\n",
      "\u001b[1;32m~\\anaconda3\\lib\\site-packages\\urllib3\\packages\\six.py\u001b[0m in \u001b[0;36mraise_from\u001b[1;34m(value, from_value)\u001b[0m\n",
      "\u001b[1;32m~\\anaconda3\\lib\\site-packages\\urllib3\\connectionpool.py\u001b[0m in \u001b[0;36m_make_request\u001b[1;34m(self, conn, method, url, timeout, chunked, **httplib_request_kw)\u001b[0m\n\u001b[0;32m    420\u001b[0m                 \u001b[1;32mtry\u001b[0m\u001b[1;33m:\u001b[0m\u001b[1;33m\u001b[0m\u001b[1;33m\u001b[0m\u001b[0m\n\u001b[1;32m--> 421\u001b[1;33m                     \u001b[0mhttplib_response\u001b[0m \u001b[1;33m=\u001b[0m \u001b[0mconn\u001b[0m\u001b[1;33m.\u001b[0m\u001b[0mgetresponse\u001b[0m\u001b[1;33m(\u001b[0m\u001b[1;33m)\u001b[0m\u001b[1;33m\u001b[0m\u001b[1;33m\u001b[0m\u001b[0m\n\u001b[0m\u001b[0;32m    422\u001b[0m                 \u001b[1;32mexcept\u001b[0m \u001b[0mBaseException\u001b[0m \u001b[1;32mas\u001b[0m \u001b[0me\u001b[0m\u001b[1;33m:\u001b[0m\u001b[1;33m\u001b[0m\u001b[1;33m\u001b[0m\u001b[0m\n",
      "\u001b[1;32m~\\anaconda3\\lib\\http\\client.py\u001b[0m in \u001b[0;36mgetresponse\u001b[1;34m(self)\u001b[0m\n\u001b[0;32m   1343\u001b[0m             \u001b[1;32mtry\u001b[0m\u001b[1;33m:\u001b[0m\u001b[1;33m\u001b[0m\u001b[1;33m\u001b[0m\u001b[0m\n\u001b[1;32m-> 1344\u001b[1;33m                 \u001b[0mresponse\u001b[0m\u001b[1;33m.\u001b[0m\u001b[0mbegin\u001b[0m\u001b[1;33m(\u001b[0m\u001b[1;33m)\u001b[0m\u001b[1;33m\u001b[0m\u001b[1;33m\u001b[0m\u001b[0m\n\u001b[0m\u001b[0;32m   1345\u001b[0m             \u001b[1;32mexcept\u001b[0m \u001b[0mConnectionError\u001b[0m\u001b[1;33m:\u001b[0m\u001b[1;33m\u001b[0m\u001b[1;33m\u001b[0m\u001b[0m\n",
      "\u001b[1;32m~\\anaconda3\\lib\\http\\client.py\u001b[0m in \u001b[0;36mbegin\u001b[1;34m(self)\u001b[0m\n\u001b[0;32m    305\u001b[0m         \u001b[1;32mwhile\u001b[0m \u001b[1;32mTrue\u001b[0m\u001b[1;33m:\u001b[0m\u001b[1;33m\u001b[0m\u001b[1;33m\u001b[0m\u001b[0m\n\u001b[1;32m--> 306\u001b[1;33m             \u001b[0mversion\u001b[0m\u001b[1;33m,\u001b[0m \u001b[0mstatus\u001b[0m\u001b[1;33m,\u001b[0m \u001b[0mreason\u001b[0m \u001b[1;33m=\u001b[0m \u001b[0mself\u001b[0m\u001b[1;33m.\u001b[0m\u001b[0m_read_status\u001b[0m\u001b[1;33m(\u001b[0m\u001b[1;33m)\u001b[0m\u001b[1;33m\u001b[0m\u001b[1;33m\u001b[0m\u001b[0m\n\u001b[0m\u001b[0;32m    307\u001b[0m             \u001b[1;32mif\u001b[0m \u001b[0mstatus\u001b[0m \u001b[1;33m!=\u001b[0m \u001b[0mCONTINUE\u001b[0m\u001b[1;33m:\u001b[0m\u001b[1;33m\u001b[0m\u001b[1;33m\u001b[0m\u001b[0m\n",
      "\u001b[1;32m~\\anaconda3\\lib\\http\\client.py\u001b[0m in \u001b[0;36m_read_status\u001b[1;34m(self)\u001b[0m\n\u001b[0;32m    266\u001b[0m     \u001b[1;32mdef\u001b[0m \u001b[0m_read_status\u001b[0m\u001b[1;33m(\u001b[0m\u001b[0mself\u001b[0m\u001b[1;33m)\u001b[0m\u001b[1;33m:\u001b[0m\u001b[1;33m\u001b[0m\u001b[1;33m\u001b[0m\u001b[0m\n\u001b[1;32m--> 267\u001b[1;33m         \u001b[0mline\u001b[0m \u001b[1;33m=\u001b[0m \u001b[0mstr\u001b[0m\u001b[1;33m(\u001b[0m\u001b[0mself\u001b[0m\u001b[1;33m.\u001b[0m\u001b[0mfp\u001b[0m\u001b[1;33m.\u001b[0m\u001b[0mreadline\u001b[0m\u001b[1;33m(\u001b[0m\u001b[0m_MAXLINE\u001b[0m \u001b[1;33m+\u001b[0m \u001b[1;36m1\u001b[0m\u001b[1;33m)\u001b[0m\u001b[1;33m,\u001b[0m \u001b[1;34m\"iso-8859-1\"\u001b[0m\u001b[1;33m)\u001b[0m\u001b[1;33m\u001b[0m\u001b[1;33m\u001b[0m\u001b[0m\n\u001b[0m\u001b[0;32m    268\u001b[0m         \u001b[1;32mif\u001b[0m \u001b[0mlen\u001b[0m\u001b[1;33m(\u001b[0m\u001b[0mline\u001b[0m\u001b[1;33m)\u001b[0m \u001b[1;33m>\u001b[0m \u001b[0m_MAXLINE\u001b[0m\u001b[1;33m:\u001b[0m\u001b[1;33m\u001b[0m\u001b[1;33m\u001b[0m\u001b[0m\n",
      "\u001b[1;32m~\\anaconda3\\lib\\socket.py\u001b[0m in \u001b[0;36mreadinto\u001b[1;34m(self, b)\u001b[0m\n\u001b[0;32m    588\u001b[0m             \u001b[1;32mtry\u001b[0m\u001b[1;33m:\u001b[0m\u001b[1;33m\u001b[0m\u001b[1;33m\u001b[0m\u001b[0m\n\u001b[1;32m--> 589\u001b[1;33m                 \u001b[1;32mreturn\u001b[0m \u001b[0mself\u001b[0m\u001b[1;33m.\u001b[0m\u001b[0m_sock\u001b[0m\u001b[1;33m.\u001b[0m\u001b[0mrecv_into\u001b[0m\u001b[1;33m(\u001b[0m\u001b[0mb\u001b[0m\u001b[1;33m)\u001b[0m\u001b[1;33m\u001b[0m\u001b[1;33m\u001b[0m\u001b[0m\n\u001b[0m\u001b[0;32m    590\u001b[0m             \u001b[1;32mexcept\u001b[0m \u001b[0mtimeout\u001b[0m\u001b[1;33m:\u001b[0m\u001b[1;33m\u001b[0m\u001b[1;33m\u001b[0m\u001b[0m\n",
      "\u001b[1;31mConnectionResetError\u001b[0m: [WinError 10054] An existing connection was forcibly closed by the remote host",
      "\nDuring handling of the above exception, another exception occurred:\n",
      "\u001b[1;31mProtocolError\u001b[0m                             Traceback (most recent call last)",
      "\u001b[1;32m~\\anaconda3\\lib\\site-packages\\requests\\adapters.py\u001b[0m in \u001b[0;36msend\u001b[1;34m(self, request, stream, timeout, verify, cert, proxies)\u001b[0m\n\u001b[0;32m    448\u001b[0m                     \u001b[0mretries\u001b[0m\u001b[1;33m=\u001b[0m\u001b[0mself\u001b[0m\u001b[1;33m.\u001b[0m\u001b[0mmax_retries\u001b[0m\u001b[1;33m,\u001b[0m\u001b[1;33m\u001b[0m\u001b[1;33m\u001b[0m\u001b[0m\n\u001b[1;32m--> 449\u001b[1;33m                     \u001b[0mtimeout\u001b[0m\u001b[1;33m=\u001b[0m\u001b[0mtimeout\u001b[0m\u001b[1;33m\u001b[0m\u001b[1;33m\u001b[0m\u001b[0m\n\u001b[0m\u001b[0;32m    450\u001b[0m                 )\n",
      "\u001b[1;32m~\\anaconda3\\lib\\site-packages\\urllib3\\connectionpool.py\u001b[0m in \u001b[0;36murlopen\u001b[1;34m(self, method, url, body, headers, retries, redirect, assert_same_host, timeout, pool_timeout, release_conn, chunked, body_pos, **response_kw)\u001b[0m\n\u001b[0;32m    724\u001b[0m             retries = retries.increment(\n\u001b[1;32m--> 725\u001b[1;33m                 \u001b[0mmethod\u001b[0m\u001b[1;33m,\u001b[0m \u001b[0murl\u001b[0m\u001b[1;33m,\u001b[0m \u001b[0merror\u001b[0m\u001b[1;33m=\u001b[0m\u001b[0me\u001b[0m\u001b[1;33m,\u001b[0m \u001b[0m_pool\u001b[0m\u001b[1;33m=\u001b[0m\u001b[0mself\u001b[0m\u001b[1;33m,\u001b[0m \u001b[0m_stacktrace\u001b[0m\u001b[1;33m=\u001b[0m\u001b[0msys\u001b[0m\u001b[1;33m.\u001b[0m\u001b[0mexc_info\u001b[0m\u001b[1;33m(\u001b[0m\u001b[1;33m)\u001b[0m\u001b[1;33m[\u001b[0m\u001b[1;36m2\u001b[0m\u001b[1;33m]\u001b[0m\u001b[1;33m\u001b[0m\u001b[1;33m\u001b[0m\u001b[0m\n\u001b[0m\u001b[0;32m    726\u001b[0m             )\n",
      "\u001b[1;32m~\\anaconda3\\lib\\site-packages\\urllib3\\util\\retry.py\u001b[0m in \u001b[0;36mincrement\u001b[1;34m(self, method, url, response, error, _pool, _stacktrace)\u001b[0m\n\u001b[0;32m    402\u001b[0m             \u001b[1;32mif\u001b[0m \u001b[0mread\u001b[0m \u001b[1;32mis\u001b[0m \u001b[1;32mFalse\u001b[0m \u001b[1;32mor\u001b[0m \u001b[1;32mnot\u001b[0m \u001b[0mself\u001b[0m\u001b[1;33m.\u001b[0m\u001b[0m_is_method_retryable\u001b[0m\u001b[1;33m(\u001b[0m\u001b[0mmethod\u001b[0m\u001b[1;33m)\u001b[0m\u001b[1;33m:\u001b[0m\u001b[1;33m\u001b[0m\u001b[1;33m\u001b[0m\u001b[0m\n\u001b[1;32m--> 403\u001b[1;33m                 \u001b[1;32mraise\u001b[0m \u001b[0msix\u001b[0m\u001b[1;33m.\u001b[0m\u001b[0mreraise\u001b[0m\u001b[1;33m(\u001b[0m\u001b[0mtype\u001b[0m\u001b[1;33m(\u001b[0m\u001b[0merror\u001b[0m\u001b[1;33m)\u001b[0m\u001b[1;33m,\u001b[0m \u001b[0merror\u001b[0m\u001b[1;33m,\u001b[0m \u001b[0m_stacktrace\u001b[0m\u001b[1;33m)\u001b[0m\u001b[1;33m\u001b[0m\u001b[1;33m\u001b[0m\u001b[0m\n\u001b[0m\u001b[0;32m    404\u001b[0m             \u001b[1;32melif\u001b[0m \u001b[0mread\u001b[0m \u001b[1;32mis\u001b[0m \u001b[1;32mnot\u001b[0m \u001b[1;32mNone\u001b[0m\u001b[1;33m:\u001b[0m\u001b[1;33m\u001b[0m\u001b[1;33m\u001b[0m\u001b[0m\n",
      "\u001b[1;32m~\\anaconda3\\lib\\site-packages\\urllib3\\packages\\six.py\u001b[0m in \u001b[0;36mreraise\u001b[1;34m(tp, value, tb)\u001b[0m\n\u001b[0;32m    733\u001b[0m             \u001b[1;32mif\u001b[0m \u001b[0mvalue\u001b[0m\u001b[1;33m.\u001b[0m\u001b[0m__traceback__\u001b[0m \u001b[1;32mis\u001b[0m \u001b[1;32mnot\u001b[0m \u001b[0mtb\u001b[0m\u001b[1;33m:\u001b[0m\u001b[1;33m\u001b[0m\u001b[1;33m\u001b[0m\u001b[0m\n\u001b[1;32m--> 734\u001b[1;33m                 \u001b[1;32mraise\u001b[0m \u001b[0mvalue\u001b[0m\u001b[1;33m.\u001b[0m\u001b[0mwith_traceback\u001b[0m\u001b[1;33m(\u001b[0m\u001b[0mtb\u001b[0m\u001b[1;33m)\u001b[0m\u001b[1;33m\u001b[0m\u001b[1;33m\u001b[0m\u001b[0m\n\u001b[0m\u001b[0;32m    735\u001b[0m             \u001b[1;32mraise\u001b[0m \u001b[0mvalue\u001b[0m\u001b[1;33m\u001b[0m\u001b[1;33m\u001b[0m\u001b[0m\n",
      "\u001b[1;32m~\\anaconda3\\lib\\site-packages\\urllib3\\connectionpool.py\u001b[0m in \u001b[0;36murlopen\u001b[1;34m(self, method, url, body, headers, retries, redirect, assert_same_host, timeout, pool_timeout, release_conn, chunked, body_pos, **response_kw)\u001b[0m\n\u001b[0;32m    676\u001b[0m                 \u001b[0mheaders\u001b[0m\u001b[1;33m=\u001b[0m\u001b[0mheaders\u001b[0m\u001b[1;33m,\u001b[0m\u001b[1;33m\u001b[0m\u001b[1;33m\u001b[0m\u001b[0m\n\u001b[1;32m--> 677\u001b[1;33m                 \u001b[0mchunked\u001b[0m\u001b[1;33m=\u001b[0m\u001b[0mchunked\u001b[0m\u001b[1;33m,\u001b[0m\u001b[1;33m\u001b[0m\u001b[1;33m\u001b[0m\u001b[0m\n\u001b[0m\u001b[0;32m    678\u001b[0m             )\n",
      "\u001b[1;32m~\\anaconda3\\lib\\site-packages\\urllib3\\connectionpool.py\u001b[0m in \u001b[0;36m_make_request\u001b[1;34m(self, conn, method, url, timeout, chunked, **httplib_request_kw)\u001b[0m\n\u001b[0;32m    425\u001b[0m                     \u001b[1;31m# Otherwise it looks like a bug in the code.\u001b[0m\u001b[1;33m\u001b[0m\u001b[1;33m\u001b[0m\u001b[1;33m\u001b[0m\u001b[0m\n\u001b[1;32m--> 426\u001b[1;33m                     \u001b[0msix\u001b[0m\u001b[1;33m.\u001b[0m\u001b[0mraise_from\u001b[0m\u001b[1;33m(\u001b[0m\u001b[0me\u001b[0m\u001b[1;33m,\u001b[0m \u001b[1;32mNone\u001b[0m\u001b[1;33m)\u001b[0m\u001b[1;33m\u001b[0m\u001b[1;33m\u001b[0m\u001b[0m\n\u001b[0m\u001b[0;32m    427\u001b[0m         \u001b[1;32mexcept\u001b[0m \u001b[1;33m(\u001b[0m\u001b[0mSocketTimeout\u001b[0m\u001b[1;33m,\u001b[0m \u001b[0mBaseSSLError\u001b[0m\u001b[1;33m,\u001b[0m \u001b[0mSocketError\u001b[0m\u001b[1;33m)\u001b[0m \u001b[1;32mas\u001b[0m \u001b[0me\u001b[0m\u001b[1;33m:\u001b[0m\u001b[1;33m\u001b[0m\u001b[1;33m\u001b[0m\u001b[0m\n",
      "\u001b[1;32m~\\anaconda3\\lib\\site-packages\\urllib3\\packages\\six.py\u001b[0m in \u001b[0;36mraise_from\u001b[1;34m(value, from_value)\u001b[0m\n",
      "\u001b[1;32m~\\anaconda3\\lib\\site-packages\\urllib3\\connectionpool.py\u001b[0m in \u001b[0;36m_make_request\u001b[1;34m(self, conn, method, url, timeout, chunked, **httplib_request_kw)\u001b[0m\n\u001b[0;32m    420\u001b[0m                 \u001b[1;32mtry\u001b[0m\u001b[1;33m:\u001b[0m\u001b[1;33m\u001b[0m\u001b[1;33m\u001b[0m\u001b[0m\n\u001b[1;32m--> 421\u001b[1;33m                     \u001b[0mhttplib_response\u001b[0m \u001b[1;33m=\u001b[0m \u001b[0mconn\u001b[0m\u001b[1;33m.\u001b[0m\u001b[0mgetresponse\u001b[0m\u001b[1;33m(\u001b[0m\u001b[1;33m)\u001b[0m\u001b[1;33m\u001b[0m\u001b[1;33m\u001b[0m\u001b[0m\n\u001b[0m\u001b[0;32m    422\u001b[0m                 \u001b[1;32mexcept\u001b[0m \u001b[0mBaseException\u001b[0m \u001b[1;32mas\u001b[0m \u001b[0me\u001b[0m\u001b[1;33m:\u001b[0m\u001b[1;33m\u001b[0m\u001b[1;33m\u001b[0m\u001b[0m\n",
      "\u001b[1;32m~\\anaconda3\\lib\\http\\client.py\u001b[0m in \u001b[0;36mgetresponse\u001b[1;34m(self)\u001b[0m\n\u001b[0;32m   1343\u001b[0m             \u001b[1;32mtry\u001b[0m\u001b[1;33m:\u001b[0m\u001b[1;33m\u001b[0m\u001b[1;33m\u001b[0m\u001b[0m\n\u001b[1;32m-> 1344\u001b[1;33m                 \u001b[0mresponse\u001b[0m\u001b[1;33m.\u001b[0m\u001b[0mbegin\u001b[0m\u001b[1;33m(\u001b[0m\u001b[1;33m)\u001b[0m\u001b[1;33m\u001b[0m\u001b[1;33m\u001b[0m\u001b[0m\n\u001b[0m\u001b[0;32m   1345\u001b[0m             \u001b[1;32mexcept\u001b[0m \u001b[0mConnectionError\u001b[0m\u001b[1;33m:\u001b[0m\u001b[1;33m\u001b[0m\u001b[1;33m\u001b[0m\u001b[0m\n",
      "\u001b[1;32m~\\anaconda3\\lib\\http\\client.py\u001b[0m in \u001b[0;36mbegin\u001b[1;34m(self)\u001b[0m\n\u001b[0;32m    305\u001b[0m         \u001b[1;32mwhile\u001b[0m \u001b[1;32mTrue\u001b[0m\u001b[1;33m:\u001b[0m\u001b[1;33m\u001b[0m\u001b[1;33m\u001b[0m\u001b[0m\n\u001b[1;32m--> 306\u001b[1;33m             \u001b[0mversion\u001b[0m\u001b[1;33m,\u001b[0m \u001b[0mstatus\u001b[0m\u001b[1;33m,\u001b[0m \u001b[0mreason\u001b[0m \u001b[1;33m=\u001b[0m \u001b[0mself\u001b[0m\u001b[1;33m.\u001b[0m\u001b[0m_read_status\u001b[0m\u001b[1;33m(\u001b[0m\u001b[1;33m)\u001b[0m\u001b[1;33m\u001b[0m\u001b[1;33m\u001b[0m\u001b[0m\n\u001b[0m\u001b[0;32m    307\u001b[0m             \u001b[1;32mif\u001b[0m \u001b[0mstatus\u001b[0m \u001b[1;33m!=\u001b[0m \u001b[0mCONTINUE\u001b[0m\u001b[1;33m:\u001b[0m\u001b[1;33m\u001b[0m\u001b[1;33m\u001b[0m\u001b[0m\n",
      "\u001b[1;32m~\\anaconda3\\lib\\http\\client.py\u001b[0m in \u001b[0;36m_read_status\u001b[1;34m(self)\u001b[0m\n\u001b[0;32m    266\u001b[0m     \u001b[1;32mdef\u001b[0m \u001b[0m_read_status\u001b[0m\u001b[1;33m(\u001b[0m\u001b[0mself\u001b[0m\u001b[1;33m)\u001b[0m\u001b[1;33m:\u001b[0m\u001b[1;33m\u001b[0m\u001b[1;33m\u001b[0m\u001b[0m\n\u001b[1;32m--> 267\u001b[1;33m         \u001b[0mline\u001b[0m \u001b[1;33m=\u001b[0m \u001b[0mstr\u001b[0m\u001b[1;33m(\u001b[0m\u001b[0mself\u001b[0m\u001b[1;33m.\u001b[0m\u001b[0mfp\u001b[0m\u001b[1;33m.\u001b[0m\u001b[0mreadline\u001b[0m\u001b[1;33m(\u001b[0m\u001b[0m_MAXLINE\u001b[0m \u001b[1;33m+\u001b[0m \u001b[1;36m1\u001b[0m\u001b[1;33m)\u001b[0m\u001b[1;33m,\u001b[0m \u001b[1;34m\"iso-8859-1\"\u001b[0m\u001b[1;33m)\u001b[0m\u001b[1;33m\u001b[0m\u001b[1;33m\u001b[0m\u001b[0m\n\u001b[0m\u001b[0;32m    268\u001b[0m         \u001b[1;32mif\u001b[0m \u001b[0mlen\u001b[0m\u001b[1;33m(\u001b[0m\u001b[0mline\u001b[0m\u001b[1;33m)\u001b[0m \u001b[1;33m>\u001b[0m \u001b[0m_MAXLINE\u001b[0m\u001b[1;33m:\u001b[0m\u001b[1;33m\u001b[0m\u001b[1;33m\u001b[0m\u001b[0m\n",
      "\u001b[1;32m~\\anaconda3\\lib\\socket.py\u001b[0m in \u001b[0;36mreadinto\u001b[1;34m(self, b)\u001b[0m\n\u001b[0;32m    588\u001b[0m             \u001b[1;32mtry\u001b[0m\u001b[1;33m:\u001b[0m\u001b[1;33m\u001b[0m\u001b[1;33m\u001b[0m\u001b[0m\n\u001b[1;32m--> 589\u001b[1;33m                 \u001b[1;32mreturn\u001b[0m \u001b[0mself\u001b[0m\u001b[1;33m.\u001b[0m\u001b[0m_sock\u001b[0m\u001b[1;33m.\u001b[0m\u001b[0mrecv_into\u001b[0m\u001b[1;33m(\u001b[0m\u001b[0mb\u001b[0m\u001b[1;33m)\u001b[0m\u001b[1;33m\u001b[0m\u001b[1;33m\u001b[0m\u001b[0m\n\u001b[0m\u001b[0;32m    590\u001b[0m             \u001b[1;32mexcept\u001b[0m \u001b[0mtimeout\u001b[0m\u001b[1;33m:\u001b[0m\u001b[1;33m\u001b[0m\u001b[1;33m\u001b[0m\u001b[0m\n",
      "\u001b[1;31mProtocolError\u001b[0m: ('Connection aborted.', ConnectionResetError(10054, 'An existing connection was forcibly closed by the remote host', None, 10054, None))",
      "\nDuring handling of the above exception, another exception occurred:\n",
      "\u001b[1;31mConnectionError\u001b[0m                           Traceback (most recent call last)",
      "\u001b[1;32m<ipython-input-68-4d19972ee2e4>\u001b[0m in \u001b[0;36m<module>\u001b[1;34m\u001b[0m\n\u001b[0;32m     32\u001b[0m     \u001b[0mi\u001b[0m \u001b[1;33m=\u001b[0m \u001b[1;36m0\u001b[0m\u001b[1;33m\u001b[0m\u001b[1;33m\u001b[0m\u001b[0m\n\u001b[0;32m     33\u001b[0m     \u001b[1;32mfor\u001b[0m \u001b[0mline\u001b[0m \u001b[1;32min\u001b[0m \u001b[0mf\u001b[0m\u001b[1;33m:\u001b[0m\u001b[1;33m\u001b[0m\u001b[1;33m\u001b[0m\u001b[0m\n\u001b[1;32m---> 34\u001b[1;33m         \u001b[0mtriple_generation\u001b[0m\u001b[1;33m(\u001b[0m\u001b[0mline\u001b[0m\u001b[1;33m,\u001b[0m \u001b[0mfile_name\u001b[0m\u001b[1;33m,\u001b[0m \u001b[0mi\u001b[0m\u001b[1;33m)\u001b[0m\u001b[1;33m\u001b[0m\u001b[1;33m\u001b[0m\u001b[0m\n\u001b[0m\u001b[0;32m     35\u001b[0m         \u001b[0mi\u001b[0m \u001b[1;33m+=\u001b[0m \u001b[1;36m1\u001b[0m\u001b[1;33m\u001b[0m\u001b[1;33m\u001b[0m\u001b[0m\n\u001b[0;32m     36\u001b[0m \u001b[1;33m\u001b[0m\u001b[0m\n",
      "\u001b[1;32m<ipython-input-68-4d19972ee2e4>\u001b[0m in \u001b[0;36mtriple_generation\u001b[1;34m(text, file_name, i)\u001b[0m\n\u001b[0;32m     14\u001b[0m \u001b[1;33m\u001b[0m\u001b[0m\n\u001b[0;32m     15\u001b[0m     \u001b[1;32mwith\u001b[0m \u001b[0mStanfordOpenIE\u001b[0m\u001b[1;33m(\u001b[0m\u001b[1;33m)\u001b[0m \u001b[1;32mas\u001b[0m \u001b[0mclient\u001b[0m\u001b[1;33m:\u001b[0m\u001b[1;33m\u001b[0m\u001b[1;33m\u001b[0m\u001b[0m\n\u001b[1;32m---> 16\u001b[1;33m         \u001b[1;32mfor\u001b[0m \u001b[0mtriple\u001b[0m \u001b[1;32min\u001b[0m \u001b[0mclient\u001b[0m\u001b[1;33m.\u001b[0m\u001b[0mannotate\u001b[0m\u001b[1;33m(\u001b[0m\u001b[0mtext\u001b[0m\u001b[1;33m)\u001b[0m\u001b[1;33m:\u001b[0m\u001b[1;33m\u001b[0m\u001b[1;33m\u001b[0m\u001b[0m\n\u001b[0m\u001b[0;32m     17\u001b[0m             \u001b[0mindex_s\u001b[0m\u001b[1;33m.\u001b[0m\u001b[0mappend\u001b[0m\u001b[1;33m(\u001b[0m\u001b[0mi\u001b[0m\u001b[1;33m)\u001b[0m\u001b[1;33m\u001b[0m\u001b[1;33m\u001b[0m\u001b[0m\n\u001b[0;32m     18\u001b[0m             \u001b[0msubject_s\u001b[0m\u001b[1;33m.\u001b[0m\u001b[0mappend\u001b[0m\u001b[1;33m(\u001b[0m\u001b[0mtriple\u001b[0m\u001b[1;33m[\u001b[0m\u001b[1;34m'subject'\u001b[0m\u001b[1;33m]\u001b[0m\u001b[1;33m)\u001b[0m\u001b[1;33m\u001b[0m\u001b[1;33m\u001b[0m\u001b[0m\n",
      "\u001b[1;32m~\\anaconda3\\lib\\site-packages\\openie\\openie.py\u001b[0m in \u001b[0;36mannotate\u001b[1;34m(self, text, properties_key, properties, simple_format)\u001b[0m\n\u001b[0;32m     37\u001b[0m         \u001b[1;31m# https://stanfordnlp.github.io/CoreNLP/openie.html\u001b[0m\u001b[1;33m\u001b[0m\u001b[1;33m\u001b[0m\u001b[1;33m\u001b[0m\u001b[0m\n\u001b[0;32m     38\u001b[0m         core_nlp_output = self.client.annotate(text=text, annotators=['openie'], output_format='json',\n\u001b[1;32m---> 39\u001b[1;33m                                                properties_key=properties_key, properties=properties)\n\u001b[0m\u001b[0;32m     40\u001b[0m         \u001b[1;32mif\u001b[0m \u001b[0msimple_format\u001b[0m\u001b[1;33m:\u001b[0m\u001b[1;33m\u001b[0m\u001b[1;33m\u001b[0m\u001b[0m\n\u001b[0;32m     41\u001b[0m             \u001b[0mtriples\u001b[0m \u001b[1;33m=\u001b[0m \u001b[1;33m[\u001b[0m\u001b[1;33m]\u001b[0m\u001b[1;33m\u001b[0m\u001b[1;33m\u001b[0m\u001b[0m\n",
      "\u001b[1;32m~\\anaconda3\\lib\\site-packages\\stanfordnlp\\server\\client.py\u001b[0m in \u001b[0;36mannotate\u001b[1;34m(self, text, annotators, output_format, properties_key, properties, **kwargs)\u001b[0m\n\u001b[0;32m    396\u001b[0m                 \u001b[0mrequest_properties\u001b[0m\u001b[1;33m[\u001b[0m\u001b[1;34m'outputFormat'\u001b[0m\u001b[1;33m]\u001b[0m \u001b[1;33m=\u001b[0m \u001b[0mCoreNLPClient\u001b[0m\u001b[1;33m.\u001b[0m\u001b[0mDEFAULT_OUTPUT_FORMAT\u001b[0m\u001b[1;33m\u001b[0m\u001b[1;33m\u001b[0m\u001b[0m\n\u001b[0;32m    397\u001b[0m         \u001b[1;31m# make the request\u001b[0m\u001b[1;33m\u001b[0m\u001b[1;33m\u001b[0m\u001b[1;33m\u001b[0m\u001b[0m\n\u001b[1;32m--> 398\u001b[1;33m         \u001b[0mr\u001b[0m \u001b[1;33m=\u001b[0m \u001b[0mself\u001b[0m\u001b[1;33m.\u001b[0m\u001b[0m_request\u001b[0m\u001b[1;33m(\u001b[0m\u001b[0mtext\u001b[0m\u001b[1;33m.\u001b[0m\u001b[0mencode\u001b[0m\u001b[1;33m(\u001b[0m\u001b[1;34m'utf-8'\u001b[0m\u001b[1;33m)\u001b[0m\u001b[1;33m,\u001b[0m \u001b[0mrequest_properties\u001b[0m\u001b[1;33m,\u001b[0m \u001b[1;33m**\u001b[0m\u001b[0mkwargs\u001b[0m\u001b[1;33m)\u001b[0m\u001b[1;33m\u001b[0m\u001b[1;33m\u001b[0m\u001b[0m\n\u001b[0m\u001b[0;32m    399\u001b[0m         \u001b[1;32mif\u001b[0m \u001b[0mrequest_properties\u001b[0m\u001b[1;33m[\u001b[0m\u001b[1;34m\"outputFormat\"\u001b[0m\u001b[1;33m]\u001b[0m \u001b[1;33m==\u001b[0m \u001b[1;34m\"json\"\u001b[0m\u001b[1;33m:\u001b[0m\u001b[1;33m\u001b[0m\u001b[1;33m\u001b[0m\u001b[0m\n\u001b[0;32m    400\u001b[0m             \u001b[1;32mreturn\u001b[0m \u001b[0mr\u001b[0m\u001b[1;33m.\u001b[0m\u001b[0mjson\u001b[0m\u001b[1;33m(\u001b[0m\u001b[1;33m)\u001b[0m\u001b[1;33m\u001b[0m\u001b[1;33m\u001b[0m\u001b[0m\n",
      "\u001b[1;32m~\\anaconda3\\lib\\site-packages\\stanfordnlp\\server\\client.py\u001b[0m in \u001b[0;36m_request\u001b[1;34m(self, buf, properties, **kwargs)\u001b[0m\n\u001b[0;32m    327\u001b[0m                               \u001b[0mparams\u001b[0m\u001b[1;33m=\u001b[0m\u001b[1;33m{\u001b[0m\u001b[1;34m'properties'\u001b[0m\u001b[1;33m:\u001b[0m \u001b[0mstr\u001b[0m\u001b[1;33m(\u001b[0m\u001b[0mproperties\u001b[0m\u001b[1;33m)\u001b[0m\u001b[1;33m}\u001b[0m\u001b[1;33m,\u001b[0m\u001b[1;33m\u001b[0m\u001b[1;33m\u001b[0m\u001b[0m\n\u001b[0;32m    328\u001b[0m                               \u001b[0mdata\u001b[0m\u001b[1;33m=\u001b[0m\u001b[0mbuf\u001b[0m\u001b[1;33m,\u001b[0m \u001b[0mheaders\u001b[0m\u001b[1;33m=\u001b[0m\u001b[1;33m{\u001b[0m\u001b[1;34m'content-type'\u001b[0m\u001b[1;33m:\u001b[0m \u001b[0mctype\u001b[0m\u001b[1;33m}\u001b[0m\u001b[1;33m,\u001b[0m\u001b[1;33m\u001b[0m\u001b[1;33m\u001b[0m\u001b[0m\n\u001b[1;32m--> 329\u001b[1;33m                               timeout=(self.timeout*2)/1000, **kwargs)\n\u001b[0m\u001b[0;32m    330\u001b[0m             \u001b[0mr\u001b[0m\u001b[1;33m.\u001b[0m\u001b[0mraise_for_status\u001b[0m\u001b[1;33m(\u001b[0m\u001b[1;33m)\u001b[0m\u001b[1;33m\u001b[0m\u001b[1;33m\u001b[0m\u001b[0m\n\u001b[0;32m    331\u001b[0m             \u001b[1;32mreturn\u001b[0m \u001b[0mr\u001b[0m\u001b[1;33m\u001b[0m\u001b[1;33m\u001b[0m\u001b[0m\n",
      "\u001b[1;32m~\\anaconda3\\lib\\site-packages\\requests\\api.py\u001b[0m in \u001b[0;36mpost\u001b[1;34m(url, data, json, **kwargs)\u001b[0m\n\u001b[0;32m    117\u001b[0m     \"\"\"\n\u001b[0;32m    118\u001b[0m \u001b[1;33m\u001b[0m\u001b[0m\n\u001b[1;32m--> 119\u001b[1;33m     \u001b[1;32mreturn\u001b[0m \u001b[0mrequest\u001b[0m\u001b[1;33m(\u001b[0m\u001b[1;34m'post'\u001b[0m\u001b[1;33m,\u001b[0m \u001b[0murl\u001b[0m\u001b[1;33m,\u001b[0m \u001b[0mdata\u001b[0m\u001b[1;33m=\u001b[0m\u001b[0mdata\u001b[0m\u001b[1;33m,\u001b[0m \u001b[0mjson\u001b[0m\u001b[1;33m=\u001b[0m\u001b[0mjson\u001b[0m\u001b[1;33m,\u001b[0m \u001b[1;33m**\u001b[0m\u001b[0mkwargs\u001b[0m\u001b[1;33m)\u001b[0m\u001b[1;33m\u001b[0m\u001b[1;33m\u001b[0m\u001b[0m\n\u001b[0m\u001b[0;32m    120\u001b[0m \u001b[1;33m\u001b[0m\u001b[0m\n\u001b[0;32m    121\u001b[0m \u001b[1;33m\u001b[0m\u001b[0m\n",
      "\u001b[1;32m~\\anaconda3\\lib\\site-packages\\requests\\api.py\u001b[0m in \u001b[0;36mrequest\u001b[1;34m(method, url, **kwargs)\u001b[0m\n\u001b[0;32m     59\u001b[0m     \u001b[1;31m# cases, and look like a memory leak in others.\u001b[0m\u001b[1;33m\u001b[0m\u001b[1;33m\u001b[0m\u001b[1;33m\u001b[0m\u001b[0m\n\u001b[0;32m     60\u001b[0m     \u001b[1;32mwith\u001b[0m \u001b[0msessions\u001b[0m\u001b[1;33m.\u001b[0m\u001b[0mSession\u001b[0m\u001b[1;33m(\u001b[0m\u001b[1;33m)\u001b[0m \u001b[1;32mas\u001b[0m \u001b[0msession\u001b[0m\u001b[1;33m:\u001b[0m\u001b[1;33m\u001b[0m\u001b[1;33m\u001b[0m\u001b[0m\n\u001b[1;32m---> 61\u001b[1;33m         \u001b[1;32mreturn\u001b[0m \u001b[0msession\u001b[0m\u001b[1;33m.\u001b[0m\u001b[0mrequest\u001b[0m\u001b[1;33m(\u001b[0m\u001b[0mmethod\u001b[0m\u001b[1;33m=\u001b[0m\u001b[0mmethod\u001b[0m\u001b[1;33m,\u001b[0m \u001b[0murl\u001b[0m\u001b[1;33m=\u001b[0m\u001b[0murl\u001b[0m\u001b[1;33m,\u001b[0m \u001b[1;33m**\u001b[0m\u001b[0mkwargs\u001b[0m\u001b[1;33m)\u001b[0m\u001b[1;33m\u001b[0m\u001b[1;33m\u001b[0m\u001b[0m\n\u001b[0m\u001b[0;32m     62\u001b[0m \u001b[1;33m\u001b[0m\u001b[0m\n\u001b[0;32m     63\u001b[0m \u001b[1;33m\u001b[0m\u001b[0m\n",
      "\u001b[1;32m~\\anaconda3\\lib\\site-packages\\requests\\sessions.py\u001b[0m in \u001b[0;36mrequest\u001b[1;34m(self, method, url, params, data, headers, cookies, files, auth, timeout, allow_redirects, proxies, hooks, stream, verify, cert, json)\u001b[0m\n\u001b[0;32m    528\u001b[0m         }\n\u001b[0;32m    529\u001b[0m         \u001b[0msend_kwargs\u001b[0m\u001b[1;33m.\u001b[0m\u001b[0mupdate\u001b[0m\u001b[1;33m(\u001b[0m\u001b[0msettings\u001b[0m\u001b[1;33m)\u001b[0m\u001b[1;33m\u001b[0m\u001b[1;33m\u001b[0m\u001b[0m\n\u001b[1;32m--> 530\u001b[1;33m         \u001b[0mresp\u001b[0m \u001b[1;33m=\u001b[0m \u001b[0mself\u001b[0m\u001b[1;33m.\u001b[0m\u001b[0msend\u001b[0m\u001b[1;33m(\u001b[0m\u001b[0mprep\u001b[0m\u001b[1;33m,\u001b[0m \u001b[1;33m**\u001b[0m\u001b[0msend_kwargs\u001b[0m\u001b[1;33m)\u001b[0m\u001b[1;33m\u001b[0m\u001b[1;33m\u001b[0m\u001b[0m\n\u001b[0m\u001b[0;32m    531\u001b[0m \u001b[1;33m\u001b[0m\u001b[0m\n\u001b[0;32m    532\u001b[0m         \u001b[1;32mreturn\u001b[0m \u001b[0mresp\u001b[0m\u001b[1;33m\u001b[0m\u001b[1;33m\u001b[0m\u001b[0m\n",
      "\u001b[1;32m~\\anaconda3\\lib\\site-packages\\requests\\sessions.py\u001b[0m in \u001b[0;36msend\u001b[1;34m(self, request, **kwargs)\u001b[0m\n\u001b[0;32m    641\u001b[0m \u001b[1;33m\u001b[0m\u001b[0m\n\u001b[0;32m    642\u001b[0m         \u001b[1;31m# Send the request\u001b[0m\u001b[1;33m\u001b[0m\u001b[1;33m\u001b[0m\u001b[1;33m\u001b[0m\u001b[0m\n\u001b[1;32m--> 643\u001b[1;33m         \u001b[0mr\u001b[0m \u001b[1;33m=\u001b[0m \u001b[0madapter\u001b[0m\u001b[1;33m.\u001b[0m\u001b[0msend\u001b[0m\u001b[1;33m(\u001b[0m\u001b[0mrequest\u001b[0m\u001b[1;33m,\u001b[0m \u001b[1;33m**\u001b[0m\u001b[0mkwargs\u001b[0m\u001b[1;33m)\u001b[0m\u001b[1;33m\u001b[0m\u001b[1;33m\u001b[0m\u001b[0m\n\u001b[0m\u001b[0;32m    644\u001b[0m \u001b[1;33m\u001b[0m\u001b[0m\n\u001b[0;32m    645\u001b[0m         \u001b[1;31m# Total elapsed time of the request (approximately)\u001b[0m\u001b[1;33m\u001b[0m\u001b[1;33m\u001b[0m\u001b[1;33m\u001b[0m\u001b[0m\n",
      "\u001b[1;32m~\\anaconda3\\lib\\site-packages\\requests\\adapters.py\u001b[0m in \u001b[0;36msend\u001b[1;34m(self, request, stream, timeout, verify, cert, proxies)\u001b[0m\n\u001b[0;32m    496\u001b[0m \u001b[1;33m\u001b[0m\u001b[0m\n\u001b[0;32m    497\u001b[0m         \u001b[1;32mexcept\u001b[0m \u001b[1;33m(\u001b[0m\u001b[0mProtocolError\u001b[0m\u001b[1;33m,\u001b[0m \u001b[0msocket\u001b[0m\u001b[1;33m.\u001b[0m\u001b[0merror\u001b[0m\u001b[1;33m)\u001b[0m \u001b[1;32mas\u001b[0m \u001b[0merr\u001b[0m\u001b[1;33m:\u001b[0m\u001b[1;33m\u001b[0m\u001b[1;33m\u001b[0m\u001b[0m\n\u001b[1;32m--> 498\u001b[1;33m             \u001b[1;32mraise\u001b[0m \u001b[0mConnectionError\u001b[0m\u001b[1;33m(\u001b[0m\u001b[0merr\u001b[0m\u001b[1;33m,\u001b[0m \u001b[0mrequest\u001b[0m\u001b[1;33m=\u001b[0m\u001b[0mrequest\u001b[0m\u001b[1;33m)\u001b[0m\u001b[1;33m\u001b[0m\u001b[1;33m\u001b[0m\u001b[0m\n\u001b[0m\u001b[0;32m    499\u001b[0m \u001b[1;33m\u001b[0m\u001b[0m\n\u001b[0;32m    500\u001b[0m         \u001b[1;32mexcept\u001b[0m \u001b[0mMaxRetryError\u001b[0m \u001b[1;32mas\u001b[0m \u001b[0me\u001b[0m\u001b[1;33m:\u001b[0m\u001b[1;33m\u001b[0m\u001b[1;33m\u001b[0m\u001b[0m\n",
      "\u001b[1;31mConnectionError\u001b[0m: ('Connection aborted.', ConnectionResetError(10054, 'An existing connection was forcibly closed by the remote host', None, 10054, None))"
     ]
    }
   ],
   "source": [
    "from openie import StanfordOpenIE\n",
    "import pathlib\n",
    "import sys\n",
    "import glob\n",
    "import errno\n",
    "from textwrap import wrap\n",
    "import csv\n",
    "\n",
    "def triple_generation(text, file_name, i):\n",
    "    index_s = []\n",
    "    subject_s=[]\n",
    "    relation_s=[]\n",
    "    object_s=[]\n",
    "\n",
    "    with StanfordOpenIE() as client:\n",
    "        for triple in client.annotate(text):\n",
    "            index_s.append(i)\n",
    "            subject_s.append(triple['subject'])\n",
    "            relation_s.append(triple['relation'])\n",
    "            object_s.append(triple['object'])\n",
    "\n",
    "    with open(file_name, 'r+', encoding=\"utf8\") as f:\n",
    "        writer = csv.writer(f)\n",
    "        writer.writerows(zip(index_s, subject_s, relation_s,object_s))\n",
    "    file_name.close()\n",
    "    return \"success\"\n",
    "\n",
    "# lines list contain all the articles\n",
    "file_name = \"text_articles/text_articles.csv\"\n",
    "with open(\"text_articles.txt\", encoding=\"utf-8\") as f:\n",
    "#     text = f.read()\n",
    "    i = 0\n",
    "    for line in f:\n",
    "        triple_generation(line, file_name, i)\n",
    "        i += 1\n",
    "        "
   ]
  },
  {
   "cell_type": "code",
   "execution_count": null,
   "metadata": {
    "id": "OyKzy2BNZL4l",
    "outputId": "69a3dac9-4a61-4be3-8db4-09638cd5c730"
   },
   "outputs": [
    {
     "data": {
      "text/plain": [
       "'the union coal ministry on tuesday said it was likely to further extend the year-end deadline for verification of non-core customers. \"we may have to further extend the december 31,2001 deadline set for state governments to verify linked non-core customers due to a poor response from certain state governments,\" coal secretary n k sinha said. sinha said the government would further extend deadline by fortnight to one month to enable erring states to complete verification exercise. the ministry had previuosly extended the deadline by one month starting november 30 after state governments failed to ensure verification of all such customers. the move to verify customers comes in the wake of complaints of massive black marketing of coal by diverting supplies from genuine customers to non-existent ones through bogus state sponsored linkages. while certain states like punjab have completed the exercise others namely, andhra pradesh, gujarat, jammu and kashmir, bihar and uttar pradesh have failed to make much headway. sinha said government would act tough once deadline expires and could even cancel linkages to such customers. he said customers were already under notice to get themselves verified so that they could not plead ignorance in case state governments failed to act. under the existing system over 6,000 non-core customers continue to draw supplies from coal companies.'"
      ]
     },
     "execution_count": 74,
     "metadata": {
      "tags": []
     },
     "output_type": "execute_result"
    }
   ],
   "source": [
    "articles.iloc[0,3]"
   ]
  },
  {
   "cell_type": "markdown",
   "metadata": {
    "id": "cmMurJOnZL4r"
   },
   "source": [
    "## Build knowledge graph"
   ]
  },
  {
   "cell_type": "code",
   "execution_count": null,
   "metadata": {
    "id": "CFWrg5EfZL40",
    "outputId": "f30fd032-cfed-4db2-c1a3-8f5ac322d1b7",
    "scrolled": false
   },
   "outputs": [
    {
     "name": "stdout",
     "output_type": "stream",
     "text": [
      "(:Subject {name: 'Union Finance Ministry'})\n",
      "(:Object {name: 'ports'})\n",
      "(Union Finance Ministry)-[:speed up process at {}]->(ports)\n",
      "(:Subject {name: 'customs clearance'})\n",
      "(:Object {name: 'finance ministry'})\n",
      "(customs clearance)-[:is with {}]->(finance ministry)\n",
      "(:Subject {name: 'Union Finance Ministry'})\n",
      "(:Object {name: 'process of customs clearance'})\n",
      "(Union Finance Ministry)-[:speed up {}]->(process of customs clearance)\n",
      "(:Subject {name: 'delay'})\n",
      "(:Object {name: 'customs clearance with finance ministry'})\n",
      "(delay)-[:is in {}]->(customs clearance with finance ministry)\n",
      "(:Subject {name: 'Union Shipping Ministry'})\n",
      "(:Object {name: 'Union Finance Ministry'})\n",
      "(Union Shipping Ministry)-[:would ask {}]->(Union Finance Ministry)\n",
      "(:Subject {name: 'Union Finance Ministry'})\n",
      "(:Object {name: 'process'})\n",
      "(Union Finance Ministry)-[:speed up {}]->(process)\n",
      "(:Subject {name: 'delay'})\n",
      "(:Object {name: 'major'})\n",
      "(delay)-[:was {}]->(major)\n",
      "(:Subject {name: 'delay'})\n",
      "(:Object {name: 'customs clearance'})\n",
      "(delay)-[:is in {}]->(customs clearance)\n"
     ]
    }
   ],
   "source": [
    "from py2neo import Graph, Node, Relationship\n",
    "import pandas as pd\n",
    "\n",
    "#give the ip address and port on which neo4j is running\n",
    "# auth =(user_name,password), both neo4j in this case\n",
    "\n",
    "graph = Graph(\"http://localhost:7474\", auth=(\"neo4j\", \"abvilliers\"))\n",
    "\n",
    "df = pd.read_csv(\"text_articles/short_articles.csv\")\n",
    "##The header of the csv file must be subject ,relation,object\n",
    "for index, row in df.iterrows():\n",
    "    tx = graph.begin()\n",
    "    a = Node('Subject',name = row['subject'])\n",
    "    print(a)\n",
    "    tx.create(a)\n",
    "    b = Node('Object',name = row['object'])\n",
    "    print(b)\n",
    "    ab = Relationship(a,row['relation'],b)\n",
    "    print(ab)\n",
    "    tx.create(ab)\n",
    "    tx.commit()\n"
   ]
  },
  {
   "cell_type": "code",
   "execution_count": null,
   "metadata": {},
   "outputs": [],
   "source": []
  }
 ],
 "metadata": {
  "colab": {
   "collapsed_sections": [
    "X1HSXOWcZL3e",
    "2Z_leGliZL3z",
    "cmMurJOnZL4r",
    "8BcxmprbZL46",
    "my0zZ9fFZL8e"
   ],
   "name": "Sentiment.ipynb",
   "provenance": []
  },
  "kernelspec": {
   "display_name": "Python 3",
   "language": "python",
   "name": "python3"
  },
  "language_info": {
   "codemirror_mode": {
    "name": "ipython",
    "version": 3
   },
   "file_extension": ".py",
   "mimetype": "text/x-python",
   "name": "python",
   "nbconvert_exporter": "python",
   "pygments_lexer": "ipython3",
   "version": "3.7.6"
  }
 },
 "nbformat": 4,
 "nbformat_minor": 1
}
