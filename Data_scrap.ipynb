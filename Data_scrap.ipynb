{
 "cells": [
  {
   "cell_type": "markdown",
   "metadata": {
    "id": "Q4am2IDjZL1P"
   },
   "source": [
    "# Web Scraping"
   ]
  },
  {
   "cell_type": "markdown",
   "metadata": {},
   "source": [
    "Here we are using <b>newspaper</b> library to extract data from the economic times article."
   ]
  },
  {
   "cell_type": "code",
   "execution_count": null,
   "metadata": {
    "id": "8B3OSaeyZL1R"
   },
   "outputs": [],
   "source": [
    "from newspaper import Article\n",
    "import nltk"
   ]
  },
  {
   "cell_type": "code",
   "execution_count": null,
   "metadata": {
    "id": "5wjnhVBlZL1Y",
    "outputId": "3a35d1e4-f885-4f05-ac1d-26eb478f17a9"
   },
   "outputs": [
    {
     "name": "stderr",
     "output_type": "stream",
     "text": [
      "[nltk_data] Downloading package punkt to\n",
      "[nltk_data]     C:\\Users\\nrjkh\\AppData\\Roaming\\nltk_data...\n",
      "[nltk_data]   Package punkt is already up-to-date!\n"
     ]
    },
    {
     "data": {
      "text/plain": [
       "True"
      ]
     },
     "execution_count": 2,
     "metadata": {
      "tags": []
     },
     "output_type": "execute_result"
    }
   ],
   "source": [
    "nltk.download('punkt')"
   ]
  },
  {
   "cell_type": "code",
   "execution_count": null,
   "metadata": {
    "id": "WUs4DcipZL1h"
   },
   "outputs": [],
   "source": [
    "# url= 'https://timesofindia.indiatimes.com/business/india-business/rbi-reduces-repo-rate-rate-by-75-basis-points-to-4-4-key-points/articleshow/74840356.cms'\n",
    "\n",
    "url = \"https://economictimes.indiatimes.com/news/economy/policy/home-ministry-to-decide-on-jet-airways/articleshow/9142263.cms\""
   ]
  },
  {
   "cell_type": "code",
   "execution_count": null,
   "metadata": {
    "id": "IhoKKAjfZL1p"
   },
   "outputs": [],
   "source": [
    "article = Article(url, language=\"en\") # en for English"
   ]
  },
  {
   "cell_type": "code",
   "execution_count": null,
   "metadata": {
    "id": "-5mtp7cfZL10"
   },
   "outputs": [],
   "source": [
    "article.download() \n",
    "article.parse() \n",
    "article.nlp()"
   ]
  },
  {
   "cell_type": "code",
   "execution_count": null,
   "metadata": {
    "id": "qH2v7z7-ZL17",
    "outputId": "0d9b4560-156b-42f0-aca9-595303414ff4"
   },
   "outputs": [
    {
     "name": "stdout",
     "output_type": "stream",
     "text": [
      "Article Title:\n",
      "Home Ministry to decide on Jet Airways\n",
      "\n",
      "\n",
      "\n",
      "Article Text:\n",
      "NEW DELHI: The Home Ministry is the competent authority to decide whether the licence of Jet Airways should be cancelled due to the alleged â€˜underworld linksâ€™ of the airline, Civil Aviation Minister Shahnawaz Hussain said on Tuesday.â€œWe had received a communication from the home ministry on the â€˜adverse inputsâ€™ about Jet. We have written back to them to take a view on the issue since they are the competent authority,â€� he said while replying to queries about the fate of the airline.The final decision on the issue is to be taken after receiving recommendations from the Home Ministry, he added.Hussain also informed the Rajya Sabha that the Jet Airways issue was being examined. Replying to a query from Raju Parmar, he acknowledged that the government was aware of the issue.The Home Ministry, after receiving communications from intelligence agencies about the airlineâ€™s links with underworld dons, had communicated the same to the Civil Aviation Ministry.\n",
      "\n",
      "\n",
      "\n",
      "Article Summary:\n",
      "NEW DELHI: The Home Ministry is the competent authority to decide whether the licence of Jet Airways should be cancelled due to the alleged â€˜underworld linksâ€™ of the airline, Civil Aviation Minister Shahnawaz Hussain said on Tuesday.â€œWe had received a communication from the home ministry on the â€˜adverse inputsâ€™ about Jet.\n",
      "We have written back to them to take a view on the issue since they are the competent authority,â€� he said while replying to queries about the fate of the airline.The final decision on the issue is to be taken after receiving recommendations from the Home Ministry, he added.Hussain also informed the Rajya Sabha that the Jet Airways issue was being examined.\n",
      "Replying to a query from Raju Parmar, he acknowledged that the government was aware of the issue.The Home Ministry, after receiving communications from intelligence agencies about the airlineâ€™s links with underworld dons, had communicated the same to the Civil Aviation Ministry.\n",
      "\n",
      "\n",
      "\n",
      "Article Keywords:\n",
      "['ministry', 'receiving', 'airways', 'issue', 'competent', 'replying', 'âunderworld', 'jet', 'civil', 'aviation', 'decide']\n"
     ]
    }
   ],
   "source": [
    "print(\"Article Title:\") \n",
    "print(article.title) #prints the title of the article\n",
    "print(\"\\n\\n\") \n",
    "print(\"Article Text:\") \n",
    "print(article.text) #prints the entire text of the article\n",
    "print(\"\\n\\n\") \n",
    "print(\"Article Summary:\") \n",
    "print(article.summary) #prints the summary of the article\n",
    "print(\"\\n\\n\") \n",
    "print(\"Article Keywords:\")\n",
    "print(article.keywords) #prints the keywords of the article"
   ]
  },
  {
   "cell_type": "code",
   "execution_count": null,
   "metadata": {
    "id": "kFLkvsubZL2E"
   },
   "outputs": [],
   "source": [
    "# file1=open(\"NewsFile.txt\", \"w+\")\n",
    "# file1.write(\"Title:\\n\")\n",
    "# file1.write(article.title)\n",
    "# file1.write(\"\\n\\nArticle Text:\\n\")\n",
    "# file1.write(article.text)\n",
    "# file1.write(\"\\n\\nArticle Summary:\\n\")\n",
    "# file1.write(article.summary)\n",
    "# file1.write(\"\\n\\n\\nArticle Keywords:\\n\")\n",
    "# keywords='\\n'.join(article.keywords)\n",
    "# file1.write(keywords)\n",
    "# file1.close()"
   ]
  },
  {
   "cell_type": "markdown",
   "metadata": {
    "id": "pTLdr6BGZL2O"
   },
   "source": [
    "## Extracting Text using links"
   ]
  },
  {
   "cell_type": "code",
   "execution_count": 1,
   "metadata": {
    "id": "_n02_7nDZL2Q"
   },
   "outputs": [],
   "source": [
    "import pandas as pd\n",
    "\n",
    "# constructing a dataframe which contains all the links of the articles.\n",
    "df = pd.read_csv(\"economiclinks2006.csv\")\n"
   ]
  },
  {
   "cell_type": "code",
   "execution_count": 2,
   "metadata": {
    "id": "pkMQ6OecZL2S",
    "outputId": "65f739df-2578-4769-9a5b-d6a076553db6"
   },
   "outputs": [
    {
     "data": {
      "text/html": [
       "<div>\n",
       "<style scoped>\n",
       "    .dataframe tbody tr th:only-of-type {\n",
       "        vertical-align: middle;\n",
       "    }\n",
       "\n",
       "    .dataframe tbody tr th {\n",
       "        vertical-align: top;\n",
       "    }\n",
       "\n",
       "    .dataframe thead th {\n",
       "        text-align: right;\n",
       "    }\n",
       "</style>\n",
       "<table border=\"1\" class=\"dataframe\">\n",
       "  <thead>\n",
       "    <tr style=\"text-align: right;\">\n",
       "      <th></th>\n",
       "      <th>Year</th>\n",
       "      <th>Month</th>\n",
       "      <th>link</th>\n",
       "    </tr>\n",
       "  </thead>\n",
       "  <tbody>\n",
       "    <tr>\n",
       "      <th>55</th>\n",
       "      <td>2006</td>\n",
       "      <td>8</td>\n",
       "      <td>['/archive.cms', '/archive/year-2006.cms', '/a...</td>\n",
       "    </tr>\n",
       "    <tr>\n",
       "      <th>56</th>\n",
       "      <td>2006</td>\n",
       "      <td>9</td>\n",
       "      <td>['/archive.cms', '/archive/year-2006.cms', '/a...</td>\n",
       "    </tr>\n",
       "    <tr>\n",
       "      <th>57</th>\n",
       "      <td>2006</td>\n",
       "      <td>10</td>\n",
       "      <td>['/archive.cms', '/archive/year-2006.cms', '/a...</td>\n",
       "    </tr>\n",
       "    <tr>\n",
       "      <th>58</th>\n",
       "      <td>2006</td>\n",
       "      <td>11</td>\n",
       "      <td>['/archive.cms', '/archive/year-2006.cms', '/a...</td>\n",
       "    </tr>\n",
       "    <tr>\n",
       "      <th>59</th>\n",
       "      <td>2006</td>\n",
       "      <td>12</td>\n",
       "      <td>['/archive.cms', '/archive/year-2006.cms', '/a...</td>\n",
       "    </tr>\n",
       "  </tbody>\n",
       "</table>\n",
       "</div>"
      ],
      "text/plain": [
       "    Year  Month                                               link\n",
       "55  2006      8  ['/archive.cms', '/archive/year-2006.cms', '/a...\n",
       "56  2006      9  ['/archive.cms', '/archive/year-2006.cms', '/a...\n",
       "57  2006     10  ['/archive.cms', '/archive/year-2006.cms', '/a...\n",
       "58  2006     11  ['/archive.cms', '/archive/year-2006.cms', '/a...\n",
       "59  2006     12  ['/archive.cms', '/archive/year-2006.cms', '/a..."
      ]
     },
     "execution_count": 2,
     "metadata": {},
     "output_type": "execute_result"
    }
   ],
   "source": [
    "df.tail(5)"
   ]
  },
  {
   "cell_type": "code",
   "execution_count": null,
   "metadata": {
    "id": "WYLJbBLTZL2Y",
    "outputId": "f8588958-f079-4c31-d42a-b02ffeb16f8c"
   },
   "outputs": [
    {
     "data": {
      "text/plain": [
       "\"['/archive.cms', '/archive/year-2002.cms', '/archive/year-2002,month-1.cms', '/news/economy/policy/coal-ministry-may-extend-verification-deadline/articleshow/765685726.cms', '/news/economy/policy/what-2002-has-in-store-for-india-inc/articleshow/1768297125.cms', '/news/economy/policy/year-to-the-ground/articleshow/464953886.cms', '/news/economy/policy/eois-for-third-tranche-of-itdc-hotels/articleshow/1495144683.cms', '/news/economy/policy/two-year-transition-period-proposed-after-apm/articleshow/1724673906.cms', '/news/economy/policy/govt-updates-commodity-nomenclature/articleshow/863909748.cms', '/archive.cms', '/archive/year-2002.cms', '/archive/year-2002,month-1.cms', '/news/economy/policy/revamped-hsn-comes-into-force/articleshow/760717826.cms', '/news/economy/policy/ongc-to-revise-bid-for-panna-mukta/articleshow/162882260.cms', '/news/economy/policy/divestment-surviving-political-controversies-court-battle/articleshow/1295621016.cms', '/news/economy/policy/focus-on-rural-development-in-10th-plan/articleshow/654836023.cms', '/archive.cms', '/archive/year-2002.cms', '/archive/year-2002,month-1.cms', '/news/economy/policy/tourism-ministry-pushing-ahead-with-visa-on-arrival-plan/articleshow/1441720791.cms', '/news/economy/policy/india-should-negotiate-protectionist-non-tariff-barriers-study/articleshow/1795526949.cms', '/news/economy/policy/fresh-mandatory-norms-for-clinical-testing-of-drugs/articleshow/580682624.cms', '/news/economy/policy/planners-to-lay-more-stress-on-rural-development-in-10th-plan/articleshow/575739147.cms', '/news/economy/policy/sinha-to-meet-industrialists-on-budget/articleshow/336141892.cms', '/news/economy/policy/gom-finalises-roadmap-for-labour-reforms/articleshow/1929545306.cms', '/news/economy/policy/automatic-100-fdi-in-housing-to-be-mulled/articleshow/1451744953.cms', '/archive.cms', '/archive/year-2002.cms', '/archive/year-2002,month-1.cms', '/news/economy/policy/govt-to-get-tough-on-service-tax-defaults/articleshow/1298939886.cms', '/news/economy/policy/housing-sector-opened-to-fdi/articleshow/1774616986.cms', '/news/economy/policy/govt-notifies-fdi-norms-in-defence/articleshow/1788010849.cms', '/news/economy/policy/planning-commission-report-on-fdi-to-be-ready-soon/articleshow/1862476721.cms', '/news/economy/policy/war-threats-to-be-factored-in-budget/articleshow/959359593.cms', '/news/economy/policy/common-man-to-be-centre-of-budget/articleshow/713218055.cms', '/archive.cms', '/archive/year-2002.cms', '/archive/year-2002,month-1.cms', '/news/economy/policy/ap-cabinet-okays-phase-ii-pe-reforms/articleshow/1590907312.cms', '/archive.cms', '/archive/year-2002.cms', '/archive/year-2002,month-1.cms', '/news/economy/policy/bird-in-hand-is-more-than-two-in-the-bush/articleshow/629840371.cms', '/news/economy/policy/orissa-villagers-to-protect-mangrove-forests/articleshow/748936203.cms', '/news/economy/policy/ban-on-ltc-may-be-lifted-in-budget/articleshow/15017130.cms', '/archive.cms', '/archive/year-2002.cms', '/archive/year-2002,month-1.cms', '/news/economy/policy/archaic-labour-laws-affect-special-zones/articleshow/1341411980.cms', '/news/economy/policy/indo-uk-science-meet-begins/articleshow/1328416967.cms', '/news/economy/policy/ca-lawyer-may-be-allowed-to-be-present-during-a-tax-raid/articleshow/485676432.cms', '/news/economy/policy/dipp-likely-to-liberalise-royalty-payment-time-limit/articleshow/627823875.cms', '/news/economy/policy/dca-builds-three-tiers-for-managerial-remuneration/articleshow/681138522.cms', '/news/economy/policy/apm-dismantling-on-schedule-naik/articleshow/61288537.cms', '/news/economy/policy/panel-on-coops-revival-favours-recap-through-bonds/articleshow/580279612.cms', '/archive.cms', '/archive/year-2002.cms', '/archive/year-2002,month-1.cms', '/news/economy/policy/auto-fuel-policy-euro-ii-norms-by-april-05/articleshow/2006242432.cms', '/archive.cms', '/archive/year-2002.cms', '/archive/year-2002,month-1.cms', '/news/economy/policy/dci-shipyards-selloff-on-cards/articleshow/1898706504.cms', '/news/economy/policy/sci-divestment-expected-to-rake-in-rs-800cr/articleshow/1763739509.cms', '/news/economy/policy/india-to-seek-more-mkt-access-at-wto/articleshow/331153301.cms', '/news/economy/policy/euro-ii-fuel-norms-to-be-in-place-by-05/articleshow/1505570302.cms', '/news/economy/policy/consumer-fora-for-more-food-subsidy-to-bpl/articleshow/988538864.cms', '/news/economy/policy/govt-gets-free-hand-to-hike-excise-in-the-face-of-war/articleshow/931875518.cms', '/news/economy/policy/no-immediate-hike-in-excise-rates-narayan/articleshow/1077348792.cms', '/news/economy/policy/no-immediate-hike-in-excise-rates-narayan/articleshow/1827099320.cms', '/news/economy/policy/govt-invites-bids-for-sci-stake-sale/articleshow/1633442915.cms', '/news/economy/policy/petro-products-excise-hike-to-fetch-rs-2000cr/articleshow/1593015591.cms', '/news/economy/policy/new-draft-to-include-26-equity-in-print-media/articleshow/548627514.cms', '/news/economy/policy/govt-to-disinvest-in-13-more-psus-this-year/articleshow/1746661606.cms', '/archive.cms', '/archive/year-2002.cms', '/archive/year-2002,month-1.cms', '/news/economy/policy/scientists-seek-more-rd-support/articleshow/776925574.cms', '/news/economy/policy/exim-policy-to-aim-at-hands-off-approach/articleshow/1310619847.cms', '/news/economy/policy/bidders-for-sci-should-have-rs-800-cr-base/articleshow/197860500.cms', '/news/economy/policy/suitors-for-ibp-vsnl-itdc-to-be-finalised-early-next-mth/articleshow/1391327408.cms', '/news/economy/policy/theres-less-red-tape-than-we-think/articleshow/459018953.cms', '/news/economy/policy/us-revises-visa-rates/articleshow/906078004.cms', '/news/economy/policy/india-investment-centres-abroad-to-be-shut-down/articleshow/439519365.cms', '/news/economy/policy/presidents-nod-on-on-excise-ordinance-needed/articleshow/836927118.cms', '/news/economy/policy/step-up-agri-labour-reforms-economists/articleshow/969764521.cms', '/news/economy/policy/sinha-to-start-pre-budget-meeting-with-ministries-from-jan-11/articleshow/331968774.cms', '/news/economy/policy/sbi-caps-ey-advisors-for-bl-stc-disinvestment/articleshow/2063332280.cms', '/news/economy/policy/plan-panel-for-delinking-of-disinvestment-from-gbs/articleshow/22455680.cms', '/archive.cms', '/archive/year-2002.cms', '/archive/year-2002,month-1.cms', '/news/economy/policy/new-act-for-sezs-on-the-drawing-board/articleshow/418226770.cms', '/news/economy/policy/ordinance-to-hike-excise-duty-on-petro-goods/articleshow/1855860294.cms', '/news/economy/policy/pm-concerned-over-slow-pace-of-power-reforms/articleshow/1698751862.cms', '/news/economy/policy/sinha-naik-meet-on-excise-duty-hike/articleshow/1587565885.cms', '/news/economy/policy/centre-state-seek-extension-on-cng-deadline/articleshow/1485087774.cms', '/news/economy/policy/trai-clearance-to-bsnl-rate-cut-tomorrow/articleshow/1277170580.cms', '/archive.cms', '/archive/year-2002.cms', '/archive/year-2002,month-1.cms', '/news/economy/policy/ccl-revival-possible-this-fiscal-says-minister/articleshow/1570992034.cms', '/news/economy/policy/understand-relation-between-growth-pattern-and-poverty/articleshow/420681513.cms', '/news/economy/policy/aseem-puri-first-prize-holder-of-the-leaders-in-making-award/articleshow/1175944012.cms', '/news/economy/policy/prahlads-mantra-tap-poor-for-growth/articleshow/188327904.cms', '/archive.cms', '/archive/year-2002.cms', '/archive/year-2002,month-1.cms', '/archive.cms', '/archive/year-2002.cms', '/archive/year-2002,month-1.cms', '/news/economy/policy/ficci-prescribes-vitamin-for-healthcare/articleshow/640700075.cms', '/news/economy/policy/centre-state-conflicts-hamper-fdi-study/articleshow/712779186.cms', '/news/economy/policy/maran-airs-differences-over-idr-amendment-rushes-letter-to-fm/articleshow/127455583.cms', '/news/economy/policy/erc-plan-on-aviation-puts-govt-in-dilemma/articleshow/91191187.cms', '/archive.cms', '/archive/year-2002.cms', '/archive/year-2002,month-1.cms', '/news/economy/policy/transport-subsidy-for-rice-exporters-stopped/articleshow/263203127.cms', '/archive.cms', '/archive/year-2002.cms', '/archive/year-2002,month-1.cms', '/news/economy/policy/iran-may-give-equity-oil-to-india/articleshow/270411849.cms', '/news/economy/policy/sbi-caps-to-fix-price-for-26-govt-share-in-modern-foods/articleshow/819762216.cms', '/news/economy/policy/uti-to-cut-exposure-in-some-pump-more-funds-in-others/articleshow/490350995.cms', '/news/economy/policy/rbi-may-slash-crr-to-3-at-one-go/articleshow/1692194590.cms', '/news/economy/policy/govt-to-seek-control-premium-from-suzuki/articleshow/1414250016.cms', '/archive.cms', '/archive/year-2002.cms', '/archive/year-2002,month-1.cms', '/news/economy/policy/railtel-selloff-modalities-in-a-week/articleshow/458153582.cms', '/news/economy/policy/cvc-plans-honesty-index/articleshow/78286713.cms', '/news/economy/policy/bids-invited-for-hnl-divestment/articleshow/1386383931.cms', '/news/economy/policy/gail-ongc-to-adopt-global-norms/articleshow/1691352087.cms', '/news/economy/policy/servicing-remote-areas-to-be-must-for-oil-cos/articleshow/225349359.cms', '/news/economy/policy/maharashtra-may-declare-plan-holiday/articleshow/1458464908.cms', '/news/economy/policy/efforts-to-balance-export-incentives-with-evasion/articleshow/79636067.cms', '/archive.cms', '/archive/year-2002.cms', '/archive/year-2002,month-1.cms', '/news/economy/policy/rs-437-cr-fdi-plans-get-nod/articleshow/1133129927.cms', '/news/economy/policy/no-objection-to-reliance-grasim-lt-deal-lic/articleshow/681458267.cms', '/news/economy/policy/no-immediate-hike-in-kerosene-lpg-prices/articleshow/1397582086.cms', '/news/economy/policy/medium-term-export-policy-next-week/articleshow/278603607.cms', '/archive.cms', '/archive/year-2002.cms', '/archive/year-2002,month-1.cms', '/news/economy/policy/govt-tightens-screws-on-sugar-mills/articleshow/1084297642.cms', '/news/economy/policy/maha-seeks-diversion-of-sugar-to-open-mkt/articleshow/1357698833.cms', '/news/economy/policy/govt-to-ensure-duty-free-basmati-entry-to-eu/articleshow/1934218625.cms', '/news/economy/policy/wb-may-truncate-cesc-command-area/articleshow/30882576.cms', '/archive.cms', '/archive/year-2002.cms', '/archive/year-2002,month-1.cms', '/news/economy/policy/national-food-policy-soon-shanta-kumar/articleshow/7512775.cms', '/archive.cms', '/archive/year-2002.cms', '/archive/year-2002,month-1.cms', '/news/economy/policy/ssi-excise-duty-waiver-may-go-up-to-rs-2cr/articleshow/719003724.cms', '/news/economy/policy/motor-insu-panel-to-submit-report-on-wednesday/articleshow/144203240.cms', '/news/economy/policy/move-to-treble-professional-tax-ceiling/articleshow/1549636863.cms', '/archive.cms', '/archive/year-2002.cms', '/archive/year-2002,month-1.cms', '/archive.cms', '/archive/year-2002.cms', '/archive/year-2002,month-1.cms', '/news/economy/policy/montek-report-dumped-new-panel-for-new-jobs/articleshow/244074115.cms', '/news/economy/policy/state-psus-can-mine-coal-lignite-after-nod/articleshow/1585109898.cms', '/news/economy/policy/states-told-to-give-fewer-guarantees/articleshow/890206841.cms', '/news/economy/policy/chatterjee-is-new-commerce-secretary/articleshow/1656671346.cms', '/news/economy/policy/govt-clarifies-position-on-bounced-cheques/articleshow/627695494.cms', '/archive.cms', '/archive/year-2002.cms', '/archive/year-2002,month-1.cms', '/news/economy/policy/suite-success-still-eludes-itdc/articleshow/1245220361.cms', '/archive.cms', '/archive/year-2002.cms', '/archive/year-2002,month-1.cms', '/news/economy/policy/fm-mulls-20-peak-customs-rate/articleshow/1610008050.cms', '/archive.cms', '/archive/year-2002.cms', '/archive/year-2002,month-1.cms', '/news/economy/policy/fm-scotches-fears-on-big-customs-duty-cut/articleshow/100354140.cms', '/archive.cms', '/archive/year-2002.cms', '/archive/year-2002,month-1.cms', '/archive.cms', '/archive/year-2002.cms', '/archive/year-2002,month-1.cms', '/news/economy/policy/new-opportunities-emerge-in-farm-sector/articleshow/1051932977.cms', '/news/economy/policy/govt-to-withdraw-tax-case-against-vsnl/articleshow/1057743380.cms', '/news/economy/policy/govt-to-up-crude-royalty-before-march-31/articleshow/2137091613.cms', '/news/economy/policy/trai-says-no-to-bsnl-on-bharti/articleshow/145321307.cms', '/archive.cms', '/archive/year-2002.cms', '/archive/year-2002,month-1.cms', '/news/economy/policy/come-february-petrol-will-be-cheaper-by-6-8-diesel-10-12/articleshow/1148899117.cms', '/news/economy/policy/100-banks-asked-to-cut-equity-exposure/articleshow/254950659.cms', '/news/economy/policy/orissa-freezing-50k-jobs/articleshow/55444143.cms', '/news/economy/policy/share-issuance-norms-updated/articleshow/789391490.cms', '/news/economy/policy/govt-clears-fdi-proposals-worth-rs-156cr/articleshow/825714300.cms', '/archive.cms', '/archive/year-2002.cms', '/archive/year-2002,month-1.cms', '/news/economy/policy/govt-dichotomy-in-stance-on-life-form-patents/articleshow/104932758.cms', '/news/economy/policy/danone-among-18-fdi-plans-cleared/articleshow/1420541292.cms', '/news/economy/policy/ongc-oil-to-get-import-parity-price-for-crude/articleshow/1697060828.cms', '/news/economy/policy/ibp-allowed-to-market-lpg-in-4-more-states/articleshow/1537930494.cms', '/news/economy/policy/govt-working-on-plan-for-infra-links-to-ftzs/articleshow/1450502356.cms', '/archive.cms', '/archive/year-2002.cms', '/archive/year-2002,month-1.cms', '/news/economy/policy/want-a-maruti-buy-it-before-the-fm-cuts-excise/articleshow/1080623792.cms', '/news/economy/policy/rlys-propose-to-defer-dividend-again/articleshow/832700681.cms', '/news/economy/policy/export-strategy-pegs-12-growth/articleshow/1182646505.cms']\""
      ]
     },
     "execution_count": 10,
     "metadata": {
      "tags": []
     },
     "output_type": "execute_result"
    }
   ],
   "source": [
    "df.iloc[0, 2]"
   ]
  },
  {
   "cell_type": "code",
   "execution_count": null,
   "metadata": {
    "id": "vurY73NUZL2a"
   },
   "outputs": [],
   "source": [
    "df['link'] = df['link'].str.replace('\\'/','\\'https://economictimes.indiatimes.com/')"
   ]
  },
  {
   "cell_type": "code",
   "execution_count": null,
   "metadata": {
    "id": "jis0obcBZL2e",
    "outputId": "c5d8ee22-cc06-4745-fe57-7b0eea74e06e"
   },
   "outputs": [
    {
     "data": {
      "text/plain": [
       "\"['https://economictimes.indiatimes.com/archive.cms', 'https://economictimes.indiatimes.com/archive/year-2002.cms', 'https://economictimes.indiatimes.com/archive/year-2002,month-1.cms', 'https://economictimes.indiatimes.com/news/economy/policy/coal-ministry-may-extend-verification-deadline/articleshow/765685726.cms', 'https://economictimes.indiatimes.com/news/economy/policy/what-2002-has-in-store-for-india-inc/articleshow/1768297125.cms', 'https://economictimes.indiatimes.com/news/economy/policy/year-to-the-ground/articleshow/464953886.cms', 'https://economictimes.indiatimes.com/news/economy/policy/eois-for-third-tranche-of-itdc-hotels/articleshow/1495144683.cms', 'https://economictimes.indiatimes.com/news/economy/policy/two-year-transition-period-proposed-after-apm/articleshow/1724673906.cms', 'https://economictimes.indiatimes.com/news/economy/policy/govt-updates-commodity-nomenclature/articleshow/863909748.cms', 'https://economictimes.indiatimes.com/archive.cms', 'https://economictimes.indiatimes.com/archive/year-2002.cms', 'https://economictimes.indiatimes.com/archive/year-2002,month-1.cms', 'https://economictimes.indiatimes.com/news/economy/policy/revamped-hsn-comes-into-force/articleshow/760717826.cms', 'https://economictimes.indiatimes.com/news/economy/policy/ongc-to-revise-bid-for-panna-mukta/articleshow/162882260.cms', 'https://economictimes.indiatimes.com/news/economy/policy/divestment-surviving-political-controversies-court-battle/articleshow/1295621016.cms', 'https://economictimes.indiatimes.com/news/economy/policy/focus-on-rural-development-in-10th-plan/articleshow/654836023.cms', 'https://economictimes.indiatimes.com/archive.cms', 'https://economictimes.indiatimes.com/archive/year-2002.cms', 'https://economictimes.indiatimes.com/archive/year-2002,month-1.cms', 'https://economictimes.indiatimes.com/news/economy/policy/tourism-ministry-pushing-ahead-with-visa-on-arrival-plan/articleshow/1441720791.cms', 'https://economictimes.indiatimes.com/news/economy/policy/india-should-negotiate-protectionist-non-tariff-barriers-study/articleshow/1795526949.cms', 'https://economictimes.indiatimes.com/news/economy/policy/fresh-mandatory-norms-for-clinical-testing-of-drugs/articleshow/580682624.cms', 'https://economictimes.indiatimes.com/news/economy/policy/planners-to-lay-more-stress-on-rural-development-in-10th-plan/articleshow/575739147.cms', 'https://economictimes.indiatimes.com/news/economy/policy/sinha-to-meet-industrialists-on-budget/articleshow/336141892.cms', 'https://economictimes.indiatimes.com/news/economy/policy/gom-finalises-roadmap-for-labour-reforms/articleshow/1929545306.cms', 'https://economictimes.indiatimes.com/news/economy/policy/automatic-100-fdi-in-housing-to-be-mulled/articleshow/1451744953.cms', 'https://economictimes.indiatimes.com/archive.cms', 'https://economictimes.indiatimes.com/archive/year-2002.cms', 'https://economictimes.indiatimes.com/archive/year-2002,month-1.cms', 'https://economictimes.indiatimes.com/news/economy/policy/govt-to-get-tough-on-service-tax-defaults/articleshow/1298939886.cms', 'https://economictimes.indiatimes.com/news/economy/policy/housing-sector-opened-to-fdi/articleshow/1774616986.cms', 'https://economictimes.indiatimes.com/news/economy/policy/govt-notifies-fdi-norms-in-defence/articleshow/1788010849.cms', 'https://economictimes.indiatimes.com/news/economy/policy/planning-commission-report-on-fdi-to-be-ready-soon/articleshow/1862476721.cms', 'https://economictimes.indiatimes.com/news/economy/policy/war-threats-to-be-factored-in-budget/articleshow/959359593.cms', 'https://economictimes.indiatimes.com/news/economy/policy/common-man-to-be-centre-of-budget/articleshow/713218055.cms', 'https://economictimes.indiatimes.com/archive.cms', 'https://economictimes.indiatimes.com/archive/year-2002.cms', 'https://economictimes.indiatimes.com/archive/year-2002,month-1.cms', 'https://economictimes.indiatimes.com/news/economy/policy/ap-cabinet-okays-phase-ii-pe-reforms/articleshow/1590907312.cms', 'https://economictimes.indiatimes.com/archive.cms', 'https://economictimes.indiatimes.com/archive/year-2002.cms', 'https://economictimes.indiatimes.com/archive/year-2002,month-1.cms', 'https://economictimes.indiatimes.com/news/economy/policy/bird-in-hand-is-more-than-two-in-the-bush/articleshow/629840371.cms', 'https://economictimes.indiatimes.com/news/economy/policy/orissa-villagers-to-protect-mangrove-forests/articleshow/748936203.cms', 'https://economictimes.indiatimes.com/news/economy/policy/ban-on-ltc-may-be-lifted-in-budget/articleshow/15017130.cms', 'https://economictimes.indiatimes.com/archive.cms', 'https://economictimes.indiatimes.com/archive/year-2002.cms', 'https://economictimes.indiatimes.com/archive/year-2002,month-1.cms', 'https://economictimes.indiatimes.com/news/economy/policy/archaic-labour-laws-affect-special-zones/articleshow/1341411980.cms', 'https://economictimes.indiatimes.com/news/economy/policy/indo-uk-science-meet-begins/articleshow/1328416967.cms', 'https://economictimes.indiatimes.com/news/economy/policy/ca-lawyer-may-be-allowed-to-be-present-during-a-tax-raid/articleshow/485676432.cms', 'https://economictimes.indiatimes.com/news/economy/policy/dipp-likely-to-liberalise-royalty-payment-time-limit/articleshow/627823875.cms', 'https://economictimes.indiatimes.com/news/economy/policy/dca-builds-three-tiers-for-managerial-remuneration/articleshow/681138522.cms', 'https://economictimes.indiatimes.com/news/economy/policy/apm-dismantling-on-schedule-naik/articleshow/61288537.cms', 'https://economictimes.indiatimes.com/news/economy/policy/panel-on-coops-revival-favours-recap-through-bonds/articleshow/580279612.cms', 'https://economictimes.indiatimes.com/archive.cms', 'https://economictimes.indiatimes.com/archive/year-2002.cms', 'https://economictimes.indiatimes.com/archive/year-2002,month-1.cms', 'https://economictimes.indiatimes.com/news/economy/policy/auto-fuel-policy-euro-ii-norms-by-april-05/articleshow/2006242432.cms', 'https://economictimes.indiatimes.com/archive.cms', 'https://economictimes.indiatimes.com/archive/year-2002.cms', 'https://economictimes.indiatimes.com/archive/year-2002,month-1.cms', 'https://economictimes.indiatimes.com/news/economy/policy/dci-shipyards-selloff-on-cards/articleshow/1898706504.cms', 'https://economictimes.indiatimes.com/news/economy/policy/sci-divestment-expected-to-rake-in-rs-800cr/articleshow/1763739509.cms', 'https://economictimes.indiatimes.com/news/economy/policy/india-to-seek-more-mkt-access-at-wto/articleshow/331153301.cms', 'https://economictimes.indiatimes.com/news/economy/policy/euro-ii-fuel-norms-to-be-in-place-by-05/articleshow/1505570302.cms', 'https://economictimes.indiatimes.com/news/economy/policy/consumer-fora-for-more-food-subsidy-to-bpl/articleshow/988538864.cms', 'https://economictimes.indiatimes.com/news/economy/policy/govt-gets-free-hand-to-hike-excise-in-the-face-of-war/articleshow/931875518.cms', 'https://economictimes.indiatimes.com/news/economy/policy/no-immediate-hike-in-excise-rates-narayan/articleshow/1077348792.cms', 'https://economictimes.indiatimes.com/news/economy/policy/no-immediate-hike-in-excise-rates-narayan/articleshow/1827099320.cms', 'https://economictimes.indiatimes.com/news/economy/policy/govt-invites-bids-for-sci-stake-sale/articleshow/1633442915.cms', 'https://economictimes.indiatimes.com/news/economy/policy/petro-products-excise-hike-to-fetch-rs-2000cr/articleshow/1593015591.cms', 'https://economictimes.indiatimes.com/news/economy/policy/new-draft-to-include-26-equity-in-print-media/articleshow/548627514.cms', 'https://economictimes.indiatimes.com/news/economy/policy/govt-to-disinvest-in-13-more-psus-this-year/articleshow/1746661606.cms', 'https://economictimes.indiatimes.com/archive.cms', 'https://economictimes.indiatimes.com/archive/year-2002.cms', 'https://economictimes.indiatimes.com/archive/year-2002,month-1.cms', 'https://economictimes.indiatimes.com/news/economy/policy/scientists-seek-more-rd-support/articleshow/776925574.cms', 'https://economictimes.indiatimes.com/news/economy/policy/exim-policy-to-aim-at-hands-off-approach/articleshow/1310619847.cms', 'https://economictimes.indiatimes.com/news/economy/policy/bidders-for-sci-should-have-rs-800-cr-base/articleshow/197860500.cms', 'https://economictimes.indiatimes.com/news/economy/policy/suitors-for-ibp-vsnl-itdc-to-be-finalised-early-next-mth/articleshow/1391327408.cms', 'https://economictimes.indiatimes.com/news/economy/policy/theres-less-red-tape-than-we-think/articleshow/459018953.cms', 'https://economictimes.indiatimes.com/news/economy/policy/us-revises-visa-rates/articleshow/906078004.cms', 'https://economictimes.indiatimes.com/news/economy/policy/india-investment-centres-abroad-to-be-shut-down/articleshow/439519365.cms', 'https://economictimes.indiatimes.com/news/economy/policy/presidents-nod-on-on-excise-ordinance-needed/articleshow/836927118.cms', 'https://economictimes.indiatimes.com/news/economy/policy/step-up-agri-labour-reforms-economists/articleshow/969764521.cms', 'https://economictimes.indiatimes.com/news/economy/policy/sinha-to-start-pre-budget-meeting-with-ministries-from-jan-11/articleshow/331968774.cms', 'https://economictimes.indiatimes.com/news/economy/policy/sbi-caps-ey-advisors-for-bl-stc-disinvestment/articleshow/2063332280.cms', 'https://economictimes.indiatimes.com/news/economy/policy/plan-panel-for-delinking-of-disinvestment-from-gbs/articleshow/22455680.cms', 'https://economictimes.indiatimes.com/archive.cms', 'https://economictimes.indiatimes.com/archive/year-2002.cms', 'https://economictimes.indiatimes.com/archive/year-2002,month-1.cms', 'https://economictimes.indiatimes.com/news/economy/policy/new-act-for-sezs-on-the-drawing-board/articleshow/418226770.cms', 'https://economictimes.indiatimes.com/news/economy/policy/ordinance-to-hike-excise-duty-on-petro-goods/articleshow/1855860294.cms', 'https://economictimes.indiatimes.com/news/economy/policy/pm-concerned-over-slow-pace-of-power-reforms/articleshow/1698751862.cms', 'https://economictimes.indiatimes.com/news/economy/policy/sinha-naik-meet-on-excise-duty-hike/articleshow/1587565885.cms', 'https://economictimes.indiatimes.com/news/economy/policy/centre-state-seek-extension-on-cng-deadline/articleshow/1485087774.cms', 'https://economictimes.indiatimes.com/news/economy/policy/trai-clearance-to-bsnl-rate-cut-tomorrow/articleshow/1277170580.cms', 'https://economictimes.indiatimes.com/archive.cms', 'https://economictimes.indiatimes.com/archive/year-2002.cms', 'https://economictimes.indiatimes.com/archive/year-2002,month-1.cms', 'https://economictimes.indiatimes.com/news/economy/policy/ccl-revival-possible-this-fiscal-says-minister/articleshow/1570992034.cms', 'https://economictimes.indiatimes.com/news/economy/policy/understand-relation-between-growth-pattern-and-poverty/articleshow/420681513.cms', 'https://economictimes.indiatimes.com/news/economy/policy/aseem-puri-first-prize-holder-of-the-leaders-in-making-award/articleshow/1175944012.cms', 'https://economictimes.indiatimes.com/news/economy/policy/prahlads-mantra-tap-poor-for-growth/articleshow/188327904.cms', 'https://economictimes.indiatimes.com/archive.cms', 'https://economictimes.indiatimes.com/archive/year-2002.cms', 'https://economictimes.indiatimes.com/archive/year-2002,month-1.cms', 'https://economictimes.indiatimes.com/archive.cms', 'https://economictimes.indiatimes.com/archive/year-2002.cms', 'https://economictimes.indiatimes.com/archive/year-2002,month-1.cms', 'https://economictimes.indiatimes.com/news/economy/policy/ficci-prescribes-vitamin-for-healthcare/articleshow/640700075.cms', 'https://economictimes.indiatimes.com/news/economy/policy/centre-state-conflicts-hamper-fdi-study/articleshow/712779186.cms', 'https://economictimes.indiatimes.com/news/economy/policy/maran-airs-differences-over-idr-amendment-rushes-letter-to-fm/articleshow/127455583.cms', 'https://economictimes.indiatimes.com/news/economy/policy/erc-plan-on-aviation-puts-govt-in-dilemma/articleshow/91191187.cms', 'https://economictimes.indiatimes.com/archive.cms', 'https://economictimes.indiatimes.com/archive/year-2002.cms', 'https://economictimes.indiatimes.com/archive/year-2002,month-1.cms', 'https://economictimes.indiatimes.com/news/economy/policy/transport-subsidy-for-rice-exporters-stopped/articleshow/263203127.cms', 'https://economictimes.indiatimes.com/archive.cms', 'https://economictimes.indiatimes.com/archive/year-2002.cms', 'https://economictimes.indiatimes.com/archive/year-2002,month-1.cms', 'https://economictimes.indiatimes.com/news/economy/policy/iran-may-give-equity-oil-to-india/articleshow/270411849.cms', 'https://economictimes.indiatimes.com/news/economy/policy/sbi-caps-to-fix-price-for-26-govt-share-in-modern-foods/articleshow/819762216.cms', 'https://economictimes.indiatimes.com/news/economy/policy/uti-to-cut-exposure-in-some-pump-more-funds-in-others/articleshow/490350995.cms', 'https://economictimes.indiatimes.com/news/economy/policy/rbi-may-slash-crr-to-3-at-one-go/articleshow/1692194590.cms', 'https://economictimes.indiatimes.com/news/economy/policy/govt-to-seek-control-premium-from-suzuki/articleshow/1414250016.cms', 'https://economictimes.indiatimes.com/archive.cms', 'https://economictimes.indiatimes.com/archive/year-2002.cms', 'https://economictimes.indiatimes.com/archive/year-2002,month-1.cms', 'https://economictimes.indiatimes.com/news/economy/policy/railtel-selloff-modalities-in-a-week/articleshow/458153582.cms', 'https://economictimes.indiatimes.com/news/economy/policy/cvc-plans-honesty-index/articleshow/78286713.cms', 'https://economictimes.indiatimes.com/news/economy/policy/bids-invited-for-hnl-divestment/articleshow/1386383931.cms', 'https://economictimes.indiatimes.com/news/economy/policy/gail-ongc-to-adopt-global-norms/articleshow/1691352087.cms', 'https://economictimes.indiatimes.com/news/economy/policy/servicing-remote-areas-to-be-must-for-oil-cos/articleshow/225349359.cms', 'https://economictimes.indiatimes.com/news/economy/policy/maharashtra-may-declare-plan-holiday/articleshow/1458464908.cms', 'https://economictimes.indiatimes.com/news/economy/policy/efforts-to-balance-export-incentives-with-evasion/articleshow/79636067.cms', 'https://economictimes.indiatimes.com/archive.cms', 'https://economictimes.indiatimes.com/archive/year-2002.cms', 'https://economictimes.indiatimes.com/archive/year-2002,month-1.cms', 'https://economictimes.indiatimes.com/news/economy/policy/rs-437-cr-fdi-plans-get-nod/articleshow/1133129927.cms', 'https://economictimes.indiatimes.com/news/economy/policy/no-objection-to-reliance-grasim-lt-deal-lic/articleshow/681458267.cms', 'https://economictimes.indiatimes.com/news/economy/policy/no-immediate-hike-in-kerosene-lpg-prices/articleshow/1397582086.cms', 'https://economictimes.indiatimes.com/news/economy/policy/medium-term-export-policy-next-week/articleshow/278603607.cms', 'https://economictimes.indiatimes.com/archive.cms', 'https://economictimes.indiatimes.com/archive/year-2002.cms', 'https://economictimes.indiatimes.com/archive/year-2002,month-1.cms', 'https://economictimes.indiatimes.com/news/economy/policy/govt-tightens-screws-on-sugar-mills/articleshow/1084297642.cms', 'https://economictimes.indiatimes.com/news/economy/policy/maha-seeks-diversion-of-sugar-to-open-mkt/articleshow/1357698833.cms', 'https://economictimes.indiatimes.com/news/economy/policy/govt-to-ensure-duty-free-basmati-entry-to-eu/articleshow/1934218625.cms', 'https://economictimes.indiatimes.com/news/economy/policy/wb-may-truncate-cesc-command-area/articleshow/30882576.cms', 'https://economictimes.indiatimes.com/archive.cms', 'https://economictimes.indiatimes.com/archive/year-2002.cms', 'https://economictimes.indiatimes.com/archive/year-2002,month-1.cms', 'https://economictimes.indiatimes.com/news/economy/policy/national-food-policy-soon-shanta-kumar/articleshow/7512775.cms', 'https://economictimes.indiatimes.com/archive.cms', 'https://economictimes.indiatimes.com/archive/year-2002.cms', 'https://economictimes.indiatimes.com/archive/year-2002,month-1.cms', 'https://economictimes.indiatimes.com/news/economy/policy/ssi-excise-duty-waiver-may-go-up-to-rs-2cr/articleshow/719003724.cms', 'https://economictimes.indiatimes.com/news/economy/policy/motor-insu-panel-to-submit-report-on-wednesday/articleshow/144203240.cms', 'https://economictimes.indiatimes.com/news/economy/policy/move-to-treble-professional-tax-ceiling/articleshow/1549636863.cms', 'https://economictimes.indiatimes.com/archive.cms', 'https://economictimes.indiatimes.com/archive/year-2002.cms', 'https://economictimes.indiatimes.com/archive/year-2002,month-1.cms', 'https://economictimes.indiatimes.com/archive.cms', 'https://economictimes.indiatimes.com/archive/year-2002.cms', 'https://economictimes.indiatimes.com/archive/year-2002,month-1.cms', 'https://economictimes.indiatimes.com/news/economy/policy/montek-report-dumped-new-panel-for-new-jobs/articleshow/244074115.cms', 'https://economictimes.indiatimes.com/news/economy/policy/state-psus-can-mine-coal-lignite-after-nod/articleshow/1585109898.cms', 'https://economictimes.indiatimes.com/news/economy/policy/states-told-to-give-fewer-guarantees/articleshow/890206841.cms', 'https://economictimes.indiatimes.com/news/economy/policy/chatterjee-is-new-commerce-secretary/articleshow/1656671346.cms', 'https://economictimes.indiatimes.com/news/economy/policy/govt-clarifies-position-on-bounced-cheques/articleshow/627695494.cms', 'https://economictimes.indiatimes.com/archive.cms', 'https://economictimes.indiatimes.com/archive/year-2002.cms', 'https://economictimes.indiatimes.com/archive/year-2002,month-1.cms', 'https://economictimes.indiatimes.com/news/economy/policy/suite-success-still-eludes-itdc/articleshow/1245220361.cms', 'https://economictimes.indiatimes.com/archive.cms', 'https://economictimes.indiatimes.com/archive/year-2002.cms', 'https://economictimes.indiatimes.com/archive/year-2002,month-1.cms', 'https://economictimes.indiatimes.com/news/economy/policy/fm-mulls-20-peak-customs-rate/articleshow/1610008050.cms', 'https://economictimes.indiatimes.com/archive.cms', 'https://economictimes.indiatimes.com/archive/year-2002.cms', 'https://economictimes.indiatimes.com/archive/year-2002,month-1.cms', 'https://economictimes.indiatimes.com/news/economy/policy/fm-scotches-fears-on-big-customs-duty-cut/articleshow/100354140.cms', 'https://economictimes.indiatimes.com/archive.cms', 'https://economictimes.indiatimes.com/archive/year-2002.cms', 'https://economictimes.indiatimes.com/archive/year-2002,month-1.cms', 'https://economictimes.indiatimes.com/archive.cms', 'https://economictimes.indiatimes.com/archive/year-2002.cms', 'https://economictimes.indiatimes.com/archive/year-2002,month-1.cms', 'https://economictimes.indiatimes.com/news/economy/policy/new-opportunities-emerge-in-farm-sector/articleshow/1051932977.cms', 'https://economictimes.indiatimes.com/news/economy/policy/govt-to-withdraw-tax-case-against-vsnl/articleshow/1057743380.cms', 'https://economictimes.indiatimes.com/news/economy/policy/govt-to-up-crude-royalty-before-march-31/articleshow/2137091613.cms', 'https://economictimes.indiatimes.com/news/economy/policy/trai-says-no-to-bsnl-on-bharti/articleshow/145321307.cms', 'https://economictimes.indiatimes.com/archive.cms', 'https://economictimes.indiatimes.com/archive/year-2002.cms', 'https://economictimes.indiatimes.com/archive/year-2002,month-1.cms', 'https://economictimes.indiatimes.com/news/economy/policy/come-february-petrol-will-be-cheaper-by-6-8-diesel-10-12/articleshow/1148899117.cms', 'https://economictimes.indiatimes.com/news/economy/policy/100-banks-asked-to-cut-equity-exposure/articleshow/254950659.cms', 'https://economictimes.indiatimes.com/news/economy/policy/orissa-freezing-50k-jobs/articleshow/55444143.cms', 'https://economictimes.indiatimes.com/news/economy/policy/share-issuance-norms-updated/articleshow/789391490.cms', 'https://economictimes.indiatimes.com/news/economy/policy/govt-clears-fdi-proposals-worth-rs-156cr/articleshow/825714300.cms', 'https://economictimes.indiatimes.com/archive.cms', 'https://economictimes.indiatimes.com/archive/year-2002.cms', 'https://economictimes.indiatimes.com/archive/year-2002,month-1.cms', 'https://economictimes.indiatimes.com/news/economy/policy/govt-dichotomy-in-stance-on-life-form-patents/articleshow/104932758.cms', 'https://economictimes.indiatimes.com/news/economy/policy/danone-among-18-fdi-plans-cleared/articleshow/1420541292.cms', 'https://economictimes.indiatimes.com/news/economy/policy/ongc-oil-to-get-import-parity-price-for-crude/articleshow/1697060828.cms', 'https://economictimes.indiatimes.com/news/economy/policy/ibp-allowed-to-market-lpg-in-4-more-states/articleshow/1537930494.cms', 'https://economictimes.indiatimes.com/news/economy/policy/govt-working-on-plan-for-infra-links-to-ftzs/articleshow/1450502356.cms', 'https://economictimes.indiatimes.com/archive.cms', 'https://economictimes.indiatimes.com/archive/year-2002.cms', 'https://economictimes.indiatimes.com/archive/year-2002,month-1.cms', 'https://economictimes.indiatimes.com/news/economy/policy/want-a-maruti-buy-it-before-the-fm-cuts-excise/articleshow/1080623792.cms', 'https://economictimes.indiatimes.com/news/economy/policy/rlys-propose-to-defer-dividend-again/articleshow/832700681.cms', 'https://economictimes.indiatimes.com/news/economy/policy/export-strategy-pegs-12-growth/articleshow/1182646505.cms']\""
      ]
     },
     "execution_count": 12,
     "metadata": {
      "tags": []
     },
     "output_type": "execute_result"
    }
   ],
   "source": [
    "# list of all the links\n",
    "df.iloc[0, 2]"
   ]
  },
  {
   "cell_type": "code",
   "execution_count": null,
   "metadata": {
    "id": "vxiSxuKmZL29"
   },
   "outputs": [],
   "source": [
    "from ast import literal_eval\n",
    "df['link'] = df[\"link\"].apply(literal_eval)"
   ]
  },
  {
   "cell_type": "code",
   "execution_count": null,
   "metadata": {
    "id": "6tvbZCOkZL3F",
    "outputId": "5788f06e-15ea-40b7-f1bf-3aaee2b7008c"
   },
   "outputs": [
    {
     "data": {
      "text/plain": [
       "list"
      ]
     },
     "execution_count": 14,
     "metadata": {
      "tags": []
     },
     "output_type": "execute_result"
    }
   ],
   "source": [
    "type(df.iloc[0, 2])"
   ]
  },
  {
   "cell_type": "code",
   "execution_count": null,
   "metadata": {
    "id": "zst7S75sZL3L",
    "outputId": "04ef9515-3666-4b12-d3ed-cf77a1678b6b"
   },
   "outputs": [
    {
     "data": {
      "text/plain": [
       "216"
      ]
     },
     "execution_count": 15,
     "metadata": {
      "tags": []
     },
     "output_type": "execute_result"
    }
   ],
   "source": [
    "len(df.iloc[0,2])"
   ]
  },
  {
   "cell_type": "code",
   "execution_count": null,
   "metadata": {
    "id": "R0EnZ-R3ZL3P",
    "outputId": "3fcf94e8-9282-4ce9-ba1a-83546dce67ea"
   },
   "outputs": [
    {
     "data": {
      "text/plain": [
       "'https://economictimes.indiatimes.com/archive.cms'"
      ]
     },
     "execution_count": 16,
     "metadata": {
      "tags": []
     },
     "output_type": "execute_result"
    }
   ],
   "source": [
    "df.iloc[0,2][0]"
   ]
  },
  {
   "cell_type": "code",
   "execution_count": null,
   "metadata": {
    "id": "BUk6qmxLZL3S",
    "outputId": "598bf17b-e647-4c4d-d9d8-4c037b147c25"
   },
   "outputs": [
    {
     "data": {
      "text/html": [
       "<div>\n",
       "<style scoped>\n",
       "    .dataframe tbody tr th:only-of-type {\n",
       "        vertical-align: middle;\n",
       "    }\n",
       "\n",
       "    .dataframe tbody tr th {\n",
       "        vertical-align: top;\n",
       "    }\n",
       "\n",
       "    .dataframe thead th {\n",
       "        text-align: right;\n",
       "    }\n",
       "</style>\n",
       "<table border=\"1\" class=\"dataframe\">\n",
       "  <thead>\n",
       "    <tr style=\"text-align: right;\">\n",
       "      <th></th>\n",
       "      <th>Year</th>\n",
       "      <th>Month</th>\n",
       "      <th>Title</th>\n",
       "      <th>Text</th>\n",
       "      <th>Keywords</th>\n",
       "    </tr>\n",
       "  </thead>\n",
       "  <tbody>\n",
       "  </tbody>\n",
       "</table>\n",
       "</div>"
      ],
      "text/plain": [
       "Empty DataFrame\n",
       "Columns: [Year, Month, Title, Text, Keywords]\n",
       "Index: []"
      ]
     },
     "execution_count": 17,
     "metadata": {
      "tags": []
     },
     "output_type": "execute_result"
    }
   ],
   "source": [
    "#constructing a dataframe in which these columns are present.\n",
    "articles = pd.DataFrame(columns = ['Year', 'Month', 'Title', 'Text', 'Keywords']) \n",
    "articles"
   ]
  },
  {
   "cell_type": "code",
   "execution_count": null,
   "metadata": {
    "id": "V8S2hXqoZL3V"
   },
   "outputs": [],
   "source": [
    "for i in range(df.shape[0]):\n",
    "    for j in range(len(df.iloc[i,2])):\n",
    "        url = df.iloc[i,2][j]\n",
    "        try:\n",
    "            article = Article(url, language=\"en\") # en for English\n",
    "            article.download() \n",
    "            article.parse() \n",
    "            article.nlp()\n",
    "\n",
    "            articles = articles.append({'Year' : df.iloc[i,0], 'Month' : df.iloc[i,1], 'Title' : article.title, \n",
    "                                        'Text' : article.text, 'Keywords' : article.keywords}, ignore_index = True)\n",
    "        except:\n",
    "            continue"
   ]
  },
  {
   "cell_type": "code",
   "execution_count": null,
   "metadata": {
    "id": "p4N6Z_b3ZL3Y",
    "outputId": "3a549813-e6ad-4c7b-f073-fb3fc52bc409"
   },
   "outputs": [
    {
     "data": {
      "text/plain": [
       "(31427, 5)"
      ]
     },
     "execution_count": 19,
     "metadata": {
      "tags": []
     },
     "output_type": "execute_result"
    }
   ],
   "source": [
    "articles.shape"
   ]
  },
  {
   "cell_type": "code",
   "execution_count": null,
   "metadata": {
    "id": "ea1xdjV9ZL3b"
   },
   "outputs": [],
   "source": [
    "articles.to_csv(\"articles2.csv\")"
   ]
  },
  {
   "cell_type": "markdown",
   "metadata": {
    "id": "2Z_leGliZL3z"
   },
   "source": [
    "## Data Processing"
   ]
  },
  {
   "cell_type": "code",
   "execution_count": 1,
   "metadata": {
    "id": "iQ1F2pMvZL3z"
   },
   "outputs": [],
   "source": [
    "import numpy as np\n",
    "import pandas as pd\n",
    "\n",
    "articles = pd.read_csv(\"articles2.csv\")"
   ]
  },
  {
   "cell_type": "code",
   "execution_count": 2,
   "metadata": {
    "id": "BjcT0z4YZL31",
    "outputId": "00685dbb-aeda-4341-fb0e-4a4a2230c647"
   },
   "outputs": [
    {
     "data": {
      "text/html": [
       "<div>\n",
       "<style scoped>\n",
       "    .dataframe tbody tr th:only-of-type {\n",
       "        vertical-align: middle;\n",
       "    }\n",
       "\n",
       "    .dataframe tbody tr th {\n",
       "        vertical-align: top;\n",
       "    }\n",
       "\n",
       "    .dataframe thead th {\n",
       "        text-align: right;\n",
       "    }\n",
       "</style>\n",
       "<table border=\"1\" class=\"dataframe\">\n",
       "  <thead>\n",
       "    <tr style=\"text-align: right;\">\n",
       "      <th></th>\n",
       "      <th>Unnamed: 0</th>\n",
       "      <th>Year</th>\n",
       "      <th>Month</th>\n",
       "      <th>Title</th>\n",
       "      <th>Text</th>\n",
       "      <th>Keywords</th>\n",
       "    </tr>\n",
       "  </thead>\n",
       "  <tbody>\n",
       "    <tr>\n",
       "      <th>0</th>\n",
       "      <td>0</td>\n",
       "      <td>2002</td>\n",
       "      <td>1</td>\n",
       "      <td>ET Archive, Business News Archive</td>\n",
       "      <td>Never miss a great news story!\\n\\nGet instant ...</td>\n",
       "      <td>['nowyou', 'archive', 'miss', 'timesallownot',...</td>\n",
       "    </tr>\n",
       "    <tr>\n",
       "      <th>1</th>\n",
       "      <td>1</td>\n",
       "      <td>2002</td>\n",
       "      <td>1</td>\n",
       "      <td>2002Top News, 2002 Business News Articles Archive</td>\n",
       "      <td>Never miss a great news story!\\n\\nGet instant ...</td>\n",
       "      <td>['nowyou', 'archive', 'miss', 'timesallownot',...</td>\n",
       "    </tr>\n",
       "    <tr>\n",
       "      <th>2</th>\n",
       "      <td>2</td>\n",
       "      <td>2002</td>\n",
       "      <td>1</td>\n",
       "      <td>JanuaryTop News, January 2002 Business News Ar...</td>\n",
       "      <td>Never miss a great news story!\\n\\nGet instant ...</td>\n",
       "      <td>['nowyou', 'archive', 'miss', 'timesallownot',...</td>\n",
       "    </tr>\n",
       "    <tr>\n",
       "      <th>3</th>\n",
       "      <td>3</td>\n",
       "      <td>2002</td>\n",
       "      <td>1</td>\n",
       "      <td>Coal ministry may extend verification deadline</td>\n",
       "      <td>the union coal ministry on tuesday said it was...</td>\n",
       "      <td>['governments', 'failed', 'coal', 'noncore', '...</td>\n",
       "    </tr>\n",
       "    <tr>\n",
       "      <th>4</th>\n",
       "      <td>4</td>\n",
       "      <td>2002</td>\n",
       "      <td>1</td>\n",
       "      <td>What 2002 has in store for India Inc</td>\n",
       "      <td>yashwant sinha harping on a 7 per cent growth ...</td>\n",
       "      <td>['sector', 'companies', 'store', 'cii', 'expec...</td>\n",
       "    </tr>\n",
       "  </tbody>\n",
       "</table>\n",
       "</div>"
      ],
      "text/plain": [
       "   Unnamed: 0  Year  Month                                              Title  \\\n",
       "0           0  2002      1                  ET Archive, Business News Archive   \n",
       "1           1  2002      1  2002Top News, 2002 Business News Articles Archive   \n",
       "2           2  2002      1  JanuaryTop News, January 2002 Business News Ar...   \n",
       "3           3  2002      1     Coal ministry may extend verification deadline   \n",
       "4           4  2002      1               What 2002 has in store for India Inc   \n",
       "\n",
       "                                                Text  \\\n",
       "0  Never miss a great news story!\\n\\nGet instant ...   \n",
       "1  Never miss a great news story!\\n\\nGet instant ...   \n",
       "2  Never miss a great news story!\\n\\nGet instant ...   \n",
       "3  the union coal ministry on tuesday said it was...   \n",
       "4  yashwant sinha harping on a 7 per cent growth ...   \n",
       "\n",
       "                                            Keywords  \n",
       "0  ['nowyou', 'archive', 'miss', 'timesallownot',...  \n",
       "1  ['nowyou', 'archive', 'miss', 'timesallownot',...  \n",
       "2  ['nowyou', 'archive', 'miss', 'timesallownot',...  \n",
       "3  ['governments', 'failed', 'coal', 'noncore', '...  \n",
       "4  ['sector', 'companies', 'store', 'cii', 'expec...  "
      ]
     },
     "execution_count": 2,
     "metadata": {},
     "output_type": "execute_result"
    }
   ],
   "source": [
    "articles.head()"
   ]
  },
  {
   "cell_type": "code",
   "execution_count": 3,
   "metadata": {
    "id": "Mos2_2XIZL34",
    "outputId": "d3ecb6c8-9a5a-4ba1-d89a-d6ae6c337ffa"
   },
   "outputs": [
    {
     "data": {
      "text/plain": [
       "Index(['Unnamed: 0', 'Year', 'Month', 'Title', 'Text', 'Keywords'], dtype='object')"
      ]
     },
     "execution_count": 3,
     "metadata": {},
     "output_type": "execute_result"
    }
   ],
   "source": [
    "articles.columns"
   ]
  },
  {
   "cell_type": "code",
   "execution_count": 4,
   "metadata": {
    "id": "mr4bTgmvZL35"
   },
   "outputs": [],
   "source": [
    "articles = articles.drop([\"Unnamed: 0\"], axis = 1)"
   ]
  },
  {
   "cell_type": "code",
   "execution_count": 5,
   "metadata": {
    "id": "i3JNt3IiZL38",
    "outputId": "de7613c0-996b-4e18-caac-dd7a95fad87e"
   },
   "outputs": [
    {
     "data": {
      "text/html": [
       "<div>\n",
       "<style scoped>\n",
       "    .dataframe tbody tr th:only-of-type {\n",
       "        vertical-align: middle;\n",
       "    }\n",
       "\n",
       "    .dataframe tbody tr th {\n",
       "        vertical-align: top;\n",
       "    }\n",
       "\n",
       "    .dataframe thead th {\n",
       "        text-align: right;\n",
       "    }\n",
       "</style>\n",
       "<table border=\"1\" class=\"dataframe\">\n",
       "  <thead>\n",
       "    <tr style=\"text-align: right;\">\n",
       "      <th></th>\n",
       "      <th>Year</th>\n",
       "      <th>Month</th>\n",
       "      <th>Title</th>\n",
       "      <th>Text</th>\n",
       "      <th>Keywords</th>\n",
       "    </tr>\n",
       "  </thead>\n",
       "  <tbody>\n",
       "    <tr>\n",
       "      <th>0</th>\n",
       "      <td>2002</td>\n",
       "      <td>1</td>\n",
       "      <td>ET Archive, Business News Archive</td>\n",
       "      <td>Never miss a great news story!\\n\\nGet instant ...</td>\n",
       "      <td>['nowyou', 'archive', 'miss', 'timesallownot',...</td>\n",
       "    </tr>\n",
       "    <tr>\n",
       "      <th>1</th>\n",
       "      <td>2002</td>\n",
       "      <td>1</td>\n",
       "      <td>2002Top News, 2002 Business News Articles Archive</td>\n",
       "      <td>Never miss a great news story!\\n\\nGet instant ...</td>\n",
       "      <td>['nowyou', 'archive', 'miss', 'timesallownot',...</td>\n",
       "    </tr>\n",
       "    <tr>\n",
       "      <th>2</th>\n",
       "      <td>2002</td>\n",
       "      <td>1</td>\n",
       "      <td>JanuaryTop News, January 2002 Business News Ar...</td>\n",
       "      <td>Never miss a great news story!\\n\\nGet instant ...</td>\n",
       "      <td>['nowyou', 'archive', 'miss', 'timesallownot',...</td>\n",
       "    </tr>\n",
       "    <tr>\n",
       "      <th>3</th>\n",
       "      <td>2002</td>\n",
       "      <td>1</td>\n",
       "      <td>Coal ministry may extend verification deadline</td>\n",
       "      <td>the union coal ministry on tuesday said it was...</td>\n",
       "      <td>['governments', 'failed', 'coal', 'noncore', '...</td>\n",
       "    </tr>\n",
       "    <tr>\n",
       "      <th>4</th>\n",
       "      <td>2002</td>\n",
       "      <td>1</td>\n",
       "      <td>What 2002 has in store for India Inc</td>\n",
       "      <td>yashwant sinha harping on a 7 per cent growth ...</td>\n",
       "      <td>['sector', 'companies', 'store', 'cii', 'expec...</td>\n",
       "    </tr>\n",
       "  </tbody>\n",
       "</table>\n",
       "</div>"
      ],
      "text/plain": [
       "   Year  Month                                              Title  \\\n",
       "0  2002      1                  ET Archive, Business News Archive   \n",
       "1  2002      1  2002Top News, 2002 Business News Articles Archive   \n",
       "2  2002      1  JanuaryTop News, January 2002 Business News Ar...   \n",
       "3  2002      1     Coal ministry may extend verification deadline   \n",
       "4  2002      1               What 2002 has in store for India Inc   \n",
       "\n",
       "                                                Text  \\\n",
       "0  Never miss a great news story!\\n\\nGet instant ...   \n",
       "1  Never miss a great news story!\\n\\nGet instant ...   \n",
       "2  Never miss a great news story!\\n\\nGet instant ...   \n",
       "3  the union coal ministry on tuesday said it was...   \n",
       "4  yashwant sinha harping on a 7 per cent growth ...   \n",
       "\n",
       "                                            Keywords  \n",
       "0  ['nowyou', 'archive', 'miss', 'timesallownot',...  \n",
       "1  ['nowyou', 'archive', 'miss', 'timesallownot',...  \n",
       "2  ['nowyou', 'archive', 'miss', 'timesallownot',...  \n",
       "3  ['governments', 'failed', 'coal', 'noncore', '...  \n",
       "4  ['sector', 'companies', 'store', 'cii', 'expec...  "
      ]
     },
     "execution_count": 5,
     "metadata": {},
     "output_type": "execute_result"
    }
   ],
   "source": [
    "articles.head()"
   ]
  },
  {
   "cell_type": "code",
   "execution_count": 6,
   "metadata": {
    "id": "eJUNzDo9ZL3-"
   },
   "outputs": [],
   "source": [
    "# First three articles of every dataframe which we extracted from the links are just the introduction about the \n",
    "# economic times newspaper so I remove these rows from the dataframe.\n",
    "articles = articles.drop([0,1,2])"
   ]
  },
  {
   "cell_type": "code",
   "execution_count": 7,
   "metadata": {
    "id": "68uuNqvHZL4A",
    "outputId": "094ae05b-158c-4e8d-f6d8-ea2864932d30"
   },
   "outputs": [
    {
     "data": {
      "text/html": [
       "<div>\n",
       "<style scoped>\n",
       "    .dataframe tbody tr th:only-of-type {\n",
       "        vertical-align: middle;\n",
       "    }\n",
       "\n",
       "    .dataframe tbody tr th {\n",
       "        vertical-align: top;\n",
       "    }\n",
       "\n",
       "    .dataframe thead th {\n",
       "        text-align: right;\n",
       "    }\n",
       "</style>\n",
       "<table border=\"1\" class=\"dataframe\">\n",
       "  <thead>\n",
       "    <tr style=\"text-align: right;\">\n",
       "      <th></th>\n",
       "      <th>Year</th>\n",
       "      <th>Month</th>\n",
       "      <th>Title</th>\n",
       "      <th>Text</th>\n",
       "      <th>Keywords</th>\n",
       "    </tr>\n",
       "  </thead>\n",
       "  <tbody>\n",
       "    <tr>\n",
       "      <th>3</th>\n",
       "      <td>2002</td>\n",
       "      <td>1</td>\n",
       "      <td>Coal ministry may extend verification deadline</td>\n",
       "      <td>the union coal ministry on tuesday said it was...</td>\n",
       "      <td>['governments', 'failed', 'coal', 'noncore', '...</td>\n",
       "    </tr>\n",
       "    <tr>\n",
       "      <th>4</th>\n",
       "      <td>2002</td>\n",
       "      <td>1</td>\n",
       "      <td>What 2002 has in store for India Inc</td>\n",
       "      <td>yashwant sinha harping on a 7 per cent growth ...</td>\n",
       "      <td>['sector', 'companies', 'store', 'cii', 'expec...</td>\n",
       "    </tr>\n",
       "    <tr>\n",
       "      <th>5</th>\n",
       "      <td>2002</td>\n",
       "      <td>1</td>\n",
       "      <td>Year to the ground</td>\n",
       "      <td>6 jan: enron threatens to invoke lcs, guarante...</td>\n",
       "      <td>['dec', 'bank', 'ground', 'sept', 'jan', 'nov'...</td>\n",
       "    </tr>\n",
       "    <tr>\n",
       "      <th>6</th>\n",
       "      <td>2002</td>\n",
       "      <td>1</td>\n",
       "      <td>EoIs for third tranche of ITDC hotels</td>\n",
       "      <td>the government on tuesday invited initial bids...</td>\n",
       "      <td>['sale', 'itdc', 'tranche', 'eois', 'propertie...</td>\n",
       "    </tr>\n",
       "    <tr>\n",
       "      <th>7</th>\n",
       "      <td>2002</td>\n",
       "      <td>1</td>\n",
       "      <td>Two-year transition period proposed after APM</td>\n",
       "      <td>the government has proposed a transition perio...</td>\n",
       "      <td>['twoyear', 'sector', 'petroleum', 'system', '...</td>\n",
       "    </tr>\n",
       "  </tbody>\n",
       "</table>\n",
       "</div>"
      ],
      "text/plain": [
       "   Year  Month                                           Title  \\\n",
       "3  2002      1  Coal ministry may extend verification deadline   \n",
       "4  2002      1            What 2002 has in store for India Inc   \n",
       "5  2002      1                              Year to the ground   \n",
       "6  2002      1           EoIs for third tranche of ITDC hotels   \n",
       "7  2002      1   Two-year transition period proposed after APM   \n",
       "\n",
       "                                                Text  \\\n",
       "3  the union coal ministry on tuesday said it was...   \n",
       "4  yashwant sinha harping on a 7 per cent growth ...   \n",
       "5  6 jan: enron threatens to invoke lcs, guarante...   \n",
       "6  the government on tuesday invited initial bids...   \n",
       "7  the government has proposed a transition perio...   \n",
       "\n",
       "                                            Keywords  \n",
       "3  ['governments', 'failed', 'coal', 'noncore', '...  \n",
       "4  ['sector', 'companies', 'store', 'cii', 'expec...  \n",
       "5  ['dec', 'bank', 'ground', 'sept', 'jan', 'nov'...  \n",
       "6  ['sale', 'itdc', 'tranche', 'eois', 'propertie...  \n",
       "7  ['twoyear', 'sector', 'petroleum', 'system', '...  "
      ]
     },
     "execution_count": 7,
     "metadata": {},
     "output_type": "execute_result"
    }
   ],
   "source": [
    "articles.head()"
   ]
  },
  {
   "cell_type": "code",
   "execution_count": 8,
   "metadata": {
    "id": "-1mm_viZZL4B"
   },
   "outputs": [],
   "source": [
    "#removing some unwanted words.\n",
    "\n",
    "articles['Text'] = articles['Text'].str.replace('\\n','')\n",
    "articles['Text'] = articles['Text'].str.replace('AllowNot now','')\n",
    "articles['Text'] = articles['Text'].str.replace('Add Comment','')"
   ]
  },
  {
   "cell_type": "code",
   "execution_count": null,
   "metadata": {},
   "outputs": [],
   "source": [
    "articles = articles[~(articles['Text']==\"Never miss a great news story!Get instant notifications from Economic TimesYou can switch off notifications anytime using browser settings.\")]"
   ]
  },
  {
   "cell_type": "code",
   "execution_count": null,
   "metadata": {},
   "outputs": [],
   "source": [
    "a = open('text_articles.txt', 'w', encoding='utf8')\n",
    "for i in range(articles.shape[0]):\n",
    "    text = articles.iloc[i,3] + \"\\n\"\n",
    "    a.write(text)\n",
    "a.close()"
   ]
  },
  {
   "cell_type": "code",
   "execution_count": null,
   "metadata": {},
   "outputs": [],
   "source": []
  }
 ],
 "metadata": {
  "colab": {
   "collapsed_sections": [
    "X1HSXOWcZL3e",
    "2Z_leGliZL3z",
    "cmMurJOnZL4r",
    "8BcxmprbZL46",
    "my0zZ9fFZL8e"
   ],
   "name": "Sentiment.ipynb",
   "provenance": []
  },
  "kernelspec": {
   "display_name": "Python 3",
   "language": "python",
   "name": "python3"
  },
  "language_info": {
   "codemirror_mode": {
    "name": "ipython",
    "version": 3
   },
   "file_extension": ".py",
   "mimetype": "text/x-python",
   "name": "python",
   "nbconvert_exporter": "python",
   "pygments_lexer": "ipython3",
   "version": "3.7.6"
  }
 },
 "nbformat": 4,
 "nbformat_minor": 1
}
